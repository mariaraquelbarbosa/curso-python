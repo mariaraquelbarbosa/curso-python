{
 "cells": [
  {
   "cell_type": "code",
   "execution_count": 9,
   "id": "d352a4ee",
   "metadata": {},
   "outputs": [],
   "source": [
    "#importanto as bibliotecas necessárias para rodas códigos simples\n",
    "import requests\n",
    "import pandas as pd"
   ]
  },
  {
   "cell_type": "code",
   "execution_count": 4,
   "id": "7edabf49",
   "metadata": {},
   "outputs": [
    {
     "name": "stdout",
     "output_type": "stream",
     "text": [
      "4\n"
     ]
    }
   ],
   "source": [
    "#criando variável\n",
    "a = 2\n",
    "print(a*2)"
   ]
  },
  {
   "cell_type": "code",
   "execution_count": null,
   "id": "a86062e2",
   "metadata": {},
   "outputs": [],
   "source": [
    "#API é um local para puxar um código\n",
    "\n",
    "#https://medium.com/reactbrasil/10-apis-gr%C3%A1tis-e-legais-para-voc%C3%AA-consumir-69141988ea0b\n",
    "#https://stackoverflow.com/\n",
    "#sites legais para tirar dúvidas\n",
    "\n",
    "#documentação do PEP 8\n",
    "#https://peps.python.org/pep-0008/"
   ]
  },
  {
   "cell_type": "code",
   "execution_count": 5,
   "id": "ef439f7b",
   "metadata": {},
   "outputs": [
    {
     "data": {
      "text/plain": [
       "<Response [200]>"
      ]
     },
     "execution_count": 5,
     "metadata": {},
     "output_type": "execute_result"
    }
   ],
   "source": [
    "dados_rem = requests.get('https://rickandmortyapi.com/api/character')\n",
    "dados_rem"
   ]
  },
  {
   "cell_type": "code",
   "execution_count": 7,
   "id": "43e5d3af",
   "metadata": {},
   "outputs": [],
   "source": [
    "doideira = dados_rem.json()"
   ]
  },
  {
   "cell_type": "code",
   "execution_count": 8,
   "id": "b990f53b",
   "metadata": {},
   "outputs": [
    {
     "data": {
      "text/plain": [
       "{'count': 826,\n",
       " 'pages': 42,\n",
       " 'next': 'https://rickandmortyapi.com/api/character?page=2',\n",
       " 'prev': None}"
      ]
     },
     "execution_count": 8,
     "metadata": {},
     "output_type": "execute_result"
    }
   ],
   "source": [
    "#dicionário\n",
    "#mostra uma info e em seguida explica essa info\n",
    "doideira['info']\n",
    "#quantidade de personagens = 826\n",
    "#quantidade de páginas = 42\n",
    "#como acessar a próxima página\n",
    "\n",
    "#observe a estrutura do dicionário (chaves, vírgulas, dois pontos, etc.)"
   ]
  },
  {
   "cell_type": "code",
   "execution_count": null,
   "id": "4e1e3723",
   "metadata": {},
   "outputs": [],
   "source": [
    "#lista\n",
    "lista = ['Alice', 'Max', 'Thomas', 'Mauro', 'Yuji']\n",
    "#texto ou string sempre vem estre 'aspas' no Python"
   ]
  },
  {
   "cell_type": "markdown",
   "id": "cbb37df5",
   "metadata": {},
   "source": [
    "A seguir, vamos passar pelos conceitos de strings, floats (decimais) e int (inteiros)"
   ]
  },
  {
   "cell_type": "code",
   "execution_count": 10,
   "id": "4a59a214",
   "metadata": {},
   "outputs": [
    {
     "data": {
      "text/html": [
       "<div>\n",
       "<style scoped>\n",
       "    .dataframe tbody tr th:only-of-type {\n",
       "        vertical-align: middle;\n",
       "    }\n",
       "\n",
       "    .dataframe tbody tr th {\n",
       "        vertical-align: top;\n",
       "    }\n",
       "\n",
       "    .dataframe thead th {\n",
       "        text-align: right;\n",
       "    }\n",
       "</style>\n",
       "<table border=\"1\" class=\"dataframe\">\n",
       "  <thead>\n",
       "    <tr style=\"text-align: right;\">\n",
       "      <th></th>\n",
       "      <th>id</th>\n",
       "      <th>name</th>\n",
       "      <th>status</th>\n",
       "      <th>species</th>\n",
       "      <th>type</th>\n",
       "      <th>gender</th>\n",
       "      <th>origin</th>\n",
       "      <th>location</th>\n",
       "      <th>image</th>\n",
       "      <th>episode</th>\n",
       "      <th>url</th>\n",
       "      <th>created</th>\n",
       "    </tr>\n",
       "  </thead>\n",
       "  <tbody>\n",
       "    <tr>\n",
       "      <th>0</th>\n",
       "      <td>1</td>\n",
       "      <td>Rick Sanchez</td>\n",
       "      <td>Alive</td>\n",
       "      <td>Human</td>\n",
       "      <td></td>\n",
       "      <td>Male</td>\n",
       "      <td>{'name': 'Earth (C-137)', 'url': 'https://rick...</td>\n",
       "      <td>{'name': 'Citadel of Ricks', 'url': 'https://r...</td>\n",
       "      <td>https://rickandmortyapi.com/api/character/avat...</td>\n",
       "      <td>[https://rickandmortyapi.com/api/episode/1, ht...</td>\n",
       "      <td>https://rickandmortyapi.com/api/character/1</td>\n",
       "      <td>2017-11-04T18:48:46.250Z</td>\n",
       "    </tr>\n",
       "    <tr>\n",
       "      <th>1</th>\n",
       "      <td>2</td>\n",
       "      <td>Morty Smith</td>\n",
       "      <td>Alive</td>\n",
       "      <td>Human</td>\n",
       "      <td></td>\n",
       "      <td>Male</td>\n",
       "      <td>{'name': 'unknown', 'url': ''}</td>\n",
       "      <td>{'name': 'Citadel of Ricks', 'url': 'https://r...</td>\n",
       "      <td>https://rickandmortyapi.com/api/character/avat...</td>\n",
       "      <td>[https://rickandmortyapi.com/api/episode/1, ht...</td>\n",
       "      <td>https://rickandmortyapi.com/api/character/2</td>\n",
       "      <td>2017-11-04T18:50:21.651Z</td>\n",
       "    </tr>\n",
       "    <tr>\n",
       "      <th>2</th>\n",
       "      <td>3</td>\n",
       "      <td>Summer Smith</td>\n",
       "      <td>Alive</td>\n",
       "      <td>Human</td>\n",
       "      <td></td>\n",
       "      <td>Female</td>\n",
       "      <td>{'name': 'Earth (Replacement Dimension)', 'url...</td>\n",
       "      <td>{'name': 'Earth (Replacement Dimension)', 'url...</td>\n",
       "      <td>https://rickandmortyapi.com/api/character/avat...</td>\n",
       "      <td>[https://rickandmortyapi.com/api/episode/6, ht...</td>\n",
       "      <td>https://rickandmortyapi.com/api/character/3</td>\n",
       "      <td>2017-11-04T19:09:56.428Z</td>\n",
       "    </tr>\n",
       "    <tr>\n",
       "      <th>3</th>\n",
       "      <td>4</td>\n",
       "      <td>Beth Smith</td>\n",
       "      <td>Alive</td>\n",
       "      <td>Human</td>\n",
       "      <td></td>\n",
       "      <td>Female</td>\n",
       "      <td>{'name': 'Earth (Replacement Dimension)', 'url...</td>\n",
       "      <td>{'name': 'Earth (Replacement Dimension)', 'url...</td>\n",
       "      <td>https://rickandmortyapi.com/api/character/avat...</td>\n",
       "      <td>[https://rickandmortyapi.com/api/episode/6, ht...</td>\n",
       "      <td>https://rickandmortyapi.com/api/character/4</td>\n",
       "      <td>2017-11-04T19:22:43.665Z</td>\n",
       "    </tr>\n",
       "    <tr>\n",
       "      <th>4</th>\n",
       "      <td>5</td>\n",
       "      <td>Jerry Smith</td>\n",
       "      <td>Alive</td>\n",
       "      <td>Human</td>\n",
       "      <td></td>\n",
       "      <td>Male</td>\n",
       "      <td>{'name': 'Earth (Replacement Dimension)', 'url...</td>\n",
       "      <td>{'name': 'Earth (Replacement Dimension)', 'url...</td>\n",
       "      <td>https://rickandmortyapi.com/api/character/avat...</td>\n",
       "      <td>[https://rickandmortyapi.com/api/episode/6, ht...</td>\n",
       "      <td>https://rickandmortyapi.com/api/character/5</td>\n",
       "      <td>2017-11-04T19:26:56.301Z</td>\n",
       "    </tr>\n",
       "    <tr>\n",
       "      <th>5</th>\n",
       "      <td>6</td>\n",
       "      <td>Abadango Cluster Princess</td>\n",
       "      <td>Alive</td>\n",
       "      <td>Alien</td>\n",
       "      <td></td>\n",
       "      <td>Female</td>\n",
       "      <td>{'name': 'Abadango', 'url': 'https://rickandmo...</td>\n",
       "      <td>{'name': 'Abadango', 'url': 'https://rickandmo...</td>\n",
       "      <td>https://rickandmortyapi.com/api/character/avat...</td>\n",
       "      <td>[https://rickandmortyapi.com/api/episode/27]</td>\n",
       "      <td>https://rickandmortyapi.com/api/character/6</td>\n",
       "      <td>2017-11-04T19:50:28.250Z</td>\n",
       "    </tr>\n",
       "    <tr>\n",
       "      <th>6</th>\n",
       "      <td>7</td>\n",
       "      <td>Abradolf Lincler</td>\n",
       "      <td>unknown</td>\n",
       "      <td>Human</td>\n",
       "      <td>Genetic experiment</td>\n",
       "      <td>Male</td>\n",
       "      <td>{'name': 'Earth (Replacement Dimension)', 'url...</td>\n",
       "      <td>{'name': 'Testicle Monster Dimension', 'url': ...</td>\n",
       "      <td>https://rickandmortyapi.com/api/character/avat...</td>\n",
       "      <td>[https://rickandmortyapi.com/api/episode/10, h...</td>\n",
       "      <td>https://rickandmortyapi.com/api/character/7</td>\n",
       "      <td>2017-11-04T19:59:20.523Z</td>\n",
       "    </tr>\n",
       "    <tr>\n",
       "      <th>7</th>\n",
       "      <td>8</td>\n",
       "      <td>Adjudicator Rick</td>\n",
       "      <td>Dead</td>\n",
       "      <td>Human</td>\n",
       "      <td></td>\n",
       "      <td>Male</td>\n",
       "      <td>{'name': 'unknown', 'url': ''}</td>\n",
       "      <td>{'name': 'Citadel of Ricks', 'url': 'https://r...</td>\n",
       "      <td>https://rickandmortyapi.com/api/character/avat...</td>\n",
       "      <td>[https://rickandmortyapi.com/api/episode/28]</td>\n",
       "      <td>https://rickandmortyapi.com/api/character/8</td>\n",
       "      <td>2017-11-04T20:03:34.737Z</td>\n",
       "    </tr>\n",
       "    <tr>\n",
       "      <th>8</th>\n",
       "      <td>9</td>\n",
       "      <td>Agency Director</td>\n",
       "      <td>Dead</td>\n",
       "      <td>Human</td>\n",
       "      <td></td>\n",
       "      <td>Male</td>\n",
       "      <td>{'name': 'Earth (Replacement Dimension)', 'url...</td>\n",
       "      <td>{'name': 'Earth (Replacement Dimension)', 'url...</td>\n",
       "      <td>https://rickandmortyapi.com/api/character/avat...</td>\n",
       "      <td>[https://rickandmortyapi.com/api/episode/24]</td>\n",
       "      <td>https://rickandmortyapi.com/api/character/9</td>\n",
       "      <td>2017-11-04T20:06:54.976Z</td>\n",
       "    </tr>\n",
       "    <tr>\n",
       "      <th>9</th>\n",
       "      <td>10</td>\n",
       "      <td>Alan Rails</td>\n",
       "      <td>Dead</td>\n",
       "      <td>Human</td>\n",
       "      <td>Superhuman (Ghost trains summoner)</td>\n",
       "      <td>Male</td>\n",
       "      <td>{'name': 'unknown', 'url': ''}</td>\n",
       "      <td>{'name': 'Worldender's lair', 'url': 'https://...</td>\n",
       "      <td>https://rickandmortyapi.com/api/character/avat...</td>\n",
       "      <td>[https://rickandmortyapi.com/api/episode/25]</td>\n",
       "      <td>https://rickandmortyapi.com/api/character/10</td>\n",
       "      <td>2017-11-04T20:19:09.017Z</td>\n",
       "    </tr>\n",
       "    <tr>\n",
       "      <th>10</th>\n",
       "      <td>11</td>\n",
       "      <td>Albert Einstein</td>\n",
       "      <td>Dead</td>\n",
       "      <td>Human</td>\n",
       "      <td></td>\n",
       "      <td>Male</td>\n",
       "      <td>{'name': 'Earth (C-137)', 'url': 'https://rick...</td>\n",
       "      <td>{'name': 'Earth (Replacement Dimension)', 'url...</td>\n",
       "      <td>https://rickandmortyapi.com/api/character/avat...</td>\n",
       "      <td>[https://rickandmortyapi.com/api/episode/12]</td>\n",
       "      <td>https://rickandmortyapi.com/api/character/11</td>\n",
       "      <td>2017-11-04T20:20:20.965Z</td>\n",
       "    </tr>\n",
       "    <tr>\n",
       "      <th>11</th>\n",
       "      <td>12</td>\n",
       "      <td>Alexander</td>\n",
       "      <td>Dead</td>\n",
       "      <td>Human</td>\n",
       "      <td></td>\n",
       "      <td>Male</td>\n",
       "      <td>{'name': 'Earth (C-137)', 'url': 'https://rick...</td>\n",
       "      <td>{'name': 'Anatomy Park', 'url': 'https://ricka...</td>\n",
       "      <td>https://rickandmortyapi.com/api/character/avat...</td>\n",
       "      <td>[https://rickandmortyapi.com/api/episode/3]</td>\n",
       "      <td>https://rickandmortyapi.com/api/character/12</td>\n",
       "      <td>2017-11-04T20:32:33.144Z</td>\n",
       "    </tr>\n",
       "    <tr>\n",
       "      <th>12</th>\n",
       "      <td>13</td>\n",
       "      <td>Alien Googah</td>\n",
       "      <td>unknown</td>\n",
       "      <td>Alien</td>\n",
       "      <td></td>\n",
       "      <td>unknown</td>\n",
       "      <td>{'name': 'unknown', 'url': ''}</td>\n",
       "      <td>{'name': 'Earth (Replacement Dimension)', 'url...</td>\n",
       "      <td>https://rickandmortyapi.com/api/character/avat...</td>\n",
       "      <td>[https://rickandmortyapi.com/api/episode/31]</td>\n",
       "      <td>https://rickandmortyapi.com/api/character/13</td>\n",
       "      <td>2017-11-04T20:33:30.779Z</td>\n",
       "    </tr>\n",
       "    <tr>\n",
       "      <th>13</th>\n",
       "      <td>14</td>\n",
       "      <td>Alien Morty</td>\n",
       "      <td>unknown</td>\n",
       "      <td>Alien</td>\n",
       "      <td></td>\n",
       "      <td>Male</td>\n",
       "      <td>{'name': 'unknown', 'url': ''}</td>\n",
       "      <td>{'name': 'Citadel of Ricks', 'url': 'https://r...</td>\n",
       "      <td>https://rickandmortyapi.com/api/character/avat...</td>\n",
       "      <td>[https://rickandmortyapi.com/api/episode/10]</td>\n",
       "      <td>https://rickandmortyapi.com/api/character/14</td>\n",
       "      <td>2017-11-04T20:51:31.373Z</td>\n",
       "    </tr>\n",
       "    <tr>\n",
       "      <th>14</th>\n",
       "      <td>15</td>\n",
       "      <td>Alien Rick</td>\n",
       "      <td>unknown</td>\n",
       "      <td>Alien</td>\n",
       "      <td></td>\n",
       "      <td>Male</td>\n",
       "      <td>{'name': 'unknown', 'url': ''}</td>\n",
       "      <td>{'name': 'Citadel of Ricks', 'url': 'https://r...</td>\n",
       "      <td>https://rickandmortyapi.com/api/character/avat...</td>\n",
       "      <td>[https://rickandmortyapi.com/api/episode/10]</td>\n",
       "      <td>https://rickandmortyapi.com/api/character/15</td>\n",
       "      <td>2017-11-04T20:56:13.215Z</td>\n",
       "    </tr>\n",
       "    <tr>\n",
       "      <th>15</th>\n",
       "      <td>16</td>\n",
       "      <td>Amish Cyborg</td>\n",
       "      <td>Dead</td>\n",
       "      <td>Alien</td>\n",
       "      <td>Parasite</td>\n",
       "      <td>Male</td>\n",
       "      <td>{'name': 'unknown', 'url': ''}</td>\n",
       "      <td>{'name': 'Earth (Replacement Dimension)', 'url...</td>\n",
       "      <td>https://rickandmortyapi.com/api/character/avat...</td>\n",
       "      <td>[https://rickandmortyapi.com/api/episode/15]</td>\n",
       "      <td>https://rickandmortyapi.com/api/character/16</td>\n",
       "      <td>2017-11-04T21:12:45.235Z</td>\n",
       "    </tr>\n",
       "    <tr>\n",
       "      <th>16</th>\n",
       "      <td>17</td>\n",
       "      <td>Annie</td>\n",
       "      <td>Alive</td>\n",
       "      <td>Human</td>\n",
       "      <td></td>\n",
       "      <td>Female</td>\n",
       "      <td>{'name': 'Earth (C-137)', 'url': 'https://rick...</td>\n",
       "      <td>{'name': 'Anatomy Park', 'url': 'https://ricka...</td>\n",
       "      <td>https://rickandmortyapi.com/api/character/avat...</td>\n",
       "      <td>[https://rickandmortyapi.com/api/episode/3]</td>\n",
       "      <td>https://rickandmortyapi.com/api/character/17</td>\n",
       "      <td>2017-11-04T22:21:24.481Z</td>\n",
       "    </tr>\n",
       "    <tr>\n",
       "      <th>17</th>\n",
       "      <td>18</td>\n",
       "      <td>Antenna Morty</td>\n",
       "      <td>Alive</td>\n",
       "      <td>Human</td>\n",
       "      <td>Human with antennae</td>\n",
       "      <td>Male</td>\n",
       "      <td>{'name': 'unknown', 'url': ''}</td>\n",
       "      <td>{'name': 'Citadel of Ricks', 'url': 'https://r...</td>\n",
       "      <td>https://rickandmortyapi.com/api/character/avat...</td>\n",
       "      <td>[https://rickandmortyapi.com/api/episode/10, h...</td>\n",
       "      <td>https://rickandmortyapi.com/api/character/18</td>\n",
       "      <td>2017-11-04T22:25:29.008Z</td>\n",
       "    </tr>\n",
       "    <tr>\n",
       "      <th>18</th>\n",
       "      <td>19</td>\n",
       "      <td>Antenna Rick</td>\n",
       "      <td>unknown</td>\n",
       "      <td>Human</td>\n",
       "      <td>Human with antennae</td>\n",
       "      <td>Male</td>\n",
       "      <td>{'name': 'unknown', 'url': ''}</td>\n",
       "      <td>{'name': 'unknown', 'url': ''}</td>\n",
       "      <td>https://rickandmortyapi.com/api/character/avat...</td>\n",
       "      <td>[https://rickandmortyapi.com/api/episode/10]</td>\n",
       "      <td>https://rickandmortyapi.com/api/character/19</td>\n",
       "      <td>2017-11-04T22:28:13.756Z</td>\n",
       "    </tr>\n",
       "    <tr>\n",
       "      <th>19</th>\n",
       "      <td>20</td>\n",
       "      <td>Ants in my Eyes Johnson</td>\n",
       "      <td>unknown</td>\n",
       "      <td>Human</td>\n",
       "      <td>Human with ants in his eyes</td>\n",
       "      <td>Male</td>\n",
       "      <td>{'name': 'unknown', 'url': ''}</td>\n",
       "      <td>{'name': 'Interdimensional Cable', 'url': 'htt...</td>\n",
       "      <td>https://rickandmortyapi.com/api/character/avat...</td>\n",
       "      <td>[https://rickandmortyapi.com/api/episode/8]</td>\n",
       "      <td>https://rickandmortyapi.com/api/character/20</td>\n",
       "      <td>2017-11-04T22:34:53.659Z</td>\n",
       "    </tr>\n",
       "  </tbody>\n",
       "</table>\n",
       "</div>"
      ],
      "text/plain": [
       "    id                       name   status species  \\\n",
       "0    1               Rick Sanchez    Alive   Human   \n",
       "1    2                Morty Smith    Alive   Human   \n",
       "2    3               Summer Smith    Alive   Human   \n",
       "3    4                 Beth Smith    Alive   Human   \n",
       "4    5                Jerry Smith    Alive   Human   \n",
       "5    6  Abadango Cluster Princess    Alive   Alien   \n",
       "6    7           Abradolf Lincler  unknown   Human   \n",
       "7    8           Adjudicator Rick     Dead   Human   \n",
       "8    9            Agency Director     Dead   Human   \n",
       "9   10                 Alan Rails     Dead   Human   \n",
       "10  11            Albert Einstein     Dead   Human   \n",
       "11  12                  Alexander     Dead   Human   \n",
       "12  13               Alien Googah  unknown   Alien   \n",
       "13  14                Alien Morty  unknown   Alien   \n",
       "14  15                 Alien Rick  unknown   Alien   \n",
       "15  16               Amish Cyborg     Dead   Alien   \n",
       "16  17                      Annie    Alive   Human   \n",
       "17  18              Antenna Morty    Alive   Human   \n",
       "18  19               Antenna Rick  unknown   Human   \n",
       "19  20    Ants in my Eyes Johnson  unknown   Human   \n",
       "\n",
       "                                  type   gender  \\\n",
       "0                                          Male   \n",
       "1                                          Male   \n",
       "2                                        Female   \n",
       "3                                        Female   \n",
       "4                                          Male   \n",
       "5                                        Female   \n",
       "6                   Genetic experiment     Male   \n",
       "7                                          Male   \n",
       "8                                          Male   \n",
       "9   Superhuman (Ghost trains summoner)     Male   \n",
       "10                                         Male   \n",
       "11                                         Male   \n",
       "12                                      unknown   \n",
       "13                                         Male   \n",
       "14                                         Male   \n",
       "15                            Parasite     Male   \n",
       "16                                       Female   \n",
       "17                 Human with antennae     Male   \n",
       "18                 Human with antennae     Male   \n",
       "19         Human with ants in his eyes     Male   \n",
       "\n",
       "                                               origin  \\\n",
       "0   {'name': 'Earth (C-137)', 'url': 'https://rick...   \n",
       "1                      {'name': 'unknown', 'url': ''}   \n",
       "2   {'name': 'Earth (Replacement Dimension)', 'url...   \n",
       "3   {'name': 'Earth (Replacement Dimension)', 'url...   \n",
       "4   {'name': 'Earth (Replacement Dimension)', 'url...   \n",
       "5   {'name': 'Abadango', 'url': 'https://rickandmo...   \n",
       "6   {'name': 'Earth (Replacement Dimension)', 'url...   \n",
       "7                      {'name': 'unknown', 'url': ''}   \n",
       "8   {'name': 'Earth (Replacement Dimension)', 'url...   \n",
       "9                      {'name': 'unknown', 'url': ''}   \n",
       "10  {'name': 'Earth (C-137)', 'url': 'https://rick...   \n",
       "11  {'name': 'Earth (C-137)', 'url': 'https://rick...   \n",
       "12                     {'name': 'unknown', 'url': ''}   \n",
       "13                     {'name': 'unknown', 'url': ''}   \n",
       "14                     {'name': 'unknown', 'url': ''}   \n",
       "15                     {'name': 'unknown', 'url': ''}   \n",
       "16  {'name': 'Earth (C-137)', 'url': 'https://rick...   \n",
       "17                     {'name': 'unknown', 'url': ''}   \n",
       "18                     {'name': 'unknown', 'url': ''}   \n",
       "19                     {'name': 'unknown', 'url': ''}   \n",
       "\n",
       "                                             location  \\\n",
       "0   {'name': 'Citadel of Ricks', 'url': 'https://r...   \n",
       "1   {'name': 'Citadel of Ricks', 'url': 'https://r...   \n",
       "2   {'name': 'Earth (Replacement Dimension)', 'url...   \n",
       "3   {'name': 'Earth (Replacement Dimension)', 'url...   \n",
       "4   {'name': 'Earth (Replacement Dimension)', 'url...   \n",
       "5   {'name': 'Abadango', 'url': 'https://rickandmo...   \n",
       "6   {'name': 'Testicle Monster Dimension', 'url': ...   \n",
       "7   {'name': 'Citadel of Ricks', 'url': 'https://r...   \n",
       "8   {'name': 'Earth (Replacement Dimension)', 'url...   \n",
       "9   {'name': 'Worldender's lair', 'url': 'https://...   \n",
       "10  {'name': 'Earth (Replacement Dimension)', 'url...   \n",
       "11  {'name': 'Anatomy Park', 'url': 'https://ricka...   \n",
       "12  {'name': 'Earth (Replacement Dimension)', 'url...   \n",
       "13  {'name': 'Citadel of Ricks', 'url': 'https://r...   \n",
       "14  {'name': 'Citadel of Ricks', 'url': 'https://r...   \n",
       "15  {'name': 'Earth (Replacement Dimension)', 'url...   \n",
       "16  {'name': 'Anatomy Park', 'url': 'https://ricka...   \n",
       "17  {'name': 'Citadel of Ricks', 'url': 'https://r...   \n",
       "18                     {'name': 'unknown', 'url': ''}   \n",
       "19  {'name': 'Interdimensional Cable', 'url': 'htt...   \n",
       "\n",
       "                                                image  \\\n",
       "0   https://rickandmortyapi.com/api/character/avat...   \n",
       "1   https://rickandmortyapi.com/api/character/avat...   \n",
       "2   https://rickandmortyapi.com/api/character/avat...   \n",
       "3   https://rickandmortyapi.com/api/character/avat...   \n",
       "4   https://rickandmortyapi.com/api/character/avat...   \n",
       "5   https://rickandmortyapi.com/api/character/avat...   \n",
       "6   https://rickandmortyapi.com/api/character/avat...   \n",
       "7   https://rickandmortyapi.com/api/character/avat...   \n",
       "8   https://rickandmortyapi.com/api/character/avat...   \n",
       "9   https://rickandmortyapi.com/api/character/avat...   \n",
       "10  https://rickandmortyapi.com/api/character/avat...   \n",
       "11  https://rickandmortyapi.com/api/character/avat...   \n",
       "12  https://rickandmortyapi.com/api/character/avat...   \n",
       "13  https://rickandmortyapi.com/api/character/avat...   \n",
       "14  https://rickandmortyapi.com/api/character/avat...   \n",
       "15  https://rickandmortyapi.com/api/character/avat...   \n",
       "16  https://rickandmortyapi.com/api/character/avat...   \n",
       "17  https://rickandmortyapi.com/api/character/avat...   \n",
       "18  https://rickandmortyapi.com/api/character/avat...   \n",
       "19  https://rickandmortyapi.com/api/character/avat...   \n",
       "\n",
       "                                              episode  \\\n",
       "0   [https://rickandmortyapi.com/api/episode/1, ht...   \n",
       "1   [https://rickandmortyapi.com/api/episode/1, ht...   \n",
       "2   [https://rickandmortyapi.com/api/episode/6, ht...   \n",
       "3   [https://rickandmortyapi.com/api/episode/6, ht...   \n",
       "4   [https://rickandmortyapi.com/api/episode/6, ht...   \n",
       "5        [https://rickandmortyapi.com/api/episode/27]   \n",
       "6   [https://rickandmortyapi.com/api/episode/10, h...   \n",
       "7        [https://rickandmortyapi.com/api/episode/28]   \n",
       "8        [https://rickandmortyapi.com/api/episode/24]   \n",
       "9        [https://rickandmortyapi.com/api/episode/25]   \n",
       "10       [https://rickandmortyapi.com/api/episode/12]   \n",
       "11        [https://rickandmortyapi.com/api/episode/3]   \n",
       "12       [https://rickandmortyapi.com/api/episode/31]   \n",
       "13       [https://rickandmortyapi.com/api/episode/10]   \n",
       "14       [https://rickandmortyapi.com/api/episode/10]   \n",
       "15       [https://rickandmortyapi.com/api/episode/15]   \n",
       "16        [https://rickandmortyapi.com/api/episode/3]   \n",
       "17  [https://rickandmortyapi.com/api/episode/10, h...   \n",
       "18       [https://rickandmortyapi.com/api/episode/10]   \n",
       "19        [https://rickandmortyapi.com/api/episode/8]   \n",
       "\n",
       "                                             url                   created  \n",
       "0    https://rickandmortyapi.com/api/character/1  2017-11-04T18:48:46.250Z  \n",
       "1    https://rickandmortyapi.com/api/character/2  2017-11-04T18:50:21.651Z  \n",
       "2    https://rickandmortyapi.com/api/character/3  2017-11-04T19:09:56.428Z  \n",
       "3    https://rickandmortyapi.com/api/character/4  2017-11-04T19:22:43.665Z  \n",
       "4    https://rickandmortyapi.com/api/character/5  2017-11-04T19:26:56.301Z  \n",
       "5    https://rickandmortyapi.com/api/character/6  2017-11-04T19:50:28.250Z  \n",
       "6    https://rickandmortyapi.com/api/character/7  2017-11-04T19:59:20.523Z  \n",
       "7    https://rickandmortyapi.com/api/character/8  2017-11-04T20:03:34.737Z  \n",
       "8    https://rickandmortyapi.com/api/character/9  2017-11-04T20:06:54.976Z  \n",
       "9   https://rickandmortyapi.com/api/character/10  2017-11-04T20:19:09.017Z  \n",
       "10  https://rickandmortyapi.com/api/character/11  2017-11-04T20:20:20.965Z  \n",
       "11  https://rickandmortyapi.com/api/character/12  2017-11-04T20:32:33.144Z  \n",
       "12  https://rickandmortyapi.com/api/character/13  2017-11-04T20:33:30.779Z  \n",
       "13  https://rickandmortyapi.com/api/character/14  2017-11-04T20:51:31.373Z  \n",
       "14  https://rickandmortyapi.com/api/character/15  2017-11-04T20:56:13.215Z  \n",
       "15  https://rickandmortyapi.com/api/character/16  2017-11-04T21:12:45.235Z  \n",
       "16  https://rickandmortyapi.com/api/character/17  2017-11-04T22:21:24.481Z  \n",
       "17  https://rickandmortyapi.com/api/character/18  2017-11-04T22:25:29.008Z  \n",
       "18  https://rickandmortyapi.com/api/character/19  2017-11-04T22:28:13.756Z  \n",
       "19  https://rickandmortyapi.com/api/character/20  2017-11-04T22:34:53.659Z  "
      ]
     },
     "execution_count": 10,
     "metadata": {},
     "output_type": "execute_result"
    }
   ],
   "source": [
    "dados_rem = pd.DataFrame(doideira['results'])\n",
    "dados_rem"
   ]
  },
  {
   "cell_type": "code",
   "execution_count": 11,
   "id": "f7040c86",
   "metadata": {},
   "outputs": [
    {
     "data": {
      "text/plain": [
       "1"
      ]
     },
     "execution_count": 11,
     "metadata": {},
     "output_type": "execute_result"
    }
   ],
   "source": [
    "# operadores matemáticos\n",
    "# +, -, *, /, ** (potência), % (resto)\n",
    "\n",
    "5%2\n",
    "#o resto da divisão 5/2 é 1"
   ]
  },
  {
   "cell_type": "code",
   "execution_count": 12,
   "id": "45ac8799",
   "metadata": {},
   "outputs": [
    {
     "data": {
      "text/plain": [
       "0      1\n",
       "1      2\n",
       "2      3\n",
       "3      4\n",
       "4      5\n",
       "5      6\n",
       "6      7\n",
       "7      8\n",
       "8      9\n",
       "9     10\n",
       "10    11\n",
       "11    12\n",
       "12    13\n",
       "13    14\n",
       "14    15\n",
       "15    16\n",
       "16    17\n",
       "17    18\n",
       "18    19\n",
       "19    20\n",
       "Name: id, dtype: int64"
      ]
     },
     "execution_count": 12,
     "metadata": {},
     "output_type": "execute_result"
    }
   ],
   "source": [
    "ids = dados_rem['id']\n",
    "ids"
   ]
  },
  {
   "cell_type": "code",
   "execution_count": 14,
   "id": "a8b0afec",
   "metadata": {},
   "outputs": [
    {
     "data": {
      "text/plain": [
       "210"
      ]
     },
     "execution_count": 14,
     "metadata": {},
     "output_type": "execute_result"
    }
   ],
   "source": [
    "ids.sum()\n",
    "#a soma de 1 até 20 é 210"
   ]
  },
  {
   "cell_type": "code",
   "execution_count": 18,
   "id": "35e0dd3a",
   "metadata": {},
   "outputs": [
    {
     "data": {
      "text/plain": [
       "numpy.int64"
      ]
     },
     "execution_count": 18,
     "metadata": {},
     "output_type": "execute_result"
    }
   ],
   "source": [
    "soma_ids = ids.sum()\n",
    "type(soma_ids)\n",
    "#retorna que são números inteiros"
   ]
  },
  {
   "cell_type": "code",
   "execution_count": 25,
   "id": "c1066ccb",
   "metadata": {},
   "outputs": [
    {
     "name": "stdout",
     "output_type": "stream",
     "text": [
      "14\n",
      "1\n",
      "2\n",
      "3\n",
      "4\n"
     ]
    }
   ],
   "source": [
    "#criar lista de strings\n",
    "lista_str = ['1', '2', '3', '4']\n",
    "#ordem dos objetos começa no 0\n",
    "\n",
    "print(lista_str[0] + lista_str[3])\n",
    "#juntou dois textos ('1' + '4')"
   ]
  },
  {
   "cell_type": "code",
   "execution_count": 27,
   "id": "a075b654",
   "metadata": {},
   "outputs": [
    {
     "data": {
      "text/plain": [
       "'4'"
      ]
     },
     "execution_count": 27,
     "metadata": {},
     "output_type": "execute_result"
    }
   ],
   "source": [
    "lista_str[0]\n",
    "lista_str[1]\n",
    "lista_str[2]\n",
    "lista_str[3]"
   ]
  },
  {
   "cell_type": "code",
   "execution_count": 26,
   "id": "7c990060",
   "metadata": {},
   "outputs": [
    {
     "name": "stdout",
     "output_type": "stream",
     "text": [
      "1\n",
      "2\n",
      "3\n",
      "4\n"
     ]
    }
   ],
   "source": [
    "print(lista_str[0])\n",
    "print(lista_str[1])\n",
    "print(lista_str[2])\n",
    "print(lista_str[3])"
   ]
  },
  {
   "cell_type": "code",
   "execution_count": 30,
   "id": "133657c2",
   "metadata": {},
   "outputs": [
    {
     "data": {
      "text/plain": [
       "25"
      ]
     },
     "execution_count": 30,
     "metadata": {},
     "output_type": "execute_result"
    }
   ],
   "source": [
    "#potência\n",
    "5**2"
   ]
  },
  {
   "cell_type": "code",
   "execution_count": 29,
   "id": "5d5db6f2",
   "metadata": {},
   "outputs": [
    {
     "data": {
      "text/plain": [
       "2.0"
      ]
     },
     "execution_count": 29,
     "metadata": {},
     "output_type": "execute_result"
    }
   ],
   "source": [
    "#raiz\n",
    "4**(1/2)"
   ]
  },
  {
   "cell_type": "code",
   "execution_count": 41,
   "id": "b142fabe",
   "metadata": {},
   "outputs": [
    {
     "name": "stdout",
     "output_type": "stream",
     "text": [
      "al\n",
      "ce\n"
     ]
    }
   ],
   "source": [
    "alice = 'alice'\n",
    "print(alice[:2])\n",
    "#ir do 0 ao 2\n",
    "print(alice[3:])\n",
    "#pegar os dois últimos textos"
   ]
  },
  {
   "cell_type": "markdown",
   "id": "33e88db0",
   "metadata": {},
   "source": [
    "DÚVIDA: ir do 0 ao 2 --> não deveria retornar ali?"
   ]
  },
  {
   "cell_type": "code",
   "execution_count": 45,
   "id": "c6356048",
   "metadata": {},
   "outputs": [
    {
     "name": "stdout",
     "output_type": "stream",
     "text": [
      "10\n",
      "0\n"
     ]
    }
   ],
   "source": [
    "lista_int = [0,1,2,3,10,4]\n",
    "print(max(lista_int))\n",
    "#maior valor\n",
    "print(min(lista_int))\n",
    "#menos valor"
   ]
  },
  {
   "cell_type": "code",
   "execution_count": 47,
   "id": "d1a33681",
   "metadata": {},
   "outputs": [
    {
     "name": "stdout",
     "output_type": "stream",
     "text": [
      "[0, 1, 2, 3, 10, 4, -5, -5]\n"
     ]
    }
   ],
   "source": [
    "lista_int.append(-5)\n",
    "print(lista_int)\n",
    "#adicionei um número no final da lista"
   ]
  },
  {
   "cell_type": "code",
   "execution_count": 53,
   "id": "1ade0027",
   "metadata": {},
   "outputs": [
    {
     "name": "stdout",
     "output_type": "stream",
     "text": [
      "[-5, -5, 0, 1, 2, 3, 4, 10]\n"
     ]
    }
   ],
   "source": [
    "#ordem crescente\n",
    "lista_int.sort(reverse = False)\n",
    "print(lista_int)"
   ]
  },
  {
   "cell_type": "code",
   "execution_count": 54,
   "id": "fee23489",
   "metadata": {},
   "outputs": [
    {
     "name": "stdout",
     "output_type": "stream",
     "text": [
      "[10, 4, 3, 2, 1, 0, -5, -5]\n"
     ]
    }
   ],
   "source": [
    "#ordem decrescente\n",
    "lista_int.sort(reverse = True)\n",
    "print(lista_int)"
   ]
  }
 ],
 "metadata": {
  "kernelspec": {
   "display_name": "Python 3 (ipykernel)",
   "language": "python",
   "name": "python3"
  },
  "language_info": {
   "codemirror_mode": {
    "name": "ipython",
    "version": 3
   },
   "file_extension": ".py",
   "mimetype": "text/x-python",
   "name": "python",
   "nbconvert_exporter": "python",
   "pygments_lexer": "ipython3",
   "version": "3.9.12"
  }
 },
 "nbformat": 4,
 "nbformat_minor": 5
}
