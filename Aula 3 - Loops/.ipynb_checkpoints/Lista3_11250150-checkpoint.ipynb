{
 "cells": [
  {
   "cell_type": "markdown",
   "id": "2eebb078",
   "metadata": {
    "id": "2eebb078"
   },
   "source": [
    "**Questão 1 - 9, a salvação:**\n",
    "\n",
    "Escreva um código que retorne a soma de todos os números até 1000 que sejam divisíveis por 9 e a quantidade de números que foram somados.\n",
    "  \n",
    "  Dica: analise bem a questão e escolha o laço mais condizente.\n"
   ]
  },
  {
   "cell_type": "code",
   "execution_count": 129,
   "id": "0203b2bb",
   "metadata": {
    "id": "0203b2bb"
   },
   "outputs": [
    {
     "name": "stdout",
     "output_type": "stream",
     "text": [
      "Soma =  55944\n",
      "Quantidade de números somados =  112\n"
     ]
    }
   ],
   "source": [
    "## comece seu código aqui ###\n",
    "numero = 0\n",
    "lista1 = []\n",
    "\n",
    "while numero <= 1000 :\n",
    "    if numero % 9 == 0:\n",
    "        lista1.append(numero)\n",
    "    else:\n",
    "        pass\n",
    "    \n",
    "    numero += 1\n",
    "\n",
    "print(f'Soma = ', sum(lista1))\n",
    "print(f'Quantidade de números somados = ', len(lista1))"
   ]
  },
  {
   "cell_type": "markdown",
   "id": "cb7accf3",
   "metadata": {
    "id": "cb7accf3"
   },
   "source": [
    "**Questão 2 - Ajuda nas etec's:**\n",
    "\n",
    "No começo do ano a FEA.Dev deu aulas de python gratuitas em algumas etec's de São Paulo. Ao ver o que a programação poderia fazer, o professor Roberval, de matemática, pediu para que construíssemos um programa que fizesse uma Progressão Aritimética (PA) automaticamente, apenas inserindo o **primeiro termo** e sua **razão**, para que ele pudesse ser mais ágil em suas aulas. \n",
    "\n",
    "*Lembre-se que uma PA é uma sequência de números em que cada termo é igual ao termo anterior somado a um número (razão). Ex -> 1, 4, 7, 10... os números vão seguindo de 3 em 3 (razão).*"
   ]
  },
  {
   "cell_type": "markdown",
   "id": "-YsYTrgTH5uR",
   "metadata": {
    "id": "-YsYTrgTH5uR"
   },
   "source": [
    "a) Sua missão é montar um programa que peça dois inputs: o do primeiro termo e da razão e retorne a sequência. Sua P.A deve ter 10 termos."
   ]
  },
  {
   "cell_type": "code",
   "execution_count": 8,
   "id": "0VVb581xJu4t",
   "metadata": {
    "id": "0VVb581xJu4t"
   },
   "outputs": [
    {
     "name": "stdout",
     "output_type": "stream",
     "text": [
      "Qual o primeiro termo da PA? 0\n",
      "Qual a razão da PA? 2\n",
      "[0.0, 2.0, 4.0, 6.0, 8.0, 10.0, 12.0, 14.0, 16.0, 18.0]\n"
     ]
    }
   ],
   "source": [
    "## comece seu código aqui ###\n",
    "primeiro_termo = input(f\"Qual o primeiro termo da PA? \")\n",
    "razao = input(f\"Qual a razão da PA? \")\n",
    "PA = []\n",
    "\n",
    "for i in range(10):\n",
    "    x = float(primeiro_termo) + float(razao)*i\n",
    "    PA.append(x)\n",
    "\n",
    "print(PA)"
   ]
  },
  {
   "cell_type": "markdown",
   "id": "cc9fb3cb",
   "metadata": {
    "id": "cc9fb3cb"
   },
   "source": [
    "b) Roberval ficou animado com o novo programa criado por você e mostrou pra um amigo dele que dá aula para o fundamental 1. Ao ver a mágica acontecendo o amigo do professor Roberval quase implorou para que você construísse uma tabuada automática para ele.\n",
    "\n",
    "Escreva um código que receba o input de um número e retorne sua tabuada padrão, multiplicando até 10 e ajude o amigo de Roberval a automatizar suas aulas.\n",
    "  \n",
    " OBS: deixe sua tabuada toda alinhada conforme exemplo:\n",
    " \n",
    "    n = 7\n",
    "    \n",
    "    7 x 1 = 7\n",
    "    7 x 2 = 14\n",
    "    .\n",
    "    .\n",
    "    .\n",
    "    7 X  9 = 63\n",
    "    7 X 10 = 70"
   ]
  },
  {
   "cell_type": "code",
   "execution_count": 10,
   "id": "f83df876",
   "metadata": {
    "id": "f83df876"
   },
   "outputs": [
    {
     "name": "stdout",
     "output_type": "stream",
     "text": [
      "Você quer calcular a tabuada de qual número? 2\n",
      "2 X 1 = 2\n",
      "2 X 2 = 4\n",
      "2 X 3 = 6\n",
      "2 X 4 = 8\n",
      "2 X 5 = 10\n",
      "2 X 6 = 12\n",
      "2 X 7 = 14\n",
      "2 X 8 = 16\n",
      "2 X 9 = 18\n",
      "2 X 10 = 20\n"
     ]
    }
   ],
   "source": [
    "## comece seu código aqui ###\n",
    "numero = int(input(f\"Você quer calcular a tabuada de qual número? \"))\n",
    "\n",
    "for i in range(1, 11):\n",
    "    resultado = numero * i\n",
    "    print(numero, 'X', i, '=', resultado)"
   ]
  },
  {
   "cell_type": "markdown",
   "id": "b24436d4",
   "metadata": {
    "id": "b24436d4"
   },
   "source": [
    "**Questão 3 - Soma infinita:**\n",
    "\n",
    "Crie um programa que peça para digitar um número constantemente, até que o usário digite o número 0. Em seguida mostre a soma de todos os valores inputados, e a quantidade de números que foram inputados.\n",
    "  "
   ]
  },
  {
   "cell_type": "code",
   "execution_count": 131,
   "id": "IVNnot6HYLbv",
   "metadata": {
    "id": "IVNnot6HYLbv"
   },
   "outputs": [
    {
     "name": "stdout",
     "output_type": "stream",
     "text": [
      "Digite um número: 1\n",
      "Digite um número: 2\n",
      "Digite um número: 3\n",
      "Digite um número: 4\n",
      "Digite um número: 5\n",
      "Digite um número: 0\n",
      "Soma dos valores inputados =  15.0\n",
      "Quantidades de números inputados =  6\n"
     ]
    }
   ],
   "source": [
    "## comece seu código aqui ###\n",
    "import itertools\n",
    "lista3 = []\n",
    "\n",
    "for i in itertools.count():\n",
    "    numero = float(input(f\"Digite um número: \"))\n",
    "    \n",
    "    if numero != 0:\n",
    "        lista3.append(numero)\n",
    "    else:\n",
    "        lista3.append(numero)\n",
    "        break\n",
    "    \n",
    "print(f'Soma dos valores inputados = ', sum(lista3))\n",
    "print(f'Quantidades de números inputados = ', len(lista3))"
   ]
  },
  {
   "cell_type": "markdown",
   "id": "vAQnrfCQxNrV",
   "metadata": {
    "id": "vAQnrfCQxNrV"
   },
   "source": [
    "**Questão 4 - Bad Romance:** \n",
    "\n",
    "De volta a 2009. Tem umas músicas com um refrão tão gostosinho que fica martelando na nossa mente, então vamos aproveitar para analisar e exercitar nossas skills de programação. Escreva um código que conte quantas vezes a letra \"a\" aparece em duas estrofes do famoso hit de Lady Gaga:"
   ]
  },
  {
   "cell_type": "code",
   "execution_count": 40,
   "id": "82DqDw7h0YIl",
   "metadata": {
    "id": "82DqDw7h0YIl"
   },
   "outputs": [
    {
     "name": "stdout",
     "output_type": "stream",
     "text": [
      "30\n"
     ]
    }
   ],
   "source": [
    "bad_romance = \"\"\"Rah, rah-ah-ah-ah\n",
    "                 Roma, roma-ma\n",
    "                 Gaga, ooh-la-la\n",
    "                 Want your bad romance\n",
    "\n",
    "                 Rah, rah-ah-ah-ah\n",
    "                 Roma, roma-ma\n",
    "                 Gaga, ooh-la-la\n",
    "                 Want your bad romance\"\"\"\n",
    "                 \n",
    "#####SEU CODIGO COMECA AQUI#####\n",
    "lista4 = []\n",
    "\n",
    "for i in bad_romance:   \n",
    "    if i == \"a\":\n",
    "        lista4.append(i)\n",
    "    else:\n",
    "        pass\n",
    "\n",
    "print(len(lista4))"
   ]
  },
  {
   "cell_type": "markdown",
   "id": "GRS7sh_6uA2k",
   "metadata": {
    "id": "GRS7sh_6uA2k"
   },
   "source": [
    "**Questão 5 - Estilo musical:**\n",
    "\n",
    "Ainda pensando na lady Gaga, nosso querido dever separou alguns artistas que ele gosta por estilo musical. Faça um programa que, receba um input de um estilo musical e retorne todos os artistas desse estilo escolhido que estão dentro do dicionário.\n",
    "\n",
    "PS: estilos musicais presentes no dicionário: Forró, Pagode, Clássica, MPB, Sertanejo, Jazz, Rock e Pop."
   ]
  },
  {
   "cell_type": "code",
   "execution_count": 48,
   "id": "dXBJMs_YwuJR",
   "metadata": {
    "id": "dXBJMs_YwuJR"
   },
   "outputs": [
    {
     "name": "stdout",
     "output_type": "stream",
     "text": [
      "Digite um estilo musical: Clássica\n",
      "['Debussy', 'Beethoven']\n"
     ]
    }
   ],
   "source": [
    "artistas = {'Julie London': 'Jazz', 'John Coltrane': 'Jazz', 'João Gomes': 'Forró', 'Debussy': 'Clássica', 'Michael Jackson': 'Pop', 'Barões da Pisadinha': 'Forró',\n",
    "            'Marília Mendonça': 'Sertanejo', 'Beethoven': 'Clássica', 'Calcinha Preta': 'Forró', 'AC/DC': 'Rock', 'Bruno Mars': 'Pop', 'Seu Jorge': 'MPB', 'Thiaguinho': 'Pagode'}\n",
    "\n",
    "## comece seu código aqui ###\n",
    "resultado = []\n",
    "estilo_musical = input(f'Digite um estilo musical: ')\n",
    "\n",
    "for chave, valor in artistas.items():\n",
    "    if valor == estilo_musical:\n",
    "        resultado.append(chave)\n",
    "\n",
    "print(resultado)"
   ]
  },
  {
   "cell_type": "markdown",
   "id": "DuAmQvBL9XZC",
   "metadata": {
    "id": "DuAmQvBL9XZC"
   },
   "source": [
    "**Questão 6 - Stairway to Heaven:** \n",
    "\n",
    "O grande poder dos Loops é que você poder printar elementos em uma velocidade muuito maior. Utilize esse novo poder para printar os digitos de 1 a 9 da seguinte maneira:"
   ]
  },
  {
   "cell_type": "code",
   "execution_count": null,
   "id": "lMfBpuxxdRwY",
   "metadata": {
    "id": "lMfBpuxxdRwY"
   },
   "outputs": [],
   "source": [
    "\"\"\"\n",
    "1\n",
    "22\n",
    "333\n",
    "4444\n",
    "55555\n",
    "666666\n",
    "7777777\n",
    "88888888\n",
    "999999999\n",
    "\"\"\""
   ]
  },
  {
   "cell_type": "code",
   "execution_count": 56,
   "id": "6m9G6F3J94-y",
   "metadata": {
    "id": "6m9G6F3J94-y"
   },
   "outputs": [
    {
     "name": "stdout",
     "output_type": "stream",
     "text": [
      "1\n",
      "22\n",
      "333\n",
      "4444\n",
      "55555\n",
      "666666\n",
      "7777777\n",
      "88888888\n",
      "999999999\n"
     ]
    }
   ],
   "source": [
    "## comece seu código aqui ###\n",
    "i = 1\n",
    "\n",
    "while i <= 9:\n",
    "    print(str(i) * i)\n",
    "    i = i + 1"
   ]
  },
  {
   "cell_type": "markdown",
   "id": "Qqil80RH3MLd",
   "metadata": {
    "id": "Qqil80RH3MLd"
   },
   "source": [
    "**Questão 7 - A hora dos primos:** \n",
    "Escreva um código que receba o input de um número e verifique se ele é primo ou não."
   ]
  },
  {
   "cell_type": "code",
   "execution_count": 71,
   "id": "kbEAMB1z3Lmu",
   "metadata": {
    "id": "kbEAMB1z3Lmu"
   },
   "outputs": [
    {
     "name": "stdout",
     "output_type": "stream",
     "text": [
      "Digite um número: 64\n",
      "Não é um número primo\n"
     ]
    }
   ],
   "source": [
    "## comece seu código aqui ###\n",
    "\n",
    "# número primo é aquele que não é divisível por outro número menor, \n",
    "# que não seja 1 ou ele mesmo\n",
    "\n",
    "numero = int(input(f'Digite um número: '))\n",
    "qtd_divisores = 0\n",
    "\n",
    "for i in range(2, numero-1):\n",
    "    if numero % i == 0:\n",
    "        qtd_divisores += 1\n",
    "    else:\n",
    "        pass\n",
    "\n",
    "if qtd_divisores == 0 and numero > 1:\n",
    "    print(f'É um número primo')\n",
    "else:\n",
    "    print(f'Não é um número primo')"
   ]
  },
  {
   "cell_type": "markdown",
   "id": "qlnUxp24zLL7",
   "metadata": {
    "id": "qlnUxp24zLL7"
   },
   "source": [
    "**Questão 8 - A peculiaridade das Startups:**\n",
    "\n",
    "Precificar uma Startup sempre foi difícil. A maioria delas não dão lucro nos primeiros anos, mas o potencial de mercado é gigantesco. Como de fato se faz o valuation de uma empresa dessas? um dos métodos para se fazer esse valuation, é multiplicar o faturamento atual dessa Startup por 10! Projetando em 10 anos o que se considera agora.\n",
    "\n",
    "Sua missão é identificar dentro da lista de valores, uma Startup iniciante e fazer seu valuation projetado em 10 anos.\n",
    "\n",
    "PS: Considere o valor de faturamento de uma Startup iniciante menor ou igual a 300 mil."
   ]
  },
  {
   "cell_type": "code",
   "execution_count": 76,
   "id": "CrAyVU1L2haZ",
   "metadata": {
    "id": "CrAyVU1L2haZ"
   },
   "outputs": [
    {
     "name": "stdout",
     "output_type": "stream",
     "text": [
      "A startup 3 é iniciante e seu valuation projetado em 10 anos é de 600.\n",
      "A startup 4 é iniciante e seu valuation projetado em 10 anos é de 2500.\n",
      "A startup 7 é iniciante e seu valuation projetado em 10 anos é de 540.\n",
      "A startup 8 é iniciante e seu valuation projetado em 10 anos é de 2300.\n",
      "A startup 9 é iniciante e seu valuation projetado em 10 anos é de 3000.\n",
      "A startup 10 é iniciante e seu valuation projetado em 10 anos é de 950.\n"
     ]
    }
   ],
   "source": [
    "## valores da lista em milhar\n",
    "faturamentos = {'startup 1': 1000, 'startup 2':500, 'startup 3':60, 'startup 4':250, \n",
    "                'startup 5':600, 'startup 6':700, 'startup 7':54, 'startup 8':230, \n",
    "                'startup 9':300, 'startup 10':95, 'startup 11':850}\n",
    "\n",
    "## comece seu código aqui ###\n",
    "\n",
    "for chave, valor in faturamentos.items():\n",
    "    if valor <= 300:\n",
    "        projecao = valor * 10\n",
    "        print(f\"A {chave} é iniciante e seu valuation projetado em 10 anos é de {projecao}.\")\n",
    "    else:\n",
    "        pass"
   ]
  },
  {
   "cell_type": "markdown",
   "id": "_CC8Mw_NAzYq",
   "metadata": {
    "id": "_CC8Mw_NAzYq"
   },
   "source": [
    "**Exercício extra** \n",
    "\n",
    "*Mais um dia como estagiário no FEA.dev S.A. Você chega para fazer seu trabalho rotineiro de enviar e-mails para os clientes pedindo (alguma coisa). No entanto, essa semana foram prospectados mais alguns clientes e as informações básicas deles chegaram de maneira desestruturada:* "
   ]
  },
  {
   "cell_type": "code",
   "execution_count": 122,
   "id": "97_-EEHhATd-",
   "metadata": {
    "id": "97_-EEHhATd-"
   },
   "outputs": [],
   "source": [
    "nomes_clientes = ['Gustavo', 'Kevyn', 'Max', 'Thais']  \n",
    "sobrenomes_clientes = ['Yamachi', 'Marcelino', 'Juan', 'Teixeira']\n",
    "email = ['gustavo.yamachi@email.com', 'kevyn.marcelino@email.com']"
   ]
  },
  {
   "cell_type": "markdown",
   "id": "_GvpmF7QDP9s",
   "metadata": {
    "id": "_GvpmF7QDP9s"
   },
   "source": [
    "Perceba como nem todos os e-mails dos clientes estão na lista e que os nomes e sobrenomes vieram separados. Você nota, porém que o padrão de e-mail é sempre o mesmo: \"Nome\".\"Sobrenome\"\"@email.com\". Dessa forma, escreva um código que identifique o endereço dos outros clientes e atribua à lista \"emails\""
   ]
  },
  {
   "cell_type": "code",
   "execution_count": 124,
   "id": "RGBwfDAECCde",
   "metadata": {
    "id": "RGBwfDAECCde"
   },
   "outputs": [
    {
     "name": "stdout",
     "output_type": "stream",
     "text": [
      "['gustavo.yamachi@email.com', 'kevyn.marcelino@email.com', 'max.juan@email.com', 'thais.teixeira@email.com']\n"
     ]
    }
   ],
   "source": [
    "#####SEU CODIGO COMECA AQUI#####\n",
    "for i in range(4):\n",
    "    codigo_email = (nomes_clientes[i] + \".\" + sobrenomes_clientes[i] + \"@email.com\").lower()\n",
    "    if codigo_email not in email:\n",
    "        email.append(codigo_email)\n",
    "    else:\n",
    "        pass\n",
    "    \n",
    "print(email)"
   ]
  },
  {
   "cell_type": "markdown",
   "id": "ssB-1jhevy2a",
   "metadata": {
    "id": "ssB-1jhevy2a"
   },
   "source": [
    "b) Crie um loop que passe pela lista de e-mails envie uma mensagem personalizada para cada um desses clientes. Seu código deverá gerar 4 mensagens no seguinte formato:\n",
    "\n",
    "\"To: (email do cliente), Bom dia (nome do cliente), agradecemos muito por ter escolhido a FEA.dev\"\n",
    "\n",
    "Dica: para facilitar a relação de clientes e seus respectivos endereços de e-mail, utilize a estrutura de dicionários"
   ]
  },
  {
   "cell_type": "code",
   "execution_count": 128,
   "id": "f8886f99",
   "metadata": {
    "id": "f8886f99"
   },
   "outputs": [
    {
     "name": "stdout",
     "output_type": "stream",
     "text": [
      "To: gustavo.yamachi@email.com, Bom dia Gustavo, agradecemos muito por ter escolhido a FEA.dev\n",
      "To: kevyn.marcelino@email.com, Bom dia Kevyn, agradecemos muito por ter escolhido a FEA.dev\n",
      "To: max.juan@email.com, Bom dia Max, agradecemos muito por ter escolhido a FEA.dev\n",
      "To: thais.teixeira@email.com, Bom dia Thais, agradecemos muito por ter escolhido a FEA.dev\n"
     ]
    }
   ],
   "source": [
    "## comece seu código aqui ###\n",
    "dicionario_clientes = {'Gustavo': 'gustavo.yamachi@email.com',\n",
    "                      'Kevyn': 'kevyn.marcelino@email.com',\n",
    "                      'Max': 'max.juan@email.com',\n",
    "                      'Thais': 'thais.teixeira@email.com'}\n",
    "\n",
    "for nome, email in dicionario_clientes.items():\n",
    "    print(f'To: {email}, Bom dia {nome}, agradecemos muito por ter escolhido a FEA.dev')"
   ]
  }
 ],
 "metadata": {
  "colab": {
   "collapsed_sections": [],
   "provenance": []
  },
  "kernelspec": {
   "display_name": "Python 3 (ipykernel)",
   "language": "python",
   "name": "python3"
  },
  "language_info": {
   "codemirror_mode": {
    "name": "ipython",
    "version": 3
   },
   "file_extension": ".py",
   "mimetype": "text/x-python",
   "name": "python",
   "nbconvert_exporter": "python",
   "pygments_lexer": "ipython3",
   "version": "3.9.12"
  }
 },
 "nbformat": 4,
 "nbformat_minor": 5
}
