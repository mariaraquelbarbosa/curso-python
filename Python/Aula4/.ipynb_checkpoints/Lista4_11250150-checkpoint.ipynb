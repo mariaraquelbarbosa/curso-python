{
 "cells": [
  {
   "cell_type": "markdown",
   "id": "321de7ba",
   "metadata": {
    "id": "321de7ba"
   },
   "source": [
    "# Lista de Exercícios de Funções - Aula 4 - FEA.dev"
   ]
  },
  {
   "cell_type": "markdown",
   "id": "ce7b04a5",
   "metadata": {
    "id": "ce7b04a5"
   },
   "source": [
    "Uma função em Python é uma sequência de códigos que possui nome próprio, executa tarefas específicas e evita repetição de código, podendo ser chamada pelo seu nome. Há funções já determinadas como print() e input(), entretanto, nesta lista de exercícios criaremos nossas próprias funções! "
   ]
  },
  {
   "cell_type": "markdown",
   "id": "3845636a",
   "metadata": {
    "id": "3845636a"
   },
   "source": [
    "Você adicionou o curso de Python da FEA.Dev em seu currículo e foi contratado como estagiário da empresa HelloWorld. Parabéns! Sua tarefa na empresa é automatizar o máximo de processos possíveis e, para isso, precisará criar muitas funções facilitadoras.\n",
    "\n",
    "Começaremos com dois exemplos básicos apenas como demonstração."
   ]
  },
  {
   "cell_type": "code",
   "execution_count": 3,
   "id": "bcc560ce",
   "metadata": {
    "id": "bcc560ce",
    "outputId": "12d696b6-5db3-45ef-bbb8-d0e217250de7",
    "scrolled": false
   },
   "outputs": [
    {
     "name": "stdout",
     "output_type": "stream",
     "text": [
      "hello, world!\n",
      "12\n"
     ]
    }
   ],
   "source": [
    "def slogan():\n",
    "    print('hello, world!')\n",
    "\n",
    "#função com parâmetros e retornando um valor\n",
    "def soma(a, b):\n",
    "    print (a + b)\n",
    "\n",
    "\n",
    "\n",
    "slogan()\n",
    "soma(5, 7) #5 e 7 são argumentos da função soma"
   ]
  },
  {
   "cell_type": "markdown",
   "id": "f5a20261",
   "metadata": {
    "id": "f5a20261"
   },
   "source": [
    "**Exercício 1 - Parâmetros Opcionais:** Observando o departamento de contabilidade da HelloWorld, você percebeu que os funcionários passam o dia multiplicando valores e, como um bom programador, resolveu tornar esse processo mais eficiente. Desenvolva a função mult, que retorna a multiplicação dos parâmetros \"a\", \"b\", \"c\" e \"d\". Porém, a função não precisa necessariamente receber os 4 argumentos. Caso um parâmetro não receba um argumento, ele deve valer 1."
   ]
  },
  {
   "cell_type": "code",
   "execution_count": 4,
   "id": "6b68ecb8",
   "metadata": {
    "id": "6b68ecb8"
   },
   "outputs": [],
   "source": [
    "##### SEU CODIGO COMEÇA AQUI #####\n",
    "def mult(a = 1, b = 1, c = 1, d = 1):\n",
    "    multiplicacao = a*b*c*d\n",
    "    return multiplicacao"
   ]
  },
  {
   "cell_type": "code",
   "execution_count": 5,
   "id": "a8a5b913",
   "metadata": {},
   "outputs": [
    {
     "data": {
      "text/plain": [
       "8"
      ]
     },
     "execution_count": 5,
     "metadata": {},
     "output_type": "execute_result"
    }
   ],
   "source": [
    "mult(2, 2, 2)"
   ]
  },
  {
   "cell_type": "markdown",
   "id": "4bfa7d1f",
   "metadata": {
    "id": "4bfa7d1f"
   },
   "source": [
    "**Exercício 2 - Return X Print:** Antes de tudo, rode todas as células do jupyter. \n",
    "\n",
    "O CEO da HelloWorld está desesperado, pois não consegue solucionar um erro de código que está impedindo a empresa de continuar funcionando. Assim, ele te ligou para ajudá-lo a corrigir tal erro.\n",
    "Rode o código abaixo para identificar o erro.\n",
    "(não altere o código, o erro foi planejado)"
   ]
  },
  {
   "cell_type": "code",
   "execution_count": 6,
   "id": "ae60c242",
   "metadata": {
    "id": "ae60c242",
    "outputId": "e471635a-e910-483e-817a-fe4a5824aab3",
    "scrolled": true
   },
   "outputs": [
    {
     "name": "stdout",
     "output_type": "stream",
     "text": [
      "10\n"
     ]
    },
    {
     "ename": "TypeError",
     "evalue": "unsupported operand type(s) for *: 'NoneType' and 'int'",
     "output_type": "error",
     "traceback": [
      "\u001b[1;31m---------------------------------------------------------------------------\u001b[0m",
      "\u001b[1;31mTypeError\u001b[0m                                 Traceback (most recent call last)",
      "Input \u001b[1;32mIn [6]\u001b[0m, in \u001b[0;36m<cell line: 1>\u001b[1;34m()\u001b[0m\n\u001b[1;32m----> 1\u001b[0m \u001b[43mmult\u001b[49m\u001b[43m(\u001b[49m\u001b[43msoma\u001b[49m\u001b[43m(\u001b[49m\u001b[38;5;241;43m5\u001b[39;49m\u001b[43m,\u001b[49m\u001b[43m \u001b[49m\u001b[38;5;241;43m5\u001b[39;49m\u001b[43m)\u001b[49m\u001b[43m,\u001b[49m\u001b[43m \u001b[49m\u001b[38;5;241;43m10\u001b[39;49m\u001b[43m)\u001b[49m\n",
      "Input \u001b[1;32mIn [1]\u001b[0m, in \u001b[0;36mmult\u001b[1;34m(a, b, c, d)\u001b[0m\n\u001b[0;32m      2\u001b[0m \u001b[38;5;28;01mdef\u001b[39;00m \u001b[38;5;21mmult\u001b[39m(a \u001b[38;5;241m=\u001b[39m \u001b[38;5;241m1\u001b[39m, b \u001b[38;5;241m=\u001b[39m \u001b[38;5;241m1\u001b[39m, c \u001b[38;5;241m=\u001b[39m \u001b[38;5;241m1\u001b[39m, d \u001b[38;5;241m=\u001b[39m \u001b[38;5;241m1\u001b[39m):\n\u001b[1;32m----> 3\u001b[0m     multiplicacao \u001b[38;5;241m=\u001b[39m \u001b[43ma\u001b[49m\u001b[38;5;241;43m*\u001b[39;49m\u001b[43mb\u001b[49m\u001b[38;5;241m*\u001b[39mc\u001b[38;5;241m*\u001b[39md\n\u001b[0;32m      4\u001b[0m     \u001b[38;5;28;01mreturn\u001b[39;00m multiplicacao\n",
      "\u001b[1;31mTypeError\u001b[0m: unsupported operand type(s) for *: 'NoneType' and 'int'"
     ]
    }
   ],
   "source": [
    "mult(soma(5, 5), 10)"
   ]
  },
  {
   "cell_type": "markdown",
   "id": "6f2193b5",
   "metadata": {
    "id": "6f2193b5"
   },
   "source": [
    "Reescreva a função soma para que o erro não ocorra. Lembre-se da diferença entre retornar um valor e imprimir um valor."
   ]
  },
  {
   "cell_type": "code",
   "execution_count": 6,
   "id": "07b9a948",
   "metadata": {
    "id": "07b9a948"
   },
   "outputs": [
    {
     "data": {
      "text/plain": [
       "100"
      ]
     },
     "execution_count": 6,
     "metadata": {},
     "output_type": "execute_result"
    }
   ],
   "source": [
    "##### SEU CODIGO COMEÇA AQUI #####\n",
    "def soma(a, b):\n",
    "    return a + b\n",
    "\n",
    "mult(soma(5, 5), 10)"
   ]
  },
  {
   "cell_type": "markdown",
   "id": "229efff7",
   "metadata": {
    "id": "229efff7"
   },
   "source": [
    "**Exercício 3 - Docstring:** As funções, que permitem automatização dos procedimentos, são amplamente utilizadas pelos analistas de dados no mercado financeiro.\n",
    "Conversando com um analista da HelloWorld, você descobriu que a empresa opta por investir em um ativo, caso a soma do retorno esperado e da liquidez do ativo, elevado ao quadrado seja maior que 50.\n",
    "\n",
    "Escreva a função **inv**, que recebe os valores **ret** e liq e imprime \"Investir\" ou \"Não investir\" de acordo com a estratégia da empresa."
   ]
  },
  {
   "cell_type": "code",
   "execution_count": 7,
   "id": "167b7af6",
   "metadata": {
    "id": "167b7af6"
   },
   "outputs": [],
   "source": [
    "##### SEU CODIGO COMEÇA AQUI #####\n",
    "def inv(ret, liq):\n",
    "    resultado = (ret+liq)**2\n",
    "    if resultado > 50:\n",
    "        print(\"Investir\")\n",
    "    else:\n",
    "        print(\"Não investir\")"
   ]
  },
  {
   "cell_type": "code",
   "execution_count": 8,
   "id": "41878e41",
   "metadata": {},
   "outputs": [
    {
     "name": "stdout",
     "output_type": "stream",
     "text": [
      "Investir\n"
     ]
    }
   ],
   "source": [
    "inv(10,10)"
   ]
  },
  {
   "cell_type": "markdown",
   "id": "c771fa4b",
   "metadata": {
    "id": "c771fa4b"
   },
   "source": [
    "Você apenas trabalha em dias úteis, porém a HelloWorld não pode parar.\n",
    "\n",
    "Assim, o programador Jorge foi contratado para assumir seu cargo durante o final de semana. Sábado a tarde, você está curtindo uma piscina com seus amigos e recebe uma ligação do Jorge dizendo que não entendeu a utilidade da função **inv** (do item 'a').\n",
    "\n",
    "Reescreva a função \"inv\" acrescentando uma *docstring* que explique o que a função faz. Para isso utilize o modelo das 3 aspas (Ex: \"\"\"explicação\"\"\"). \n",
    "\n",
    "Para checar se a docstring foi adicionada no jupyter, use help(inv) ou clique na função e pressione shif+tab."
   ]
  },
  {
   "cell_type": "code",
   "execution_count": 9,
   "id": "cc0971d7",
   "metadata": {
    "id": "cc0971d7",
    "outputId": "159ee6dc-5082-4898-cf35-11996c0fdc1b"
   },
   "outputs": [
    {
     "name": "stdout",
     "output_type": "stream",
     "text": [
      "Help on function inv in module __main__:\n",
      "\n",
      "inv(ret, liq)\n",
      "    esta função determina se a empresa deve ou não investir em um ativo, com base no retorno esperado e na liquidez do ativo\n",
      "\n"
     ]
    }
   ],
   "source": [
    "##### SEU CODIGO COMEÇA AQUI #####\n",
    "def inv(ret, liq):\n",
    "    \"\"\"esta função determina se a empresa deve ou não investir em um ativo, com base no retorno esperado e na liquidez do ativo\"\"\"\n",
    "    resultado = (ret+liq)**2\n",
    "    if resultado > 50:\n",
    "        print(\"Investir\")\n",
    "    else:\n",
    "        print(\"Não investir\")\n",
    "help(inv)"
   ]
  },
  {
   "cell_type": "markdown",
   "id": "711e6630",
   "metadata": {
    "id": "711e6630"
   },
   "source": [
    "**Exercício 4 - Importação:** Para calcular o risco de certos investimentos, a HelloWorld utiliza conceitos de probabilidade, cuja a maioria é baseada em contas com fatoriais. Visto isso, para acelerar o processo de contas, você foi requisitado para criar a função **\"fatorial\"** que calcula o fatorial de um número n."
   ]
  },
  {
   "cell_type": "code",
   "execution_count": 10,
   "id": "f875e792",
   "metadata": {
    "id": "f875e792"
   },
   "outputs": [],
   "source": [
    "##### SEU CODIGO COMEÇA AQUI #####\n",
    "def fatorial(n):\n",
    "    if n == 0: \n",
    "        return 1\n",
    "        \n",
    "    elif n > 0:\n",
    "        base = 1\n",
    "        while n > 1: \n",
    "            base = base * n \n",
    "            n -= 1\n",
    "        return base\n",
    "    \n",
    "    else:\n",
    "        print(\"Não há fatorial para n < 0\")"
   ]
  },
  {
   "cell_type": "code",
   "execution_count": 11,
   "id": "bc6a1b96",
   "metadata": {},
   "outputs": [
    {
     "data": {
      "text/plain": [
       "24"
      ]
     },
     "execution_count": 11,
     "metadata": {},
     "output_type": "execute_result"
    }
   ],
   "source": [
    "fatorial(4)"
   ]
  },
  {
   "cell_type": "markdown",
   "id": "2501260f",
   "metadata": {
    "id": "2501260f"
   },
   "source": [
    "Um dos benefícios da linguagem Python é a possibilidade de importação de bibliotecas/módulos com funções prédefinidas da seguinte maneira:\n",
    "\n",
    "from *biblioteca* import *função*\n",
    "\n",
    "\n",
    "Importe a função *factorial* do módulo math e utilize-a para testar seu código acima comparando os resultados. "
   ]
  },
  {
   "cell_type": "code",
   "execution_count": 12,
   "id": "4e08942c",
   "metadata": {
    "id": "4e08942c"
   },
   "outputs": [
    {
     "data": {
      "text/plain": [
       "24"
      ]
     },
     "execution_count": 12,
     "metadata": {},
     "output_type": "execute_result"
    }
   ],
   "source": [
    "##### SEU CODIGO COMEÇA AQUI #####\n",
    "from math import factorial\n",
    "factorial(4)"
   ]
  },
  {
   "cell_type": "markdown",
   "id": "Tem5PAVJV-nl",
   "metadata": {
    "id": "Tem5PAVJV-nl"
   },
   "source": [
    "**Exercício 5 - Sextou:** Depois de uma longa semana de trabalho duro, você só quer curtir, mas sem pagar muito para não torrar o dinheirinho suado de uma vez só. Assim sendo, você pretende viajar, mas pagando o mínimo possível"
   ]
  },
  {
   "cell_type": "markdown",
   "id": "cfpEIA-CWSG_",
   "metadata": {
    "id": "cfpEIA-CWSG_"
   },
   "source": [
    "a) Crie uma função que compare dois valores e retorne o menor deles"
   ]
  },
  {
   "cell_type": "code",
   "execution_count": 13,
   "id": "aNnGYmmeWRba",
   "metadata": {
    "id": "aNnGYmmeWRba"
   },
   "outputs": [],
   "source": [
    "##### SEU CODIGO COMEÇA AQUI #####\n",
    "def minimo(a,b):\n",
    "    return min([a,b])"
   ]
  },
  {
   "cell_type": "code",
   "execution_count": 14,
   "id": "ac2e872c",
   "metadata": {},
   "outputs": [
    {
     "data": {
      "text/plain": [
       "10"
      ]
     },
     "execution_count": 14,
     "metadata": {},
     "output_type": "execute_result"
    }
   ],
   "source": [
    "minimo(20,10)"
   ]
  },
  {
   "cell_type": "markdown",
   "id": "gkBaPp2zWYOx",
   "metadata": {
    "id": "gkBaPp2zWYOx"
   },
   "source": [
    "b) Crie uma função que converta valores em dólar e euro para real. Considere que 1 dólar equivale a 5.33 reais e 1 euro, 5.18 reais"
   ]
  },
  {
   "cell_type": "code",
   "execution_count": 15,
   "id": "j0QJJTDUWmlJ",
   "metadata": {
    "id": "j0QJJTDUWmlJ"
   },
   "outputs": [],
   "source": [
    "##### SEU CODIGO COMEÇA AQUI #####\n",
    "def conversor(valor, moeda):\n",
    "    if moeda == \"dólar\":\n",
    "        return valor*5.33\n",
    "    elif moeda == \"euro\":\n",
    "        return valor*5.18"
   ]
  },
  {
   "cell_type": "code",
   "execution_count": 16,
   "id": "418ba609",
   "metadata": {},
   "outputs": [
    {
     "data": {
      "text/plain": [
       "10.66"
      ]
     },
     "execution_count": 16,
     "metadata": {},
     "output_type": "execute_result"
    }
   ],
   "source": [
    "conversor(2, \"dólar\")"
   ]
  },
  {
   "cell_type": "markdown",
   "id": "DN73S354Wn0p",
   "metadata": {
    "id": "DN73S354Wn0p"
   },
   "source": [
    "c) Por fim você fez uma lista dos 3 preços mais baratos para os Estados Unidos e dos 3 mais baratos para a Europa e os atribuiu a uma lista. Crie uma função que calcule a **menor quantidade de dinheiro em reais** que você poderá gastar para essa viagem comparando os preços mais em conta para os dois destinos. Não "
   ]
  },
  {
   "cell_type": "code",
   "execution_count": 17,
   "id": "VQek_fTmXU4B",
   "metadata": {
    "id": "VQek_fTmXU4B"
   },
   "outputs": [],
   "source": [
    "melhores_precos_eua = [3000, 2600,2500]  # Em dólares\n",
    "melhores_precos_europa = [2700, 2900, 2300] # Em euros\n",
    "\n",
    "##### SEU CODIGO COMEÇA AQUI #####\n",
    "def menor_valor_viagem(valores_dolar, valores_euro):\n",
    "    minimo1 = min(valores_dolar)\n",
    "    minimo2 = min(valores_euro)\n",
    "    \n",
    "    minimo1 = conversor(minimo1, \"dólar\")\n",
    "    minimo2 = conversor(minimo2, \"euro\")\n",
    "    \n",
    "    return (f'O menor preço para a Europa é {minimo1} e para os EUA é {minimo2}')"
   ]
  },
  {
   "cell_type": "code",
   "execution_count": 18,
   "id": "ed00d889",
   "metadata": {},
   "outputs": [
    {
     "data": {
      "text/plain": [
       "'O menor preço para a Europa é 13325.0 e para os EUA é 11914.0'"
      ]
     },
     "execution_count": 18,
     "metadata": {},
     "output_type": "execute_result"
    }
   ],
   "source": [
    "menor_valor_viagem(melhores_precos_eua, melhores_precos_europa)"
   ]
  },
  {
   "cell_type": "markdown",
   "id": "41304971",
   "metadata": {
    "id": "41304971"
   },
   "source": [
    "Parabéns! Você passou pelos principais tópicos relacionados a funções em Python e se provou o funcionário do mês da HelloWorld!"
   ]
  },
  {
   "cell_type": "markdown",
   "id": "a3703b2f",
   "metadata": {
    "id": "a3703b2f"
   },
   "source": [
    "# <font >Exercícios Extras para treinar!</font>"
   ]
  },
  {
   "cell_type": "markdown",
   "id": "a4db8a6e",
   "metadata": {
    "id": "a4db8a6e"
   },
   "source": [
    "6) Crie uma função que calcule o x da fórmula de Bhaskara.\n",
    "\n",
    "    A função deverá ter 3 argumentos nomeados como \"a\", \"b\" e \"c\" e retornar o valor do x\n",
    "\n",
    "<img src='https://images.educamaisbrasil.com.br/content/banco_de_imagens/guia-de-estudo/D/formula-bhaskara-matematica.jpg' height=\"100%\" width=\"350\" style=\"margin-left: auto;margin-right: auto\">"
   ]
  },
  {
   "cell_type": "code",
   "execution_count": 19,
   "id": "7d49ce5d",
   "metadata": {
    "id": "7d49ce5d"
   },
   "outputs": [],
   "source": [
    "##### SEU CODIGO COMEÇA AQUI #####\n",
    "def bhaskara(a, b, c):\n",
    "    if ((b**2)-4*a*c) > 0:\n",
    "        x1 = (-b + (((b**2)-4*a*c)**(1/2)))/(2*a)\n",
    "        x2 = (-b - (((b**2)-4*a*c)**(1/2)))/(2*a)\n",
    "        return (x1, x2)\n",
    "    elif ((b**2)-4*a*c) == 0:\n",
    "        x = (-b + (((b**2)-4*a*c)**(1/2)))/(2*a)\n",
    "        return (x)\n",
    "    else:\n",
    "        print('Não há nenhuma raiz real para essa equação')"
   ]
  },
  {
   "cell_type": "code",
   "execution_count": 20,
   "id": "5e8027f5",
   "metadata": {},
   "outputs": [
    {
     "data": {
      "text/plain": [
       "(2.0, -1.3333333333333333)"
      ]
     },
     "execution_count": 20,
     "metadata": {},
     "output_type": "execute_result"
    }
   ],
   "source": [
    "bhaskara(3, -2, -8)"
   ]
  },
  {
   "cell_type": "markdown",
   "id": "373058ba",
   "metadata": {
    "id": "373058ba"
   },
   "source": [
    "7) Crie uma função que receba um texto (string) e conte a quantidade de espaços contidos nele."
   ]
  },
  {
   "cell_type": "code",
   "execution_count": 25,
   "id": "066930b8",
   "metadata": {
    "id": "066930b8"
   },
   "outputs": [],
   "source": [
    "##### SEU CODIGO COMEÇA AQUI #####\n",
    "def funcao_string(string):\n",
    "    lista7 = []\n",
    "    for i in string:   \n",
    "        if i == \" \":\n",
    "            lista7.append(i)\n",
    "        else:\n",
    "            pass\n",
    "    return len(lista7)"
   ]
  },
  {
   "cell_type": "code",
   "execution_count": 26,
   "id": "f7b5c3e7",
   "metadata": {},
   "outputs": [
    {
     "data": {
      "text/plain": [
       "4"
      ]
     },
     "execution_count": 26,
     "metadata": {},
     "output_type": "execute_result"
    }
   ],
   "source": [
    "funcao_string(\"Maria Raquel de Carvalho Barbosa\")"
   ]
  }
 ],
 "metadata": {
  "colab": {
   "provenance": []
  },
  "kernelspec": {
   "display_name": "Python 3 (ipykernel)",
   "language": "python",
   "name": "python3"
  },
  "language_info": {
   "codemirror_mode": {
    "name": "ipython",
    "version": 3
   },
   "file_extension": ".py",
   "mimetype": "text/x-python",
   "name": "python",
   "nbconvert_exporter": "python",
   "pygments_lexer": "ipython3",
   "version": "3.9.12"
  }
 },
 "nbformat": 4,
 "nbformat_minor": 5
}
