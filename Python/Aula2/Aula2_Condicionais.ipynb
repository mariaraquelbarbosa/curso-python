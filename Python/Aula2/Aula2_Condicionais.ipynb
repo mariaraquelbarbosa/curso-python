{
 "cells": [
  {
   "cell_type": "markdown",
   "id": "475caac2",
   "metadata": {},
   "source": [
    "# Prints \n",
    "\n",
    "Sua função é, basicamente, exibir mensagens na tela, então, com ela você consegue observar variáveis e interagir com o usuário."
   ]
  },
  {
   "cell_type": "code",
   "execution_count": 3,
   "id": "5a38c956",
   "metadata": {},
   "outputs": [
    {
     "name": "stdout",
     "output_type": "stream",
     "text": [
      "Olá, feanos. Bora aprender estatística!\n",
      "Olá, feanos. Bora estudar estatística!\n"
     ]
    }
   ],
   "source": [
    "#Prints\n",
    "\n",
    "pessoa = 'feanos'\n",
    "conteudo = 'estatística'\n",
    "detalhe = 'estudar'\n",
    "\n",
    "print('Olá, {}. Bora aprender {}!'.format(pessoa, conteudo))\n",
    "print(f'Olá, {pessoa}. Bora {detalhe} {conteudo}!')"
   ]
  },
  {
   "cell_type": "markdown",
   "id": "059594ea",
   "metadata": {},
   "source": [
    "# Operadores Aritméticos\n",
    "\n",
    "Esses operadores são usados para criamos expressões matemáticas comuns, como soma, subtração, multiplicação, divisão, exponencial e radiciação. E até mesmo verificarmos \"restos de divisão\", que são muito importantes na construção de uma lógica de verificação."
   ]
  },
  {
   "cell_type": "code",
   "execution_count": 7,
   "id": "0e94f1aa",
   "metadata": {},
   "outputs": [
    {
     "name": "stdout",
     "output_type": "stream",
     "text": [
      "Soma: 11\n",
      "Subtração: -7\n",
      "Multiplicação: 18\n",
      "Divisão: 4.5\n",
      "Divisão (Apenas a parte inteira): 4\n",
      "Divisão (Apenas o resto): 1\n",
      "Exponencial: 81\n",
      "Raiz: 3\n"
     ]
    }
   ],
   "source": [
    "# Operadores Aritméticos (+; -; *; /; //; %; **)\n",
    "\n",
    "n = 2\n",
    "n2 = 9\n",
    "n3 = 1\n",
    "\n",
    "raiz = int(n2 ** (1/n))\n",
    "\n",
    "print(f'Soma: {n + n2}')\n",
    "print(f'Subtração: {n - n2}')\n",
    "print(f'Multiplicação: {n * n2}')\n",
    "print(f'Divisão: {n2 / n}')\n",
    "print(f'Divisão (Apenas a parte inteira): {n2 // n}')\n",
    "print(f'Divisão (Apenas o resto): {n2 % n}')\n",
    "print(f'Exponencial: {n2 ** n}')\n",
    "print(f'Raiz: {raiz}')"
   ]
  },
  {
   "cell_type": "markdown",
   "id": "720ba2fc",
   "metadata": {},
   "source": [
    "# Operadores de Comparação\n",
    "\n",
    "Os operadores de comparação são usados para comparar valores, o que vai retornar True ou False, dependendo da condição."
   ]
  },
  {
   "cell_type": "code",
   "execution_count": 8,
   "id": "42e0df41",
   "metadata": {},
   "outputs": [
    {
     "name": "stdout",
     "output_type": "stream",
     "text": [
      "n1 é maior que n2? False\n",
      "n1 é menor que n2? True\n",
      "n1 é maior ou igual a n2? False\n",
      "n1 é menor ou igual a n2? True\n",
      "n1 é igual a n2? False\n",
      "n1 é diferente de n2? True\n"
     ]
    }
   ],
   "source": [
    "#Operadores de Comparação ( >; >=; <; <=; ==; !=)\n",
    "\n",
    "n1 = 2\n",
    "n2 = 3\n",
    "\n",
    "print(f'n1 é maior que n2? {n1 > n2}')\n",
    "print(f'n1 é menor que n2? {n1 < n2}')\n",
    "print(f'n1 é maior ou igual a n2? {n1 >= n2}')\n",
    "print(f'n1 é menor ou igual a n2? {n1 <= n2}')\n",
    "print(f'n1 é igual a n2? {n1 == n2}')\n",
    "print(f'n1 é diferente de n2? {n1 != n2}')"
   ]
  },
  {
   "cell_type": "markdown",
   "id": "7aab359f",
   "metadata": {},
   "source": [
    "# Booleans\n",
    "\n",
    "O tipo booleano Python é um dos tipos de dados internos fornecidores pelo Python, que são definidos pelas palavras-chave True ou False. Geralmente, é usado para representar os valores das expressões."
   ]
  },
  {
   "cell_type": "code",
   "execution_count": null,
   "id": "aec2b0aa",
   "metadata": {},
   "outputs": [],
   "source": [
    "# Tipo de variável\n",
    "print(type(True))\n",
    "print(type(False))"
   ]
  },
  {
   "cell_type": "code",
   "execution_count": 9,
   "id": "7c0c282a",
   "metadata": {},
   "outputs": [
    {
     "name": "stdout",
     "output_type": "stream",
     "text": [
      "Exemplo1: 2\n",
      "Exemplo2: 3\n",
      "Exemplo1: 0\n",
      "Exemplo1: 2\n"
     ]
    }
   ],
   "source": [
    "#O Pyhton entendo os valores e consegue fazer contas atribuindo 1 ao True e 0 ao False\n",
    "print(f'Exemplo1: {True + True}')\n",
    "print(f'Exemplo2: {2 + True}')\n",
    "print(f'Exemplo1: {False + False}')\n",
    "print(f'Exemplo1: {2 + False}')"
   ]
  },
  {
   "cell_type": "code",
   "execution_count": 10,
   "id": "a795f44f",
   "metadata": {},
   "outputs": [
    {
     "name": "stdout",
     "output_type": "stream",
     "text": [
      "0\n",
      "1\n"
     ]
    }
   ],
   "source": [
    "#Conversão - bool para inteiro\n",
    "print(int(False))\n",
    "print(int(True))"
   ]
  },
  {
   "cell_type": "code",
   "execution_count": 11,
   "id": "86660905",
   "metadata": {},
   "outputs": [
    {
     "name": "stdout",
     "output_type": "stream",
     "text": [
      "True\n",
      "False\n"
     ]
    }
   ],
   "source": [
    "#Conversão - int para bool\n",
    "print(bool(1))\n",
    "print(bool(0))"
   ]
  },
  {
   "cell_type": "markdown",
   "id": "c8c941e4",
   "metadata": {},
   "source": [
    "# Condicionais\n",
    "\n",
    "O if é uma estrutura de condição que permite avaliar uma expressão e, de acordo com seu resultado, executa determinada ação."
   ]
  },
  {
   "cell_type": "code",
   "execution_count": 12,
   "id": "91206b73",
   "metadata": {},
   "outputs": [
    {
     "name": "stdout",
     "output_type": "stream",
     "text": [
      "Insira valor de x: 8\n",
      "Insira valor de y: 9\n",
      "x é menor que y\n"
     ]
    }
   ],
   "source": [
    "#if\n",
    "### Modelo ineficiente\n",
    "\n",
    "x = int(input('Insira valor de x: '))\n",
    "y = int(input('Insira valor de y: '))\n",
    "\n",
    "if x > y:\n",
    "    print('x é maior que y')\n",
    "if x < y:\n",
    "    print('x é menor que y')"
   ]
  },
  {
   "cell_type": "markdown",
   "id": "387185ce",
   "metadata": {},
   "source": [
    "# Else\n",
    "\n",
    "Condicionais, de uma forma bem simplista, são o que o Python usa para tomada de decisão, seja em definição de variável, ação após determinado resultado e afins.\n",
    "\n",
    "Receita: SE condição verdadeira : Ação 1 ELSE: Ação 2"
   ]
  },
  {
   "cell_type": "code",
   "execution_count": 13,
   "id": "05bb1a5c",
   "metadata": {},
   "outputs": [
    {
     "name": "stdout",
     "output_type": "stream",
     "text": [
      "Insira valor de x: 7\n",
      "Insira valor de y: 4\n",
      "x é maior que y\n"
     ]
    }
   ],
   "source": [
    "#Modelo mais simples com 2 condições\n",
    "\n",
    "x = int(input('Insira valor de x: '))\n",
    "y = int(input('Insira valor de y: '))\n",
    "\n",
    "if x < y:\n",
    "    print('x é menor que y')\n",
    "else:\n",
    "    print('x é maior que y')\n",
    "\n",
    "    #e no caso do x ser igual ao y? Estará incorreto no retorno"
   ]
  },
  {
   "cell_type": "markdown",
   "id": "414d9bed",
   "metadata": {},
   "source": [
    "# Elif\n",
    "\n",
    "Melhor forma de corrigir esse \"erro de design\" (junção de else+if)\n",
    "Importante: if inicia o bloco de condicional, elif é um argumento no meio do bloco e else finaliza o bloco de condicional\n",
    "Conceito de indentação (o espaço indica subordinação de um bloco ao outro)."
   ]
  },
  {
   "cell_type": "code",
   "execution_count": 14,
   "id": "f98fc7c6",
   "metadata": {},
   "outputs": [
    {
     "name": "stdout",
     "output_type": "stream",
     "text": [
      "Insira valor de x: 4\n",
      "Insira valor de y: 3\n",
      "x é maior que y\n",
      "Hello world!\n"
     ]
    }
   ],
   "source": [
    "#Modelo mais completo\n",
    "x = int(input('Insira valor de x: '))\n",
    "y = int(input('Insira valor de y: '))\n",
    "\n",
    "if x > y:\n",
    "    print('x é maior que y')\n",
    "elif x < y:\n",
    "    print('x é menor que y')\n",
    "else:\n",
    "    print('x é igual a y')\n",
    "    \n",
    "print('Hello world!')"
   ]
  },
  {
   "cell_type": "code",
   "execution_count": 15,
   "id": "13664d75",
   "metadata": {},
   "outputs": [
    {
     "name": "stdout",
     "output_type": "stream",
     "text": [
      "Insira o número que você quer conferir: 9\n",
      "é impar\n"
     ]
    }
   ],
   "source": [
    "#Par ou ímpar\n",
    "a_ser_verificado = int(input('Insira o número que você quer conferir: '))\n",
    "verif = a_ser_verificado%2\n",
    "\n",
    "if verif != 0 :\n",
    "    print('é impar')\n",
    "else:\n",
    "    print('é par')"
   ]
  },
  {
   "cell_type": "code",
   "execution_count": 17,
   "id": "9d0abb71",
   "metadata": {},
   "outputs": [
    {
     "name": "stdout",
     "output_type": "stream",
     "text": [
      "Insira o número que você quer conferir: 2\n"
     ]
    }
   ],
   "source": [
    "a_ser_verificado = int(input('Insira o número que você quer conferir: '))\n",
    "verif = a_ser_verificado%2\n",
    "\n",
    "if verif != 0 :\n",
    "    resultado = 2*2+a_ser_verificado\n",
    "else:\n",
    "    resultado = 3**a_ser_verificado"
   ]
  },
  {
   "cell_type": "code",
   "execution_count": 18,
   "id": "41afacd6",
   "metadata": {},
   "outputs": [
    {
     "name": "stdout",
     "output_type": "stream",
     "text": [
      "O resultado da verificação é 9\n"
     ]
    }
   ],
   "source": [
    "print(f'O resultado da verificação é {resultado}')"
   ]
  },
  {
   "cell_type": "code",
   "execution_count": 19,
   "id": "cea3b5b0",
   "metadata": {},
   "outputs": [
    {
     "name": "stdout",
     "output_type": "stream",
     "text": [
      "Insira o número que você quer conferir: 2\n"
     ]
    }
   ],
   "source": [
    "## Escrevendo de outra forma\n",
    "\n",
    "ser_verificado = int(input('Insira o número que você quer conferir: '))\n",
    "\n",
    "if (ser_verificado%2) != 0 :\n",
    "    resultado_1 = 2*2+ser_verificado\n",
    "else:\n",
    "    resultado_1 = 3**ser_verificado"
   ]
  },
  {
   "cell_type": "code",
   "execution_count": 20,
   "id": "b23847f6",
   "metadata": {},
   "outputs": [
    {
     "name": "stdout",
     "output_type": "stream",
     "text": [
      "O resultado da verificação é 9\n"
     ]
    }
   ],
   "source": [
    "print(f'O resultado da verificação é {resultado_1}')"
   ]
  },
  {
   "cell_type": "code",
   "execution_count": 22,
   "id": "b8bc9d84",
   "metadata": {},
   "outputs": [
    {
     "name": "stdout",
     "output_type": "stream",
     "text": [
      "Digite uma letra: e\n",
      "A letra é uma vogal\n",
      "A letra é uma consoante\n"
     ]
    }
   ],
   "source": [
    "## Retomando a questão da ineficiência\n",
    "\n",
    "n = str(input('Digite uma letra: '))\n",
    "\n",
    "if n == 'a':\n",
    "    print('A letra é uma vogal')\n",
    "if n == 'e':\n",
    "    print('A letra é uma vogal')\n",
    "if n == 'i':\n",
    "    print('A letra é uma vogal')\n",
    "if n == 'o':\n",
    "    print('A letra é uma vogal')\n",
    "if n == 'u':\n",
    "    print('A letra é uma vogal')\n",
    "else:\n",
    "    print('A letra é uma consoante')\n",
    "\n",
    "    # e é uma vogal, então retorna que é uma vogal, mas tb não é igual a u, então retorno que \n",
    "    # é uma consoante..."
   ]
  },
  {
   "cell_type": "markdown",
   "id": "3c607063",
   "metadata": {},
   "source": [
    "# Operadores Lógicos\n",
    "\n",
    "Nos possibilitam construir um tipo de teste muito útil e muito usado em qualquer programa Python: os testes lógicos. O Python nos disponibiliza três tipos de Operadores Lógicos: o and, o or e o not.\n",
    "\n",
    "Operadores de associação são operadores usados para validar a associação de um valor. Ele testa a associação em uma sequência, como strings, listas ou tuplas. \n",
    "\n",
    "Operador in: O operador \"in\" é usado para verificar se um valor existe ou não em uma sequência."
   ]
  },
  {
   "cell_type": "code",
   "execution_count": 24,
   "id": "f4c2eae1",
   "metadata": {},
   "outputs": [
    {
     "name": "stdout",
     "output_type": "stream",
     "text": [
      "Digite uma letra: e\n",
      "A letra é uma vogal\n"
     ]
    }
   ],
   "source": [
    "n = str(input('Digite uma letra: '))\n",
    "\n",
    "if n == 'a' or n == 'e' or n == 'i' or n == 'o' or n == 'u':\n",
    "    print('A letra é uma vogal')\n",
    "else:\n",
    "    print('A letra é uma consoante')"
   ]
  },
  {
   "cell_type": "code",
   "execution_count": 25,
   "id": "742b44bf",
   "metadata": {},
   "outputs": [
    {
     "name": "stdout",
     "output_type": "stream",
     "text": [
      "Digite uma letra: a\n",
      "A letra é uma vogal\n"
     ]
    }
   ],
   "source": [
    "# Operadores de Associação (in, not in)\n",
    "\n",
    "n = str(input('Digite uma letra: '))\n",
    "vogais = ['a', 'e', 'i', 'o', 'u']\n",
    "if n in vogais:\n",
    "    print('A letra é uma vogal')\n",
    "else:\n",
    "    print('A letra é uma consoante')"
   ]
  },
  {
   "cell_type": "code",
   "execution_count": 26,
   "id": "1b644e8c",
   "metadata": {},
   "outputs": [
    {
     "name": "stdout",
     "output_type": "stream",
     "text": [
      "Este aluno faltou\n"
     ]
    }
   ],
   "source": [
    "# Vamos supor que recebemos uma lista de alunos que foram na última aula da dev,\n",
    "# e queremos verificar se um dos nossos amigos está na lista\n",
    "\n",
    "devers = ['Laís', 'Thomas', 'Kevs', 'Lott', 'Alice', 'Julia']\n",
    "if 'Lucas' in devers:\n",
    "    print('Estava preseente na aula!')\n",
    "else:\n",
    "    print('Este aluno faltou')"
   ]
  },
  {
   "cell_type": "code",
   "execution_count": 27,
   "id": "a34b950f",
   "metadata": {},
   "outputs": [
    {
     "name": "stdout",
     "output_type": "stream",
     "text": [
      "faltou\n"
     ]
    }
   ],
   "source": [
    "# Vamos supor que recebemos uma lista de alunos que foram na última aula da dev,\n",
    "# e queremos verificar se um dos nossos amigos está na lista\n",
    "\n",
    "devers = ['Laís', 'Thomas', 'Kevs', 'Lott', 'Alice', 'Julia']\n",
    "if 'Lucas' not in devers:\n",
    "    print('faltou')\n",
    "else:\n",
    "    print('presente')"
   ]
  },
  {
   "cell_type": "code",
   "execution_count": 28,
   "id": "1c950975",
   "metadata": {},
   "outputs": [
    {
     "name": "stdout",
     "output_type": "stream",
     "text": [
      "Ao menos um dos meu amigos faltou\n"
     ]
    }
   ],
   "source": [
    "# and\n",
    "\n",
    "if 'Lott' in devers and 'Thomaz' in devers:\n",
    "    print(\"Bom sinal\")\n",
    "elif 'Lott' in devers or 'Thomaz' in devers:\n",
    "    print('Ao menos um dos meu amigos faltou')\n",
    "else:\n",
    "    print('Os dois faltaram')"
   ]
  },
  {
   "cell_type": "code",
   "execution_count": 29,
   "id": "35284ed4",
   "metadata": {},
   "outputs": [
    {
     "name": "stdout",
     "output_type": "stream",
     "text": [
      "Tenho amigo para assinar a lista para mim!\n"
     ]
    }
   ],
   "source": [
    "# or\n",
    "\n",
    "if 'Lucas' in devers or 'Lott' in devers:\n",
    "    print('Tenho amigo para assinar a lista para mim!')\n",
    "else:\n",
    "    print('Vish...')"
   ]
  },
  {
   "cell_type": "markdown",
   "id": "f5b1deaa",
   "metadata": {},
   "source": [
    "# Operadores de identidade\n",
    "\n",
    "Servem para comparar objetos. Nesse comparação, é identificado se eles ocupam a mesma posição na memória, o que significará qe se trata do mesmo objeto."
   ]
  },
  {
   "cell_type": "code",
   "execution_count": 31,
   "id": "14d9d156",
   "metadata": {},
   "outputs": [
    {
     "data": {
      "text/plain": [
       "False"
      ]
     },
     "execution_count": 31,
     "metadata": {},
     "output_type": "execute_result"
    }
   ],
   "source": [
    "#Operadores de identidade (is, is not)\n",
    "#Checa se é o mesmo objeto, não se são iguais\n",
    "\n",
    "lista1 = [1, 2, 3]\n",
    "lista2 = [1, 2, 4]\n",
    "lista3 = lista1\n",
    "\n",
    "#lista1 é a lista2?\n",
    "lista1 is lista2"
   ]
  },
  {
   "cell_type": "code",
   "execution_count": 32,
   "id": "1b0ec0ae",
   "metadata": {},
   "outputs": [
    {
     "data": {
      "text/plain": [
       "True"
      ]
     },
     "execution_count": 32,
     "metadata": {},
     "output_type": "execute_result"
    }
   ],
   "source": [
    "#lista1 não é lista2?\n",
    "lista1 is not lista2"
   ]
  },
  {
   "cell_type": "code",
   "execution_count": 33,
   "id": "99bf4b01",
   "metadata": {},
   "outputs": [
    {
     "data": {
      "text/plain": [
       "True"
      ]
     },
     "execution_count": 33,
     "metadata": {},
     "output_type": "execute_result"
    }
   ],
   "source": [
    "#lista1 é a lista3?\n",
    "lista1 is lista3"
   ]
  },
  {
   "cell_type": "code",
   "execution_count": 34,
   "id": "013f9d86",
   "metadata": {},
   "outputs": [
    {
     "data": {
      "text/plain": [
       "False"
      ]
     },
     "execution_count": 34,
     "metadata": {},
     "output_type": "execute_result"
    }
   ],
   "source": [
    "lista4 = [1, 2, 3]\n",
    "\n",
    "lista1 is lista4"
   ]
  }
 ],
 "metadata": {
  "kernelspec": {
   "display_name": "Python 3 (ipykernel)",
   "language": "python",
   "name": "python3"
  },
  "language_info": {
   "codemirror_mode": {
    "name": "ipython",
    "version": 3
   },
   "file_extension": ".py",
   "mimetype": "text/x-python",
   "name": "python",
   "nbconvert_exporter": "python",
   "pygments_lexer": "ipython3",
   "version": "3.9.12"
  }
 },
 "nbformat": 4,
 "nbformat_minor": 5
}
