{
 "cells": [
  {
   "cell_type": "markdown",
   "id": "e11c77da",
   "metadata": {
    "id": "e11c77da"
   },
   "source": [
    "# <font color=green|black>Semana 06 – Início Análise de Dados - Biblioteca Numpy | 21/10/22 </font> \n",
    "\n",
    "- #### Parte I – Introdução à análise de dados;\n",
    "- #### Parte II – Por que Numpy? \n",
    "- #### Parte III – Aplicações. \n",
    "\n",
    "**Aula:** https://www.youtube.com/watch?v=s76nawflNbk\n",
    "\n",
    "**Documentação do Numpy:** https://numpy.org/doc/stable/user/absolute_beginners.html\n",
    "\n",
    "### <font color=green|black>Professores</font>\n",
    "\n",
    "-  #### Kevyn A. Marcelino\n",
    "-  #### Ana C. Santos\n",
    "   \n",
    "# -------------------------------------------------------------------------"
   ]
  },
  {
   "cell_type": "markdown",
   "id": "7ac7942f",
   "metadata": {
    "id": "7ac7942f"
   },
   "source": [
    "# <font color=green|black> Parte I – Introdução à análise de dados </font> \n",
    "\n",
    "### 1.1 Introdução a análise e ciência de dados \n",
    "\n",
    "![data_analysis.jpg](attachment:data_analysis.jpg)\n",
    "\n",
    "1.1.1 O que é\n",
    "1.1.2 Passos iniciais de uma análise\n",
    "- ETL - Extract, Transform and Load\n",
    "1.1.2 Diferença de Análise e Ciência de Dados\n",
    "        \n"
   ]
  },
  {
   "cell_type": "markdown",
   "id": "e72acb1a",
   "metadata": {
    "id": "e72acb1a"
   },
   "source": [
    "### 1.2 Bibliotecas\n",
    "\n",
    "1.2.1 O que são\n",
    "* Código que outras pessoas á fizeram por você \n",
    "1.2.2 Importância\n",
    "1.2.3 Como instalar e importar - Exemplos\n",
    "* pip install\n",
    "* O que é o PIP?\n",
    "* https://pypi.org/\n",
    "1.2.4 Criação da primeira biblioteca"
   ]
  },
  {
   "cell_type": "markdown",
   "id": "fef5d82d",
   "metadata": {
    "id": "fef5d82d"
   },
   "source": [
    "#### Instalando"
   ]
  },
  {
   "cell_type": "code",
   "execution_count": 4,
   "id": "87c75c0c",
   "metadata": {
    "id": "87c75c0c",
    "outputId": "b5d335a2-4bc8-4477-eebc-40b7b582b483"
   },
   "outputs": [
    {
     "name": "stdout",
     "output_type": "stream",
     "text": [
      "Requirement already satisfied: numpy in c:\\users\\joel\\anaconda3\\lib\\site-packages (1.21.5)\n"
     ]
    }
   ],
   "source": [
    "# Instalando\n",
    "#pip install numpy\n",
    "!pip install numpy"
   ]
  },
  {
   "cell_type": "markdown",
   "id": "5b9d8dd8",
   "metadata": {
    "id": "5b9d8dd8"
   },
   "source": [
    "#### Convenções na hora de importar"
   ]
  },
  {
   "cell_type": "code",
   "execution_count": 5,
   "id": "af70c213",
   "metadata": {
    "id": "af70c213"
   },
   "outputs": [],
   "source": [
    "# Convenções na hora de importar\n",
    "import numpy as np\n",
    "import pandas as pd\n",
    "import matplotlib.pyplot as plt"
   ]
  },
  {
   "cell_type": "markdown",
   "id": "2526af70",
   "metadata": {
    "id": "2526af70"
   },
   "source": [
    "#### Exemplos de Bibliotecas\n",
    "\n",
    "- Help\n",
    "- Shift + Tab\n"
   ]
  },
  {
   "cell_type": "code",
   "execution_count": 6,
   "id": "d755b379",
   "metadata": {
    "id": "d755b379",
    "outputId": "cc694a45-b4ab-48b5-ccce-51b23eb844db"
   },
   "outputs": [
    {
     "name": "stdout",
     "output_type": "stream",
     "text": [
      "The Zen of Python, by Tim Peters\n",
      "\n",
      "Beautiful is better than ugly.\n",
      "Explicit is better than implicit.\n",
      "Simple is better than complex.\n",
      "Complex is better than complicated.\n",
      "Flat is better than nested.\n",
      "Sparse is better than dense.\n",
      "Readability counts.\n",
      "Special cases aren't special enough to break the rules.\n",
      "Although practicality beats purity.\n",
      "Errors should never pass silently.\n",
      "Unless explicitly silenced.\n",
      "In the face of ambiguity, refuse the temptation to guess.\n",
      "There should be one-- and preferably only one --obvious way to do it.\n",
      "Although that way may not be obvious at first unless you're Dutch.\n",
      "Now is better than never.\n",
      "Although never is often better than *right* now.\n",
      "If the implementation is hard to explain, it's a bad idea.\n",
      "If the implementation is easy to explain, it may be a good idea.\n",
      "Namespaces are one honking great idea -- let's do more of those!\n"
     ]
    }
   ],
   "source": [
    "import this\n",
    "#Chama o Zen do Python\n",
    "#esse pacote já vem no Python"
   ]
  },
  {
   "cell_type": "markdown",
   "id": "e0ed8575",
   "metadata": {
    "id": "e0ed8575"
   },
   "source": [
    "#### Onde ficam instaladas?\n",
    "\n",
    "- pip freeze\n",
    "- C:\\Users\\\"SeuUsuário\"\\AppData\\Local\\Programs\\Python\\Python310\\Lib\n",
    "    - Pode variar um pouco"
   ]
  },
  {
   "cell_type": "code",
   "execution_count": 7,
   "id": "7ec40b82",
   "metadata": {
    "id": "7ec40b82",
    "outputId": "e6e589a6-cacb-4977-9ed3-ab50015125d1"
   },
   "outputs": [
    {
     "name": "stdout",
     "output_type": "stream",
     "text": [
      "aiohttp @ file:///C:/ci/aiohttp_1646806572557/work\n",
      "aiosignal @ file:///tmp/build/80754af9/aiosignal_1637843061372/work\n",
      "alabaster @ file:///home/ktietz/src/ci/alabaster_1611921544520/work\n",
      "anaconda-client @ file:///C:/ci/anaconda-client_1635342725944/work\n",
      "anaconda-navigator==2.3.0\n",
      "anaconda-project @ file:///tmp/build/80754af9/anaconda-project_1637161053845/work\n",
      "anyio @ file:///C:/ci/anyio_1644481921011/work/dist\n",
      "appdirs==1.4.4\n",
      "argon2-cffi @ file:///opt/conda/conda-bld/argon2-cffi_1645000214183/work\n",
      "argon2-cffi-bindings @ file:///C:/ci/argon2-cffi-bindings_1644551690056/work\n",
      "arrow @ file:///opt/conda/conda-bld/arrow_1649166651673/work\n",
      "astroid @ file:///C:/ci/astroid_1628063282661/work\n",
      "astropy @ file:///C:/ci/astropy_1650634291321/work\n",
      "asttokens @ file:///opt/conda/conda-bld/asttokens_1646925590279/work\n",
      "async-timeout @ file:///tmp/build/80754af9/async-timeout_1637851218186/work\n",
      "atomicwrites==1.4.0\n",
      "attrs @ file:///opt/conda/conda-bld/attrs_1642510447205/work\n",
      "Automat @ file:///tmp/build/80754af9/automat_1600298431173/work\n",
      "autopep8 @ file:///opt/conda/conda-bld/autopep8_1639166893812/work\n",
      "Babel @ file:///tmp/build/80754af9/babel_1620871417480/work\n",
      "backcall @ file:///home/ktietz/src/ci/backcall_1611930011877/work\n",
      "backports.functools-lru-cache @ file:///tmp/build/80754af9/backports.functools_lru_cache_1618170165463/work\n",
      "backports.tempfile @ file:///home/linux1/recipes/ci/backports.tempfile_1610991236607/work\n",
      "backports.weakref==1.0.post1\n",
      "bcrypt @ file:///C:/ci/bcrypt_1607022693089/work\n",
      "beautifulsoup4 @ file:///C:/ci/beautifulsoup4_1650293025093/work\n",
      "binaryornot @ file:///tmp/build/80754af9/binaryornot_1617751525010/work\n",
      "bitarray @ file:///C:/ci/bitarray_1648739663053/work\n",
      "bkcharts==0.2\n",
      "black==19.10b0\n",
      "bleach @ file:///opt/conda/conda-bld/bleach_1641577558959/work\n",
      "bokeh @ file:///C:/ci/bokeh_1638362966927/work\n",
      "boto3 @ file:///opt/conda/conda-bld/boto3_1649078879353/work\n",
      "botocore @ file:///opt/conda/conda-bld/botocore_1649076662316/work\n",
      "Bottleneck @ file:///C:/ci/bottleneck_1648010904582/work\n",
      "brotlipy==0.7.0\n",
      "cachetools @ file:///tmp/build/80754af9/cachetools_1619597386817/work\n",
      "certifi==2021.10.8\n",
      "cffi @ file:///C:/ci_310/cffi_1642682485096/work\n",
      "chardet @ file:///C:/ci/chardet_1607706937985/work\n",
      "charset-normalizer @ file:///tmp/build/80754af9/charset-normalizer_1630003229654/work\n",
      "click @ file:///C:/ci/click_1646038595831/work\n",
      "cloudpickle @ file:///tmp/build/80754af9/cloudpickle_1632508026186/work\n",
      "clyent==1.2.2\n",
      "colorama @ file:///tmp/build/80754af9/colorama_1607707115595/work\n",
      "colorcet @ file:///tmp/build/80754af9/colorcet_1611168489822/work\n",
      "comtypes==1.1.10\n",
      "conda==4.12.0\n",
      "conda-build==3.21.8\n",
      "conda-content-trust @ file:///tmp/build/80754af9/conda-content-trust_1617045594566/work\n",
      "conda-pack @ file:///tmp/build/80754af9/conda-pack_1611163042455/work\n",
      "conda-package-handling @ file:///C:/ci/conda-package-handling_1649106011304/work\n",
      "conda-repo-cli @ file:///tmp/build/80754af9/conda-repo-cli_1620168426516/work\n",
      "conda-token @ file:///tmp/build/80754af9/conda-token_1620076980546/work\n",
      "conda-verify==3.4.2\n",
      "constantly==15.1.0\n",
      "cookiecutter @ file:///opt/conda/conda-bld/cookiecutter_1649151442564/work\n",
      "cryptography @ file:///C:/ci/cryptography_1633520531101/work\n",
      "cssselect==1.1.0\n",
      "cycler @ file:///tmp/build/80754af9/cycler_1637851556182/work\n",
      "Cython @ file:///C:/ci/cython_1647850559892/work\n",
      "cytoolz==0.11.0\n",
      "daal4py==2021.5.0\n",
      "dask @ file:///opt/conda/conda-bld/dask-core_1647268715755/work\n",
      "datashader @ file:///tmp/build/80754af9/datashader_1623782308369/work\n",
      "datashape==0.5.4\n",
      "debugpy @ file:///C:/ci/debugpy_1637091961445/work\n",
      "decorator @ file:///opt/conda/conda-bld/decorator_1643638310831/work\n",
      "defusedxml @ file:///tmp/build/80754af9/defusedxml_1615228127516/work\n",
      "diff-match-patch @ file:///Users/ktietz/demo/mc3/conda-bld/diff-match-patch_1630511840874/work\n",
      "distributed @ file:///opt/conda/conda-bld/distributed_1647271944416/work\n",
      "docutils @ file:///C:/ci/docutils_1620828264669/work\n",
      "entrypoints @ file:///C:/ci/entrypoints_1649926621128/work\n",
      "et-xmlfile==1.1.0\n",
      "executing @ file:///opt/conda/conda-bld/executing_1646925071911/work\n",
      "fastjsonschema @ file:///tmp/build/80754af9/python-fastjsonschema_1620414857593/work/dist\n",
      "filelock @ file:///opt/conda/conda-bld/filelock_1647002191454/work\n",
      "flake8 @ file:///tmp/build/80754af9/flake8_1620776156532/work\n",
      "Flask @ file:///home/ktietz/src/ci/flask_1611932660458/work\n",
      "fonttools==4.25.0\n",
      "frozenlist @ file:///C:/ci/frozenlist_1637767271796/work\n",
      "fsspec @ file:///opt/conda/conda-bld/fsspec_1647268051896/work\n",
      "future @ file:///C:/ci/future_1607568713721/work\n",
      "gensim @ file:///C:/ci/gensim_1646825438310/work\n",
      "glob2 @ file:///home/linux1/recipes/ci/glob2_1610991677669/work\n",
      "google-api-core @ file:///C:/ci/google-api-core-split_1613980333946/work\n",
      "google-auth @ file:///tmp/build/80754af9/google-auth_1626320605116/work\n",
      "google-cloud-core @ file:///tmp/build/80754af9/google-cloud-core_1625077425256/work\n",
      "google-cloud-storage @ file:///tmp/build/80754af9/google-cloud-storage_1601307969662/work\n",
      "google-crc32c @ file:///C:/ci/google-crc32c_1613234249694/work\n",
      "google-resumable-media @ file:///tmp/build/80754af9/google-resumable-media_1624367812531/work\n",
      "googleapis-common-protos @ file:///C:/ci/googleapis-common-protos-feedstock_1617957814607/work\n",
      "greenlet @ file:///C:/ci/greenlet_1628888275363/work\n",
      "grpcio @ file:///C:/ci/grpcio_1637590978642/work\n",
      "h5py @ file:///C:/ci/h5py_1637120894255/work\n",
      "HeapDict @ file:///Users/ktietz/demo/mc3/conda-bld/heapdict_1630598515714/work\n",
      "holoviews @ file:///opt/conda/conda-bld/holoviews_1645454331194/work\n",
      "hvplot @ file:///tmp/build/80754af9/hvplot_1627305124151/work\n",
      "hyperlink @ file:///tmp/build/80754af9/hyperlink_1610130746837/work\n",
      "idna @ file:///tmp/build/80754af9/idna_1637925883363/work\n",
      "imagecodecs @ file:///C:/ci/imagecodecs_1635511087451/work\n",
      "imageio @ file:///tmp/build/80754af9/imageio_1617700267927/work\n",
      "imagesize @ file:///tmp/build/80754af9/imagesize_1637939814114/work\n",
      "importlib-metadata @ file:///C:/ci/importlib-metadata_1648562621412/work\n",
      "incremental @ file:///tmp/build/80754af9/incremental_1636629750599/work\n",
      "inflection==0.5.1\n",
      "iniconfig @ file:///home/linux1/recipes/ci/iniconfig_1610983019677/work\n",
      "intake @ file:///opt/conda/conda-bld/intake_1647436631684/work\n",
      "intervaltree @ file:///Users/ktietz/demo/mc3/conda-bld/intervaltree_1630511889664/work\n",
      "ipykernel @ file:///C:/ci/ipykernel_1646982785443/work/dist/ipykernel-6.9.1-py3-none-any.whl\n",
      "ipython @ file:///C:/ci/ipython_1648817223581/work\n",
      "ipython-genutils @ file:///tmp/build/80754af9/ipython_genutils_1606773439826/work\n",
      "ipywidgets @ file:///tmp/build/80754af9/ipywidgets_1634143127070/work\n",
      "isort @ file:///tmp/build/80754af9/isort_1628603791788/work\n",
      "itemadapter @ file:///tmp/build/80754af9/itemadapter_1626442940632/work\n",
      "itemloaders @ file:///opt/conda/conda-bld/itemloaders_1646805235997/work\n",
      "itsdangerous @ file:///tmp/build/80754af9/itsdangerous_1621432558163/work\n",
      "jdcal @ file:///Users/ktietz/demo/mc3/conda-bld/jdcal_1630584345063/work\n",
      "jedi @ file:///C:/ci/jedi_1644315428289/work\n",
      "Jinja2 @ file:///tmp/build/80754af9/jinja2_1612213139570/work\n",
      "jinja2-time @ file:///opt/conda/conda-bld/jinja2-time_1649251842261/work\n",
      "Note: you may need to restart the kernel to use updated packages.\n",
      "jmespath @ file:///Users/ktietz/demo/mc3/conda-bld/jmespath_1630583964805/work\n",
      "joblib @ file:///tmp/build/80754af9/joblib_1635411271373/work\n",
      "json5 @ file:///tmp/build/80754af9/json5_1624432770122/work\n",
      "jsonschema @ file:///C:/ci/jsonschema_1650008058050/work\n",
      "jupyter @ file:///C:/ci/jupyter_1607685287094/work\n",
      "jupyter-client @ file:///tmp/build/80754af9/jupyter_client_1616770841739/work\n",
      "jupyter-console @ file:///tmp/build/80754af9/jupyter_console_1616615302928/work\n",
      "jupyter-core @ file:///C:/ci/jupyter_core_1646994619043/work\n",
      "jupyter-server @ file:///opt/conda/conda-bld/jupyter_server_1644494914632/work\n",
      "jupyterlab @ file:///opt/conda/conda-bld/jupyterlab_1647445413472/work\n",
      "jupyterlab-pygments @ file:///tmp/build/80754af9/jupyterlab_pygments_1601490720602/work\n",
      "jupyterlab-server @ file:///opt/conda/conda-bld/jupyterlab_server_1644500396812/work\n",
      "jupyterlab-widgets @ file:///tmp/build/80754af9/jupyterlab_widgets_1609884341231/work\n",
      "jupyterthemes==0.20.0\n",
      "keyring @ file:///C:/ci/keyring_1638531673471/work\n",
      "kiwisolver @ file:///C:/ci/kiwisolver_1644962577370/work\n",
      "lazy-object-proxy @ file:///C:/ci/lazy-object-proxy_1616529288960/work\n",
      "lesscpy==0.15.0\n",
      "libarchive-c @ file:///tmp/build/80754af9/python-libarchive-c_1617780486945/work\n",
      "llvmlite==0.38.0\n",
      "locket @ file:///C:/ci/locket_1647006279389/work\n",
      "lxml @ file:///C:/ci/lxml_1646642862366/work\n",
      "Markdown @ file:///C:/ci/markdown_1614364082838/work\n",
      "MarkupSafe @ file:///C:/ci/markupsafe_1621528502553/work\n",
      "matplotlib @ file:///C:/ci/matplotlib-suite_1647423638658/work\n",
      "matplotlib-inline @ file:///tmp/build/80754af9/matplotlib-inline_1628242447089/work\n",
      "mccabe==0.6.1\n",
      "menuinst @ file:///C:/ci/menuinst_1631733438520/work\n",
      "mistune @ file:///C:/ci/mistune_1607359457024/work\n",
      "mkl-fft==1.3.1\n",
      "mkl-random @ file:///C:/ci/mkl_random_1626186184308/work\n",
      "mkl-service==2.4.0\n",
      "mock @ file:///tmp/build/80754af9/mock_1607622725907/work\n",
      "mpmath==1.2.1\n",
      "msgpack @ file:///C:/ci/msgpack-python_1612287350784/work\n",
      "multidict @ file:///C:/ci/multidict_1607349747897/work\n",
      "multipledispatch @ file:///C:/ci/multipledispatch_1607574329826/work\n",
      "munkres==1.1.4\n",
      "mypy-extensions==0.4.3\n",
      "navigator-updater==0.2.1\n",
      "nbclassic @ file:///opt/conda/conda-bld/nbclassic_1644943264176/work\n",
      "nbclient @ file:///C:/ci/nbclient_1650290387259/work\n",
      "nbconvert @ file:///C:/ci/nbconvert_1649741016669/work\n",
      "nbformat @ file:///C:/ci/nbformat_1649845125000/work\n",
      "nest-asyncio @ file:///C:/ci/nest-asyncio_1649829929390/work\n",
      "networkx @ file:///opt/conda/conda-bld/networkx_1647437648384/work\n",
      "nltk @ file:///opt/conda/conda-bld/nltk_1645628263994/work\n",
      "nose @ file:///opt/conda/conda-bld/nose_1642704612149/work\n",
      "notebook @ file:///C:/ci/notebook_1645002729033/work\n",
      "numba @ file:///C:/ci/numba_1650394399948/work\n",
      "numexpr @ file:///C:/ci/numexpr_1640704337920/work\n",
      "numpy @ file:///C:/ci/numpy_and_numpy_base_1649782970434/work\n",
      "numpydoc @ file:///opt/conda/conda-bld/numpydoc_1643788541039/work\n",
      "olefile @ file:///Users/ktietz/demo/mc3/conda-bld/olefile_1629805411829/work\n",
      "openpyxl @ file:///tmp/build/80754af9/openpyxl_1632777717936/work\n",
      "packaging @ file:///tmp/build/80754af9/packaging_1637314298585/work\n",
      "pandas @ file:///C:/ci/pandas_1650373458095/work\n",
      "pandocfilters @ file:///opt/conda/conda-bld/pandocfilters_1643405455980/work\n",
      "panel @ file:///C:/ci/panel_1650623703033/work\n",
      "param @ file:///tmp/build/80754af9/param_1636647414893/work\n",
      "paramiko @ file:///opt/conda/conda-bld/paramiko_1640109032755/work\n",
      "parsel @ file:///C:/ci/parsel_1646740216444/work\n",
      "parso @ file:///opt/conda/conda-bld/parso_1641458642106/work\n",
      "partd @ file:///opt/conda/conda-bld/partd_1647245470509/work\n",
      "pathspec==0.7.0\n",
      "patsy==0.5.2\n",
      "pep8==1.7.1\n",
      "pexpect @ file:///tmp/build/80754af9/pexpect_1605563209008/work\n",
      "pickleshare @ file:///tmp/build/80754af9/pickleshare_1606932040724/work\n",
      "Pillow==9.0.1\n",
      "pkginfo @ file:///tmp/build/80754af9/pkginfo_1643162084911/work\n",
      "plotly @ file:///opt/conda/conda-bld/plotly_1646671701182/work\n",
      "pluggy @ file:///C:/ci/pluggy_1648024580010/work\n",
      "ply==3.11\n",
      "poyo @ file:///tmp/build/80754af9/poyo_1617751526755/work\n",
      "prometheus-client @ file:///opt/conda/conda-bld/prometheus_client_1643788673601/work\n",
      "prompt-toolkit @ file:///tmp/build/80754af9/prompt-toolkit_1633440160888/work\n",
      "Protego @ file:///tmp/build/80754af9/protego_1598657180827/work\n",
      "protobuf==3.19.1\n",
      "psutil @ file:///C:/ci/psutil_1612298199233/work\n",
      "ptyprocess @ file:///tmp/build/80754af9/ptyprocess_1609355006118/work/dist/ptyprocess-0.7.0-py2.py3-none-any.whl\n",
      "pure-eval @ file:///opt/conda/conda-bld/pure_eval_1646925070566/work\n",
      "py @ file:///opt/conda/conda-bld/py_1644396412707/work\n",
      "pyasn1 @ file:///Users/ktietz/demo/mc3/conda-bld/pyasn1_1629708007385/work\n",
      "pyasn1-modules==0.2.8\n",
      "pycodestyle @ file:///tmp/build/80754af9/pycodestyle_1615748559966/work\n",
      "pycosat==0.6.3\n",
      "pycparser @ file:///tmp/build/80754af9/pycparser_1636541352034/work\n",
      "pyct @ file:///C:/ci/pyct_1613411728548/work\n",
      "pycurl==7.44.1\n",
      "PyDispatcher==2.0.5\n",
      "pydocstyle @ file:///tmp/build/80754af9/pydocstyle_1621600989141/work\n",
      "pyerfa @ file:///C:/ci/pyerfa_1621560974055/work\n",
      "pyflakes @ file:///tmp/build/80754af9/pyflakes_1617200973297/work\n",
      "Pygments @ file:///opt/conda/conda-bld/pygments_1644249106324/work\n",
      "PyHamcrest @ file:///tmp/build/80754af9/pyhamcrest_1615748656804/work\n",
      "PyJWT @ file:///C:/ci/pyjwt_1619682721924/work\n",
      "pylint @ file:///C:/ci/pylint_1627536884966/work\n",
      "pyls-spyder==0.4.0\n",
      "PyNaCl @ file:///C:/ci/pynacl_1607612759007/work\n",
      "pyodbc @ file:///C:/ci/pyodbc_1647426110990/work\n",
      "pyOpenSSL @ file:///tmp/build/80754af9/pyopenssl_1635333100036/work\n",
      "pyparsing @ file:///tmp/build/80754af9/pyparsing_1635766073266/work\n",
      "pyreadline==2.1\n",
      "pyrsistent @ file:///C:/ci/pyrsistent_1636093225342/work\n",
      "PySocks @ file:///C:/ci/pysocks_1605307512533/work\n",
      "pytest==7.1.1\n",
      "python-dateutil @ file:///tmp/build/80754af9/python-dateutil_1626374649649/work\n",
      "python-lsp-black @ file:///tmp/build/80754af9/python-lsp-black_1634232156041/work\n",
      "python-lsp-jsonrpc==1.0.0\n",
      "python-lsp-server==1.2.4\n",
      "python-slugify @ file:///tmp/build/80754af9/python-slugify_1620405669636/work\n",
      "python-snappy @ file:///C:/ci/python-snappy_1610133405910/work\n",
      "pytz==2021.3\n",
      "pyviz-comms @ file:///tmp/build/80754af9/pyviz_comms_1623747165329/work\n",
      "PyWavelets @ file:///C:/ci/pywavelets_1648728084106/work\n",
      "pywin32==302\n",
      "pywin32-ctypes @ file:///C:/ci/pywin32-ctypes_1607553594546/work\n",
      "pywinpty @ file:///C:/ci_310/pywinpty_1644230983541/work/target/wheels/pywinpty-2.0.2-cp39-none-win_amd64.whl\n",
      "PyYAML==6.0\n",
      "pyzmq @ file:///C:/ci/pyzmq_1638435148211/work\n",
      "QDarkStyle @ file:///tmp/build/80754af9/qdarkstyle_1617386714626/work\n",
      "qstylizer @ file:///tmp/build/80754af9/qstylizer_1617713584600/work/dist/qstylizer-0.1.10-py2.py3-none-any.whl\n",
      "QtAwesome @ file:///tmp/build/80754af9/qtawesome_1637160816833/work\n",
      "qtconsole @ file:///opt/conda/conda-bld/qtconsole_1649078897110/work\n",
      "QtPy @ file:///opt/conda/conda-bld/qtpy_1649073884068/work\n",
      "queuelib==1.5.0\n",
      "regex @ file:///C:/ci/regex_1648447888413/work\n",
      "requests @ file:///opt/conda/conda-bld/requests_1641824580448/work\n",
      "requests-file @ file:///Users/ktietz/demo/mc3/conda-bld/requests-file_1629455781986/work\n",
      "rope @ file:///opt/conda/conda-bld/rope_1643788605236/work\n",
      "rsa @ file:///tmp/build/80754af9/rsa_1614366226499/work\n",
      "Rtree @ file:///C:/ci/rtree_1618421015405/work\n",
      "ruamel-yaml-conda @ file:///C:/ci/ruamel_yaml_1616016898638/work\n",
      "s3transfer @ file:///tmp/build/80754af9/s3transfer_1626435152308/work\n",
      "scikit-image @ file:///C:/ci/scikit-image_1648214340990/work\n",
      "scikit-learn @ file:///C:/ci/scikit-learn_1642617276183/work\n",
      "scikit-learn-intelex==2021.20220215.102710\n",
      "scipy @ file:///C:/ci/scipy_1641555170412/work\n",
      "Scrapy @ file:///C:/ci/scrapy_1646837986255/work\n",
      "seaborn @ file:///tmp/build/80754af9/seaborn_1629307859561/work\n",
      "Send2Trash @ file:///tmp/build/80754af9/send2trash_1632406701022/work\n",
      "service-identity @ file:///Users/ktietz/demo/mc3/conda-bld/service_identity_1629460757137/work\n",
      "sip==4.19.13\n",
      "six @ file:///tmp/build/80754af9/six_1644875935023/work\n",
      "smart-open @ file:///tmp/build/80754af9/smart_open_1623928409369/work\n",
      "sniffio @ file:///C:/ci/sniffio_1614030527509/work\n",
      "snowballstemmer @ file:///tmp/build/80754af9/snowballstemmer_1637937080595/work\n",
      "sortedcollections @ file:///tmp/build/80754af9/sortedcollections_1611172717284/work\n",
      "sortedcontainers @ file:///tmp/build/80754af9/sortedcontainers_1623949099177/work\n",
      "soupsieve @ file:///tmp/build/80754af9/soupsieve_1636706018808/work\n",
      "Sphinx @ file:///opt/conda/conda-bld/sphinx_1643644169832/work\n",
      "sphinxcontrib-applehelp @ file:///home/ktietz/src/ci/sphinxcontrib-applehelp_1611920841464/work\n",
      "sphinxcontrib-devhelp @ file:///home/ktietz/src/ci/sphinxcontrib-devhelp_1611920923094/work\n",
      "sphinxcontrib-htmlhelp @ file:///tmp/build/80754af9/sphinxcontrib-htmlhelp_1623945626792/work\n",
      "sphinxcontrib-jsmath @ file:///home/ktietz/src/ci/sphinxcontrib-jsmath_1611920942228/work\n",
      "sphinxcontrib-qthelp @ file:///home/ktietz/src/ci/sphinxcontrib-qthelp_1611921055322/work\n",
      "sphinxcontrib-serializinghtml @ file:///tmp/build/80754af9/sphinxcontrib-serializinghtml_1624451540180/work\n",
      "spyder @ file:///C:/ci/spyder_1636480369575/work\n",
      "spyder-kernels @ file:///C:/ci/spyder-kernels_1634237096710/work\n",
      "SQLAlchemy @ file:///C:/ci/sqlalchemy_1647600017103/work\n",
      "stack-data @ file:///opt/conda/conda-bld/stack_data_1646927590127/work\n",
      "statsmodels==0.13.2\n",
      "sympy @ file:///C:/ci/sympy_1647853873858/work\n",
      "tables==3.6.1\n",
      "tabulate==0.8.9\n",
      "TBB==0.2\n",
      "tblib @ file:///Users/ktietz/demo/mc3/conda-bld/tblib_1629402031467/work\n",
      "tenacity @ file:///C:/ci/tenacity_1626248381338/work\n",
      "terminado @ file:///C:/ci/terminado_1644322780199/work\n",
      "testpath @ file:///tmp/build/80754af9/testpath_1624638946665/work\n",
      "text-unidecode @ file:///Users/ktietz/demo/mc3/conda-bld/text-unidecode_1629401354553/work\n",
      "textdistance @ file:///tmp/build/80754af9/textdistance_1612461398012/work\n",
      "threadpoolctl @ file:///Users/ktietz/demo/mc3/conda-bld/threadpoolctl_1629802263681/work\n",
      "three-merge @ file:///tmp/build/80754af9/three-merge_1607553261110/work\n",
      "tifffile @ file:///tmp/build/80754af9/tifffile_1627275862826/work\n",
      "tinycss @ file:///tmp/build/80754af9/tinycss_1617713798712/work\n",
      "tldextract @ file:///opt/conda/conda-bld/tldextract_1646638314385/work\n",
      "toml @ file:///tmp/build/80754af9/toml_1616166611790/work\n",
      "tomli @ file:///tmp/build/80754af9/tomli_1637314251069/work\n",
      "toolz @ file:///tmp/build/80754af9/toolz_1636545406491/work\n",
      "tornado @ file:///C:/ci/tornado_1606924294691/work\n",
      "tqdm @ file:///C:/ci/tqdm_1650636210717/work\n",
      "traitlets @ file:///tmp/build/80754af9/traitlets_1636710298902/work\n",
      "Twisted @ file:///C:/ci/twisted_1646835413846/work\n",
      "twisted-iocpsupport @ file:///C:/ci/twisted-iocpsupport_1646798932792/work\n",
      "typed-ast @ file:///C:/ci/typed-ast_1624953797214/work\n",
      "typing_extensions @ file:///opt/conda/conda-bld/typing_extensions_1647553014482/work\n",
      "ujson @ file:///C:/ci/ujson_1648044223886/work\n",
      "Unidecode @ file:///tmp/build/80754af9/unidecode_1614712377438/work\n",
      "urllib3 @ file:///C:/ci/urllib3_1650639883891/work\n",
      "w3lib @ file:///Users/ktietz/demo/mc3/conda-bld/w3lib_1629359764703/work\n",
      "watchdog @ file:///C:/ci/watchdog_1638367441841/work\n",
      "wcwidth @ file:///Users/ktietz/demo/mc3/conda-bld/wcwidth_1629357192024/work\n",
      "webencodings==0.5.1\n",
      "websocket-client @ file:///C:/ci/websocket-client_1614804375980/work\n",
      "Werkzeug @ file:///opt/conda/conda-bld/werkzeug_1645628268370/work\n",
      "widgetsnbextension @ file:///C:/ci/widgetsnbextension_1644991377168/work\n",
      "win-inet-pton @ file:///C:/ci/win_inet_pton_1605306162074/work\n",
      "win-unicode-console==0.5\n",
      "wincertstore==0.2\n",
      "wrapt @ file:///C:/ci/wrapt_1607574570428/work\n",
      "xarray @ file:///opt/conda/conda-bld/xarray_1639166117697/work\n",
      "xlrd @ file:///tmp/build/80754af9/xlrd_1608072521494/work\n",
      "XlsxWriter @ file:///opt/conda/conda-bld/xlsxwriter_1649073856329/work\n",
      "xlwings==0.24.9\n",
      "yapf @ file:///tmp/build/80754af9/yapf_1615749224965/work\n",
      "yarl @ file:///C:/ci/yarl_1606940155993/work\n",
      "zict==2.0.0\n",
      "zipp @ file:///opt/conda/conda-bld/zipp_1641824620731/work\n",
      "zope.interface @ file:///C:/ci/zope.interface_1625036252485/work\n"
     ]
    }
   ],
   "source": [
    "pip freeze"
   ]
  },
  {
   "cell_type": "markdown",
   "id": "123f4b5e",
   "metadata": {
    "id": "123f4b5e"
   },
   "source": [
    "#### Outros Exemplos"
   ]
  },
  {
   "cell_type": "code",
   "execution_count": 9,
   "id": "229b1095",
   "metadata": {
    "id": "229b1095",
    "outputId": "67d20349-5b1c-4d33-d6fa-e38dc9ccef1f"
   },
   "outputs": [
    {
     "name": "stdout",
     "output_type": "stream",
     "text": [
      "Collecting CurrencyConverter\n",
      "  Downloading CurrencyConverter-0.17.2-py3-none-any.whl (557 kB)\n",
      "Installing collected packages: CurrencyConverter\n",
      "Successfully installed CurrencyConverter-0.17.2\n"
     ]
    },
    {
     "data": {
      "text/plain": [
       "513.7800000000001"
      ]
     },
     "execution_count": 9,
     "metadata": {},
     "output_type": "execute_result"
    }
   ],
   "source": [
    "# Exercício conversor de moedas primeira lista:\n",
    "#!pip install CurrencyConverter\n",
    "# documentação: https://pypi.org/project/CurrencyConverter/ ou procurar no pypi\n",
    "\n",
    "from currency_converter import CurrencyConverter\n",
    "\n",
    "c = CurrencyConverter()\n",
    "c.convert(100, 'EUR', 'BRL') #BRL"
   ]
  },
  {
   "cell_type": "code",
   "execution_count": 10,
   "id": "3a75c649",
   "metadata": {
    "id": "3a75c649",
    "outputId": "25c30759-dbd2-490e-eff7-37931c8fe271"
   },
   "outputs": [
    {
     "data": {
      "text/plain": [
       "658.92"
      ]
     },
     "execution_count": 10,
     "metadata": {},
     "output_type": "execute_result"
    }
   ],
   "source": [
    "# A lib conversora tem delay de quase uma semana\n",
    "from datetime import date\n",
    "c.convert(100, 'EUR', 'BRL', date=date(2021, 10, 21))\n"
   ]
  },
  {
   "cell_type": "code",
   "execution_count": 11,
   "id": "5b9bd623",
   "metadata": {
    "id": "5b9bd623",
    "outputId": "5db1bf6d-65db-46b5-90e5-550708616a17"
   },
   "outputs": [
    {
     "name": "stdout",
     "output_type": "stream",
     "text": [
      "Moda: 7.0\n"
     ]
    }
   ],
   "source": [
    "# Exercicio estatística descritiva lista 1\n",
    "notas = [7.0, 7.0, 5.5, 7.0, 7.0, 8.0, 6.0, 1.5, 8.0, 4.5, 7.5, 8.0, \n",
    "         2.0, 2.0, 8.0, 0.0, 0.0, 7.0, 6.5, 5.0, 6.5, 6.0, 5.0, 6.5, \n",
    "         2.0, 2.0, 6.0, 6.0, 8.0, 0.0, 3.5, 2.0, 6.0, 8.0, 3.0, 7.0, \n",
    "         3.0, 0.0, 9.0, 4.5, 8.5, 2.0, 3.0]\n",
    "\n",
    "\n",
    "print(f\"Moda: {max(notas, key=notas.count)}\")"
   ]
  },
  {
   "cell_type": "code",
   "execution_count": 12,
   "id": "e02aaed3",
   "metadata": {
    "id": "e02aaed3",
    "outputId": "0d95373d-a515-429e-f19a-8bb751a1135e"
   },
   "outputs": [
    {
     "name": "stdout",
     "output_type": "stream",
     "text": [
      "Média:        5.0000\n",
      "Mediana:      6.0000\n",
      "Moda:         7.0000\n",
      "Variância:    7.2738\n",
      "Desvio Padrão:2.6970\n"
     ]
    }
   ],
   "source": [
    "import statistics\n",
    "\n",
    "mean = statistics.mean(notas)\n",
    "median = statistics.median(notas)\n",
    "mode = statistics.mode(notas)\n",
    "var = statistics.variance(notas)\n",
    "std = statistics.stdev(notas)\n",
    "\n",
    "print(f\"Média:{mean:14.4f}\\nMediana:{median:12.4f}\\nModa:{mode:15.4f}\\nVariância:{var:10.4f}\\nDesvio Padrão:{std:5.4f}\")"
   ]
  },
  {
   "cell_type": "code",
   "execution_count": 13,
   "id": "49f75518",
   "metadata": {
    "id": "49f75518",
    "outputId": "9315cdb9-677b-4ddc-d118-4f51464b73ba"
   },
   "outputs": [
    {
     "data": {
      "text/html": [
       "<div>\n",
       "<style scoped>\n",
       "    .dataframe tbody tr th:only-of-type {\n",
       "        vertical-align: middle;\n",
       "    }\n",
       "\n",
       "    .dataframe tbody tr th {\n",
       "        vertical-align: top;\n",
       "    }\n",
       "\n",
       "    .dataframe thead th {\n",
       "        text-align: right;\n",
       "    }\n",
       "</style>\n",
       "<table border=\"1\" class=\"dataframe\">\n",
       "  <thead>\n",
       "    <tr style=\"text-align: right;\">\n",
       "      <th></th>\n",
       "      <th>Notas</th>\n",
       "    </tr>\n",
       "  </thead>\n",
       "  <tbody>\n",
       "    <tr>\n",
       "      <th>count</th>\n",
       "      <td>43.000</td>\n",
       "    </tr>\n",
       "    <tr>\n",
       "      <th>mean</th>\n",
       "      <td>5.000</td>\n",
       "    </tr>\n",
       "    <tr>\n",
       "      <th>std</th>\n",
       "      <td>2.697</td>\n",
       "    </tr>\n",
       "    <tr>\n",
       "      <th>min</th>\n",
       "      <td>0.000</td>\n",
       "    </tr>\n",
       "    <tr>\n",
       "      <th>25%</th>\n",
       "      <td>2.500</td>\n",
       "    </tr>\n",
       "    <tr>\n",
       "      <th>50%</th>\n",
       "      <td>6.000</td>\n",
       "    </tr>\n",
       "    <tr>\n",
       "      <th>75%</th>\n",
       "      <td>7.000</td>\n",
       "    </tr>\n",
       "    <tr>\n",
       "      <th>max</th>\n",
       "      <td>9.000</td>\n",
       "    </tr>\n",
       "  </tbody>\n",
       "</table>\n",
       "</div>"
      ],
      "text/plain": [
       "        Notas\n",
       "count  43.000\n",
       "mean    5.000\n",
       "std     2.697\n",
       "min     0.000\n",
       "25%     2.500\n",
       "50%     6.000\n",
       "75%     7.000\n",
       "max     9.000"
      ]
     },
     "execution_count": 13,
     "metadata": {},
     "output_type": "execute_result"
    }
   ],
   "source": [
    "import pandas as pd\n",
    "#transformar as nottas em data frame e calcular estatísticas descritivas a partir disso\n",
    "notas_pd = pd.DataFrame(notas, columns=['Notas'])\n",
    "notas_pd\n",
    "notas_pd.describe()"
   ]
  },
  {
   "cell_type": "code",
   "execution_count": 14,
   "id": "7dd12f91",
   "metadata": {
    "id": "7dd12f91",
    "outputId": "e9d3b2d9-f239-4033-9efa-220eb0e89b06"
   },
   "outputs": [
    {
     "data": {
      "text/plain": [
       "datetime.datetime(2022, 10, 30, 16, 59, 41, 201739)"
      ]
     },
     "execution_count": 14,
     "metadata": {},
     "output_type": "execute_result"
    }
   ],
   "source": [
    "# datetime - como ver a data atual com base na data do computador\n",
    "from datetime import datetime\n",
    "today = datetime.now()\n",
    "today"
   ]
  },
  {
   "cell_type": "code",
   "execution_count": 15,
   "id": "4f56ed9f",
   "metadata": {
    "id": "4f56ed9f",
    "outputId": "c7b70e20-0f3e-49fb-9ddf-ca6e8ca276f5"
   },
   "outputs": [
    {
     "data": {
      "text/plain": [
       "'30/10/2022 16:59:58'"
      ]
     },
     "execution_count": 15,
     "metadata": {},
     "output_type": "execute_result"
    }
   ],
   "source": [
    "#formatando data\n",
    "datetime.now().strftime('%d/%m/%Y %H:%M:%S')"
   ]
  },
  {
   "cell_type": "code",
   "execution_count": 16,
   "id": "1e808696",
   "metadata": {
    "id": "1e808696",
    "outputId": "b0098522-8526-4739-ea34-19b194351128"
   },
   "outputs": [
    {
     "data": {
      "text/plain": [
       "'2022-10-30'"
      ]
     },
     "execution_count": 16,
     "metadata": {},
     "output_type": "execute_result"
    }
   ],
   "source": [
    "date = datetime.now().strftime('%Y-%m-%d')\n",
    "date"
   ]
  },
  {
   "cell_type": "code",
   "execution_count": 18,
   "id": "ce30c162",
   "metadata": {
    "id": "ce30c162",
    "outputId": "97804dc6-120d-4a09-9120-dfba5cb5ba37"
   },
   "outputs": [
    {
     "data": {
      "text/plain": [
       "7.0"
      ]
     },
     "execution_count": 18,
     "metadata": {},
     "output_type": "execute_result"
    }
   ],
   "source": [
    "import random\n",
    "#número aleatório na lista notas\n",
    "random.choice(notas)"
   ]
  },
  {
   "cell_type": "code",
   "execution_count": 19,
   "id": "e265a2d7",
   "metadata": {
    "id": "e265a2d7",
    "outputId": "48cbfb5b-f405-4570-c8d4-795d1904c196",
    "scrolled": true
   },
   "outputs": [
    {
     "data": {
      "text/plain": [
       "0.4031414288923173"
      ]
     },
     "execution_count": 19,
     "metadata": {},
     "output_type": "execute_result"
    }
   ],
   "source": [
    "#números aleatórios de 0 a 1\n",
    "random.random()"
   ]
  },
  {
   "cell_type": "code",
   "execution_count": 20,
   "id": "1a538f71",
   "metadata": {
    "id": "1a538f71",
    "outputId": "6763e816-4487-4d08-f7bc-4c3f02403c0d"
   },
   "outputs": [
    {
     "data": {
      "text/plain": [
       "581"
      ]
     },
     "execution_count": 20,
     "metadata": {},
     "output_type": "execute_result"
    }
   ],
   "source": [
    "from random import randint\n",
    "#número aleatório entre 1 e 999\n",
    "randint(1, 999)"
   ]
  },
  {
   "cell_type": "markdown",
   "id": "bb2a902b",
   "metadata": {
    "id": "bb2a902b"
   },
   "source": [
    "#### Primeira Lib"
   ]
  },
  {
   "cell_type": "code",
   "execution_count": 21,
   "id": "cf6503cc",
   "metadata": {
    "id": "cf6503cc",
    "outputId": "647c41ce-d482-4a7a-fca9-634ce3b2f2ea"
   },
   "outputs": [
    {
     "ename": "NameError",
     "evalue": "name 'soma' is not defined",
     "output_type": "error",
     "traceback": [
      "\u001b[1;31m---------------------------------------------------------------------------\u001b[0m",
      "\u001b[1;31mNameError\u001b[0m                                 Traceback (most recent call last)",
      "Input \u001b[1;32mIn [21]\u001b[0m, in \u001b[0;36m<cell line: 2>\u001b[1;34m()\u001b[0m\n\u001b[0;32m      1\u001b[0m \u001b[38;5;66;03m# Soma\u001b[39;00m\n\u001b[1;32m----> 2\u001b[0m \u001b[43msoma\u001b[49m(\u001b[38;5;241m3\u001b[39m,\u001b[38;5;241m2\u001b[39m)\n",
      "\u001b[1;31mNameError\u001b[0m: name 'soma' is not defined"
     ]
    }
   ],
   "source": [
    "# Soma\n",
    "soma(3,2)"
   ]
  },
  {
   "cell_type": "code",
   "execution_count": 22,
   "id": "41002275",
   "metadata": {
    "id": "41002275"
   },
   "outputs": [],
   "source": [
    "from biblioteca import soma"
   ]
  },
  {
   "cell_type": "code",
   "execution_count": 23,
   "id": "6918e3a5",
   "metadata": {
    "id": "6918e3a5",
    "outputId": "bdbed665-06e5-4339-c06f-8925f119b62d"
   },
   "outputs": [
    {
     "data": {
      "text/plain": [
       "5"
      ]
     },
     "execution_count": 23,
     "metadata": {},
     "output_type": "execute_result"
    }
   ],
   "source": [
    "soma(3,2)"
   ]
  },
  {
   "cell_type": "markdown",
   "id": "ff4eac71",
   "metadata": {
    "id": "ff4eac71"
   },
   "source": [
    "- ### 1.3 Linguagem de alto e baixo nível\n",
    "\n",
    "\n",
    "- Baixo Nível: Mais perto da linguagem de máquina (mais antiga, mais difíceis), mais rápida\n",
    "- Alto Nível: Mais perto da linguagem humana, mais fácil aprender\n",
    "- E o python? Low Code\n",
    "- Qual a Melhor? Vantagens e Desvantagens\n",
    "    - Numpy: escrito em C"
   ]
  },
  {
   "cell_type": "markdown",
   "id": "225b72d6",
   "metadata": {
    "id": "225b72d6"
   },
   "source": [
    "# <font color=green|black> Parte II – Por que Numpy? </font> \n",
    "\n",
    "### 2.1 Objetivo da biblioteca\n",
    "            \n",
    "    2.1.1 Realizar operações em arrays\n",
    "    2.1.1.1 Array é uma estrutura multidimensional que possibilita armazenar dados na memória do computador (é como se fosse um vetor no R)\n",
    "    2.1.1.2 Cada item localizado nessa estrutura pode ser encontrado por meio de um esquema de indexação\n",
    "    2.1.1.3 Estrutura homogênea de dados: sempre o mesmo formato\n",
    "    2.1.2 Ser o centro do ecossistema científico no Python."
   ]
  },
  {
   "cell_type": "markdown",
   "id": "606b1af3",
   "metadata": {
    "id": "606b1af3"
   },
   "source": [
    "<img src='https://i.stack.imgur.com/NWTQH.png' height=\"100%\" width=\"500\" style=\"margin-left: auto;margin-right: auto\">"
   ]
  },
  {
   "cell_type": "markdown",
   "id": "312ff06c",
   "metadata": {
    "id": "312ff06c"
   },
   "source": [
    "- ### 2.2 Vantagens\n",
    "        \n",
    "        2.2.1 Ocupar menos memória\n",
    "        2.2.2 Mais velocidade\n",
    "        2.2.3 Facilicitar execução de cálculos numéricos\n",
    "\n",
    "- ### 2.3 Utilidade\n",
    "        \n",
    "        2.3.1 Machine Learning \n",
    "        2.3.2 Pandas, SciPy, Matplotlib etc.\n",
    "        2.3.3 Processamento de Imagem e Computação Gráfica\n",
    "        \n",
    "- ### 2.4 Curiosidades\n",
    "        \n",
    "        2.4.1 A primeira imagem de buraco negro foi obtida com Numpy\n",
    "              Utilizou-se telescópio cujo tamanho computacional é igual ao da Terra\n",
    "        2.4.2 As ondas gravitacionais foram encontradas utilizando os cálculos Numpy"
   ]
  },
  {
   "cell_type": "markdown",
   "id": "df045a86",
   "metadata": {
    "id": "df045a86"
   },
   "source": [
    "<img src='https://img.ifunny.co/images/9de9a8180790b5f18412d0ff8ba9b11ee9e05cc9112132970641b35beb149479_1.jpg' height=\"100%\" width=\"500\" style=\"margin-left: auto;margin-right: auto\">"
   ]
  },
  {
   "cell_type": "markdown",
   "id": "89284e59",
   "metadata": {
    "id": "89284e59"
   },
   "source": [
    "# <font color=green|black> Parte III – Aplicações </font> \n",
    "\n",
    "- ### 3.1 Primeiros passos"
   ]
  },
  {
   "cell_type": "code",
   "execution_count": 24,
   "id": "b3b009c9",
   "metadata": {
    "id": "b3b009c9"
   },
   "outputs": [
    {
     "name": "stdout",
     "output_type": "stream",
     "text": [
      "Requirement already satisfied: numpy in c:\\users\\joel\\anaconda3\\lib\\site-packages (1.21.5)\n"
     ]
    }
   ],
   "source": [
    "# 3.1.1 Installing NumPy \n",
    "\n",
    "#pip install numpy #ou\n",
    "!pip install numpy"
   ]
  },
  {
   "cell_type": "code",
   "execution_count": 2,
   "id": "f1663407",
   "metadata": {
    "id": "f1663407"
   },
   "outputs": [],
   "source": [
    "# 3.1.2 Import NumPy\n",
    "\n",
    "import numpy as np"
   ]
  },
  {
   "cell_type": "code",
   "execution_count": 26,
   "id": "d095f250",
   "metadata": {
    "colab": {
     "base_uri": "https://localhost:8080/"
    },
    "executionInfo": {
     "elapsed": 61,
     "status": "ok",
     "timestamp": 1666052750688,
     "user": {
      "displayName": "Ana Cristina dos Santos",
      "userId": "01227181308690131672"
     },
     "user_tz": 180
    },
    "id": "d095f250",
    "outputId": "9a4cfc18-48c2-45a8-edd2-721628b19431"
   },
   "outputs": [
    {
     "data": {
      "text/plain": [
       "array(['FEA', 'FAU', 'IME', 'POLI', 'ECA', 'FFLCH'], dtype='<U5')"
      ]
     },
     "execution_count": 26,
     "metadata": {},
     "output_type": "execute_result"
    }
   ],
   "source": [
    "# 3.1.3 Criar 1D array (string)\n",
    "\n",
    "arr_str = np.array(['FEA', 'FAU', 'IME', 'POLI', 'ECA', 'FFLCH'])\n",
    "arr_str\n"
   ]
  },
  {
   "cell_type": "code",
   "execution_count": 27,
   "id": "9116f43e",
   "metadata": {
    "colab": {
     "base_uri": "https://localhost:8080/"
    },
    "executionInfo": {
     "elapsed": 690,
     "status": "ok",
     "timestamp": 1666052756315,
     "user": {
      "displayName": "Ana Cristina dos Santos",
      "userId": "01227181308690131672"
     },
     "user_tz": 180
    },
    "id": "9116f43e",
    "outputId": "c2d74969-8643-4502-e0d5-d76226032d14"
   },
   "outputs": [
    {
     "data": {
      "text/plain": [
       "array([ 3.000e-01,  1.390e+01,  2.960e+01, -1.092e+02,  9.840e+01,\n",
       "        8.700e-03])"
      ]
     },
     "execution_count": 27,
     "metadata": {},
     "output_type": "execute_result"
    }
   ],
   "source": [
    "# 3.1.4 Criar 1D array (float)\n",
    "\n",
    "arr_float = np.array([0.3, 13.9, 29.6, -109.2, 98.4, 0.0087])\n",
    "arr_float\n"
   ]
  },
  {
   "cell_type": "code",
   "execution_count": 28,
   "id": "8b4f7b82",
   "metadata": {
    "colab": {
     "base_uri": "https://localhost:8080/"
    },
    "executionInfo": {
     "elapsed": 535,
     "status": "ok",
     "timestamp": 1666052766834,
     "user": {
      "displayName": "Ana Cristina dos Santos",
      "userId": "01227181308690131672"
     },
     "user_tz": 180
    },
    "id": "8b4f7b82",
    "outputId": "119ea5d9-48a4-4098-9779-71e7c6ad356c"
   },
   "outputs": [
    {
     "data": {
      "text/plain": [
       "array([ 0, 10, 20, 30, 40, 50])"
      ]
     },
     "execution_count": 28,
     "metadata": {},
     "output_type": "execute_result"
    }
   ],
   "source": [
    "# 3.1.5 Criar 1D array (integer)\n",
    "\n",
    "arr_int = np.array([0, 10, 20, 30, 40, 50])\n",
    "arr_int\n"
   ]
  },
  {
   "cell_type": "code",
   "execution_count": 29,
   "id": "854384a5",
   "metadata": {
    "colab": {
     "base_uri": "https://localhost:8080/"
    },
    "executionInfo": {
     "elapsed": 398,
     "status": "ok",
     "timestamp": 1666052769885,
     "user": {
      "displayName": "Ana Cristina dos Santos",
      "userId": "01227181308690131672"
     },
     "user_tz": 180
    },
    "id": "854384a5",
    "outputId": "e64d2775-5aec-425c-cfe5-35ca71bea6aa"
   },
   "outputs": [
    {
     "data": {
      "text/plain": [
       "array([False,  True,  True, False,  True,  True])"
      ]
     },
     "execution_count": 29,
     "metadata": {},
     "output_type": "execute_result"
    }
   ],
   "source": [
    "# 3.1.6 Criar 1D array (boolean)\n",
    "\n",
    "arr_bool = np.array([False, True, True, False, True, True])\n",
    "arr_bool\n"
   ]
  },
  {
   "cell_type": "code",
   "execution_count": 30,
   "id": "tsGt8rQXeag2",
   "metadata": {
    "colab": {
     "base_uri": "https://localhost:8080/"
    },
    "executionInfo": {
     "elapsed": 15,
     "status": "ok",
     "timestamp": 1666052822897,
     "user": {
      "displayName": "Ana Cristina dos Santos",
      "userId": "01227181308690131672"
     },
     "user_tz": 180
    },
    "id": "tsGt8rQXeag2",
    "outputId": "488a9ac9-fda9-42bf-a753-75507e9f7267"
   },
   "outputs": [
    {
     "name": "stdout",
     "output_type": "stream",
     "text": [
      "<class 'numpy.ndarray'>\n",
      "<class 'numpy.ndarray'>\n",
      "<class 'numpy.ndarray'>\n",
      "<class 'numpy.ndarray'>\n"
     ]
    }
   ],
   "source": [
    "# Obs.: todos esses arrays são da classe Numpy\n",
    "\n",
    "print(type(arr_str))\n",
    "print(type(arr_float))\n",
    "print(type(arr_int))\n",
    "print(type(arr_bool))"
   ]
  },
  {
   "cell_type": "code",
   "execution_count": 31,
   "id": "6bab81c7",
   "metadata": {
    "colab": {
     "base_uri": "https://localhost:8080/"
    },
    "executionInfo": {
     "elapsed": 312,
     "status": "ok",
     "timestamp": 1665937095907,
     "user": {
      "displayName": "Ana Cristina dos Santos",
      "userId": "01227181308690131672"
     },
     "user_tz": 180
    },
    "id": "6bab81c7",
    "outputId": "1f377b29-fdce-4965-f709-3dc2132d7501"
   },
   "outputs": [
    {
     "data": {
      "text/plain": [
       "array(['FEA', '0.3', '0', 'False'], dtype='<U32')"
      ]
     },
     "execution_count": 31,
     "metadata": {},
     "output_type": "execute_result"
    }
   ],
   "source": [
    "# 3.1.7 Testar array com estrutura heterogênea\n",
    "# Perceber no output que todos os elementos são transformados em string\n",
    "\n",
    "arr_teste = np.array(['FEA', 0.3, 0, False])\n",
    "arr_teste"
   ]
  },
  {
   "cell_type": "code",
   "execution_count": 32,
   "id": "3EFuhEfo6qh9",
   "metadata": {
    "colab": {
     "base_uri": "https://localhost:8080/",
     "height": 200
    },
    "executionInfo": {
     "elapsed": 11,
     "status": "error",
     "timestamp": 1665937098295,
     "user": {
      "displayName": "Ana Cristina dos Santos",
      "userId": "01227181308690131672"
     },
     "user_tz": 180
    },
    "id": "3EFuhEfo6qh9",
    "outputId": "28edddc7-bbe8-4eae-8e78-1a5505fef83f"
   },
   "outputs": [
    {
     "ename": "UFuncTypeError",
     "evalue": "ufunc 'add' did not contain a loop with signature matching types (dtype('<U32'), dtype('int32')) -> None",
     "output_type": "error",
     "traceback": [
      "\u001b[1;31m---------------------------------------------------------------------------\u001b[0m",
      "\u001b[1;31mUFuncTypeError\u001b[0m                            Traceback (most recent call last)",
      "Input \u001b[1;32mIn [32]\u001b[0m, in \u001b[0;36m<cell line: 3>\u001b[1;34m()\u001b[0m\n\u001b[0;32m      1\u001b[0m \u001b[38;5;66;03m# 3.1.8 Testar operação matemática com array heterogênea\u001b[39;00m\n\u001b[1;32m----> 3\u001b[0m arr_teste \u001b[38;5;241m+\u001b[39m\u001b[38;5;241m=\u001b[39m \u001b[38;5;241m1\u001b[39m\n",
      "\u001b[1;31mUFuncTypeError\u001b[0m: ufunc 'add' did not contain a loop with signature matching types (dtype('<U32'), dtype('int32')) -> None"
     ]
    }
   ],
   "source": [
    "# 3.1.8 Testar operação matemática com array heterogênea\n",
    "\n",
    "arr_teste += 1"
   ]
  },
  {
   "cell_type": "code",
   "execution_count": 33,
   "id": "9d904b7a",
   "metadata": {
    "id": "9d904b7a",
    "outputId": "d0643c08-ec48-4d91-83d7-caad43932492"
   },
   "outputs": [
    {
     "data": {
      "text/plain": [
       "array([ 1, 11, 21, 31, 41, 51])"
      ]
     },
     "execution_count": 33,
     "metadata": {},
     "output_type": "execute_result"
    }
   ],
   "source": [
    "arr_int +=1\n",
    "arr_int"
   ]
  },
  {
   "cell_type": "markdown",
   "id": "b3e73f50",
   "metadata": {
    "id": "b3e73f50"
   },
   "source": [
    "- ### 3.2 Array vs Lista\n",
    "        \n",
    "        3.2.1 Similaridades: armazenam dados, é possível alterá-los, indexa-los e dividi-los\n",
    "        3.2.2 Diferenças: lista armazena dados heterogêneos e é built-in (já vem no Python) enquanto array é homogêneo e instalado\n",
    "        3.2.2 Por que optar por array?\n",
    "            3.2.2.1 Maior flexibilidade nos cálculos matemáticos\n",
    "            3.2.2.2 Mais velocidade\n",
    "            3.2.2.3 Menor armazenamento\n",
    "        3.2.3 Comparação"
   ]
  },
  {
   "cell_type": "markdown",
   "id": "37d0554b",
   "metadata": {
    "id": "37d0554b"
   },
   "source": [
    "<img src='https://static.mundoeducacao.uol.com.br/mundoeducacao/2021/12/area-do-triangulo.jpg' height=\"100%\" width=\"300\" style=\"margin-left: auto;margin-right: auto\">"
   ]
  },
  {
   "cell_type": "code",
   "execution_count": null,
   "id": "1e1ff7b6",
   "metadata": {
    "id": "1e1ff7b6"
   },
   "outputs": [],
   "source": [
    "# Numpy arrays e vetores em R"
   ]
  },
  {
   "cell_type": "code",
   "execution_count": 34,
   "id": "0a4e48fb",
   "metadata": {
    "id": "0a4e48fb"
   },
   "outputs": [],
   "source": [
    "# Duas listas disponíveis para calcular as áreas de triângulos\n",
    "\n",
    "b = [2.0, 5.0, 9.0, 3.0, 12.0]\n",
    "h = [0.5, 9.0, 3.2, 4.8, 7.7]"
   ]
  },
  {
   "cell_type": "code",
   "execution_count": 35,
   "id": "4d741e2e",
   "metadata": {
    "colab": {
     "base_uri": "https://localhost:8080/",
     "height": 205
    },
    "executionInfo": {
     "elapsed": 418,
     "status": "error",
     "timestamp": 1666123521497,
     "user": {
      "displayName": "Ana Cristina dos Santos",
      "userId": "01227181308690131672"
     },
     "user_tz": 180
    },
    "id": "4d741e2e",
    "outputId": "8248b914-91ae-4b03-dda8-6a7fc998581b"
   },
   "outputs": [
    {
     "ename": "TypeError",
     "evalue": "can't multiply sequence by non-int of type 'list'",
     "output_type": "error",
     "traceback": [
      "\u001b[1;31m---------------------------------------------------------------------------\u001b[0m",
      "\u001b[1;31mTypeError\u001b[0m                                 Traceback (most recent call last)",
      "Input \u001b[1;32mIn [35]\u001b[0m, in \u001b[0;36m<cell line: 3>\u001b[1;34m()\u001b[0m\n\u001b[0;32m      1\u001b[0m \u001b[38;5;66;03m# Calcular a área do triângulo utilizando listas\u001b[39;00m\n\u001b[1;32m----> 3\u001b[0m (\u001b[43mb\u001b[49m\u001b[43m \u001b[49m\u001b[38;5;241;43m*\u001b[39;49m\u001b[43m \u001b[49m\u001b[43mh\u001b[49m)\u001b[38;5;241m/\u001b[39m\u001b[38;5;241m2\u001b[39m\n",
      "\u001b[1;31mTypeError\u001b[0m: can't multiply sequence by non-int of type 'list'"
     ]
    }
   ],
   "source": [
    "# Calcular as áreas dos triângulos utilizando listas\n",
    "\n",
    "(b * h)/2"
   ]
  },
  {
   "cell_type": "code",
   "execution_count": 36,
   "id": "7319bd38",
   "metadata": {
    "colab": {
     "base_uri": "https://localhost:8080/"
    },
    "executionInfo": {
     "elapsed": 404,
     "status": "ok",
     "timestamp": 1666123534154,
     "user": {
      "displayName": "Ana Cristina dos Santos",
      "userId": "01227181308690131672"
     },
     "user_tz": 180
    },
    "id": "7319bd38",
    "outputId": "b2ae8a72-0825-4f65-907d-531c552519b4"
   },
   "outputs": [
    {
     "data": {
      "text/plain": [
       "[2.0, 5.0, 9.0, 3.0, 12.0, 0.5, 9.0, 3.2, 4.8, 7.7]"
      ]
     },
     "execution_count": 36,
     "metadata": {},
     "output_type": "execute_result"
    }
   ],
   "source": [
    "# Nem cálculos mais simples como apenas somar as duas listas funcionam\n",
    "\n",
    "b + h"
   ]
  },
  {
   "cell_type": "code",
   "execution_count": 37,
   "id": "8eb246b2",
   "metadata": {
    "colab": {
     "base_uri": "https://localhost:8080/",
     "height": 205
    },
    "executionInfo": {
     "elapsed": 457,
     "status": "error",
     "timestamp": 1666123555679,
     "user": {
      "displayName": "Ana Cristina dos Santos",
      "userId": "01227181308690131672"
     },
     "user_tz": 180
    },
    "id": "8eb246b2",
    "outputId": "220aa177-0f20-4bae-dd6a-3a1fb41adbf9"
   },
   "outputs": [
    {
     "ename": "TypeError",
     "evalue": "unsupported operand type(s) for -: 'list' and 'list'",
     "output_type": "error",
     "traceback": [
      "\u001b[1;31m---------------------------------------------------------------------------\u001b[0m",
      "\u001b[1;31mTypeError\u001b[0m                                 Traceback (most recent call last)",
      "Input \u001b[1;32mIn [37]\u001b[0m, in \u001b[0;36m<cell line: 3>\u001b[1;34m()\u001b[0m\n\u001b[0;32m      1\u001b[0m \u001b[38;5;66;03m# Tampouco funciona subtraí-las \u001b[39;00m\n\u001b[1;32m----> 3\u001b[0m \u001b[43mb\u001b[49m\u001b[43m \u001b[49m\u001b[38;5;241;43m-\u001b[39;49m\u001b[43m \u001b[49m\u001b[43mh\u001b[49m\n",
      "\u001b[1;31mTypeError\u001b[0m: unsupported operand type(s) for -: 'list' and 'list'"
     ]
    }
   ],
   "source": [
    "# Tampouco funciona subtraí-las \n",
    "\n",
    "b - h "
   ]
  },
  {
   "cell_type": "code",
   "execution_count": 38,
   "id": "ycmlw-u5m1K8",
   "metadata": {
    "colab": {
     "base_uri": "https://localhost:8080/"
    },
    "executionInfo": {
     "elapsed": 529,
     "status": "ok",
     "timestamp": 1666123915964,
     "user": {
      "displayName": "Ana Cristina dos Santos",
      "userId": "01227181308690131672"
     },
     "user_tz": 180
    },
    "id": "ycmlw-u5m1K8",
    "outputId": "64ce256f-f4a9-4a61-9b65-053a6715f3e8"
   },
   "outputs": [
    {
     "name": "stdout",
     "output_type": "stream",
     "text": [
      "[0.5, 22.5, 14.4, 7.199999999999999, 46.2]\n"
     ]
    }
   ],
   "source": [
    "# 3.2.3.1 Descobrir as áreas dos triângulos utilizando as listas disponíveis\n",
    "\n",
    "indice = 0\n",
    "area = []\n",
    "\n",
    "while indice < 5:\n",
    "  area.append((b[indice] * h[indice])/2)\n",
    "  indice += 1\n",
    "\n",
    "print(area)"
   ]
  },
  {
   "cell_type": "code",
   "execution_count": 39,
   "id": "e3b4b5bd",
   "metadata": {
    "colab": {
     "base_uri": "https://localhost:8080/"
    },
    "executionInfo": {
     "elapsed": 244,
     "status": "ok",
     "timestamp": 1665937699022,
     "user": {
      "displayName": "Ana Cristina dos Santos",
      "userId": "01227181308690131672"
     },
     "user_tz": 180
    },
    "id": "e3b4b5bd",
    "outputId": "66487af0-4cb1-4904-b79c-926f35db825a"
   },
   "outputs": [
    {
     "data": {
      "text/plain": [
       "[0.5, 22.5, 14.4, 7.199999999999999, 46.2]"
      ]
     },
     "execution_count": 39,
     "metadata": {},
     "output_type": "execute_result"
    }
   ],
   "source": [
    "# Dica: utilizar list comprehension e unir com zip\n",
    "\n",
    "[((b*h)/2) for b, h in zip(b, h)]"
   ]
  },
  {
   "cell_type": "code",
   "execution_count": 40,
   "id": "8aT2LJouocpj",
   "metadata": {
    "colab": {
     "base_uri": "https://localhost:8080/"
    },
    "executionInfo": {
     "elapsed": 10,
     "status": "ok",
     "timestamp": 1666124288670,
     "user": {
      "displayName": "Ana Cristina dos Santos",
      "userId": "01227181308690131672"
     },
     "user_tz": 180
    },
    "id": "8aT2LJouocpj",
    "outputId": "ad250d9b-be72-4f9d-c92a-b589faf758a1"
   },
   "outputs": [
    {
     "name": "stdout",
     "output_type": "stream",
     "text": [
      "[ 2.  5.  9.  3. 12.] [0.5 9.  3.2 4.8 7.7]\n"
     ]
    }
   ],
   "source": [
    "# 3.2.3.2 Descobrir as áreas dos triângulos utilizando numpy array\n",
    "\n",
    "# Converter as listas em array\n",
    "b_arr = np.array(b)\n",
    "h_arr = np.array(h)\n",
    "\n",
    "print(b_arr, h_arr)"
   ]
  },
  {
   "cell_type": "code",
   "execution_count": 41,
   "id": "42e6e421",
   "metadata": {
    "colab": {
     "base_uri": "https://localhost:8080/"
    },
    "executionInfo": {
     "elapsed": 455,
     "status": "ok",
     "timestamp": 1666124313805,
     "user": {
      "displayName": "Ana Cristina dos Santos",
      "userId": "01227181308690131672"
     },
     "user_tz": 180
    },
    "id": "42e6e421",
    "outputId": "15bfa6b7-4295-4d35-a812-662eeb2358fb"
   },
   "outputs": [
    {
     "data": {
      "text/plain": [
       "array([ 0.5, 22.5, 14.4,  7.2, 46.2])"
      ]
     },
     "execution_count": 41,
     "metadata": {},
     "output_type": "execute_result"
    }
   ],
   "source": [
    "# Calcular sem a necessidade de loop/list comprehension/zip\n",
    "\n",
    "(b_arr * h_arr)/2"
   ]
  },
  {
   "cell_type": "code",
   "execution_count": 42,
   "id": "-fT9_Y_XoJL4",
   "metadata": {
    "colab": {
     "base_uri": "https://localhost:8080/"
    },
    "executionInfo": {
     "elapsed": 386,
     "status": "ok",
     "timestamp": 1666124335666,
     "user": {
      "displayName": "Ana Cristina dos Santos",
      "userId": "01227181308690131672"
     },
     "user_tz": 180
    },
    "id": "-fT9_Y_XoJL4",
    "outputId": "e6bf4d61-abee-46a8-d485-6f305f4707fc"
   },
   "outputs": [
    {
     "data": {
      "text/plain": [
       "array([ 3.,  6., 10.,  4., 13.])"
      ]
     },
     "execution_count": 42,
     "metadata": {},
     "output_type": "execute_result"
    }
   ],
   "source": [
    "# É possível realizar qualquer operação com numpy array, como soma\n",
    "\n",
    "b_arr + 1"
   ]
  },
  {
   "cell_type": "code",
   "execution_count": 43,
   "id": "_KjWZENZoJT8",
   "metadata": {
    "colab": {
     "base_uri": "https://localhost:8080/"
    },
    "executionInfo": {
     "elapsed": 386,
     "status": "ok",
     "timestamp": 1666124351730,
     "user": {
      "displayName": "Ana Cristina dos Santos",
      "userId": "01227181308690131672"
     },
     "user_tz": 180
    },
    "id": "_KjWZENZoJT8",
    "outputId": "1baa46ee-b421-4a81-a939-344ed2355209"
   },
   "outputs": [
    {
     "data": {
      "text/plain": [
       "array([-1.5,  7. ,  1.2,  2.8,  5.7])"
      ]
     },
     "execution_count": 43,
     "metadata": {},
     "output_type": "execute_result"
    }
   ],
   "source": [
    "# Subtração\n",
    "\n",
    "h_arr - 2"
   ]
  },
  {
   "cell_type": "code",
   "execution_count": 44,
   "id": "4DD-QGAHpVj6",
   "metadata": {
    "colab": {
     "base_uri": "https://localhost:8080/"
    },
    "executionInfo": {
     "elapsed": 399,
     "status": "ok",
     "timestamp": 1666124490467,
     "user": {
      "displayName": "Ana Cristina dos Santos",
      "userId": "01227181308690131672"
     },
     "user_tz": 180
    },
    "id": "4DD-QGAHpVj6",
    "outputId": "73ff46d2-6e8b-44ea-817b-e3585d016d20"
   },
   "outputs": [
    {
     "data": {
      "text/plain": [
       "array([4.        , 0.55555556, 2.8125    , 0.625     , 1.55844156])"
      ]
     },
     "execution_count": 44,
     "metadata": {},
     "output_type": "execute_result"
    }
   ],
   "source": [
    "# Divisão etc.\n",
    "\n",
    "b_arr / h_arr"
   ]
  },
  {
   "cell_type": "markdown",
   "id": "ZujLizJQqhne",
   "metadata": {
    "id": "ZujLizJQqhne"
   },
   "source": [
    "- ### 3.3 Criar Numpy Arrays "
   ]
  },
  {
   "cell_type": "code",
   "execution_count": 45,
   "id": "pH0-QbxusJc1",
   "metadata": {
    "colab": {
     "base_uri": "https://localhost:8080/"
    },
    "executionInfo": {
     "elapsed": 389,
     "status": "ok",
     "timestamp": 1666124528527,
     "user": {
      "displayName": "Ana Cristina dos Santos",
      "userId": "01227181308690131672"
     },
     "user_tz": 180
    },
    "id": "pH0-QbxusJc1",
    "outputId": "2f458d22-da0a-40a1-e08d-fed86a938768"
   },
   "outputs": [
    {
     "data": {
      "text/plain": [
       "array([0., 0., 0., 0., 0.])"
      ]
     },
     "execution_count": 45,
     "metadata": {},
     "output_type": "execute_result"
    }
   ],
   "source": [
    "# 3.3.1 Array preenchido com 0's\n",
    "\n",
    "np.zeros(5)"
   ]
  },
  {
   "cell_type": "code",
   "execution_count": 46,
   "id": "NfIhd8CzsP3t",
   "metadata": {
    "colab": {
     "base_uri": "https://localhost:8080/"
    },
    "executionInfo": {
     "elapsed": 10,
     "status": "ok",
     "timestamp": 1666124537884,
     "user": {
      "displayName": "Ana Cristina dos Santos",
      "userId": "01227181308690131672"
     },
     "user_tz": 180
    },
    "id": "NfIhd8CzsP3t",
    "outputId": "1e0ee2e3-63ff-4bcd-f2b3-e3edb6abc36e"
   },
   "outputs": [
    {
     "data": {
      "text/plain": [
       "array([1., 1., 1., 1., 1., 1., 1., 1., 1., 1.])"
      ]
     },
     "execution_count": 46,
     "metadata": {},
     "output_type": "execute_result"
    }
   ],
   "source": [
    "# 3.3.2 Array preenchido com 1's\n",
    "\n",
    "np.ones(10)"
   ]
  },
  {
   "cell_type": "code",
   "execution_count": 48,
   "id": "N66zSYS2sQH0",
   "metadata": {
    "colab": {
     "base_uri": "https://localhost:8080/"
    },
    "executionInfo": {
     "elapsed": 408,
     "status": "ok",
     "timestamp": 1666124546890,
     "user": {
      "displayName": "Ana Cristina dos Santos",
      "userId": "01227181308690131672"
     },
     "user_tz": 180
    },
    "id": "N66zSYS2sQH0",
    "outputId": "2c6b618e-700f-4eee-d3d7-e445f6e40dc5"
   },
   "outputs": [
    {
     "data": {
      "text/plain": [
       "array([5.4e-323, 1.1e-322, 1.6e-322])"
      ]
     },
     "execution_count": 48,
     "metadata": {},
     "output_type": "execute_result"
    }
   ],
   "source": [
    "# 3.3.3 Array vazio\n",
    "# Cria array aleatório e é mais rápido que 0's e 1's \n",
    "\n",
    "np.empty(3)"
   ]
  },
  {
   "cell_type": "code",
   "execution_count": 49,
   "id": "ixg8ozcisZSG",
   "metadata": {
    "colab": {
     "base_uri": "https://localhost:8080/"
    },
    "executionInfo": {
     "elapsed": 14,
     "status": "ok",
     "timestamp": 1666124640609,
     "user": {
      "displayName": "Ana Cristina dos Santos",
      "userId": "01227181308690131672"
     },
     "user_tz": 180
    },
    "id": "ixg8ozcisZSG",
    "outputId": "d73f4b70-f4ba-4146-ee13-9fa0245ea1d4"
   },
   "outputs": [
    {
     "data": {
      "text/plain": [
       "array([0, 1, 2, 3, 4, 5, 6, 7, 8, 9])"
      ]
     },
     "execution_count": 49,
     "metadata": {},
     "output_type": "execute_result"
    }
   ],
   "source": [
    "# 3.3.4 Array sequencial\n",
    "# Obs.: o último elemento não é considerado, neste caso, o 10\n",
    "\n",
    "np.arange(10)"
   ]
  },
  {
   "cell_type": "code",
   "execution_count": 50,
   "id": "zOfcJYlctcsT",
   "metadata": {
    "colab": {
     "base_uri": "https://localhost:8080/"
    },
    "executionInfo": {
     "elapsed": 392,
     "status": "ok",
     "timestamp": 1666124687246,
     "user": {
      "displayName": "Ana Cristina dos Santos",
      "userId": "01227181308690131672"
     },
     "user_tz": 180
    },
    "id": "zOfcJYlctcsT",
    "outputId": "78c7741f-f07d-462f-def1-4fbeb2804952"
   },
   "outputs": [
    {
     "data": {
      "text/plain": [
       "array([ 0,  5, 10, 15])"
      ]
     },
     "execution_count": 50,
     "metadata": {},
     "output_type": "execute_result"
    }
   ],
   "source": [
    "# 3.3.5 Array sequencial com intervalos uniformemente espaçados\n",
    "\n",
    "np.arange(0, 20, 5)"
   ]
  },
  {
   "cell_type": "code",
   "execution_count": 51,
   "id": "UbNRBnwbtq4X",
   "metadata": {
    "colab": {
     "base_uri": "https://localhost:8080/"
    },
    "executionInfo": {
     "elapsed": 398,
     "status": "ok",
     "timestamp": 1666124717052,
     "user": {
      "displayName": "Ana Cristina dos Santos",
      "userId": "01227181308690131672"
     },
     "user_tz": 180
    },
    "id": "UbNRBnwbtq4X",
    "outputId": "3868253a-8937-4f46-f81f-5a337a6f39fd"
   },
   "outputs": [
    {
     "data": {
      "text/plain": [
       "array([ 0. ,  5.5, 11. , 16.5, 22. ])"
      ]
     },
     "execution_count": 51,
     "metadata": {},
     "output_type": "execute_result"
    }
   ],
   "source": [
    "# 3.3.6 Array sequencial com valores que são espaçados linearmente em um intervalo especificado\n",
    "\n",
    "np.linspace(0, 22, num = 5)"
   ]
  },
  {
   "cell_type": "code",
   "execution_count": 52,
   "id": "i3H2_kdtAljP",
   "metadata": {
    "colab": {
     "base_uri": "https://localhost:8080/"
    },
    "executionInfo": {
     "elapsed": 614,
     "status": "ok",
     "timestamp": 1666124812840,
     "user": {
      "displayName": "Ana Cristina dos Santos",
      "userId": "01227181308690131672"
     },
     "user_tz": 180
    },
    "id": "i3H2_kdtAljP",
    "outputId": "5c3ec350-d1ff-4fc8-f5fb-6255a1f31f69"
   },
   "outputs": [
    {
     "data": {
      "text/plain": [
       "array([[0.80169539, 0.18027397, 0.28582928, 0.81833248],\n",
       "       [0.1761644 , 0.97885826, 0.34359296, 0.07639887]])"
      ]
     },
     "execution_count": 52,
     "metadata": {},
     "output_type": "execute_result"
    }
   ],
   "source": [
    "# 3.3.7 Array com valores aleatórios entre 0 e 1 \n",
    "\n",
    "# 2 linhas e 4 colunas \n",
    "\n",
    "np.random.random((2, 4))"
   ]
  },
  {
   "cell_type": "code",
   "execution_count": 53,
   "id": "TeFXirB8l919",
   "metadata": {
    "colab": {
     "base_uri": "https://localhost:8080/"
    },
    "executionInfo": {
     "elapsed": 375,
     "status": "ok",
     "timestamp": 1666124828888,
     "user": {
      "displayName": "Ana Cristina dos Santos",
      "userId": "01227181308690131672"
     },
     "user_tz": 180
    },
    "id": "TeFXirB8l919",
    "outputId": "566724c6-968f-45ef-9e18-5ade6e03c533"
   },
   "outputs": [
    {
     "data": {
      "text/plain": [
       "array([[1., 0., 0., 0.],\n",
       "       [0., 1., 0., 0.],\n",
       "       [0., 0., 1., 0.],\n",
       "       [0., 0., 0., 1.]])"
      ]
     },
     "execution_count": 53,
     "metadata": {},
     "output_type": "execute_result"
    }
   ],
   "source": [
    "# 3.3.8 Array identidade\n",
    "\n",
    "np.identity(4)"
   ]
  },
  {
   "cell_type": "markdown",
   "id": "Vee4zM8tv1xQ",
   "metadata": {
    "id": "Vee4zM8tv1xQ"
   },
   "source": [
    "- ### 3.4 Manipular Numpy Arrays"
   ]
  },
  {
   "cell_type": "code",
   "execution_count": 54,
   "id": "wXzrNnDKwo-w",
   "metadata": {
    "id": "wXzrNnDKwo-w"
   },
   "outputs": [],
   "source": [
    "# Considere estes dois numpy arrays\n",
    "\n",
    "a = np.array([5, 4, 3, 2, 1])\n",
    "b = np.array([10, 9, 8, 7, 6])"
   ]
  },
  {
   "cell_type": "code",
   "execution_count": 55,
   "id": "pL1WBXaVxVHq",
   "metadata": {
    "colab": {
     "base_uri": "https://localhost:8080/"
    },
    "executionInfo": {
     "elapsed": 408,
     "status": "ok",
     "timestamp": 1666124873770,
     "user": {
      "displayName": "Ana Cristina dos Santos",
      "userId": "01227181308690131672"
     },
     "user_tz": 180
    },
    "id": "pL1WBXaVxVHq",
    "outputId": "be70ceea-0cf3-48bb-fa86-aa1e296afe30"
   },
   "outputs": [
    {
     "data": {
      "text/plain": [
       "array([ 5,  4,  3,  2,  1, 10,  9,  8,  7,  6])"
      ]
     },
     "execution_count": 55,
     "metadata": {},
     "output_type": "execute_result"
    }
   ],
   "source": [
    "# 3.4.1 Unir os dois arrays\n",
    "\n",
    "c = np.concatenate((a, b))\n",
    "c"
   ]
  },
  {
   "cell_type": "code",
   "execution_count": 56,
   "id": "qfgZxjK3xlWR",
   "metadata": {
    "colab": {
     "base_uri": "https://localhost:8080/"
    },
    "executionInfo": {
     "elapsed": 401,
     "status": "ok",
     "timestamp": 1666124909843,
     "user": {
      "displayName": "Ana Cristina dos Santos",
      "userId": "01227181308690131672"
     },
     "user_tz": 180
    },
    "id": "qfgZxjK3xlWR",
    "outputId": "c295be07-90cc-4ec8-f6b4-0be30df4a48f"
   },
   "outputs": [
    {
     "data": {
      "text/plain": [
       "array([ 1,  2,  3,  4,  5,  6,  7,  8,  9, 10])"
      ]
     },
     "execution_count": 56,
     "metadata": {},
     "output_type": "execute_result"
    }
   ],
   "source": [
    "# 3.4.2 Colocar em ordem crescente\n",
    "\n",
    "c_crescente = np.sort(c)\n",
    "c_crescente"
   ]
  },
  {
   "cell_type": "code",
   "execution_count": 57,
   "id": "M8llWJF75IP2",
   "metadata": {
    "colab": {
     "base_uri": "https://localhost:8080/"
    },
    "executionInfo": {
     "elapsed": 396,
     "status": "ok",
     "timestamp": 1666124957757,
     "user": {
      "displayName": "Ana Cristina dos Santos",
      "userId": "01227181308690131672"
     },
     "user_tz": 180
    },
    "id": "M8llWJF75IP2",
    "outputId": "645afd9e-683d-4f4e-da6f-50a025502b96"
   },
   "outputs": [
    {
     "data": {
      "text/plain": [
       "array([ 2,  4,  6,  8, 10])"
      ]
     },
     "execution_count": 57,
     "metadata": {},
     "output_type": "execute_result"
    }
   ],
   "source": [
    "# 3.4.3 Filtrar os elementos divisíveis por 2\n",
    "\n",
    "c_crescente[c_crescente % 2 == 0]"
   ]
  },
  {
   "cell_type": "code",
   "execution_count": 58,
   "id": "GeJ1gT9l5iyf",
   "metadata": {
    "colab": {
     "base_uri": "https://localhost:8080/"
    },
    "executionInfo": {
     "elapsed": 487,
     "status": "ok",
     "timestamp": 1666124991459,
     "user": {
      "displayName": "Ana Cristina dos Santos",
      "userId": "01227181308690131672"
     },
     "user_tz": 180
    },
    "id": "GeJ1gT9l5iyf",
    "outputId": "88e5ba09-47e1-4509-bb6c-ac4036d4fe40"
   },
   "outputs": [
    {
     "data": {
      "text/plain": [
       "array([10])"
      ]
     },
     "execution_count": 58,
     "metadata": {},
     "output_type": "execute_result"
    }
   ],
   "source": [
    "# 3.4.4 Filtrar os elementos divisíveis por 2 e por 5\n",
    "\n",
    "c_crescente[(c_crescente % 2 == 0) & (c_crescente % 5 == 0)]"
   ]
  },
  {
   "cell_type": "code",
   "execution_count": 59,
   "id": "c4WY5bAt6dse",
   "metadata": {
    "colab": {
     "base_uri": "https://localhost:8080/"
    },
    "executionInfo": {
     "elapsed": 398,
     "status": "ok",
     "timestamp": 1666125068676,
     "user": {
      "displayName": "Ana Cristina dos Santos",
      "userId": "01227181308690131672"
     },
     "user_tz": 180
    },
    "id": "c4WY5bAt6dse",
    "outputId": "3e41e907-eedc-4320-963f-1e3ea5dc8882"
   },
   "outputs": [
    {
     "data": {
      "text/plain": [
       "array([0, 0, 3, 0, 0, 6, 0, 0, 9, 0])"
      ]
     },
     "execution_count": 59,
     "metadata": {},
     "output_type": "execute_result"
    }
   ],
   "source": [
    "# 3.4.5 Substituir os elementos que não são divisíveis por 3 pelo número 0\n",
    "\n",
    "np.where(c_crescente % 3 == 0, c_crescente, 0)"
   ]
  },
  {
   "cell_type": "markdown",
   "id": "5HWSc5r1y_9j",
   "metadata": {
    "id": "5HWSc5r1y_9j"
   },
   "source": [
    "- ### 3.5 Operações com Numpy Arrays"
   ]
  },
  {
   "cell_type": "code",
   "execution_count": 60,
   "id": "6367556b",
   "metadata": {
    "id": "6367556b"
   },
   "outputs": [],
   "source": [
    "import time # medir eficiência"
   ]
  },
  {
   "cell_type": "code",
   "execution_count": null,
   "id": "k8PRVpa3x8M5",
   "metadata": {
    "id": "k8PRVpa3x8M5",
    "outputId": "d1d8d958-450a-43e9-f8ec-9f2df7c3c752"
   },
   "outputs": [
    {
     "name": "stdout",
     "output_type": "stream",
     "text": [
      "Result calculated in 0.0 minutes and 17.091297149658203 seconds\n"
     ]
    }
   ],
   "source": [
    "# 3.5.1 Criar um array aleatória com 1 bilhão de elementos entre R$ 0 e R$ 1.000\n",
    "# Esse array representa preço de fechamento de um portfólio de ativos da FEA.Dev\n",
    "start_time = time.time()\n",
    "\n",
    "ativos_dev = np.random.randint(0,1001, size = 1_000_000_000)\n",
    "\n",
    "end_time = time.time()\n",
    "print(f\"Result calculated in {(end_time - start_time)//60} minutes and {(end_time - start_time)%60} seconds\")\n",
    "# Result calculated in 0.0 minutes and 6.3211987018585205 seconds"
   ]
  },
  {
   "cell_type": "code",
   "execution_count": null,
   "id": "f462abc4",
   "metadata": {
    "id": "f462abc4"
   },
   "outputs": [],
   "source": [
    "import random # não necessário caso já tenha importado antes\n",
    "import time\n",
    "start_time = time.time()\n",
    "\n",
    "\n",
    "lista = []\n",
    "for i in range(1_000_000_000):\n",
    "    lista.append(random.randint(0,1001))\n",
    "\n",
    "end_time = time.time()\n",
    "print(f\"Result calculated in {(end_time - start_time)//60} minutes and {(end_time - start_time)%60} seconds\")"
   ]
  },
  {
   "cell_type": "code",
   "execution_count": null,
   "id": "4cb86220",
   "metadata": {
    "id": "4cb86220"
   },
   "outputs": [],
   "source": [
    "len(lista)"
   ]
  },
  {
   "cell_type": "code",
   "execution_count": null,
   "id": "5VN92h7q0EB_",
   "metadata": {
    "colab": {
     "base_uri": "https://localhost:8080/"
    },
    "executionInfo": {
     "elapsed": 375,
     "status": "ok",
     "timestamp": 1666125367363,
     "user": {
      "displayName": "Ana Cristina dos Santos",
      "userId": "01227181308690131672"
     },
     "user_tz": 180
    },
    "id": "5VN92h7q0EB_",
    "outputId": "af83e1c1-84d9-4c6e-d9bc-2269f89d0245"
   },
   "outputs": [
    {
     "data": {
      "text/plain": [
       "1000000000"
      ]
     },
     "execution_count": 124,
     "metadata": {},
     "output_type": "execute_result"
    }
   ],
   "source": [
    "# Verificar se realmente há 1 bilhão de elementos no array criado (len)\n",
    "\n",
    "len(ativos_dev)"
   ]
  },
  {
   "cell_type": "code",
   "execution_count": null,
   "id": "EIaqibOG0jLQ",
   "metadata": {
    "colab": {
     "base_uri": "https://localhost:8080/"
    },
    "executionInfo": {
     "elapsed": 485,
     "status": "ok",
     "timestamp": 1666125370792,
     "user": {
      "displayName": "Ana Cristina dos Santos",
      "userId": "01227181308690131672"
     },
     "user_tz": 180
    },
    "id": "EIaqibOG0jLQ",
    "outputId": "ecbaad6e-805b-4996-ecac-2dcc6cb27896"
   },
   "outputs": [
    {
     "data": {
      "text/plain": [
       "(1000000000,)"
      ]
     },
     "execution_count": 126,
     "metadata": {},
     "output_type": "execute_result"
    }
   ],
   "source": [
    "# Verificar se realmente há 1 bilhão de elementos no array criado (shape)\n",
    "\n",
    "ativos_dev.shape"
   ]
  },
  {
   "cell_type": "code",
   "execution_count": null,
   "id": "wDPhS-oc0jPn",
   "metadata": {
    "colab": {
     "base_uri": "https://localhost:8080/"
    },
    "executionInfo": {
     "elapsed": 13,
     "status": "ok",
     "timestamp": 1666125433910,
     "user": {
      "displayName": "Ana Cristina dos Santos",
      "userId": "01227181308690131672"
     },
     "user_tz": 180
    },
    "id": "wDPhS-oc0jPn",
    "outputId": "4f53ca8e-d8c8-468a-c862-2fb4c16ff373"
   },
   "outputs": [
    {
     "data": {
      "text/plain": [
       "array([770, 186, 529, 855, 952,  34,  55, 776, 100, 461, 741, 518, 750,\n",
       "       539, 231, 125, 301, 603, 159, 279, 633, 670, 258, 567, 761, 313,\n",
       "        54, 241, 998, 570, 962, 801, 880, 605, 238, 918, 755, 928, 836,\n",
       "        37, 357, 509,  65, 446, 725, 415, 244,  54, 487,   2,  88, 958,\n",
       "       287, 165, 155, 663,  43, 333, 387, 396, 863, 881,  32, 189,  67,\n",
       "       823, 494,  86, 322, 704, 326, 624,  99, 222, 738, 378, 271, 591,\n",
       "       706, 956, 588,  33, 542, 575, 211, 882, 927, 483, 278, 539, 270,\n",
       "       281, 178, 456, 861, 964, 362, 887, 894,  16])"
      ]
     },
     "execution_count": 127,
     "metadata": {},
     "output_type": "execute_result"
    }
   ],
   "source": [
    "# 3.5.2 Observar os primeiros 100 elementos do array\n",
    "\n",
    "ativos_dev[0:100]"
   ]
  },
  {
   "cell_type": "code",
   "execution_count": null,
   "id": "CEpfAzHh1JnK",
   "metadata": {
    "colab": {
     "base_uri": "https://localhost:8080/"
    },
    "executionInfo": {
     "elapsed": 1211,
     "status": "ok",
     "timestamp": 1666125487835,
     "user": {
      "displayName": "Ana Cristina dos Santos",
      "userId": "01227181308690131672"
     },
     "user_tz": 180
    },
    "id": "CEpfAzHh1JnK",
    "outputId": "f1c7b90e-8800-405e-b795-96ac9bf4ceb5"
   },
   "outputs": [
    {
     "data": {
      "text/plain": [
       "0"
      ]
     },
     "execution_count": 128,
     "metadata": {},
     "output_type": "execute_result"
    }
   ],
   "source": [
    "# 3.5.3 Encontrar o valor mínimo do array\n",
    "\n",
    "ativos_dev.min()"
   ]
  },
  {
   "cell_type": "code",
   "execution_count": null,
   "id": "xqBUiTwO0jSv",
   "metadata": {
    "colab": {
     "base_uri": "https://localhost:8080/"
    },
    "executionInfo": {
     "elapsed": 1155,
     "status": "ok",
     "timestamp": 1666125497737,
     "user": {
      "displayName": "Ana Cristina dos Santos",
      "userId": "01227181308690131672"
     },
     "user_tz": 180
    },
    "id": "xqBUiTwO0jSv",
    "outputId": "d12d7082-81ac-43c1-ae5c-89127462613e"
   },
   "outputs": [
    {
     "data": {
      "text/plain": [
       "1000"
      ]
     },
     "execution_count": 129,
     "metadata": {},
     "output_type": "execute_result"
    }
   ],
   "source": [
    "# 3.5.4 Encontrar o valor máximo do array\n",
    "\n",
    "ativos_dev.max()"
   ]
  },
  {
   "cell_type": "code",
   "execution_count": null,
   "id": "YguXTAh01mJB",
   "metadata": {
    "colab": {
     "base_uri": "https://localhost:8080/"
    },
    "executionInfo": {
     "elapsed": 1615,
     "status": "ok",
     "timestamp": 1666125506881,
     "user": {
      "displayName": "Ana Cristina dos Santos",
      "userId": "01227181308690131672"
     },
     "user_tz": 180
    },
    "id": "YguXTAh01mJB",
    "outputId": "996d31c0-efff-4ce9-f267-e876b916308f"
   },
   "outputs": [
    {
     "data": {
      "text/plain": [
       "1780494883"
      ]
     },
     "execution_count": 130,
     "metadata": {},
     "output_type": "execute_result"
    }
   ],
   "source": [
    "# 3.5.5 Encontrar a soma do array\n",
    "\n",
    "ativos_dev.sum()"
   ]
  },
  {
   "cell_type": "code",
   "execution_count": null,
   "id": "iMRRmXV417G_",
   "metadata": {
    "colab": {
     "base_uri": "https://localhost:8080/"
    },
    "executionInfo": {
     "elapsed": 1074,
     "status": "ok",
     "timestamp": 1666125529279,
     "user": {
      "displayName": "Ana Cristina dos Santos",
      "userId": "01227181308690131672"
     },
     "user_tz": 180
    },
    "id": "iMRRmXV417G_",
    "outputId": "991798ea-b3c6-4bd6-f6dc-69fd9af5982b"
   },
   "outputs": [
    {
     "name": "stdout",
     "output_type": "stream",
     "text": [
      "R$ 1,780,494,883.00\n"
     ]
    }
   ],
   "source": [
    "# Dica: formatar o número da soma\n",
    "\n",
    "soma = ativos_dev.sum()\n",
    "\n",
    "print(f'R$ {soma:,.2f}')"
   ]
  },
  {
   "cell_type": "code",
   "execution_count": null,
   "id": "je_60z8o2hlq",
   "metadata": {
    "colab": {
     "base_uri": "https://localhost:8080/"
    },
    "executionInfo": {
     "elapsed": 1918,
     "status": "ok",
     "timestamp": 1666125545313,
     "user": {
      "displayName": "Ana Cristina dos Santos",
      "userId": "01227181308690131672"
     },
     "user_tz": 180
    },
    "id": "je_60z8o2hlq",
    "outputId": "cba0554b-0696-47b7-b73a-1c40b9172534"
   },
   "outputs": [
    {
     "data": {
      "text/plain": [
       "499.996701219"
      ]
     },
     "execution_count": 132,
     "metadata": {},
     "output_type": "execute_result"
    }
   ],
   "source": [
    "# 3.5.6 Encontrar a média do array\n",
    "\n",
    "ativos_dev.mean()"
   ]
  },
  {
   "cell_type": "markdown",
   "id": "CaUVFA388cA5",
   "metadata": {
    "id": "CaUVFA388cA5"
   },
   "source": [
    "- ### 3.6 Compatibilidade entre Arrays\n",
    "\n",
    "        3.6.1 As arrays precisam ter pelo menos o mesmo nº de colunas\n",
    "        3.6.2 Exemplo de compatibilidade\n",
    "        3.6.3 Exemplo de não compatibilidade"
   ]
  },
  {
   "cell_type": "code",
   "execution_count": 3,
   "id": "wM0Mq7rTD9fV",
   "metadata": {
    "colab": {
     "base_uri": "https://localhost:8080/"
    },
    "executionInfo": {
     "elapsed": 10,
     "status": "ok",
     "timestamp": 1666125637226,
     "user": {
      "displayName": "Ana Cristina dos Santos",
      "userId": "01227181308690131672"
     },
     "user_tz": 180
    },
    "id": "wM0Mq7rTD9fV",
    "outputId": "1deaa4be-25ce-40f7-9211-22c98c924f6a"
   },
   "outputs": [
    {
     "name": "stdout",
     "output_type": "stream",
     "text": [
      "(2, 5) (1, 5)\n"
     ]
    }
   ],
   "source": [
    "# 3.6.3.1 Compatibilidade entre Arrays (2,5) e (1,5)\n",
    "\n",
    "a = np.array([[1,2,3,4,5],[6,7,8,9,10]])\n",
    "b = np.array([[10,20,30,40,50]])\n",
    "\n",
    "print(a.shape, b.shape)"
   ]
  },
  {
   "cell_type": "code",
   "execution_count": 4,
   "id": "PApOhskwFTS1",
   "metadata": {
    "colab": {
     "base_uri": "https://localhost:8080/"
    },
    "executionInfo": {
     "elapsed": 426,
     "status": "ok",
     "timestamp": 1666125645260,
     "user": {
      "displayName": "Ana Cristina dos Santos",
      "userId": "01227181308690131672"
     },
     "user_tz": 180
    },
    "id": "PApOhskwFTS1",
    "outputId": "9795ec1d-73c9-4062-a16d-e0dcdecd0f39"
   },
   "outputs": [
    {
     "data": {
      "text/plain": [
       "array([[11, 22, 33, 44, 55],\n",
       "       [16, 27, 38, 49, 60]])"
      ]
     },
     "execution_count": 4,
     "metadata": {},
     "output_type": "execute_result"
    }
   ],
   "source": [
    "# É possível realizar operações matemáticas com arrays compatíveis, como a soma\n",
    "\n",
    "a + b"
   ]
  },
  {
   "cell_type": "code",
   "execution_count": 5,
   "id": "aWMHmcgaRHIc",
   "metadata": {
    "colab": {
     "base_uri": "https://localhost:8080/"
    },
    "executionInfo": {
     "elapsed": 397,
     "status": "ok",
     "timestamp": 1666125793350,
     "user": {
      "displayName": "Ana Cristina dos Santos",
      "userId": "01227181308690131672"
     },
     "user_tz": 180
    },
    "id": "aWMHmcgaRHIc",
    "outputId": "903c370b-b8dd-4a87-a582-9484e2878d43"
   },
   "outputs": [
    {
     "data": {
      "text/plain": [
       "array([ 11,  33,  66, 110, 165, 181, 208, 246, 295, 355], dtype=int32)"
      ]
     },
     "execution_count": 5,
     "metadata": {},
     "output_type": "execute_result"
    }
   ],
   "source": [
    "# A soma acumulada\n",
    "\n",
    "(a + b).cumsum()"
   ]
  },
  {
   "cell_type": "code",
   "execution_count": 6,
   "id": "vFnc2DLRmcqq",
   "metadata": {
    "colab": {
     "base_uri": "https://localhost:8080/"
    },
    "executionInfo": {
     "elapsed": 406,
     "status": "ok",
     "timestamp": 1666125907800,
     "user": {
      "displayName": "Ana Cristina dos Santos",
      "userId": "01227181308690131672"
     },
     "user_tz": 180
    },
    "id": "vFnc2DLRmcqq",
    "outputId": "bae2fff7-4ae4-40cf-f1b3-300461e52a4c"
   },
   "outputs": [
    {
     "data": {
      "text/plain": [
       "array([        11,        242,       7986,     351384,   19326120,\n",
       "        309217920, -241050752, -569993984, 2135065856, -745067520],\n",
       "      dtype=int32)"
      ]
     },
     "execution_count": 6,
     "metadata": {},
     "output_type": "execute_result"
    }
   ],
   "source": [
    "# O produto acumulado\n",
    "\n",
    "(a + b).cumprod()"
   ]
  },
  {
   "cell_type": "code",
   "execution_count": 7,
   "id": "aLP_uZ28RUYv",
   "metadata": {
    "colab": {
     "base_uri": "https://localhost:8080/"
    },
    "executionInfo": {
     "elapsed": 11,
     "status": "ok",
     "timestamp": 1666125911210,
     "user": {
      "displayName": "Ana Cristina dos Santos",
      "userId": "01227181308690131672"
     },
     "user_tz": 180
    },
    "id": "aLP_uZ28RUYv",
    "outputId": "a84eb3a3-bf06-4778-9103-16d5d0fda539"
   },
   "outputs": [
    {
     "data": {
      "text/plain": [
       "248.25"
      ]
     },
     "execution_count": 7,
     "metadata": {},
     "output_type": "execute_result"
    }
   ],
   "source": [
    "# A variância\n",
    "\n",
    "(a + b).var()"
   ]
  },
  {
   "cell_type": "code",
   "execution_count": 8,
   "id": "A9n5UHqiRnH6",
   "metadata": {
    "colab": {
     "base_uri": "https://localhost:8080/"
    },
    "executionInfo": {
     "elapsed": 412,
     "status": "ok",
     "timestamp": 1666054936084,
     "user": {
      "displayName": "Ana Cristina dos Santos",
      "userId": "01227181308690131672"
     },
     "user_tz": 180
    },
    "id": "A9n5UHqiRnH6",
    "outputId": "268d9379-29a7-47a3-fecf-e68994482754"
   },
   "outputs": [
    {
     "data": {
      "text/plain": [
       "15.75595125658873"
      ]
     },
     "execution_count": 8,
     "metadata": {},
     "output_type": "execute_result"
    }
   ],
   "source": [
    "# Desvio Padrão\n",
    "\n",
    "(a + b).std()"
   ]
  },
  {
   "cell_type": "code",
   "execution_count": 9,
   "id": "WdZ2ArdIFe-G",
   "metadata": {
    "colab": {
     "base_uri": "https://localhost:8080/"
    },
    "executionInfo": {
     "elapsed": 11,
     "status": "ok",
     "timestamp": 1666126096775,
     "user": {
      "displayName": "Ana Cristina dos Santos",
      "userId": "01227181308690131672"
     },
     "user_tz": 180
    },
    "id": "WdZ2ArdIFe-G",
    "outputId": "a1a435e2-3997-4b71-f16e-f53d3c6d7c10"
   },
   "outputs": [
    {
     "name": "stdout",
     "output_type": "stream",
     "text": [
      "(3, 5) (3, 3)\n"
     ]
    }
   ],
   "source": [
    "# 3.6.3.2 Não compatibilidade entre Arrays (3,5) e (3,3)\n",
    "\n",
    "c = np.array([[0, 5, 10, 15, 20], [0, 10, 20, 30, 40], [0, 100, 200, 300, 400]])\n",
    "d = np.array([[1, 5, 10], [2, 7, 9], [3, 4, 6]])\n",
    "\n",
    "print(c.shape, d.shape)"
   ]
  },
  {
   "cell_type": "code",
   "execution_count": 10,
   "id": "qJkuurdftUM-",
   "metadata": {
    "colab": {
     "base_uri": "https://localhost:8080/",
     "height": 205
    },
    "executionInfo": {
     "elapsed": 566,
     "status": "error",
     "timestamp": 1666126106802,
     "user": {
      "displayName": "Ana Cristina dos Santos",
      "userId": "01227181308690131672"
     },
     "user_tz": 180
    },
    "id": "qJkuurdftUM-",
    "outputId": "160ed802-4aea-465d-9589-51e9cc5dde80"
   },
   "outputs": [
    {
     "ename": "ValueError",
     "evalue": "operands could not be broadcast together with shapes (3,5) (3,3) ",
     "output_type": "error",
     "traceback": [
      "\u001b[1;31m---------------------------------------------------------------------------\u001b[0m",
      "\u001b[1;31mValueError\u001b[0m                                Traceback (most recent call last)",
      "Input \u001b[1;32mIn [10]\u001b[0m, in \u001b[0;36m<cell line: 3>\u001b[1;34m()\u001b[0m\n\u001b[0;32m      1\u001b[0m \u001b[38;5;66;03m# Não é possível realizar operações matemáticas com arrays não compatíveis, como a subtração\u001b[39;00m\n\u001b[1;32m----> 3\u001b[0m \u001b[43mc\u001b[49m\u001b[43m \u001b[49m\u001b[38;5;241;43m-\u001b[39;49m\u001b[43m \u001b[49m\u001b[43md\u001b[49m\n",
      "\u001b[1;31mValueError\u001b[0m: operands could not be broadcast together with shapes (3,5) (3,3) "
     ]
    }
   ],
   "source": [
    "# Não é possível realizar operações matemáticas com arrays não compatíveis, como a subtração\n",
    "\n",
    "c - d"
   ]
  },
  {
   "cell_type": "code",
   "execution_count": 11,
   "id": "CwmGZtFBu9s2",
   "metadata": {
    "colab": {
     "base_uri": "https://localhost:8080/"
    },
    "executionInfo": {
     "elapsed": 510,
     "status": "ok",
     "timestamp": 1666127710003,
     "user": {
      "displayName": "Ana Cristina dos Santos",
      "userId": "01227181308690131672"
     },
     "user_tz": 180
    },
    "id": "CwmGZtFBu9s2",
    "outputId": "edb446de-b81a-4a96-d6cc-c0e1b32eb9e5"
   },
   "outputs": [
    {
     "name": "stdout",
     "output_type": "stream",
     "text": [
      "(2, 1) (1, 2)\n"
     ]
    }
   ],
   "source": [
    "# 3.6.3.3 Logo, é possível concluir que arrays (2,1) e (1,2) não são iguais e sequer compatíveis\n",
    "\n",
    "e = np.array([[8],[16]])\n",
    "f = np.array([[8,16]])\n",
    "\n",
    "print(e.shape, f.shape)"
   ]
  },
  {
   "cell_type": "markdown",
   "id": "9VZxzUow9FZW",
   "metadata": {
    "id": "9VZxzUow9FZW"
   },
   "source": [
    "- ### 3.7 Dimensões de Numpy Array\n",
    "\n",
    "        3.7.1 .flatten()\n",
    "        3.7.2 .reshape()\n",
    "        3.7.3 Utilidade em manipular dimensões"
   ]
  },
  {
   "cell_type": "code",
   "execution_count": 12,
   "id": "JShtZLZaKxn2",
   "metadata": {
    "colab": {
     "base_uri": "https://localhost:8080/"
    },
    "executionInfo": {
     "elapsed": 419,
     "status": "ok",
     "timestamp": 1666127744476,
     "user": {
      "displayName": "Ana Cristina dos Santos",
      "userId": "01227181308690131672"
     },
     "user_tz": 180
    },
    "id": "JShtZLZaKxn2",
    "outputId": "f122e45d-a5cd-46dd-9db9-bd3c76cbed31"
   },
   "outputs": [
    {
     "name": "stdout",
     "output_type": "stream",
     "text": [
      "[[ 1  7]\n",
      " [24 12]\n",
      " [80 33]\n",
      " [57 99]\n",
      " [ 6 60]] (5, 2)\n"
     ]
    }
   ],
   "source": [
    "# Observe o array (5,2)\n",
    "\n",
    "g = np.array([[1, 7], [24, 12], [80, 33], [57, 99], [6, 60]])\n",
    "\n",
    "print(g, g.shape)"
   ]
  },
  {
   "cell_type": "code",
   "execution_count": 13,
   "id": "63tWkuMwuZH_",
   "metadata": {
    "colab": {
     "base_uri": "https://localhost:8080/"
    },
    "executionInfo": {
     "elapsed": 405,
     "status": "ok",
     "timestamp": 1666127760962,
     "user": {
      "displayName": "Ana Cristina dos Santos",
      "userId": "01227181308690131672"
     },
     "user_tz": 180
    },
    "id": "63tWkuMwuZH_",
    "outputId": "f4b2870d-a04b-495a-b1fd-fdcd1fdf7387"
   },
   "outputs": [
    {
     "name": "stdout",
     "output_type": "stream",
     "text": [
      "[ 1  7 24 12 80 33 57 99  6 60] (10,)\n"
     ]
    }
   ],
   "source": [
    "# 3.7.1 .flatten() recolhe todos os elementos em apenas uma dimensão/linha\n",
    "\n",
    "g_flatten = g.flatten()\n",
    "\n",
    "print(g_flatten, g_flatten.shape)"
   ]
  },
  {
   "cell_type": "code",
   "execution_count": 14,
   "id": "Ui__P1woIU_8",
   "metadata": {
    "colab": {
     "base_uri": "https://localhost:8080/"
    },
    "executionInfo": {
     "elapsed": 481,
     "status": "ok",
     "timestamp": 1666127801586,
     "user": {
      "displayName": "Ana Cristina dos Santos",
      "userId": "01227181308690131672"
     },
     "user_tz": 180
    },
    "id": "Ui__P1woIU_8",
    "outputId": "e81d9194-ed09-4384-9104-11f85ebc4a1c"
   },
   "outputs": [
    {
     "name": "stdout",
     "output_type": "stream",
     "text": [
      "[[ 1  7 24 12 80]\n",
      " [33 57 99  6 60]] (2, 5)\n"
     ]
    }
   ],
   "source": [
    "# 3.7.2 .reshape() atribui nova dimensão a um array sem modificar seus elementos\n",
    "\n",
    "g_reshape = g.reshape(2,5)\n",
    "\n",
    "print(g_reshape, g_reshape.shape)"
   ]
  },
  {
   "cell_type": "code",
   "execution_count": 15,
   "id": "bEws3Nl-uZqP",
   "metadata": {
    "id": "bEws3Nl-uZqP"
   },
   "outputs": [],
   "source": [
    "# 3.7.3 É útil caso se deseje realizar operações matemáticas com arrays incompatíveis\n",
    "# No exercício 3.6.3.3 há dois arrays incompatíveis:\n",
    "\n",
    "e = np.array([[8],[16]]) # (2,1)\n",
    "f = np.array([[8,16]]) # (1,2)\n",
    "\n",
    "# .reshape() em algum dos arrays para os deixar compatíveis ao realizar a multiplicação"
   ]
  },
  {
   "cell_type": "code",
   "execution_count": 16,
   "id": "dtpvh0Y4Nlqh",
   "metadata": {
    "colab": {
     "base_uri": "https://localhost:8080/"
    },
    "executionInfo": {
     "elapsed": 9,
     "status": "ok",
     "timestamp": 1666127854946,
     "user": {
      "displayName": "Ana Cristina dos Santos",
      "userId": "01227181308690131672"
     },
     "user_tz": 180
    },
    "id": "dtpvh0Y4Nlqh",
    "outputId": "c20afea8-7542-44e7-9ce3-d284b2725a1f"
   },
   "outputs": [
    {
     "data": {
      "text/plain": [
       "array([[ 64, 256]])"
      ]
     },
     "execution_count": 16,
     "metadata": {},
     "output_type": "execute_result"
    }
   ],
   "source": [
    "# 3.7.3.1 Optar pelo reshape no array 'e'\n",
    "\n",
    "e.reshape(1,2) * f"
   ]
  },
  {
   "cell_type": "code",
   "execution_count": 17,
   "id": "9WyJ_LaUN3GH",
   "metadata": {
    "colab": {
     "base_uri": "https://localhost:8080/"
    },
    "executionInfo": {
     "elapsed": 13,
     "status": "ok",
     "timestamp": 1666127871979,
     "user": {
      "displayName": "Ana Cristina dos Santos",
      "userId": "01227181308690131672"
     },
     "user_tz": 180
    },
    "id": "9WyJ_LaUN3GH",
    "outputId": "27c1b5d7-8c40-4e89-f3b7-805f4d96bda0"
   },
   "outputs": [
    {
     "data": {
      "text/plain": [
       "array([[ 64],\n",
       "       [256]])"
      ]
     },
     "execution_count": 17,
     "metadata": {},
     "output_type": "execute_result"
    }
   ],
   "source": [
    "# 3.7.3.2 Optar pelo reshape no array 'f'\n",
    "\n",
    "e * f.reshape(2,1)"
   ]
  },
  {
   "cell_type": "markdown",
   "id": "8_O1CtUpvdeU",
   "metadata": {
    "id": "8_O1CtUpvdeU"
   },
   "source": [
    "- ### 3.8 Tipos de Numpy Array\n",
    "\n",
    "        3.8.1 Sample Python data types\n",
    "            3.8.1.1 int\n",
    "            3.8.1.2 float\n",
    "        3.8.2 Sample NumPy data types\n",
    "            3.8.2.1 np.int64\n",
    "            3.8.2.2 np.int32\n",
    "            3.8.2.3 np.float64\n",
    "            3.8.2.4 np.float32\n",
    "        3.8.3 Hierarquia de coerção\n",
    "        3.8.4 String\n",
    "        3.8.5 Boolean\n",
    "        3.8.6 Conversão\n"
   ]
  },
  {
   "cell_type": "code",
   "execution_count": 18,
   "id": "yiDjAzczUxlK",
   "metadata": {
    "colab": {
     "base_uri": "https://localhost:8080/"
    },
    "executionInfo": {
     "elapsed": 417,
     "status": "ok",
     "timestamp": 1666051057827,
     "user": {
      "displayName": "Ana Cristina dos Santos",
      "userId": "01227181308690131672"
     },
     "user_tz": 180
    },
    "id": "yiDjAzczUxlK",
    "outputId": "d964f19b-7ead-40a9-aaa5-4775b91645b6"
   },
   "outputs": [
    {
     "data": {
      "text/plain": [
       "dtype('int32')"
      ]
     },
     "execution_count": 18,
     "metadata": {},
     "output_type": "execute_result"
    }
   ],
   "source": [
    "# 3.8.3.1 Por coerção o type de array com int será o np.int64\n",
    "\n",
    "np.array([1, 2, 4, 5, 6]).dtype"
   ]
  },
  {
   "cell_type": "code",
   "execution_count": 19,
   "id": "x25AxmmIU4RH",
   "metadata": {
    "colab": {
     "base_uri": "https://localhost:8080/"
    },
    "executionInfo": {
     "elapsed": 458,
     "status": "ok",
     "timestamp": 1666051047652,
     "user": {
      "displayName": "Ana Cristina dos Santos",
      "userId": "01227181308690131672"
     },
     "user_tz": 180
    },
    "id": "x25AxmmIU4RH",
    "outputId": "1b64e5f7-0e34-4fd8-dca8-3b2927dcadad"
   },
   "outputs": [
    {
     "data": {
      "text/plain": [
       "dtype('float64')"
      ]
     },
     "execution_count": 19,
     "metadata": {},
     "output_type": "execute_result"
    }
   ],
   "source": [
    "# 3.8.3.2 Por coerção o type de array com float será o np.int64\n",
    "\n",
    "np.array([1.32, 5.78, 175.55]).dtype"
   ]
  },
  {
   "cell_type": "code",
   "execution_count": 20,
   "id": "O3XINyYWU5pl",
   "metadata": {
    "colab": {
     "base_uri": "https://localhost:8080/"
    },
    "executionInfo": {
     "elapsed": 552,
     "status": "ok",
     "timestamp": 1666051164703,
     "user": {
      "displayName": "Ana Cristina dos Santos",
      "userId": "01227181308690131672"
     },
     "user_tz": 180
    },
    "id": "O3XINyYWU5pl",
    "outputId": "46505818-121c-4ecc-e618-3b61070e5374"
   },
   "outputs": [
    {
     "data": {
      "text/plain": [
       "dtype('<U12')"
      ]
     },
     "execution_count": 20,
     "metadata": {},
     "output_type": "execute_result"
    }
   ],
   "source": [
    "# 3.8.4 String\n",
    "\n",
    "np.array(['Universidade', 'de', 'São', 'Paulo']).dtype"
   ]
  },
  {
   "cell_type": "code",
   "execution_count": 21,
   "id": "sFjTS3H1avIs",
   "metadata": {
    "colab": {
     "base_uri": "https://localhost:8080/"
    },
    "executionInfo": {
     "elapsed": 439,
     "status": "ok",
     "timestamp": 1666051823168,
     "user": {
      "displayName": "Ana Cristina dos Santos",
      "userId": "01227181308690131672"
     },
     "user_tz": 180
    },
    "id": "sFjTS3H1avIs",
    "outputId": "c778f0c9-7acc-464c-a82b-404d6a4d6794"
   },
   "outputs": [
    {
     "data": {
      "text/plain": [
       "dtype('bool')"
      ]
     },
     "execution_count": 21,
     "metadata": {},
     "output_type": "execute_result"
    }
   ],
   "source": [
    "# 3.8.5 Boolean\n",
    "\n",
    "np.array([True, False, False, False]).dtype"
   ]
  },
  {
   "cell_type": "code",
   "execution_count": 22,
   "id": "mQDrinD4bfOz",
   "metadata": {
    "colab": {
     "base_uri": "https://localhost:8080/"
    },
    "executionInfo": {
     "elapsed": 409,
     "status": "ok",
     "timestamp": 1666128016428,
     "user": {
      "displayName": "Ana Cristina dos Santos",
      "userId": "01227181308690131672"
     },
     "user_tz": 180
    },
    "id": "mQDrinD4bfOz",
    "outputId": "69a9cb95-8c4c-46ca-be1b-466cd65f62d4"
   },
   "outputs": [
    {
     "data": {
      "text/plain": [
       "dtype('float32')"
      ]
     },
     "execution_count": 22,
     "metadata": {},
     "output_type": "execute_result"
    }
   ],
   "source": [
    "# 3.8.6.1 Conversão\n",
    "\n",
    "float32_array = np.array([5.32, 3.78, 185.55], dtype = np.float32)\n",
    "float32_array.dtype"
   ]
  },
  {
   "cell_type": "code",
   "execution_count": null,
   "id": "6ePJQDNdbw2s",
   "metadata": {
    "colab": {
     "base_uri": "https://localhost:8080/"
    },
    "executionInfo": {
     "elapsed": 414,
     "status": "ok",
     "timestamp": 1666128066611,
     "user": {
      "displayName": "Ana Cristina dos Santos",
      "userId": "01227181308690131672"
     },
     "user_tz": 180
    },
    "id": "6ePJQDNdbw2s",
    "outputId": "452d95c1-0413-40b1-d9be-9ccc2ee3bb7b"
   },
   "outputs": [
    {
     "data": {
      "text/plain": [
       "array([[0, 1],\n",
       "       [1, 0]])"
      ]
     },
     "execution_count": 153,
     "metadata": {},
     "output_type": "execute_result"
    }
   ],
   "source": [
    "# 3.8.6.1 Conversão com dtype\n",
    "\n",
    "boolean_array = np.array([[False, True], [True, False]], dtype = np.bool_)\n",
    "boolean_array.astype(np.int32)"
   ]
  },
  {
   "cell_type": "markdown",
   "id": "vitw8fR4tLc6",
   "metadata": {
    "id": "vitw8fR4tLc6"
   },
   "source": [
    "- ### 3.9 Random\n",
    "\n",
    "        3.9.1 Import Random\n",
    "        3.9.2 Numpy Random"
   ]
  },
  {
   "cell_type": "code",
   "execution_count": 23,
   "id": "QMnGgCbgunBX",
   "metadata": {
    "id": "QMnGgCbgunBX"
   },
   "outputs": [],
   "source": [
    "# Considere a seguinte lista\n",
    "\n",
    "nomes = ['Ana', 'Gustavo', 'Thais', 'Natalia', 'Julio', 'Max', 'Felipe', 'Alan', 'Paulo', 'Maria', 'Maysa', 'Kevyn']"
   ]
  },
  {
   "cell_type": "code",
   "execution_count": 24,
   "id": "7gCUuUYptJ0_",
   "metadata": {
    "colab": {
     "base_uri": "https://localhost:8080/"
    },
    "executionInfo": {
     "elapsed": 389,
     "status": "ok",
     "timestamp": 1666128157576,
     "user": {
      "displayName": "Ana Cristina dos Santos",
      "userId": "01227181308690131672"
     },
     "user_tz": 180
    },
    "id": "7gCUuUYptJ0_",
    "outputId": "a546ba3a-5040-4935-dfa0-863d883c5e8f"
   },
   "outputs": [
    {
     "data": {
      "text/plain": [
       "['Gustavo', 'Ana', 'Alan']"
      ]
     },
     "execution_count": 24,
     "metadata": {},
     "output_type": "execute_result"
    }
   ],
   "source": [
    "# 3.9.1 Import Random\n",
    "\n",
    "import random\n",
    "\n",
    "# Escolher aleatoriamente três nomes\n",
    "\n",
    "random.sample(nomes, 3)"
   ]
  },
  {
   "cell_type": "code",
   "execution_count": 25,
   "id": "bDcAlgfIts0n",
   "metadata": {
    "colab": {
     "base_uri": "https://localhost:8080/"
    },
    "executionInfo": {
     "elapsed": 372,
     "status": "ok",
     "timestamp": 1666128186096,
     "user": {
      "displayName": "Ana Cristina dos Santos",
      "userId": "01227181308690131672"
     },
     "user_tz": 180
    },
    "id": "bDcAlgfIts0n",
    "outputId": "1392cfcd-f1b1-4914-e694-b7b32d078b16"
   },
   "outputs": [
    {
     "data": {
      "text/plain": [
       "array(['Max', 'Max', 'Gustavo'], dtype='<U7')"
      ]
     },
     "execution_count": 25,
     "metadata": {},
     "output_type": "execute_result"
    }
   ],
   "source": [
    "# 3.9.2 Numpy Random\n",
    "\n",
    "# Escolher aleatoriamente três nomes\n",
    "\n",
    "np.random.choice(nomes, size = 3)"
   ]
  }
 ],
 "metadata": {
  "colab": {
   "collapsed_sections": [],
   "provenance": []
  },
  "kernelspec": {
   "display_name": "Python 3 (ipykernel)",
   "language": "python",
   "name": "python3"
  },
  "language_info": {
   "codemirror_mode": {
    "name": "ipython",
    "version": 3
   },
   "file_extension": ".py",
   "mimetype": "text/x-python",
   "name": "python",
   "nbconvert_exporter": "python",
   "pygments_lexer": "ipython3",
   "version": "3.9.12"
  }
 },
 "nbformat": 4,
 "nbformat_minor": 5
}
