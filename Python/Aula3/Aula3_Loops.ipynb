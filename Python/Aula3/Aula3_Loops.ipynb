{
 "cells": [
  {
   "cell_type": "markdown",
   "id": "7813631f",
   "metadata": {},
   "source": [
    "# Conceitos a serem retomados\n",
    "\n",
    "Operadores de Comparação:\n",
    "\n",
    "• == igual a\n",
    "• !=diferente de\n",
    "• < menor que\n",
    "• > maior que\n",
    "• <= menor ou igual a\n",
    "• >= maior ou igual a"
   ]
  },
  {
   "cell_type": "code",
   "execution_count": 2,
   "id": "267646a8",
   "metadata": {},
   "outputs": [
    {
     "data": {
      "text/plain": [
       "False"
      ]
     },
     "execution_count": 2,
     "metadata": {},
     "output_type": "execute_result"
    }
   ],
   "source": [
    "x = 'a'\n",
    "y = 'a'\n",
    "x != y"
   ]
  },
  {
   "cell_type": "markdown",
   "id": "e387bea5",
   "metadata": {},
   "source": [
    "Operadores Lógicos:\n",
    "\n",
    "• and: se, e somente se, ambas expressões estiverem corretoas, o retorno será True\n",
    "• or: quando pelo menos uma das expressões for verdadeira, o retorno será True\n",
    "• not: inverte o retorno de uma expressão booleana. Se o retorno desta for True, o operador \"not\" fará o retorno ser False."
   ]
  },
  {
   "cell_type": "code",
   "execution_count": 6,
   "id": "8f423a63",
   "metadata": {},
   "outputs": [
    {
     "data": {
      "text/plain": [
       "False"
      ]
     },
     "execution_count": 6,
     "metadata": {},
     "output_type": "execute_result"
    }
   ],
   "source": [
    "t = 1\n",
    "u = 1\n",
    "t < u"
   ]
  },
  {
   "cell_type": "code",
   "execution_count": 7,
   "id": "ed3f4b32",
   "metadata": {},
   "outputs": [
    {
     "data": {
      "text/plain": [
       "False"
      ]
     },
     "execution_count": 7,
     "metadata": {},
     "output_type": "execute_result"
    }
   ],
   "source": [
    "#primeira e segunda são true\n",
    "x == y and t < u"
   ]
  },
  {
   "cell_type": "code",
   "execution_count": 8,
   "id": "5a76d19c",
   "metadata": {},
   "outputs": [
    {
     "data": {
      "text/plain": [
       "True"
      ]
     },
     "execution_count": 8,
     "metadata": {},
     "output_type": "execute_result"
    }
   ],
   "source": [
    "#primeira é verdadeira e segunda é falsa\n",
    "x == y or t < u"
   ]
  },
  {
   "cell_type": "markdown",
   "id": "f638ed6a",
   "metadata": {},
   "source": [
    "If, Elif e Else"
   ]
  },
  {
   "cell_type": "code",
   "execution_count": 10,
   "id": "258d9e0e",
   "metadata": {},
   "outputs": [
    {
     "name": "stdout",
     "output_type": "stream",
     "text": [
      "Este número é divisível por 3!\n"
     ]
    }
   ],
   "source": [
    "lista_numeros = [1, 2, 3, 6]\n",
    "\n",
    "resultado = sum(lista_numeros) % 3\n",
    "# soma = 12\n",
    "# resultado = resto 0\n",
    "\n",
    "### Diferença entre 1 \"-\" e 2 \"--\"\n",
    "if resultado == 0:\n",
    "    print('Este número é divisível por 3!')\n",
    "else:\n",
    "    print('Este número não é divisível por 3!')"
   ]
  },
  {
   "cell_type": "markdown",
   "id": "e5080c02",
   "metadata": {},
   "source": [
    "# Como rodar um programa .py no Jypiter Notebook"
   ]
  },
  {
   "cell_type": "code",
   "execution_count": 21,
   "id": "7bf9ed83",
   "metadata": {},
   "outputs": [
    {
     "name": "stdout",
     "output_type": "stream",
     "text": [
      "Programa 0 rodado com sucesso!\n"
     ]
    }
   ],
   "source": [
    "# !python nome_do_programa.py\n",
    "!python programa_0.py"
   ]
  },
  {
   "cell_type": "markdown",
   "id": "99c785ab",
   "metadata": {},
   "source": [
    "# Como pegar input do usuário?"
   ]
  },
  {
   "cell_type": "code",
   "execution_count": 17,
   "id": "e8b6a2dc",
   "metadata": {},
   "outputs": [
    {
     "name": "stdout",
     "output_type": "stream",
     "text": [
      "Qual é seu nome? Raquel\n",
      "O nome do usuário é: Raquel\n"
     ]
    }
   ],
   "source": [
    "name = input(\"Qual é seu nome? \")\n",
    "print(f'O nome do usuário é: {name}')"
   ]
  },
  {
   "cell_type": "markdown",
   "id": "e1717feb",
   "metadata": {},
   "source": [
    "# Loops\n",
    "\n",
    "Suponha que quero fazer um programa que repete a mesma tarefa toda aula: falar boa tarde para cada um dos alunos presentes.\n",
    "\n",
    "Se eu tiver, 4 alunos, o meu programa deverá ser o seguinte:"
   ]
  },
  {
   "cell_type": "code",
   "execution_count": 18,
   "id": "c9f8a77e",
   "metadata": {},
   "outputs": [
    {
     "name": "stdout",
     "output_type": "stream",
     "text": [
      "Boa tarde, fulano!\n",
      "Boa tarde, Alissa\n",
      "Boa tarde, Kevyn\n",
      "Boa tarde\n"
     ]
    }
   ],
   "source": [
    "!python cat0.py"
   ]
  },
  {
   "cell_type": "markdown",
   "id": "c1815663",
   "metadata": {},
   "source": [
    "Mas começo a ter um problema para escrever este código se eu tiver 10, 20, 30 ... 100 alunos presentes.\n",
    "\n",
    "Porque preciso escrever o código <\"Boa tarde, nome_d@_alun@\"> 10, 20, 30 ... 100 vezes. Isso se torna impraticável, e por isso surge a necessidade da estruturas de repetição: While e For"
   ]
  },
  {
   "attachments": {
    "image.png": {
     "image/png": "[encoded data removed]"
    }
   },
   "cell_type": "markdown",
   "id": "3032c903",
   "metadata": {},
   "source": [
    "# While\n",
    "\n",
    "Estrutura de repetição que ocorre enquanto uma condição for verdadeira\n",
    "\n",
    "![image.png](attachment:image.png)\n",
    "\n",
    "Elementos:\n",
    "• Contador\n",
    "• Condição\n",
    "• Ação\n",
    "• Atualização do contador"
   ]
  },
  {
   "cell_type": "code",
   "execution_count": 23,
   "id": "80f3a80f",
   "metadata": {},
   "outputs": [
    {
     "name": "stdout",
     "output_type": "stream",
     "text": [
      "3\n",
      "2\n",
      "1\n"
     ]
    }
   ],
   "source": [
    "#Exemplo de loop while - contagem regressiva\n",
    "\n",
    "contador = 3\n",
    "\n",
    "while contador != 0 :\n",
    "    print(contador)\n",
    "    contador = contador - 1"
   ]
  },
  {
   "cell_type": "code",
   "execution_count": 24,
   "id": "fb8512db",
   "metadata": {},
   "outputs": [
    {
     "name": "stdout",
     "output_type": "stream",
     "text": [
      "Boa tarde\n",
      "Boa tarde\n",
      "Boa tarde\n"
     ]
    }
   ],
   "source": [
    "#Exemplo de loop while - contagem regressiva\n",
    "\n",
    "estoque = 3\n",
    "\n",
    "while estoque != 0 :\n",
    "    print(\"Boa tarde\")\n",
    "    estoque = estoque - 1"
   ]
  },
  {
   "cell_type": "code",
   "execution_count": 26,
   "id": "25b6e321",
   "metadata": {},
   "outputs": [
    {
     "name": "stdout",
     "output_type": "stream",
     "text": [
      "1\n",
      "2\n",
      "3\n"
     ]
    }
   ],
   "source": [
    "#Exemplo de loop while - contagem progressiva começando do 1\n",
    "\n",
    "contador = 1\n",
    "\n",
    "while contador <= 3 :\n",
    "    print(contador)\n",
    "    contador = contador + 1"
   ]
  },
  {
   "cell_type": "code",
   "execution_count": 27,
   "id": "0a6d29cf",
   "metadata": {},
   "outputs": [
    {
     "name": "stdout",
     "output_type": "stream",
     "text": [
      "Boa tarde\n",
      "Boa tarde\n",
      "Boa tarde\n"
     ]
    }
   ],
   "source": [
    "#Exemplo de loop while - contagem progressiva começando do 1\n",
    "\n",
    "i = 1\n",
    "\n",
    "while i <= 3 :\n",
    "    print(\"Boa tarde\")\n",
    "    i = i + 1"
   ]
  },
  {
   "cell_type": "code",
   "execution_count": 29,
   "id": "139bccea",
   "metadata": {},
   "outputs": [
    {
     "name": "stdout",
     "output_type": "stream",
     "text": [
      "0\n",
      "1\n",
      "2\n"
     ]
    }
   ],
   "source": [
    "#Exemplo de loop while - contagem progressiva começando do 0\n",
    "\n",
    "contador = 0\n",
    "\n",
    "while contador < 3 :\n",
    "    print(contador)\n",
    "    contador = contador + 1"
   ]
  },
  {
   "cell_type": "code",
   "execution_count": 30,
   "id": "8a13a235",
   "metadata": {},
   "outputs": [
    {
     "name": "stdout",
     "output_type": "stream",
     "text": [
      "Boa tarde\n",
      "Boa tarde\n",
      "Boa tarde\n"
     ]
    }
   ],
   "source": [
    "#Exemplo de loop while - contagem progressiva começando do 0\n",
    "\n",
    "i = 0\n",
    "\n",
    "while i < 3 :\n",
    "    print(\"Boa tarde\")\n",
    "    i = i + 1"
   ]
  },
  {
   "cell_type": "markdown",
   "id": "e8354651",
   "metadata": {},
   "source": [
    "## Contador mais simples\n",
    " \n",
    " É só outra forma de escrever"
   ]
  },
  {
   "cell_type": "code",
   "execution_count": 31,
   "id": "58222224",
   "metadata": {},
   "outputs": [
    {
     "name": "stdout",
     "output_type": "stream",
     "text": [
      "0\n",
      "1\n",
      "2\n"
     ]
    }
   ],
   "source": [
    "contador = 0\n",
    "\n",
    "while contador < 3 :\n",
    "    print(contador)\n",
    "    contador += 1"
   ]
  },
  {
   "cell_type": "code",
   "execution_count": 32,
   "id": "6421a4be",
   "metadata": {},
   "outputs": [
    {
     "name": "stdout",
     "output_type": "stream",
     "text": [
      "Boa tarde\n",
      "Boa tarde\n",
      "Boa tarde\n"
     ]
    }
   ],
   "source": [
    "i = 0\n",
    "\n",
    "while i < 3 :\n",
    "    print(\"Boa tarde\")\n",
    "    i += 1"
   ]
  },
  {
   "cell_type": "markdown",
   "id": "882fabc9",
   "metadata": {},
   "source": [
    "## Condições\n",
    "\n",
    "Suponha agora que eu só dou \"Boa tarde\" para quem me dá \"Boa tarde\" primeiro, ou seja, eu só respondo boa tarde.Eu não sou proativa.\n",
    "\n",
    "Meu problema mudou, agora eu tenho que lidar com uma condição!"
   ]
  },
  {
   "cell_type": "code",
   "execution_count": 38,
   "id": "69aadbe6",
   "metadata": {},
   "outputs": [
    {
     "name": "stdout",
     "output_type": "stream",
     "text": [
      "O que @ alun@ 3 falou para mim? E aí mano?\n",
      "O que @ alun@ 2 falou para mim? Boa tarde, Thais!\n",
      "Boa tarde, alun@ 2!\n",
      "O que @ alun@ 1 falou para mim? \n"
     ]
    }
   ],
   "source": [
    "numero_do_aluno = 3\n",
    "\n",
    "while numero_do_aluno != 0:\n",
    "    input_aluno = input(f\"O que @ alun@ {numero_do_aluno} falou para mim? \")\n",
    "    \n",
    "    if input_aluno == \"Boa tarde, Thais!\":\n",
    "        print(f\"Boa tarde, alun@ {numero_do_aluno}!\")\n",
    "    else:\n",
    "        pass\n",
    "    \n",
    "    numero_do_aluno -= 1"
   ]
  },
  {
   "cell_type": "markdown",
   "id": "9ff070dd",
   "metadata": {},
   "source": [
    "Mas e se eu estou sem paciência, e uma dos alunos não falaram \"Boa tarde!\" nem um \"Oi\"? Eu não vou esperar todos os alunos entrarem, eu simplesmente não vou dar \"Boa tarde\" para ninguém!\n",
    "\n",
    "Aqui entra o break"
   ]
  },
  {
   "cell_type": "code",
   "execution_count": 39,
   "id": "64793cda",
   "metadata": {},
   "outputs": [
    {
     "name": "stdout",
     "output_type": "stream",
     "text": [
      "O que @ alun@ 3 falou para mim? Boa tarde, Thais!\n",
      "Boa tarde, alun@ 3!\n",
      "O que @ alun@ 2 falou para mim? E aí, mano?\n"
     ]
    }
   ],
   "source": [
    "numero_do_aluno = 3\n",
    "\n",
    "while numero_do_aluno !=0: \n",
    "    input_aluno = input(f\"O que @ alun@ {numero_do_aluno} falou para mim? \")\n",
    "\n",
    "    if input_aluno == \"Boa tarde, Thais!\":\n",
    "        print(f\"Boa tarde, alun@ {numero_do_aluno}!\")\n",
    "    else:\n",
    "        break\n",
    "    \n",
    "    numero_do_aluno -= 1"
   ]
  },
  {
   "cell_type": "markdown",
   "id": "76f21639",
   "metadata": {},
   "source": [
    "## Exercícios"
   ]
  },
  {
   "cell_type": "markdown",
   "id": "6162ace4",
   "metadata": {},
   "source": [
    "### Ex. 01\n",
    "\n",
    "Printe os números pares até 51"
   ]
  },
  {
   "cell_type": "code",
   "execution_count": 41,
   "id": "f48c4982",
   "metadata": {},
   "outputs": [
    {
     "name": "stdout",
     "output_type": "stream",
     "text": [
      "0\n",
      "2\n",
      "4\n",
      "6\n",
      "8\n",
      "10\n",
      "12\n",
      "14\n",
      "16\n",
      "18\n",
      "20\n",
      "22\n",
      "24\n",
      "26\n",
      "28\n",
      "30\n",
      "32\n",
      "34\n",
      "36\n",
      "38\n",
      "40\n",
      "42\n",
      "44\n",
      "46\n",
      "48\n",
      "50\n"
     ]
    }
   ],
   "source": [
    "contador = 0\n",
    "\n",
    "while contador <= 51 :\n",
    "    if contador % 2 == 0:\n",
    "        print(contador)\n",
    "    else:\n",
    "        pass\n",
    "    \n",
    "    contador += 1"
   ]
  },
  {
   "cell_type": "code",
   "execution_count": 42,
   "id": "fe6fb652",
   "metadata": {},
   "outputs": [
    {
     "name": "stdout",
     "output_type": "stream",
     "text": [
      "[0, 2, 4, 6, 8, 10, 12, 14, 16, 18, 20, 22, 24, 26, 28, 30, 32, 34, 36, 38, 40, 42, 44, 46, 48, 50]\n"
     ]
    }
   ],
   "source": [
    "contador = 0\n",
    "#criar lista vazia para anexar os números pares a ela\n",
    "lista_par = []\n",
    "\n",
    "while contador <= 51 :\n",
    "    if contador % 2 == 0:\n",
    "        lista_par.append(contador)\n",
    "    else:\n",
    "        pass\n",
    "    \n",
    "    contador += 1\n",
    "    \n",
    "print(lista_par)"
   ]
  },
  {
   "cell_type": "markdown",
   "id": "6f31e9bb",
   "metadata": {},
   "source": [
    "### Ex. 02\n",
    "\n",
    "Supondo que a população de um país A seja da ordem de 80k habitantes com uma taxa anual de crescimento de 3% e que a população de B seja 20k habitantes com uma taxa de crescimento de 1.5%.\n",
    "\n",
    "Faça um programa que calcula e retorna o número de anos necessários para que a população do país A ultrapasse ou iguale a população do país B, mantidas as taxas de crescimento constantes."
   ]
  },
  {
   "cell_type": "code",
   "execution_count": 43,
   "id": "43b9fed5",
   "metadata": {},
   "outputs": [
    {
     "name": "stdout",
     "output_type": "stream",
     "text": [
      "95\n",
      "331563.2154106614\n",
      "329127.3709472711\n"
     ]
    }
   ],
   "source": [
    "ano = 0\n",
    "pop_a = 20000\n",
    "pop_b = 80000\n",
    "tx_a = 0.03\n",
    "tx_b = 0.015\n",
    "\n",
    "while pop_a < pop_b:\n",
    "    ano += 1\n",
    "    pop_a = pop_a * (1+tx_a)\n",
    "    pop_b = pop_b * (1+tx_b)\n",
    "    \n",
    "print(ano)\n",
    "print(pop_a)\n",
    "print(pop_b)"
   ]
  },
  {
   "cell_type": "markdown",
   "id": "35525acd",
   "metadata": {},
   "source": [
    "### Ex. 03\n",
    "\n",
    "Nesta tarefa você deverá criar uma lista de 10 itens (começando pelo 0). Sendo i a posição de um determinado elemento dentro da lista.\n",
    "\n",
    "* Se a posição i for par: o elemento nesta posição deverá ser preenchida de acordo com a regra => $x[i] = 3^i + 7*i$\n",
    "\n",
    "* Se a posição i for ímpar: o elemento nesta posição deverá ser preenchida de acordo com a regra => $x[i] = 3^i + 7(i - 2) + \\frac{i^2}{2}$"
   ]
  },
  {
   "cell_type": "code",
   "execution_count": 45,
   "id": "023ef8dc",
   "metadata": {},
   "outputs": [
    {
     "name": "stdout",
     "output_type": "stream",
     "text": [
      "[1, -3.5, 23, 38.5, 109, 276.5, 771, 2246.5, 6617, 19772.5]\n"
     ]
    }
   ],
   "source": [
    "x = []\n",
    "i = 0\n",
    "\n",
    "while i < 10:\n",
    "    if i % 2 == 0:\n",
    "        xi = 3**i + 7*i\n",
    "        x.append(xi)\n",
    "    else:\n",
    "        xi = 3**i + 7*(i-2)+(i**2)/2\n",
    "        x.append(xi)\n",
    "    \n",
    "    i += 1\n",
    "    \n",
    "print(x)"
   ]
  },
  {
   "attachments": {
    "image.png": {
     "image/png": "[encoded data removed]"
    }
   },
   "cell_type": "markdown",
   "id": "a235452e",
   "metadata": {},
   "source": [
    "# For\n",
    "\n",
    "Estrutura de repetição na qual o número de vezs que aplicamos o loop é definido previamente (sem contador)\n",
    "\n",
    "![image.png](attachment:image.png)"
   ]
  },
  {
   "cell_type": "code",
   "execution_count": 46,
   "id": "f7ec941a",
   "metadata": {},
   "outputs": [
    {
     "name": "stdout",
     "output_type": "stream",
     "text": [
      "1\n",
      "2\n",
      "FEA.Dev\n",
      "-4\n",
      "5.7\n",
      "6\n",
      "True\n"
     ]
    }
   ],
   "source": [
    "a = [1, 2, \"FEA.Dev\", -4, 5.7, 6, True]\n",
    "#printar para um dos elementos dessa lista\n",
    "for i in a:\n",
    "    print(i)"
   ]
  },
  {
   "cell_type": "code",
   "execution_count": 47,
   "id": "70e77555",
   "metadata": {},
   "outputs": [
    {
     "name": "stdout",
     "output_type": "stream",
     "text": [
      "Boa tarde, Thais!\n",
      "Boa tarde, Thais!\n",
      "Boa tarde, Thais!\n"
     ]
    }
   ],
   "source": [
    "for i in [0, 1, 2]:\n",
    "    print(\"Boa tarde, Thais!\")"
   ]
  },
  {
   "cell_type": "markdown",
   "id": "557fff16",
   "metadata": {},
   "source": [
    "Mas de novo, neste programa, eu tive que escrever \"por extenso\" em uma lista o número de vezes (neste nosso caso, número de alunos) que eu tive que dar \"Boa tarde!\"\n",
    "\n",
    "Neste caso, é possível usar uma função pré-existente (built-in do python), chamada range"
   ]
  },
  {
   "cell_type": "markdown",
   "id": "c972126f",
   "metadata": {},
   "source": [
    "## Função range()\n",
    "\n",
    "Esta função cria intervalos! Sua estrutura é a seguinte:\n",
    "\n",
    "range(início, final + 1, passo)"
   ]
  },
  {
   "cell_type": "code",
   "execution_count": 48,
   "id": "00c02540",
   "metadata": {},
   "outputs": [
    {
     "name": "stdout",
     "output_type": "stream",
     "text": [
      "[0, 1, 2, 3, 4, 5, 6, 7]\n"
     ]
    }
   ],
   "source": [
    "a = range(0,8)\n",
    "print(list(a))"
   ]
  },
  {
   "cell_type": "code",
   "execution_count": 49,
   "id": "a1df52bd",
   "metadata": {},
   "outputs": [
    {
     "name": "stdout",
     "output_type": "stream",
     "text": [
      "[0, 1, 2, 3, 4, 5, 6, 7]\n"
     ]
    }
   ],
   "source": [
    "#forma mais simples de escrever isso (padrão de início = 0)\n",
    "a = range(8)\n",
    "print(list(a))"
   ]
  },
  {
   "cell_type": "code",
   "execution_count": 51,
   "id": "b6430bbb",
   "metadata": {},
   "outputs": [
    {
     "name": "stdout",
     "output_type": "stream",
     "text": [
      "[0, 2, 4, 6]\n"
     ]
    }
   ],
   "source": [
    "#usando intervalos\n",
    "a = range(0, 8, 2)\n",
    "print(list(a))"
   ]
  },
  {
   "cell_type": "code",
   "execution_count": 52,
   "id": "7d6afd21",
   "metadata": {},
   "outputs": [
    {
     "name": "stdout",
     "output_type": "stream",
     "text": [
      "Boa tarde, Thais!\n",
      "Boa tarde, Thais!\n",
      "Boa tarde, Thais!\n"
     ]
    }
   ],
   "source": [
    "#Usando range no For loop\n",
    "for i in range(3):\n",
    "    print(\"Boa tarde, Thais!\")"
   ]
  },
  {
   "cell_type": "markdown",
   "id": "0e3193f3",
   "metadata": {},
   "source": [
    "## Iterando por listas\n",
    "\n",
    "Propriedades gerais de listas:\n",
    "\n",
    "* Listas tem tamanho, o qual obtemos a partir do uso da função: len()\n",
    "\n",
    "* Elementos das listas podem ser retornados a partir da utilização de índices entre colchetes: lista[0]"
   ]
  },
  {
   "cell_type": "code",
   "execution_count": 55,
   "id": "93f9fc9c",
   "metadata": {},
   "outputs": [
    {
     "data": {
      "text/plain": [
       "19772.5"
      ]
     },
     "execution_count": 55,
     "metadata": {},
     "output_type": "execute_result"
    }
   ],
   "source": [
    "len(x)\n",
    "x[-1]"
   ]
  },
  {
   "cell_type": "code",
   "execution_count": 56,
   "id": "56144092",
   "metadata": {},
   "outputs": [
    {
     "data": {
      "text/plain": [
       "3"
      ]
     },
     "execution_count": 56,
     "metadata": {},
     "output_type": "execute_result"
    }
   ],
   "source": [
    "institutos = ['FEA', 'IME', 'FOFITO']\n",
    "len(institutos)"
   ]
  },
  {
   "cell_type": "code",
   "execution_count": 57,
   "id": "1f300123",
   "metadata": {},
   "outputs": [
    {
     "name": "stdout",
     "output_type": "stream",
     "text": [
      "FEA\n",
      "IME\n",
      "FOFITO\n"
     ]
    }
   ],
   "source": [
    "print(institutos[0])\n",
    "print(institutos[1])\n",
    "print(institutos[2])"
   ]
  },
  {
   "cell_type": "code",
   "execution_count": 58,
   "id": "ecb3df55",
   "metadata": {},
   "outputs": [
    {
     "name": "stdout",
     "output_type": "stream",
     "text": [
      "FEA\n",
      "IME\n",
      "FOFITO\n"
     ]
    }
   ],
   "source": [
    "#obter os nomes do institutos da lista\n",
    "for instituto in institutos:\n",
    "    print(instituto)"
   ]
  },
  {
   "cell_type": "code",
   "execution_count": 59,
   "id": "537801e7",
   "metadata": {},
   "outputs": [
    {
     "name": "stdout",
     "output_type": "stream",
     "text": [
      "1 FEA\n",
      "2 IME\n",
      "3 FOFITO\n"
     ]
    }
   ],
   "source": [
    "#utilizando os indíces [0, 1, 2 ...] para printar os nomes dos institutos da lista\n",
    "for i in range(len(institutos)):\n",
    "    print(i + 1, institutos[i])"
   ]
  },
  {
   "cell_type": "markdown",
   "id": "4036ed20",
   "metadata": {},
   "source": [
    "## Iterando por dicionários\n",
    "\n",
    "Propriedades gerais de dicionários:\n",
    "\n",
    "* São criadas a partir de duas chaves: dict_institutos = {}\n",
    "* Possuem uma chave ligada a um valor: dict_institutos = {'FEA':'Ciências Socias'}\n",
    "* Os valores de cada chave podem ser retornados a partir de uma propriedade dos dicionários: dict_institutos['FEA']"
   ]
  },
  {
   "cell_type": "code",
   "execution_count": 61,
   "id": "2df92ca0",
   "metadata": {},
   "outputs": [
    {
     "name": "stdout",
     "output_type": "stream",
     "text": [
      "Ciências Socias\n",
      "Ciências Exatas\n",
      "Ciências da Saúde\n"
     ]
    }
   ],
   "source": [
    "dict_institutos = {\n",
    "    'FEA':'Ciências Socias', \n",
    "    'IME':'Ciências Exatas',\n",
    "    'FOFITO':'Ciências da Saúde'\n",
    "    }\n",
    "\n",
    "print(dict_institutos[\"FEA\"])\n",
    "print(dict_institutos[\"IME\"])\n",
    "print(dict_institutos[\"FOFITO\"])"
   ]
  },
  {
   "cell_type": "markdown",
   "id": "d0b9c41b",
   "metadata": {},
   "source": [
    "Mas eu retornei só os valores de cada chave, sem saber qual era a chave em si... \n",
    "Para obter uma descrição mais completa dessas faculdades e institutos, posso usar uma lista de dicionários"
   ]
  },
  {
   "cell_type": "code",
   "execution_count": 62,
   "id": "bfe570fa",
   "metadata": {},
   "outputs": [
    {
     "name": "stdout",
     "output_type": "stream",
     "text": [
      "O nome do Instituto/Faculdade é FEA. Esta faculdade atua na área de Ciências Sociais e possui os seguintes cursos: ['ADM', 'ECONO', 'ATU', 'CONT']\n",
      "O nome do Instituto/Faculdade é IME. Esta faculdade atua na área de Ciências Exatas e possui os seguintes cursos: ['MAT', 'ESTAT', 'CS', 'LIC']\n",
      "O nome do Instituto/Faculdade é FOFITO. Esta faculdade atua na área de Ciências da Saúde e possui os seguintes cursos: ['FISIO', 'FONO', 'TO']\n"
     ]
    }
   ],
   "source": [
    "institutos = [\n",
    "    {\"Instituto\": \"FEA\", \"Ciências\": \"Sociais\", \"Cursos\": ['ADM', 'ECONO', 'ATU', 'CONT']},\n",
    "    {\"Instituto\": \"IME\", \"Ciências\": \"Exatas\", \"Cursos\": ['MAT', 'ESTAT', 'CS', 'LIC']},\n",
    "    {\"Instituto\": \"FOFITO\", \"Ciências\": \"da Saúde\", \"Cursos\": ['FISIO', 'FONO', 'TO']}\n",
    "]\n",
    "\n",
    "for instituto in institutos:\n",
    "    print(f'O nome do Instituto/Faculdade é {instituto[\"Instituto\"]}. Esta faculdade atua na área de Ciências {instituto[\"Ciências\"]} e possui os seguintes cursos: {instituto[\"Cursos\"]}')"
   ]
  },
  {
   "cell_type": "markdown",
   "id": "0e0406b9",
   "metadata": {},
   "source": [
    "## Exercícios"
   ]
  },
  {
   "cell_type": "markdown",
   "id": "a0ae787d",
   "metadata": {},
   "source": [
    "### Ex. 01\n",
    "A série de Fibonacci é formada pela sequência 0,1,1,2,3,5,8,13,21,34,55,... (soma dos dois número anteriores)\n",
    "Faça um programa que gere a série até o 25º elemento da série de Fibonacci."
   ]
  },
  {
   "cell_type": "code",
   "execution_count": 63,
   "id": "91aa9ce1",
   "metadata": {},
   "outputs": [
    {
     "name": "stdout",
     "output_type": "stream",
     "text": [
      "[0, 1, 1]\n",
      "[0, 1, 1, 2]\n",
      "[0, 1, 1, 2, 3]\n",
      "[0, 1, 1, 2, 3, 5]\n",
      "[0, 1, 1, 2, 3, 5, 8]\n",
      "[0, 1, 1, 2, 3, 5, 8, 13]\n",
      "[0, 1, 1, 2, 3, 5, 8, 13, 21]\n",
      "[0, 1, 1, 2, 3, 5, 8, 13, 21, 34]\n",
      "[0, 1, 1, 2, 3, 5, 8, 13, 21, 34, 55]\n",
      "[0, 1, 1, 2, 3, 5, 8, 13, 21, 34, 55, 89]\n",
      "[0, 1, 1, 2, 3, 5, 8, 13, 21, 34, 55, 89, 144]\n",
      "[0, 1, 1, 2, 3, 5, 8, 13, 21, 34, 55, 89, 144, 233]\n",
      "[0, 1, 1, 2, 3, 5, 8, 13, 21, 34, 55, 89, 144, 233, 377]\n",
      "[0, 1, 1, 2, 3, 5, 8, 13, 21, 34, 55, 89, 144, 233, 377, 610]\n",
      "[0, 1, 1, 2, 3, 5, 8, 13, 21, 34, 55, 89, 144, 233, 377, 610, 987]\n",
      "[0, 1, 1, 2, 3, 5, 8, 13, 21, 34, 55, 89, 144, 233, 377, 610, 987, 1597]\n",
      "[0, 1, 1, 2, 3, 5, 8, 13, 21, 34, 55, 89, 144, 233, 377, 610, 987, 1597, 2584]\n",
      "[0, 1, 1, 2, 3, 5, 8, 13, 21, 34, 55, 89, 144, 233, 377, 610, 987, 1597, 2584, 4181]\n",
      "[0, 1, 1, 2, 3, 5, 8, 13, 21, 34, 55, 89, 144, 233, 377, 610, 987, 1597, 2584, 4181, 6765]\n",
      "[0, 1, 1, 2, 3, 5, 8, 13, 21, 34, 55, 89, 144, 233, 377, 610, 987, 1597, 2584, 4181, 6765, 10946]\n",
      "[0, 1, 1, 2, 3, 5, 8, 13, 21, 34, 55, 89, 144, 233, 377, 610, 987, 1597, 2584, 4181, 6765, 10946, 17711]\n",
      "[0, 1, 1, 2, 3, 5, 8, 13, 21, 34, 55, 89, 144, 233, 377, 610, 987, 1597, 2584, 4181, 6765, 10946, 17711, 28657]\n",
      "[0, 1, 1, 2, 3, 5, 8, 13, 21, 34, 55, 89, 144, 233, 377, 610, 987, 1597, 2584, 4181, 6765, 10946, 17711, 28657, 46368]\n",
      "[0, 1, 1, 2, 3, 5, 8, 13, 21, 34, 55, 89, 144, 233, 377, 610, 987, 1597, 2584, 4181, 6765, 10946, 17711, 28657, 46368, 75025]\n",
      "[0, 1, 1, 2, 3, 5, 8, 13, 21, 34, 55, 89, 144, 233, 377, 610, 987, 1597, 2584, 4181, 6765, 10946, 17711, 28657, 46368, 75025]\n"
     ]
    }
   ],
   "source": [
    "fibo = [0, 1]\n",
    "for i in range(24):\n",
    "    x = fibo[-1] + fibo[-2]\n",
    "    fibo.append(x)\n",
    "    print(fibo)\n",
    "    \n",
    "print(fibo)"
   ]
  },
  {
   "cell_type": "markdown",
   "id": "5cefc42e",
   "metadata": {},
   "source": [
    "### Ex. 02\n",
    "\n",
    "Nesta tarefa você deverá criar uma lista de 10 itens (começando pelo 0). Sendo i a posição de um determinado elemento dentro da lista.\n",
    "\n",
    "* Se a posição i for par: o elemento nesta posição deverá ser preenchida de acordo com a regra: $x[i] = 3^i + 7*i$\n",
    "\n",
    "* Se a posição i for ímpar: o elemento nesta posição deverá ser preenchida de acordo com a regra: $x[i] = 3^i + 7(i - 2) + \\frac{i^2}{2}$"
   ]
  },
  {
   "cell_type": "code",
   "execution_count": 64,
   "id": "1bbef7b0",
   "metadata": {},
   "outputs": [
    {
     "name": "stdout",
     "output_type": "stream",
     "text": [
      "[1, -3.5, 23, 38.5, 109, 276.5, 771, 2246.5, 6617, 19772.5]\n"
     ]
    }
   ],
   "source": [
    "x = []\n",
    "\n",
    "for i in range(0, 10):\n",
    "    if i % 2 == 0:\n",
    "        xi = (3 ** i) + (7 * i)\n",
    "        x.append(xi)\n",
    "    else:\n",
    "        xi = (3**i) + (7 * (i - 2)) + (i ** 2)/2\n",
    "        x.append(xi)\n",
    "    \n",
    "    \n",
    "print(x)"
   ]
  }
 ],
 "metadata": {
  "kernelspec": {
   "display_name": "Python 3 (ipykernel)",
   "language": "python",
   "name": "python3"
  },
  "language_info": {
   "codemirror_mode": {
    "name": "ipython",
    "version": 3
   },
   "file_extension": ".py",
   "mimetype": "text/x-python",
   "name": "python",
   "nbconvert_exporter": "python",
   "pygments_lexer": "ipython3",
   "version": "3.9.12"
  }
 },
 "nbformat": 4,
 "nbformat_minor": 5
}
