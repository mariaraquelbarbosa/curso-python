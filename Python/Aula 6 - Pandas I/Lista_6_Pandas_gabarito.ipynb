{
 "cells": [
  {
   "cell_type": "markdown",
   "id": "UeTSWYX_Cos_",
   "metadata": {
    "id": "UeTSWYX_Cos_"
   },
   "source": [
    "# Lista 6 - Pandas!"
   ]
  },
  {
   "cell_type": "markdown",
   "id": "1cbe4420",
   "metadata": {
    "id": "1cbe4420"
   },
   "source": [
    "**Antes de começar:** Junto com esta lista do Jupyter, a base de dados \"data_pandas.csv\" vai ser fundamental para realizar os exercícios a seguir."
   ]
  },
  {
   "cell_type": "markdown",
   "id": "20a6507e",
   "metadata": {
    "id": "20a6507e"
   },
   "source": [
    "## *Exercício 1* - Extraindo os dados\n",
    "### O arquivo \"data_pandas.csv\" é uma base de dados com preços históricos das vendas da empresa de supermercado que registrou dados em 3 filiais diferentes por 3 meses."
   ]
  },
  {
   "cell_type": "markdown",
   "id": "0ebfe383",
   "metadata": {
    "id": "0ebfe383"
   },
   "source": [
    "##### - Inicialmente, precisamos importar o Pandas para nosso código e armazenar os dados contidos no arquivo \"data_pandas.csv\" dentro de uma variável"
   ]
  },
  {
   "cell_type": "code",
   "execution_count": 1,
   "id": "df2He20toUz2",
   "metadata": {
    "id": "df2He20toUz2"
   },
   "outputs": [],
   "source": [
    "import pandas as pd"
   ]
  },
  {
   "cell_type": "code",
   "execution_count": 2,
   "id": "8yVJZb4-oTZp",
   "metadata": {
    "id": "8yVJZb4-oTZp"
   },
   "outputs": [],
   "source": [
    "df = pd.read_csv(\"data_pandas.csv\")"
   ]
  },
  {
   "cell_type": "code",
   "execution_count": 3,
   "id": "8ec3f186",
   "metadata": {},
   "outputs": [
    {
     "data": {
      "text/html": [
       "<div>\n",
       "<style scoped>\n",
       "    .dataframe tbody tr th:only-of-type {\n",
       "        vertical-align: middle;\n",
       "    }\n",
       "\n",
       "    .dataframe tbody tr th {\n",
       "        vertical-align: top;\n",
       "    }\n",
       "\n",
       "    .dataframe thead th {\n",
       "        text-align: right;\n",
       "    }\n",
       "</style>\n",
       "<table border=\"1\" class=\"dataframe\">\n",
       "  <thead>\n",
       "    <tr style=\"text-align: right;\">\n",
       "      <th></th>\n",
       "      <th>ID</th>\n",
       "      <th>Filial</th>\n",
       "      <th>Cidade</th>\n",
       "      <th>Tipo cliente</th>\n",
       "      <th>Genero</th>\n",
       "      <th>Linha produto</th>\n",
       "      <th>Preco unitario</th>\n",
       "      <th>Quantidade</th>\n",
       "      <th>Taxa 5%</th>\n",
       "      <th>Total</th>\n",
       "      <th>Data</th>\n",
       "      <th>Hora</th>\n",
       "      <th>Forma pagamento</th>\n",
       "      <th>Custo produto vendido</th>\n",
       "      <th>Margem bruta</th>\n",
       "      <th>Receita bruta</th>\n",
       "      <th>Rating</th>\n",
       "    </tr>\n",
       "  </thead>\n",
       "  <tbody>\n",
       "    <tr>\n",
       "      <th>0</th>\n",
       "      <td>319-50-3348</td>\n",
       "      <td>B</td>\n",
       "      <td>Mandalay</td>\n",
       "      <td>Normal</td>\n",
       "      <td>Female</td>\n",
       "      <td>Home and lifestyle</td>\n",
       "      <td>40.30</td>\n",
       "      <td>2</td>\n",
       "      <td>4.0300</td>\n",
       "      <td>84.6300</td>\n",
       "      <td>3/11/2019</td>\n",
       "      <td>15:30</td>\n",
       "      <td>Ewallet</td>\n",
       "      <td>80.60</td>\n",
       "      <td>4.761905</td>\n",
       "      <td>4.0300</td>\n",
       "      <td>4.4</td>\n",
       "    </tr>\n",
       "    <tr>\n",
       "      <th>1</th>\n",
       "      <td>390-80-5128</td>\n",
       "      <td>B</td>\n",
       "      <td>Mandalay</td>\n",
       "      <td>Member</td>\n",
       "      <td>Female</td>\n",
       "      <td>Health and beauty</td>\n",
       "      <td>19.15</td>\n",
       "      <td>1</td>\n",
       "      <td>0.9575</td>\n",
       "      <td>20.1075</td>\n",
       "      <td>1/28/2019</td>\n",
       "      <td>17:58</td>\n",
       "      <td>Credit card</td>\n",
       "      <td>19.15</td>\n",
       "      <td>4.761905</td>\n",
       "      <td>0.9575</td>\n",
       "      <td>9.5</td>\n",
       "    </tr>\n",
       "    <tr>\n",
       "      <th>2</th>\n",
       "      <td>523-38-0215</td>\n",
       "      <td>C</td>\n",
       "      <td>Naypyitaw</td>\n",
       "      <td>Normal</td>\n",
       "      <td>Male</td>\n",
       "      <td>Home and lifestyle</td>\n",
       "      <td>37.00</td>\n",
       "      <td>1</td>\n",
       "      <td>1.8500</td>\n",
       "      <td>38.8500</td>\n",
       "      <td>3/6/2019</td>\n",
       "      <td>13:29</td>\n",
       "      <td>Credit card</td>\n",
       "      <td>37.00</td>\n",
       "      <td>4.761905</td>\n",
       "      <td>1.8500</td>\n",
       "      <td>7.9</td>\n",
       "    </tr>\n",
       "    <tr>\n",
       "      <th>3</th>\n",
       "      <td>565-91-4567</td>\n",
       "      <td>B</td>\n",
       "      <td>Mandalay</td>\n",
       "      <td>Normal</td>\n",
       "      <td>Male</td>\n",
       "      <td>Health and beauty</td>\n",
       "      <td>10.75</td>\n",
       "      <td>8</td>\n",
       "      <td>4.3000</td>\n",
       "      <td>90.3000</td>\n",
       "      <td>3/15/2019</td>\n",
       "      <td>14:38</td>\n",
       "      <td>Ewallet</td>\n",
       "      <td>86.00</td>\n",
       "      <td>4.761905</td>\n",
       "      <td>4.3000</td>\n",
       "      <td>6.2</td>\n",
       "    </tr>\n",
       "    <tr>\n",
       "      <th>4</th>\n",
       "      <td>829-34-3910</td>\n",
       "      <td>A</td>\n",
       "      <td>Yangon</td>\n",
       "      <td>Normal</td>\n",
       "      <td>Female</td>\n",
       "      <td>Health and beauty</td>\n",
       "      <td>71.38</td>\n",
       "      <td>10</td>\n",
       "      <td>35.6900</td>\n",
       "      <td>749.4900</td>\n",
       "      <td>3/29/2019</td>\n",
       "      <td>19:21</td>\n",
       "      <td>Cash</td>\n",
       "      <td>713.80</td>\n",
       "      <td>4.761905</td>\n",
       "      <td>35.6900</td>\n",
       "      <td>5.7</td>\n",
       "    </tr>\n",
       "    <tr>\n",
       "      <th>...</th>\n",
       "      <td>...</td>\n",
       "      <td>...</td>\n",
       "      <td>...</td>\n",
       "      <td>...</td>\n",
       "      <td>...</td>\n",
       "      <td>...</td>\n",
       "      <td>...</td>\n",
       "      <td>...</td>\n",
       "      <td>...</td>\n",
       "      <td>...</td>\n",
       "      <td>...</td>\n",
       "      <td>...</td>\n",
       "      <td>...</td>\n",
       "      <td>...</td>\n",
       "      <td>...</td>\n",
       "      <td>...</td>\n",
       "      <td>...</td>\n",
       "    </tr>\n",
       "    <tr>\n",
       "      <th>1095</th>\n",
       "      <td>122-61-9553</td>\n",
       "      <td>C</td>\n",
       "      <td>Naypyitaw</td>\n",
       "      <td>Normal</td>\n",
       "      <td>Female</td>\n",
       "      <td>Electronic accessories</td>\n",
       "      <td>51.32</td>\n",
       "      <td>9</td>\n",
       "      <td>23.0940</td>\n",
       "      <td>484.9740</td>\n",
       "      <td>3/14/2019</td>\n",
       "      <td>19:33</td>\n",
       "      <td>Cash</td>\n",
       "      <td>461.88</td>\n",
       "      <td>4.761905</td>\n",
       "      <td>23.0940</td>\n",
       "      <td>5.6</td>\n",
       "    </tr>\n",
       "    <tr>\n",
       "      <th>1096</th>\n",
       "      <td>789-23-8625</td>\n",
       "      <td>B</td>\n",
       "      <td>Mandalay</td>\n",
       "      <td>Member</td>\n",
       "      <td>Male</td>\n",
       "      <td>Fashion accessories</td>\n",
       "      <td>93.22</td>\n",
       "      <td>3</td>\n",
       "      <td>NaN</td>\n",
       "      <td>293.6430</td>\n",
       "      <td>1/24/2019</td>\n",
       "      <td>11:45</td>\n",
       "      <td>Cash</td>\n",
       "      <td>279.66</td>\n",
       "      <td>4.761905</td>\n",
       "      <td>13.9830</td>\n",
       "      <td>7.2</td>\n",
       "    </tr>\n",
       "    <tr>\n",
       "      <th>1097</th>\n",
       "      <td>600-38-9738</td>\n",
       "      <td>C</td>\n",
       "      <td>Naypyitaw</td>\n",
       "      <td>Member</td>\n",
       "      <td>Male</td>\n",
       "      <td>Sports and travel</td>\n",
       "      <td>71.92</td>\n",
       "      <td>5</td>\n",
       "      <td>17.9800</td>\n",
       "      <td>377.5800</td>\n",
       "      <td>1/17/2019</td>\n",
       "      <td>15:05</td>\n",
       "      <td>Credit card</td>\n",
       "      <td>359.60</td>\n",
       "      <td>4.761905</td>\n",
       "      <td>17.9800</td>\n",
       "      <td>4.3</td>\n",
       "    </tr>\n",
       "    <tr>\n",
       "      <th>1098</th>\n",
       "      <td>355-34-6244</td>\n",
       "      <td>B</td>\n",
       "      <td>Mandalay</td>\n",
       "      <td>Normal</td>\n",
       "      <td>Male</td>\n",
       "      <td>Food and beverages</td>\n",
       "      <td>72.39</td>\n",
       "      <td>2</td>\n",
       "      <td>7.2390</td>\n",
       "      <td>152.0190</td>\n",
       "      <td>1/13/2019</td>\n",
       "      <td>19:55</td>\n",
       "      <td>Credit card</td>\n",
       "      <td>144.78</td>\n",
       "      <td>4.761905</td>\n",
       "      <td>7.2390</td>\n",
       "      <td>8.1</td>\n",
       "    </tr>\n",
       "    <tr>\n",
       "      <th>1099</th>\n",
       "      <td>595-27-4851</td>\n",
       "      <td>A</td>\n",
       "      <td>Yangon</td>\n",
       "      <td>Normal</td>\n",
       "      <td>Female</td>\n",
       "      <td>Fashion accessories</td>\n",
       "      <td>54.28</td>\n",
       "      <td>7</td>\n",
       "      <td>18.9980</td>\n",
       "      <td>398.9580</td>\n",
       "      <td>1/27/2019</td>\n",
       "      <td>18:05</td>\n",
       "      <td>Ewallet</td>\n",
       "      <td>379.96</td>\n",
       "      <td>4.761905</td>\n",
       "      <td>18.9980</td>\n",
       "      <td>9.3</td>\n",
       "    </tr>\n",
       "  </tbody>\n",
       "</table>\n",
       "<p>1100 rows × 17 columns</p>\n",
       "</div>"
      ],
      "text/plain": [
       "               ID Filial     Cidade Tipo cliente  Genero  \\\n",
       "0     319-50-3348      B   Mandalay       Normal  Female   \n",
       "1     390-80-5128      B   Mandalay       Member  Female   \n",
       "2     523-38-0215      C  Naypyitaw       Normal    Male   \n",
       "3     565-91-4567      B   Mandalay       Normal    Male   \n",
       "4     829-34-3910      A     Yangon       Normal  Female   \n",
       "...           ...    ...        ...          ...     ...   \n",
       "1095  122-61-9553      C  Naypyitaw       Normal  Female   \n",
       "1096  789-23-8625      B   Mandalay       Member    Male   \n",
       "1097  600-38-9738      C  Naypyitaw       Member    Male   \n",
       "1098  355-34-6244      B   Mandalay       Normal    Male   \n",
       "1099  595-27-4851      A     Yangon       Normal  Female   \n",
       "\n",
       "               Linha produto  Preco unitario  Quantidade  Taxa 5%     Total  \\\n",
       "0         Home and lifestyle           40.30           2   4.0300   84.6300   \n",
       "1          Health and beauty           19.15           1   0.9575   20.1075   \n",
       "2         Home and lifestyle           37.00           1   1.8500   38.8500   \n",
       "3          Health and beauty           10.75           8   4.3000   90.3000   \n",
       "4          Health and beauty           71.38          10  35.6900  749.4900   \n",
       "...                      ...             ...         ...      ...       ...   \n",
       "1095  Electronic accessories           51.32           9  23.0940  484.9740   \n",
       "1096     Fashion accessories           93.22           3      NaN  293.6430   \n",
       "1097       Sports and travel           71.92           5  17.9800  377.5800   \n",
       "1098      Food and beverages           72.39           2   7.2390  152.0190   \n",
       "1099     Fashion accessories           54.28           7  18.9980  398.9580   \n",
       "\n",
       "           Data   Hora Forma pagamento  Custo produto vendido  Margem bruta  \\\n",
       "0     3/11/2019  15:30         Ewallet                  80.60      4.761905   \n",
       "1     1/28/2019  17:58     Credit card                  19.15      4.761905   \n",
       "2      3/6/2019  13:29     Credit card                  37.00      4.761905   \n",
       "3     3/15/2019  14:38         Ewallet                  86.00      4.761905   \n",
       "4     3/29/2019  19:21            Cash                 713.80      4.761905   \n",
       "...         ...    ...             ...                    ...           ...   \n",
       "1095  3/14/2019  19:33            Cash                 461.88      4.761905   \n",
       "1096  1/24/2019  11:45            Cash                 279.66      4.761905   \n",
       "1097  1/17/2019  15:05     Credit card                 359.60      4.761905   \n",
       "1098  1/13/2019  19:55     Credit card                 144.78      4.761905   \n",
       "1099  1/27/2019  18:05         Ewallet                 379.96      4.761905   \n",
       "\n",
       "      Receita bruta  Rating  \n",
       "0            4.0300     4.4  \n",
       "1            0.9575     9.5  \n",
       "2            1.8500     7.9  \n",
       "3            4.3000     6.2  \n",
       "4           35.6900     5.7  \n",
       "...             ...     ...  \n",
       "1095        23.0940     5.6  \n",
       "1096        13.9830     7.2  \n",
       "1097        17.9800     4.3  \n",
       "1098         7.2390     8.1  \n",
       "1099        18.9980     9.3  \n",
       "\n",
       "[1100 rows x 17 columns]"
      ]
     },
     "execution_count": 3,
     "metadata": {},
     "output_type": "execute_result"
    }
   ],
   "source": [
    "df"
   ]
  },
  {
   "cell_type": "markdown",
   "id": "744abbed",
   "metadata": {
    "id": "jf4C_kEFBTNp"
   },
   "source": [
    "# "
   ]
  },
  {
   "cell_type": "markdown",
   "id": "75ebb3ff",
   "metadata": {
    "id": "jf4C_kEFBTNp"
   },
   "source": [
    "# "
   ]
  },
  {
   "cell_type": "markdown",
   "id": "82e70934",
   "metadata": {
    "id": "jf4C_kEFBTNp"
   },
   "source": [
    "# "
   ]
  },
  {
   "cell_type": "markdown",
   "id": "fa9434a8",
   "metadata": {
    "id": "jf4C_kEFBTNp"
   },
   "source": [
    "# "
   ]
  },
  {
   "cell_type": "markdown",
   "id": "8ffbba4d",
   "metadata": {
    "id": "8ffbba4d"
   },
   "source": [
    "## **Exercício 2 - Conhecendo nossos dados:** \n",
    "#### Nessa etapa, busque gerar visualizações básicas do dataframe."
   ]
  },
  {
   "cell_type": "markdown",
   "id": "e2902730",
   "metadata": {
    "id": "e2902730"
   },
   "source": [
    "### a) As cinco primeiras linhas\n",
    "\n",
    "\n"
   ]
  },
  {
   "cell_type": "code",
   "execution_count": 4,
   "id": "f26e4e6b",
   "metadata": {
    "id": "f26e4e6b"
   },
   "outputs": [
    {
     "data": {
      "text/html": [
       "<div>\n",
       "<style scoped>\n",
       "    .dataframe tbody tr th:only-of-type {\n",
       "        vertical-align: middle;\n",
       "    }\n",
       "\n",
       "    .dataframe tbody tr th {\n",
       "        vertical-align: top;\n",
       "    }\n",
       "\n",
       "    .dataframe thead th {\n",
       "        text-align: right;\n",
       "    }\n",
       "</style>\n",
       "<table border=\"1\" class=\"dataframe\">\n",
       "  <thead>\n",
       "    <tr style=\"text-align: right;\">\n",
       "      <th></th>\n",
       "      <th>ID</th>\n",
       "      <th>Filial</th>\n",
       "      <th>Cidade</th>\n",
       "      <th>Tipo cliente</th>\n",
       "      <th>Genero</th>\n",
       "      <th>Linha produto</th>\n",
       "      <th>Preco unitario</th>\n",
       "      <th>Quantidade</th>\n",
       "      <th>Taxa 5%</th>\n",
       "      <th>Total</th>\n",
       "      <th>Data</th>\n",
       "      <th>Hora</th>\n",
       "      <th>Forma pagamento</th>\n",
       "      <th>Custo produto vendido</th>\n",
       "      <th>Margem bruta</th>\n",
       "      <th>Receita bruta</th>\n",
       "      <th>Rating</th>\n",
       "    </tr>\n",
       "  </thead>\n",
       "  <tbody>\n",
       "    <tr>\n",
       "      <th>0</th>\n",
       "      <td>319-50-3348</td>\n",
       "      <td>B</td>\n",
       "      <td>Mandalay</td>\n",
       "      <td>Normal</td>\n",
       "      <td>Female</td>\n",
       "      <td>Home and lifestyle</td>\n",
       "      <td>40.30</td>\n",
       "      <td>2</td>\n",
       "      <td>4.0300</td>\n",
       "      <td>84.6300</td>\n",
       "      <td>3/11/2019</td>\n",
       "      <td>15:30</td>\n",
       "      <td>Ewallet</td>\n",
       "      <td>80.60</td>\n",
       "      <td>4.761905</td>\n",
       "      <td>4.0300</td>\n",
       "      <td>4.4</td>\n",
       "    </tr>\n",
       "    <tr>\n",
       "      <th>1</th>\n",
       "      <td>390-80-5128</td>\n",
       "      <td>B</td>\n",
       "      <td>Mandalay</td>\n",
       "      <td>Member</td>\n",
       "      <td>Female</td>\n",
       "      <td>Health and beauty</td>\n",
       "      <td>19.15</td>\n",
       "      <td>1</td>\n",
       "      <td>0.9575</td>\n",
       "      <td>20.1075</td>\n",
       "      <td>1/28/2019</td>\n",
       "      <td>17:58</td>\n",
       "      <td>Credit card</td>\n",
       "      <td>19.15</td>\n",
       "      <td>4.761905</td>\n",
       "      <td>0.9575</td>\n",
       "      <td>9.5</td>\n",
       "    </tr>\n",
       "    <tr>\n",
       "      <th>2</th>\n",
       "      <td>523-38-0215</td>\n",
       "      <td>C</td>\n",
       "      <td>Naypyitaw</td>\n",
       "      <td>Normal</td>\n",
       "      <td>Male</td>\n",
       "      <td>Home and lifestyle</td>\n",
       "      <td>37.00</td>\n",
       "      <td>1</td>\n",
       "      <td>1.8500</td>\n",
       "      <td>38.8500</td>\n",
       "      <td>3/6/2019</td>\n",
       "      <td>13:29</td>\n",
       "      <td>Credit card</td>\n",
       "      <td>37.00</td>\n",
       "      <td>4.761905</td>\n",
       "      <td>1.8500</td>\n",
       "      <td>7.9</td>\n",
       "    </tr>\n",
       "    <tr>\n",
       "      <th>3</th>\n",
       "      <td>565-91-4567</td>\n",
       "      <td>B</td>\n",
       "      <td>Mandalay</td>\n",
       "      <td>Normal</td>\n",
       "      <td>Male</td>\n",
       "      <td>Health and beauty</td>\n",
       "      <td>10.75</td>\n",
       "      <td>8</td>\n",
       "      <td>4.3000</td>\n",
       "      <td>90.3000</td>\n",
       "      <td>3/15/2019</td>\n",
       "      <td>14:38</td>\n",
       "      <td>Ewallet</td>\n",
       "      <td>86.00</td>\n",
       "      <td>4.761905</td>\n",
       "      <td>4.3000</td>\n",
       "      <td>6.2</td>\n",
       "    </tr>\n",
       "    <tr>\n",
       "      <th>4</th>\n",
       "      <td>829-34-3910</td>\n",
       "      <td>A</td>\n",
       "      <td>Yangon</td>\n",
       "      <td>Normal</td>\n",
       "      <td>Female</td>\n",
       "      <td>Health and beauty</td>\n",
       "      <td>71.38</td>\n",
       "      <td>10</td>\n",
       "      <td>35.6900</td>\n",
       "      <td>749.4900</td>\n",
       "      <td>3/29/2019</td>\n",
       "      <td>19:21</td>\n",
       "      <td>Cash</td>\n",
       "      <td>713.80</td>\n",
       "      <td>4.761905</td>\n",
       "      <td>35.6900</td>\n",
       "      <td>5.7</td>\n",
       "    </tr>\n",
       "  </tbody>\n",
       "</table>\n",
       "</div>"
      ],
      "text/plain": [
       "            ID Filial     Cidade Tipo cliente  Genero       Linha produto  \\\n",
       "0  319-50-3348      B   Mandalay       Normal  Female  Home and lifestyle   \n",
       "1  390-80-5128      B   Mandalay       Member  Female   Health and beauty   \n",
       "2  523-38-0215      C  Naypyitaw       Normal    Male  Home and lifestyle   \n",
       "3  565-91-4567      B   Mandalay       Normal    Male   Health and beauty   \n",
       "4  829-34-3910      A     Yangon       Normal  Female   Health and beauty   \n",
       "\n",
       "   Preco unitario  Quantidade  Taxa 5%     Total       Data   Hora  \\\n",
       "0           40.30           2   4.0300   84.6300  3/11/2019  15:30   \n",
       "1           19.15           1   0.9575   20.1075  1/28/2019  17:58   \n",
       "2           37.00           1   1.8500   38.8500   3/6/2019  13:29   \n",
       "3           10.75           8   4.3000   90.3000  3/15/2019  14:38   \n",
       "4           71.38          10  35.6900  749.4900  3/29/2019  19:21   \n",
       "\n",
       "  Forma pagamento  Custo produto vendido  Margem bruta  Receita bruta  Rating  \n",
       "0         Ewallet                  80.60      4.761905         4.0300     4.4  \n",
       "1     Credit card                  19.15      4.761905         0.9575     9.5  \n",
       "2     Credit card                  37.00      4.761905         1.8500     7.9  \n",
       "3         Ewallet                  86.00      4.761905         4.3000     6.2  \n",
       "4            Cash                 713.80      4.761905        35.6900     5.7  "
      ]
     },
     "execution_count": 4,
     "metadata": {},
     "output_type": "execute_result"
    }
   ],
   "source": [
    "df.head()"
   ]
  },
  {
   "cell_type": "markdown",
   "id": "74e56832",
   "metadata": {
    "id": "74e56832"
   },
   "source": [
    "### b) As cinco últimas linhas\n"
   ]
  },
  {
   "cell_type": "code",
   "execution_count": 5,
   "id": "48b9c21d",
   "metadata": {
    "id": "48b9c21d"
   },
   "outputs": [
    {
     "data": {
      "text/html": [
       "<div>\n",
       "<style scoped>\n",
       "    .dataframe tbody tr th:only-of-type {\n",
       "        vertical-align: middle;\n",
       "    }\n",
       "\n",
       "    .dataframe tbody tr th {\n",
       "        vertical-align: top;\n",
       "    }\n",
       "\n",
       "    .dataframe thead th {\n",
       "        text-align: right;\n",
       "    }\n",
       "</style>\n",
       "<table border=\"1\" class=\"dataframe\">\n",
       "  <thead>\n",
       "    <tr style=\"text-align: right;\">\n",
       "      <th></th>\n",
       "      <th>ID</th>\n",
       "      <th>Filial</th>\n",
       "      <th>Cidade</th>\n",
       "      <th>Tipo cliente</th>\n",
       "      <th>Genero</th>\n",
       "      <th>Linha produto</th>\n",
       "      <th>Preco unitario</th>\n",
       "      <th>Quantidade</th>\n",
       "      <th>Taxa 5%</th>\n",
       "      <th>Total</th>\n",
       "      <th>Data</th>\n",
       "      <th>Hora</th>\n",
       "      <th>Forma pagamento</th>\n",
       "      <th>Custo produto vendido</th>\n",
       "      <th>Margem bruta</th>\n",
       "      <th>Receita bruta</th>\n",
       "      <th>Rating</th>\n",
       "    </tr>\n",
       "  </thead>\n",
       "  <tbody>\n",
       "    <tr>\n",
       "      <th>1095</th>\n",
       "      <td>122-61-9553</td>\n",
       "      <td>C</td>\n",
       "      <td>Naypyitaw</td>\n",
       "      <td>Normal</td>\n",
       "      <td>Female</td>\n",
       "      <td>Electronic accessories</td>\n",
       "      <td>51.32</td>\n",
       "      <td>9</td>\n",
       "      <td>23.094</td>\n",
       "      <td>484.974</td>\n",
       "      <td>3/14/2019</td>\n",
       "      <td>19:33</td>\n",
       "      <td>Cash</td>\n",
       "      <td>461.88</td>\n",
       "      <td>4.761905</td>\n",
       "      <td>23.094</td>\n",
       "      <td>5.6</td>\n",
       "    </tr>\n",
       "    <tr>\n",
       "      <th>1096</th>\n",
       "      <td>789-23-8625</td>\n",
       "      <td>B</td>\n",
       "      <td>Mandalay</td>\n",
       "      <td>Member</td>\n",
       "      <td>Male</td>\n",
       "      <td>Fashion accessories</td>\n",
       "      <td>93.22</td>\n",
       "      <td>3</td>\n",
       "      <td>NaN</td>\n",
       "      <td>293.643</td>\n",
       "      <td>1/24/2019</td>\n",
       "      <td>11:45</td>\n",
       "      <td>Cash</td>\n",
       "      <td>279.66</td>\n",
       "      <td>4.761905</td>\n",
       "      <td>13.983</td>\n",
       "      <td>7.2</td>\n",
       "    </tr>\n",
       "    <tr>\n",
       "      <th>1097</th>\n",
       "      <td>600-38-9738</td>\n",
       "      <td>C</td>\n",
       "      <td>Naypyitaw</td>\n",
       "      <td>Member</td>\n",
       "      <td>Male</td>\n",
       "      <td>Sports and travel</td>\n",
       "      <td>71.92</td>\n",
       "      <td>5</td>\n",
       "      <td>17.980</td>\n",
       "      <td>377.580</td>\n",
       "      <td>1/17/2019</td>\n",
       "      <td>15:05</td>\n",
       "      <td>Credit card</td>\n",
       "      <td>359.60</td>\n",
       "      <td>4.761905</td>\n",
       "      <td>17.980</td>\n",
       "      <td>4.3</td>\n",
       "    </tr>\n",
       "    <tr>\n",
       "      <th>1098</th>\n",
       "      <td>355-34-6244</td>\n",
       "      <td>B</td>\n",
       "      <td>Mandalay</td>\n",
       "      <td>Normal</td>\n",
       "      <td>Male</td>\n",
       "      <td>Food and beverages</td>\n",
       "      <td>72.39</td>\n",
       "      <td>2</td>\n",
       "      <td>7.239</td>\n",
       "      <td>152.019</td>\n",
       "      <td>1/13/2019</td>\n",
       "      <td>19:55</td>\n",
       "      <td>Credit card</td>\n",
       "      <td>144.78</td>\n",
       "      <td>4.761905</td>\n",
       "      <td>7.239</td>\n",
       "      <td>8.1</td>\n",
       "    </tr>\n",
       "    <tr>\n",
       "      <th>1099</th>\n",
       "      <td>595-27-4851</td>\n",
       "      <td>A</td>\n",
       "      <td>Yangon</td>\n",
       "      <td>Normal</td>\n",
       "      <td>Female</td>\n",
       "      <td>Fashion accessories</td>\n",
       "      <td>54.28</td>\n",
       "      <td>7</td>\n",
       "      <td>18.998</td>\n",
       "      <td>398.958</td>\n",
       "      <td>1/27/2019</td>\n",
       "      <td>18:05</td>\n",
       "      <td>Ewallet</td>\n",
       "      <td>379.96</td>\n",
       "      <td>4.761905</td>\n",
       "      <td>18.998</td>\n",
       "      <td>9.3</td>\n",
       "    </tr>\n",
       "  </tbody>\n",
       "</table>\n",
       "</div>"
      ],
      "text/plain": [
       "               ID Filial     Cidade Tipo cliente  Genero  \\\n",
       "1095  122-61-9553      C  Naypyitaw       Normal  Female   \n",
       "1096  789-23-8625      B   Mandalay       Member    Male   \n",
       "1097  600-38-9738      C  Naypyitaw       Member    Male   \n",
       "1098  355-34-6244      B   Mandalay       Normal    Male   \n",
       "1099  595-27-4851      A     Yangon       Normal  Female   \n",
       "\n",
       "               Linha produto  Preco unitario  Quantidade  Taxa 5%    Total  \\\n",
       "1095  Electronic accessories           51.32           9   23.094  484.974   \n",
       "1096     Fashion accessories           93.22           3      NaN  293.643   \n",
       "1097       Sports and travel           71.92           5   17.980  377.580   \n",
       "1098      Food and beverages           72.39           2    7.239  152.019   \n",
       "1099     Fashion accessories           54.28           7   18.998  398.958   \n",
       "\n",
       "           Data   Hora Forma pagamento  Custo produto vendido  Margem bruta  \\\n",
       "1095  3/14/2019  19:33            Cash                 461.88      4.761905   \n",
       "1096  1/24/2019  11:45            Cash                 279.66      4.761905   \n",
       "1097  1/17/2019  15:05     Credit card                 359.60      4.761905   \n",
       "1098  1/13/2019  19:55     Credit card                 144.78      4.761905   \n",
       "1099  1/27/2019  18:05         Ewallet                 379.96      4.761905   \n",
       "\n",
       "      Receita bruta  Rating  \n",
       "1095         23.094     5.6  \n",
       "1096         13.983     7.2  \n",
       "1097         17.980     4.3  \n",
       "1098          7.239     8.1  \n",
       "1099         18.998     9.3  "
      ]
     },
     "execution_count": 5,
     "metadata": {},
     "output_type": "execute_result"
    }
   ],
   "source": [
    "df.tail()"
   ]
  },
  {
   "cell_type": "markdown",
   "id": "127d24cc",
   "metadata": {
    "id": "127d24cc"
   },
   "source": [
    "### c) Quantas linhas e colunas possuem no dataframe"
   ]
  },
  {
   "cell_type": "code",
   "execution_count": 6,
   "id": "faac1eae",
   "metadata": {
    "id": "faac1eae"
   },
   "outputs": [
    {
     "data": {
      "text/plain": [
       "(1100, 17)"
      ]
     },
     "execution_count": 6,
     "metadata": {},
     "output_type": "execute_result"
    }
   ],
   "source": [
    "linhas = df.shape[0]\n",
    "colunas = df.shape[1]"
   ]
  },
  {
   "cell_type": "markdown",
   "id": "ee1ca42c",
   "metadata": {
    "id": "ee1ca42c"
   },
   "source": [
    "### d) Qual é o tipo (type) de dados que cada coluna possui"
   ]
  },
  {
   "cell_type": "code",
   "execution_count": 8,
   "id": "c9c7c202",
   "metadata": {
    "id": "c9c7c202"
   },
   "outputs": [
    {
     "data": {
      "text/plain": [
       "ID                        object\n",
       "Filial                    object\n",
       "Cidade                    object\n",
       "Tipo cliente              object\n",
       "Genero                    object\n",
       "Linha produto             object\n",
       "Preco unitario           float64\n",
       "Quantidade                 int64\n",
       "Taxa 5%                  float64\n",
       "Total                    float64\n",
       "Data                      object\n",
       "Hora                      object\n",
       "Forma pagamento           object\n",
       "Custo produto vendido    float64\n",
       "Margem bruta             float64\n",
       "Receita bruta            float64\n",
       "Rating                   float64\n",
       "dtype: object"
      ]
     },
     "execution_count": 8,
     "metadata": {},
     "output_type": "execute_result"
    }
   ],
   "source": [
    "df.dtypes"
   ]
  },
  {
   "cell_type": "markdown",
   "id": "8b222d80",
   "metadata": {
    "id": "jf4C_kEFBTNp"
   },
   "source": [
    "# "
   ]
  },
  {
   "cell_type": "markdown",
   "id": "3c939cad",
   "metadata": {
    "id": "jf4C_kEFBTNp"
   },
   "source": [
    "# "
   ]
  },
  {
   "cell_type": "markdown",
   "id": "b1df9915",
   "metadata": {
    "id": "jf4C_kEFBTNp"
   },
   "source": [
    "# "
   ]
  },
  {
   "cell_type": "markdown",
   "id": "3c080056",
   "metadata": {
    "id": "jf4C_kEFBTNp"
   },
   "source": [
    "# "
   ]
  },
  {
   "cell_type": "markdown",
   "id": "78c2a486",
   "metadata": {
    "id": "78c2a486"
   },
   "source": [
    "## **Exercício 3 - Alguns calculos e análise das variáveis quantitativas:**\n",
    "\n",
    "### a) Média do valor total de cada compra"
   ]
  },
  {
   "cell_type": "code",
   "execution_count": 9,
   "id": "PxBh59VLrGZ8",
   "metadata": {
    "id": "PxBh59VLrGZ8"
   },
   "outputs": [
    {
     "data": {
      "text/plain": [
       "326.9037068181815"
      ]
     },
     "execution_count": 9,
     "metadata": {},
     "output_type": "execute_result"
    }
   ],
   "source": [
    "df[\"Total\"].mean()"
   ]
  },
  {
   "cell_type": "markdown",
   "id": "KupotL_vrKIG",
   "metadata": {
    "id": "KupotL_vrKIG"
   },
   "source": [
    "### b) Qual quantidade vendida aparece mais vezes?\n",
    "    "
   ]
  },
  {
   "cell_type": "code",
   "execution_count": 10,
   "id": "hQJZFUOLu9Rs",
   "metadata": {
    "id": "hQJZFUOLu9Rs"
   },
   "outputs": [
    {
     "data": {
      "text/plain": [
       "10"
      ]
     },
     "execution_count": 10,
     "metadata": {},
     "output_type": "execute_result"
    }
   ],
   "source": [
    "df[\"Quantidade\"].mode()[0]"
   ]
  },
  {
   "cell_type": "markdown",
   "id": "qKyR9bGMrRPV",
   "metadata": {
    "id": "qKyR9bGMrRPV"
   },
   "source": [
    "### c) Valor total das receitas de venda\n",
    "     "
   ]
  },
  {
   "cell_type": "code",
   "execution_count": 11,
   "id": "iaGi46LRu90b",
   "metadata": {
    "id": "iaGi46LRu90b",
    "scrolled": false
   },
   "outputs": [
    {
     "data": {
      "text/plain": [
       "359594.0775"
      ]
     },
     "execution_count": 11,
     "metadata": {},
     "output_type": "execute_result"
    }
   ],
   "source": [
    "df[\"Total\"].sum()"
   ]
  },
  {
   "cell_type": "markdown",
   "id": "63c0b502",
   "metadata": {
    "id": "jf4C_kEFBTNp"
   },
   "source": [
    "# "
   ]
  },
  {
   "cell_type": "markdown",
   "id": "W2rWxsKlrXAk",
   "metadata": {
    "id": "W2rWxsKlrXAk"
   },
   "source": [
    "### d) Menor e maior valor total de todas as vendas"
   ]
  },
  {
   "cell_type": "code",
   "execution_count": 12,
   "id": "XLsUP0NmrG_h",
   "metadata": {
    "id": "XLsUP0NmrG_h"
   },
   "outputs": [
    {
     "data": {
      "text/plain": [
       "1042.65"
      ]
     },
     "execution_count": 12,
     "metadata": {},
     "output_type": "execute_result"
    }
   ],
   "source": [
    "df[\"Total\"].max()"
   ]
  },
  {
   "cell_type": "code",
   "execution_count": 13,
   "id": "AIU15JSJu-Nu",
   "metadata": {
    "id": "AIU15JSJu-Nu"
   },
   "outputs": [
    {
     "data": {
      "text/plain": [
       "10.6785"
      ]
     },
     "execution_count": 13,
     "metadata": {},
     "output_type": "execute_result"
    }
   ],
   "source": [
    "df[\"Total\"].min()"
   ]
  },
  {
   "cell_type": "markdown",
   "id": "5fcb106b",
   "metadata": {
    "id": "jf4C_kEFBTNp"
   },
   "source": [
    "# "
   ]
  },
  {
   "cell_type": "markdown",
   "id": "d531e303",
   "metadata": {
    "id": "jf4C_kEFBTNp"
   },
   "source": [
    "# "
   ]
  },
  {
   "cell_type": "markdown",
   "id": "54c70cae",
   "metadata": {
    "id": "jf4C_kEFBTNp"
   },
   "source": [
    "# "
   ]
  },
  {
   "cell_type": "markdown",
   "id": "0c7a1cfb",
   "metadata": {
    "id": "jf4C_kEFBTNp"
   },
   "source": [
    "# "
   ]
  },
  {
   "cell_type": "markdown",
   "id": "cea6f4f2",
   "metadata": {
    "id": "cea6f4f2"
   },
   "source": [
    "## **Exercício 4 - Manipulando os dados:**\n",
    "### Apague do DataFrame ou crie um novo sem as colunas abaixo, que não serão úteis para nossos exercícios. Exiba o novo DataFrame para confirmar que elas foram excluídas.\n",
    "\n",
    "         1) Filial\n",
    "         2) Tipo cliente\n",
    "         3) Data\n",
    "         4) Hora\n"
   ]
  },
  {
   "cell_type": "code",
   "execution_count": 14,
   "id": "8a25efae",
   "metadata": {
    "id": "8a25efae"
   },
   "outputs": [
    {
     "data": {
      "text/html": [
       "<div>\n",
       "<style scoped>\n",
       "    .dataframe tbody tr th:only-of-type {\n",
       "        vertical-align: middle;\n",
       "    }\n",
       "\n",
       "    .dataframe tbody tr th {\n",
       "        vertical-align: top;\n",
       "    }\n",
       "\n",
       "    .dataframe thead th {\n",
       "        text-align: right;\n",
       "    }\n",
       "</style>\n",
       "<table border=\"1\" class=\"dataframe\">\n",
       "  <thead>\n",
       "    <tr style=\"text-align: right;\">\n",
       "      <th></th>\n",
       "      <th>ID</th>\n",
       "      <th>Cidade</th>\n",
       "      <th>Genero</th>\n",
       "      <th>Linha produto</th>\n",
       "      <th>Preco unitario</th>\n",
       "      <th>Quantidade</th>\n",
       "      <th>Taxa 5%</th>\n",
       "      <th>Total</th>\n",
       "      <th>Forma pagamento</th>\n",
       "      <th>Custo produto vendido</th>\n",
       "      <th>Margem bruta</th>\n",
       "      <th>Receita bruta</th>\n",
       "      <th>Rating</th>\n",
       "    </tr>\n",
       "  </thead>\n",
       "  <tbody>\n",
       "    <tr>\n",
       "      <th>0</th>\n",
       "      <td>319-50-3348</td>\n",
       "      <td>Mandalay</td>\n",
       "      <td>Female</td>\n",
       "      <td>Home and lifestyle</td>\n",
       "      <td>40.30</td>\n",
       "      <td>2</td>\n",
       "      <td>4.0300</td>\n",
       "      <td>84.6300</td>\n",
       "      <td>Ewallet</td>\n",
       "      <td>80.60</td>\n",
       "      <td>4.761905</td>\n",
       "      <td>4.0300</td>\n",
       "      <td>4.4</td>\n",
       "    </tr>\n",
       "    <tr>\n",
       "      <th>1</th>\n",
       "      <td>390-80-5128</td>\n",
       "      <td>Mandalay</td>\n",
       "      <td>Female</td>\n",
       "      <td>Health and beauty</td>\n",
       "      <td>19.15</td>\n",
       "      <td>1</td>\n",
       "      <td>0.9575</td>\n",
       "      <td>20.1075</td>\n",
       "      <td>Credit card</td>\n",
       "      <td>19.15</td>\n",
       "      <td>4.761905</td>\n",
       "      <td>0.9575</td>\n",
       "      <td>9.5</td>\n",
       "    </tr>\n",
       "    <tr>\n",
       "      <th>2</th>\n",
       "      <td>523-38-0215</td>\n",
       "      <td>Naypyitaw</td>\n",
       "      <td>Male</td>\n",
       "      <td>Home and lifestyle</td>\n",
       "      <td>37.00</td>\n",
       "      <td>1</td>\n",
       "      <td>1.8500</td>\n",
       "      <td>38.8500</td>\n",
       "      <td>Credit card</td>\n",
       "      <td>37.00</td>\n",
       "      <td>4.761905</td>\n",
       "      <td>1.8500</td>\n",
       "      <td>7.9</td>\n",
       "    </tr>\n",
       "    <tr>\n",
       "      <th>3</th>\n",
       "      <td>565-91-4567</td>\n",
       "      <td>Mandalay</td>\n",
       "      <td>Male</td>\n",
       "      <td>Health and beauty</td>\n",
       "      <td>10.75</td>\n",
       "      <td>8</td>\n",
       "      <td>4.3000</td>\n",
       "      <td>90.3000</td>\n",
       "      <td>Ewallet</td>\n",
       "      <td>86.00</td>\n",
       "      <td>4.761905</td>\n",
       "      <td>4.3000</td>\n",
       "      <td>6.2</td>\n",
       "    </tr>\n",
       "    <tr>\n",
       "      <th>4</th>\n",
       "      <td>829-34-3910</td>\n",
       "      <td>Yangon</td>\n",
       "      <td>Female</td>\n",
       "      <td>Health and beauty</td>\n",
       "      <td>71.38</td>\n",
       "      <td>10</td>\n",
       "      <td>35.6900</td>\n",
       "      <td>749.4900</td>\n",
       "      <td>Cash</td>\n",
       "      <td>713.80</td>\n",
       "      <td>4.761905</td>\n",
       "      <td>35.6900</td>\n",
       "      <td>5.7</td>\n",
       "    </tr>\n",
       "  </tbody>\n",
       "</table>\n",
       "</div>"
      ],
      "text/plain": [
       "            ID     Cidade  Genero       Linha produto  Preco unitario  \\\n",
       "0  319-50-3348   Mandalay  Female  Home and lifestyle           40.30   \n",
       "1  390-80-5128   Mandalay  Female   Health and beauty           19.15   \n",
       "2  523-38-0215  Naypyitaw    Male  Home and lifestyle           37.00   \n",
       "3  565-91-4567   Mandalay    Male   Health and beauty           10.75   \n",
       "4  829-34-3910     Yangon  Female   Health and beauty           71.38   \n",
       "\n",
       "   Quantidade  Taxa 5%     Total Forma pagamento  Custo produto vendido  \\\n",
       "0           2   4.0300   84.6300         Ewallet                  80.60   \n",
       "1           1   0.9575   20.1075     Credit card                  19.15   \n",
       "2           1   1.8500   38.8500     Credit card                  37.00   \n",
       "3           8   4.3000   90.3000         Ewallet                  86.00   \n",
       "4          10  35.6900  749.4900            Cash                 713.80   \n",
       "\n",
       "   Margem bruta  Receita bruta  Rating  \n",
       "0      4.761905         4.0300     4.4  \n",
       "1      4.761905         0.9575     9.5  \n",
       "2      4.761905         1.8500     7.9  \n",
       "3      4.761905         4.3000     6.2  \n",
       "4      4.761905        35.6900     5.7  "
      ]
     },
     "execution_count": 14,
     "metadata": {},
     "output_type": "execute_result"
    }
   ],
   "source": [
    "df = df.drop([\"Filial\",\"Tipo cliente\",\"Data\", \"Hora\"], axis= 1)\n",
    "\n",
    "# ou \n",
    "\n",
    "#df.drop([\"Filial\",\"Tipo cliente\",\"Data\", \"Hora\"], axis= 1, inplace = True)\n",
    "\n",
    "df.head()"
   ]
  },
  {
   "cell_type": "markdown",
   "id": "Vu56oqJ7wEd6",
   "metadata": {
    "id": "Vu56oqJ7wEd6"
   },
   "source": [
    "### a) Defina a coluna \"ID\" como index do dataframe"
   ]
  },
  {
   "cell_type": "code",
   "execution_count": 15,
   "id": "UDJgaFu8wDQO",
   "metadata": {
    "id": "UDJgaFu8wDQO"
   },
   "outputs": [
    {
     "data": {
      "text/html": [
       "<div>\n",
       "<style scoped>\n",
       "    .dataframe tbody tr th:only-of-type {\n",
       "        vertical-align: middle;\n",
       "    }\n",
       "\n",
       "    .dataframe tbody tr th {\n",
       "        vertical-align: top;\n",
       "    }\n",
       "\n",
       "    .dataframe thead th {\n",
       "        text-align: right;\n",
       "    }\n",
       "</style>\n",
       "<table border=\"1\" class=\"dataframe\">\n",
       "  <thead>\n",
       "    <tr style=\"text-align: right;\">\n",
       "      <th></th>\n",
       "      <th>Cidade</th>\n",
       "      <th>Genero</th>\n",
       "      <th>Linha produto</th>\n",
       "      <th>Preco unitario</th>\n",
       "      <th>Quantidade</th>\n",
       "      <th>Taxa 5%</th>\n",
       "      <th>Total</th>\n",
       "      <th>Forma pagamento</th>\n",
       "      <th>Custo produto vendido</th>\n",
       "      <th>Margem bruta</th>\n",
       "      <th>Receita bruta</th>\n",
       "      <th>Rating</th>\n",
       "    </tr>\n",
       "    <tr>\n",
       "      <th>ID</th>\n",
       "      <th></th>\n",
       "      <th></th>\n",
       "      <th></th>\n",
       "      <th></th>\n",
       "      <th></th>\n",
       "      <th></th>\n",
       "      <th></th>\n",
       "      <th></th>\n",
       "      <th></th>\n",
       "      <th></th>\n",
       "      <th></th>\n",
       "      <th></th>\n",
       "    </tr>\n",
       "  </thead>\n",
       "  <tbody>\n",
       "    <tr>\n",
       "      <th>319-50-3348</th>\n",
       "      <td>Mandalay</td>\n",
       "      <td>Female</td>\n",
       "      <td>Home and lifestyle</td>\n",
       "      <td>40.30</td>\n",
       "      <td>2</td>\n",
       "      <td>4.0300</td>\n",
       "      <td>84.6300</td>\n",
       "      <td>Ewallet</td>\n",
       "      <td>80.60</td>\n",
       "      <td>4.761905</td>\n",
       "      <td>4.0300</td>\n",
       "      <td>4.4</td>\n",
       "    </tr>\n",
       "    <tr>\n",
       "      <th>390-80-5128</th>\n",
       "      <td>Mandalay</td>\n",
       "      <td>Female</td>\n",
       "      <td>Health and beauty</td>\n",
       "      <td>19.15</td>\n",
       "      <td>1</td>\n",
       "      <td>0.9575</td>\n",
       "      <td>20.1075</td>\n",
       "      <td>Credit card</td>\n",
       "      <td>19.15</td>\n",
       "      <td>4.761905</td>\n",
       "      <td>0.9575</td>\n",
       "      <td>9.5</td>\n",
       "    </tr>\n",
       "    <tr>\n",
       "      <th>523-38-0215</th>\n",
       "      <td>Naypyitaw</td>\n",
       "      <td>Male</td>\n",
       "      <td>Home and lifestyle</td>\n",
       "      <td>37.00</td>\n",
       "      <td>1</td>\n",
       "      <td>1.8500</td>\n",
       "      <td>38.8500</td>\n",
       "      <td>Credit card</td>\n",
       "      <td>37.00</td>\n",
       "      <td>4.761905</td>\n",
       "      <td>1.8500</td>\n",
       "      <td>7.9</td>\n",
       "    </tr>\n",
       "    <tr>\n",
       "      <th>565-91-4567</th>\n",
       "      <td>Mandalay</td>\n",
       "      <td>Male</td>\n",
       "      <td>Health and beauty</td>\n",
       "      <td>10.75</td>\n",
       "      <td>8</td>\n",
       "      <td>4.3000</td>\n",
       "      <td>90.3000</td>\n",
       "      <td>Ewallet</td>\n",
       "      <td>86.00</td>\n",
       "      <td>4.761905</td>\n",
       "      <td>4.3000</td>\n",
       "      <td>6.2</td>\n",
       "    </tr>\n",
       "    <tr>\n",
       "      <th>829-34-3910</th>\n",
       "      <td>Yangon</td>\n",
       "      <td>Female</td>\n",
       "      <td>Health and beauty</td>\n",
       "      <td>71.38</td>\n",
       "      <td>10</td>\n",
       "      <td>35.6900</td>\n",
       "      <td>749.4900</td>\n",
       "      <td>Cash</td>\n",
       "      <td>713.80</td>\n",
       "      <td>4.761905</td>\n",
       "      <td>35.6900</td>\n",
       "      <td>5.7</td>\n",
       "    </tr>\n",
       "  </tbody>\n",
       "</table>\n",
       "</div>"
      ],
      "text/plain": [
       "                Cidade  Genero       Linha produto  Preco unitario  \\\n",
       "ID                                                                   \n",
       "319-50-3348   Mandalay  Female  Home and lifestyle           40.30   \n",
       "390-80-5128   Mandalay  Female   Health and beauty           19.15   \n",
       "523-38-0215  Naypyitaw    Male  Home and lifestyle           37.00   \n",
       "565-91-4567   Mandalay    Male   Health and beauty           10.75   \n",
       "829-34-3910     Yangon  Female   Health and beauty           71.38   \n",
       "\n",
       "             Quantidade  Taxa 5%     Total Forma pagamento  \\\n",
       "ID                                                           \n",
       "319-50-3348           2   4.0300   84.6300         Ewallet   \n",
       "390-80-5128           1   0.9575   20.1075     Credit card   \n",
       "523-38-0215           1   1.8500   38.8500     Credit card   \n",
       "565-91-4567           8   4.3000   90.3000         Ewallet   \n",
       "829-34-3910          10  35.6900  749.4900            Cash   \n",
       "\n",
       "             Custo produto vendido  Margem bruta  Receita bruta  Rating  \n",
       "ID                                                                       \n",
       "319-50-3348                  80.60      4.761905         4.0300     4.4  \n",
       "390-80-5128                  19.15      4.761905         0.9575     9.5  \n",
       "523-38-0215                  37.00      4.761905         1.8500     7.9  \n",
       "565-91-4567                  86.00      4.761905         4.3000     6.2  \n",
       "829-34-3910                 713.80      4.761905        35.6900     5.7  "
      ]
     },
     "execution_count": 15,
     "metadata": {},
     "output_type": "execute_result"
    }
   ],
   "source": [
    "df.set_index(\"ID\", inplace= True)\n",
    "\n",
    "df.head()"
   ]
  },
  {
   "cell_type": "markdown",
   "id": "4909fe7a",
   "metadata": {
    "id": "jf4C_kEFBTNp"
   },
   "source": [
    "# "
   ]
  },
  {
   "cell_type": "markdown",
   "id": "AhXo7kyjz6kk",
   "metadata": {
    "id": "AhXo7kyjz6kk"
   },
   "source": [
    "### b) Realize dois filtros na base de dados, um deles, apenas mostrando as vendas realizadas por homens, e no outro, apenas as vendas realizadas por mulheres.\n"
   ]
  },
  {
   "cell_type": "code",
   "execution_count": 16,
   "id": "hJwAg_ZW3htl",
   "metadata": {
    "id": "hJwAg_ZW3htl",
    "scrolled": true
   },
   "outputs": [
    {
     "data": {
      "text/html": [
       "<div>\n",
       "<style scoped>\n",
       "    .dataframe tbody tr th:only-of-type {\n",
       "        vertical-align: middle;\n",
       "    }\n",
       "\n",
       "    .dataframe tbody tr th {\n",
       "        vertical-align: top;\n",
       "    }\n",
       "\n",
       "    .dataframe thead th {\n",
       "        text-align: right;\n",
       "    }\n",
       "</style>\n",
       "<table border=\"1\" class=\"dataframe\">\n",
       "  <thead>\n",
       "    <tr style=\"text-align: right;\">\n",
       "      <th></th>\n",
       "      <th>Cidade</th>\n",
       "      <th>Genero</th>\n",
       "      <th>Linha produto</th>\n",
       "      <th>Preco unitario</th>\n",
       "      <th>Quantidade</th>\n",
       "      <th>Taxa 5%</th>\n",
       "      <th>Total</th>\n",
       "      <th>Forma pagamento</th>\n",
       "      <th>Custo produto vendido</th>\n",
       "      <th>Margem bruta</th>\n",
       "      <th>Receita bruta</th>\n",
       "      <th>Rating</th>\n",
       "    </tr>\n",
       "    <tr>\n",
       "      <th>ID</th>\n",
       "      <th></th>\n",
       "      <th></th>\n",
       "      <th></th>\n",
       "      <th></th>\n",
       "      <th></th>\n",
       "      <th></th>\n",
       "      <th></th>\n",
       "      <th></th>\n",
       "      <th></th>\n",
       "      <th></th>\n",
       "      <th></th>\n",
       "      <th></th>\n",
       "    </tr>\n",
       "  </thead>\n",
       "  <tbody>\n",
       "    <tr>\n",
       "      <th>523-38-0215</th>\n",
       "      <td>Naypyitaw</td>\n",
       "      <td>Male</td>\n",
       "      <td>Home and lifestyle</td>\n",
       "      <td>37.00</td>\n",
       "      <td>1</td>\n",
       "      <td>1.850</td>\n",
       "      <td>38.850</td>\n",
       "      <td>Credit card</td>\n",
       "      <td>37.00</td>\n",
       "      <td>4.761905</td>\n",
       "      <td>1.850</td>\n",
       "      <td>7.9</td>\n",
       "    </tr>\n",
       "    <tr>\n",
       "      <th>565-91-4567</th>\n",
       "      <td>Mandalay</td>\n",
       "      <td>Male</td>\n",
       "      <td>Health and beauty</td>\n",
       "      <td>10.75</td>\n",
       "      <td>8</td>\n",
       "      <td>4.300</td>\n",
       "      <td>90.300</td>\n",
       "      <td>Ewallet</td>\n",
       "      <td>86.00</td>\n",
       "      <td>4.761905</td>\n",
       "      <td>4.300</td>\n",
       "      <td>6.2</td>\n",
       "    </tr>\n",
       "    <tr>\n",
       "      <th>347-56-2442</th>\n",
       "      <td>Yangon</td>\n",
       "      <td>Male</td>\n",
       "      <td>Home and lifestyle</td>\n",
       "      <td>65.82</td>\n",
       "      <td>1</td>\n",
       "      <td>3.291</td>\n",
       "      <td>69.111</td>\n",
       "      <td>Cash</td>\n",
       "      <td>65.82</td>\n",
       "      <td>4.761905</td>\n",
       "      <td>3.291</td>\n",
       "      <td>4.1</td>\n",
       "    </tr>\n",
       "  </tbody>\n",
       "</table>\n",
       "</div>"
      ],
      "text/plain": [
       "                Cidade Genero       Linha produto  Preco unitario  Quantidade  \\\n",
       "ID                                                                              \n",
       "523-38-0215  Naypyitaw   Male  Home and lifestyle           37.00           1   \n",
       "565-91-4567   Mandalay   Male   Health and beauty           10.75           8   \n",
       "347-56-2442     Yangon   Male  Home and lifestyle           65.82           1   \n",
       "\n",
       "             Taxa 5%   Total Forma pagamento  Custo produto vendido  \\\n",
       "ID                                                                    \n",
       "523-38-0215    1.850  38.850     Credit card                  37.00   \n",
       "565-91-4567    4.300  90.300         Ewallet                  86.00   \n",
       "347-56-2442    3.291  69.111            Cash                  65.82   \n",
       "\n",
       "             Margem bruta  Receita bruta  Rating  \n",
       "ID                                                \n",
       "523-38-0215      4.761905          1.850     7.9  \n",
       "565-91-4567      4.761905          4.300     6.2  \n",
       "347-56-2442      4.761905          3.291     4.1  "
      ]
     },
     "execution_count": 16,
     "metadata": {},
     "output_type": "execute_result"
    }
   ],
   "source": [
    "df_homem = df[df[\"Genero\"] == \"Male\"]\n",
    "\n",
    "df_homem.head(3)"
   ]
  },
  {
   "cell_type": "markdown",
   "id": "8b1132dd",
   "metadata": {
    "id": "jf4C_kEFBTNp"
   },
   "source": [
    "# "
   ]
  },
  {
   "cell_type": "code",
   "execution_count": 17,
   "id": "uMCikLoX3ioq",
   "metadata": {
    "id": "uMCikLoX3ioq",
    "scrolled": false
   },
   "outputs": [
    {
     "data": {
      "text/html": [
       "<div>\n",
       "<style scoped>\n",
       "    .dataframe tbody tr th:only-of-type {\n",
       "        vertical-align: middle;\n",
       "    }\n",
       "\n",
       "    .dataframe tbody tr th {\n",
       "        vertical-align: top;\n",
       "    }\n",
       "\n",
       "    .dataframe thead th {\n",
       "        text-align: right;\n",
       "    }\n",
       "</style>\n",
       "<table border=\"1\" class=\"dataframe\">\n",
       "  <thead>\n",
       "    <tr style=\"text-align: right;\">\n",
       "      <th></th>\n",
       "      <th>Cidade</th>\n",
       "      <th>Genero</th>\n",
       "      <th>Linha produto</th>\n",
       "      <th>Preco unitario</th>\n",
       "      <th>Quantidade</th>\n",
       "      <th>Taxa 5%</th>\n",
       "      <th>Total</th>\n",
       "      <th>Forma pagamento</th>\n",
       "      <th>Custo produto vendido</th>\n",
       "      <th>Margem bruta</th>\n",
       "      <th>Receita bruta</th>\n",
       "      <th>Rating</th>\n",
       "    </tr>\n",
       "    <tr>\n",
       "      <th>ID</th>\n",
       "      <th></th>\n",
       "      <th></th>\n",
       "      <th></th>\n",
       "      <th></th>\n",
       "      <th></th>\n",
       "      <th></th>\n",
       "      <th></th>\n",
       "      <th></th>\n",
       "      <th></th>\n",
       "      <th></th>\n",
       "      <th></th>\n",
       "      <th></th>\n",
       "    </tr>\n",
       "  </thead>\n",
       "  <tbody>\n",
       "    <tr>\n",
       "      <th>319-50-3348</th>\n",
       "      <td>Mandalay</td>\n",
       "      <td>Female</td>\n",
       "      <td>Home and lifestyle</td>\n",
       "      <td>40.30</td>\n",
       "      <td>2</td>\n",
       "      <td>4.0300</td>\n",
       "      <td>84.6300</td>\n",
       "      <td>Ewallet</td>\n",
       "      <td>80.60</td>\n",
       "      <td>4.761905</td>\n",
       "      <td>4.0300</td>\n",
       "      <td>4.4</td>\n",
       "    </tr>\n",
       "    <tr>\n",
       "      <th>390-80-5128</th>\n",
       "      <td>Mandalay</td>\n",
       "      <td>Female</td>\n",
       "      <td>Health and beauty</td>\n",
       "      <td>19.15</td>\n",
       "      <td>1</td>\n",
       "      <td>0.9575</td>\n",
       "      <td>20.1075</td>\n",
       "      <td>Credit card</td>\n",
       "      <td>19.15</td>\n",
       "      <td>4.761905</td>\n",
       "      <td>0.9575</td>\n",
       "      <td>9.5</td>\n",
       "    </tr>\n",
       "    <tr>\n",
       "      <th>829-34-3910</th>\n",
       "      <td>Yangon</td>\n",
       "      <td>Female</td>\n",
       "      <td>Health and beauty</td>\n",
       "      <td>71.38</td>\n",
       "      <td>10</td>\n",
       "      <td>35.6900</td>\n",
       "      <td>749.4900</td>\n",
       "      <td>Cash</td>\n",
       "      <td>713.80</td>\n",
       "      <td>4.761905</td>\n",
       "      <td>35.6900</td>\n",
       "      <td>5.7</td>\n",
       "    </tr>\n",
       "  </tbody>\n",
       "</table>\n",
       "</div>"
      ],
      "text/plain": [
       "               Cidade  Genero       Linha produto  Preco unitario  Quantidade  \\\n",
       "ID                                                                              \n",
       "319-50-3348  Mandalay  Female  Home and lifestyle           40.30           2   \n",
       "390-80-5128  Mandalay  Female   Health and beauty           19.15           1   \n",
       "829-34-3910    Yangon  Female   Health and beauty           71.38          10   \n",
       "\n",
       "             Taxa 5%     Total Forma pagamento  Custo produto vendido  \\\n",
       "ID                                                                      \n",
       "319-50-3348   4.0300   84.6300         Ewallet                  80.60   \n",
       "390-80-5128   0.9575   20.1075     Credit card                  19.15   \n",
       "829-34-3910  35.6900  749.4900            Cash                 713.80   \n",
       "\n",
       "             Margem bruta  Receita bruta  Rating  \n",
       "ID                                                \n",
       "319-50-3348      4.761905         4.0300     4.4  \n",
       "390-80-5128      4.761905         0.9575     9.5  \n",
       "829-34-3910      4.761905        35.6900     5.7  "
      ]
     },
     "execution_count": 17,
     "metadata": {},
     "output_type": "execute_result"
    }
   ],
   "source": [
    "df_mulher = df[df[\"Genero\"] == \"Female\"]\n",
    "\n",
    "df_mulher.head(3)"
   ]
  },
  {
   "cell_type": "markdown",
   "id": "c8184740",
   "metadata": {
    "id": "jf4C_kEFBTNp"
   },
   "source": [
    "# "
   ]
  },
  {
   "cell_type": "markdown",
   "id": "EowoelskANNJ",
   "metadata": {
    "id": "EowoelskANNJ"
   },
   "source": [
    "### c) Após isso, descubra a média e a soma do valor total das compras de cada um desses grupos"
   ]
  },
  {
   "cell_type": "code",
   "execution_count": 18,
   "id": "sYRNc-NY3jA-",
   "metadata": {
    "id": "sYRNc-NY3jA-",
    "scrolled": true
   },
   "outputs": [
    {
     "name": "stdout",
     "output_type": "stream",
     "text": [
      "Homem\n",
      "\n",
      "Média: R$ 315.3\n",
      "Soma total: R$ 173412.97\n"
     ]
    }
   ],
   "source": [
    "print(f\"Homem\\n\\nMédia: R$\",round(df_homem[\"Total\"].mean(),2))\n",
    "\n",
    "print(\"Soma total: R$\",round(df_homem[\"Total\"].sum(),2))"
   ]
  },
  {
   "cell_type": "code",
   "execution_count": 19,
   "id": "OdIsgWAm3jEW",
   "metadata": {
    "id": "OdIsgWAm3jEW",
    "scrolled": true
   },
   "outputs": [
    {
     "name": "stdout",
     "output_type": "stream",
     "text": [
      "Mulher\n",
      "\n",
      "Média: R$ 338.51\n",
      "Soma total: R$ 186181.11\n"
     ]
    }
   ],
   "source": [
    "print(f\"Mulher\\n\\nMédia: R$\", round(df_mulher[\"Total\"].mean(),2))\n",
    "\n",
    "print(\"Soma total: R$\", round(df_mulher[\"Total\"].sum(),2))"
   ]
  },
  {
   "cell_type": "markdown",
   "id": "a4345589",
   "metadata": {
    "id": "jf4C_kEFBTNp"
   },
   "source": [
    "# "
   ]
  },
  {
   "cell_type": "markdown",
   "id": "42a65654",
   "metadata": {
    "id": "jf4C_kEFBTNp"
   },
   "source": [
    "# "
   ]
  },
  {
   "cell_type": "markdown",
   "id": "8d58058c",
   "metadata": {
    "id": "jf4C_kEFBTNp"
   },
   "source": [
    "# "
   ]
  },
  {
   "cell_type": "markdown",
   "id": "70c6e1cd",
   "metadata": {
    "id": "jf4C_kEFBTNp"
   },
   "source": [
    "# "
   ]
  },
  {
   "cell_type": "markdown",
   "id": "601de4ea",
   "metadata": {
    "id": "601de4ea"
   },
   "source": [
    "## **Exercício 5 - Limpando a base:** \n",
    "#### Após entender do que o seu Dataset se trata, chegou a hora de realizar a limpeza de dados. Aqui, lembre-se de que os tipos mais comuns de \"sujeiras\" nos dados são:\n",
    "\n",
    "*   NaN\n",
    "*   Valores duplicados\n",
    "\n",
    "Valores desse tipo são indesejáveis (embora muito comuns) porque atrapalham a análise, por isso sempre é necessário tratá-los."
   ]
  },
  {
   "cell_type": "markdown",
   "id": "542edf4b",
   "metadata": {
    "id": "542edf4b"
   },
   "source": [
    "### a) Identifique quais colunas possuem casos de NaN e substitua-os por um valor\n",
    "\n",
    "###### Dica: Taxa = Preço unitario * quantidade * 0.05\n",
    "\n",
    "###### Utilize a função **fillna** para realizar essa substituição mais facilmente"
   ]
  },
  {
   "cell_type": "code",
   "execution_count": 20,
   "id": "01c9bef7",
   "metadata": {
    "id": "01c9bef7"
   },
   "outputs": [
    {
     "data": {
      "text/plain": [
       "Cidade                     0\n",
       "Genero                     0\n",
       "Linha produto              0\n",
       "Preco unitario             0\n",
       "Quantidade                 0\n",
       "Taxa 5%                  163\n",
       "Total                      0\n",
       "Forma pagamento            0\n",
       "Custo produto vendido      0\n",
       "Margem bruta               0\n",
       "Receita bruta              0\n",
       "Rating                     0\n",
       "dtype: int64"
      ]
     },
     "execution_count": 20,
     "metadata": {},
     "output_type": "execute_result"
    }
   ],
   "source": [
    "df.isna().sum()"
   ]
  },
  {
   "cell_type": "code",
   "execution_count": 21,
   "id": "61nA3pS84v8z",
   "metadata": {
    "id": "61nA3pS84v8z"
   },
   "outputs": [],
   "source": [
    "df[\"Taxa 5%\"].fillna((df[\"Preco unitario\"] * df[\"Quantidade\"] * 0.05), inplace = True)\n",
    "\n",
    "# ou\n",
    "\n",
    "# df[\"Taxa 5%\"] = df[\"Taxa 5%\"].fillna(df[\"Preco unitario\"] * df[\"Quantidade\"] * 0.05)"
   ]
  },
  {
   "cell_type": "code",
   "execution_count": 22,
   "id": "3fZDM8QZ4v4w",
   "metadata": {
    "id": "3fZDM8QZ4v4w"
   },
   "outputs": [
    {
     "data": {
      "text/plain": [
       "Cidade                   0\n",
       "Genero                   0\n",
       "Linha produto            0\n",
       "Preco unitario           0\n",
       "Quantidade               0\n",
       "Taxa 5%                  0\n",
       "Total                    0\n",
       "Forma pagamento          0\n",
       "Custo produto vendido    0\n",
       "Margem bruta             0\n",
       "Receita bruta            0\n",
       "Rating                   0\n",
       "dtype: int64"
      ]
     },
     "execution_count": 22,
     "metadata": {},
     "output_type": "execute_result"
    }
   ],
   "source": [
    "df.isna().sum()"
   ]
  },
  {
   "cell_type": "markdown",
   "id": "0d7b3ee8",
   "metadata": {
    "id": "0d7b3ee8"
   },
   "source": [
    "### b) Identifique quantas linhas duplicadas existem na base de dados, exiba-as e, por fim, exclua-as do DataFrame"
   ]
  },
  {
   "cell_type": "code",
   "execution_count": 23,
   "id": "b64b89c9",
   "metadata": {
    "id": "b64b89c9"
   },
   "outputs": [
    {
     "data": {
      "text/plain": [
       "100"
      ]
     },
     "execution_count": 23,
     "metadata": {},
     "output_type": "execute_result"
    }
   ],
   "source": [
    "df.duplicated().sum()"
   ]
  },
  {
   "cell_type": "code",
   "execution_count": 24,
   "id": "v0wO0bCx40An",
   "metadata": {
    "id": "v0wO0bCx40An"
   },
   "outputs": [
    {
     "data": {
      "text/html": [
       "<div>\n",
       "<style scoped>\n",
       "    .dataframe tbody tr th:only-of-type {\n",
       "        vertical-align: middle;\n",
       "    }\n",
       "\n",
       "    .dataframe tbody tr th {\n",
       "        vertical-align: top;\n",
       "    }\n",
       "\n",
       "    .dataframe thead th {\n",
       "        text-align: right;\n",
       "    }\n",
       "</style>\n",
       "<table border=\"1\" class=\"dataframe\">\n",
       "  <thead>\n",
       "    <tr style=\"text-align: right;\">\n",
       "      <th></th>\n",
       "      <th>Cidade</th>\n",
       "      <th>Genero</th>\n",
       "      <th>Linha produto</th>\n",
       "      <th>Preco unitario</th>\n",
       "      <th>Quantidade</th>\n",
       "      <th>Taxa 5%</th>\n",
       "      <th>Total</th>\n",
       "      <th>Forma pagamento</th>\n",
       "      <th>Custo produto vendido</th>\n",
       "      <th>Margem bruta</th>\n",
       "      <th>Receita bruta</th>\n",
       "      <th>Rating</th>\n",
       "    </tr>\n",
       "    <tr>\n",
       "      <th>ID</th>\n",
       "      <th></th>\n",
       "      <th></th>\n",
       "      <th></th>\n",
       "      <th></th>\n",
       "      <th></th>\n",
       "      <th></th>\n",
       "      <th></th>\n",
       "      <th></th>\n",
       "      <th></th>\n",
       "      <th></th>\n",
       "      <th></th>\n",
       "      <th></th>\n",
       "    </tr>\n",
       "  </thead>\n",
       "  <tbody>\n",
       "    <tr>\n",
       "      <th>319-50-3348</th>\n",
       "      <td>Mandalay</td>\n",
       "      <td>Female</td>\n",
       "      <td>Home and lifestyle</td>\n",
       "      <td>40.30</td>\n",
       "      <td>2</td>\n",
       "      <td>4.0300</td>\n",
       "      <td>84.6300</td>\n",
       "      <td>Ewallet</td>\n",
       "      <td>80.60</td>\n",
       "      <td>4.761905</td>\n",
       "      <td>4.0300</td>\n",
       "      <td>4.4</td>\n",
       "    </tr>\n",
       "    <tr>\n",
       "      <th>390-80-5128</th>\n",
       "      <td>Mandalay</td>\n",
       "      <td>Female</td>\n",
       "      <td>Health and beauty</td>\n",
       "      <td>19.15</td>\n",
       "      <td>1</td>\n",
       "      <td>0.9575</td>\n",
       "      <td>20.1075</td>\n",
       "      <td>Credit card</td>\n",
       "      <td>19.15</td>\n",
       "      <td>4.761905</td>\n",
       "      <td>0.9575</td>\n",
       "      <td>9.5</td>\n",
       "    </tr>\n",
       "    <tr>\n",
       "      <th>523-38-0215</th>\n",
       "      <td>Naypyitaw</td>\n",
       "      <td>Male</td>\n",
       "      <td>Home and lifestyle</td>\n",
       "      <td>37.00</td>\n",
       "      <td>1</td>\n",
       "      <td>1.8500</td>\n",
       "      <td>38.8500</td>\n",
       "      <td>Credit card</td>\n",
       "      <td>37.00</td>\n",
       "      <td>4.761905</td>\n",
       "      <td>1.8500</td>\n",
       "      <td>7.9</td>\n",
       "    </tr>\n",
       "    <tr>\n",
       "      <th>565-91-4567</th>\n",
       "      <td>Mandalay</td>\n",
       "      <td>Male</td>\n",
       "      <td>Health and beauty</td>\n",
       "      <td>10.75</td>\n",
       "      <td>8</td>\n",
       "      <td>4.3000</td>\n",
       "      <td>90.3000</td>\n",
       "      <td>Ewallet</td>\n",
       "      <td>86.00</td>\n",
       "      <td>4.761905</td>\n",
       "      <td>4.3000</td>\n",
       "      <td>6.2</td>\n",
       "    </tr>\n",
       "    <tr>\n",
       "      <th>829-34-3910</th>\n",
       "      <td>Yangon</td>\n",
       "      <td>Female</td>\n",
       "      <td>Health and beauty</td>\n",
       "      <td>71.38</td>\n",
       "      <td>10</td>\n",
       "      <td>35.6900</td>\n",
       "      <td>749.4900</td>\n",
       "      <td>Cash</td>\n",
       "      <td>713.80</td>\n",
       "      <td>4.761905</td>\n",
       "      <td>35.6900</td>\n",
       "      <td>5.7</td>\n",
       "    </tr>\n",
       "  </tbody>\n",
       "</table>\n",
       "</div>"
      ],
      "text/plain": [
       "                Cidade  Genero       Linha produto  Preco unitario  \\\n",
       "ID                                                                   \n",
       "319-50-3348   Mandalay  Female  Home and lifestyle           40.30   \n",
       "390-80-5128   Mandalay  Female   Health and beauty           19.15   \n",
       "523-38-0215  Naypyitaw    Male  Home and lifestyle           37.00   \n",
       "565-91-4567   Mandalay    Male   Health and beauty           10.75   \n",
       "829-34-3910     Yangon  Female   Health and beauty           71.38   \n",
       "\n",
       "             Quantidade  Taxa 5%     Total Forma pagamento  \\\n",
       "ID                                                           \n",
       "319-50-3348           2   4.0300   84.6300         Ewallet   \n",
       "390-80-5128           1   0.9575   20.1075     Credit card   \n",
       "523-38-0215           1   1.8500   38.8500     Credit card   \n",
       "565-91-4567           8   4.3000   90.3000         Ewallet   \n",
       "829-34-3910          10  35.6900  749.4900            Cash   \n",
       "\n",
       "             Custo produto vendido  Margem bruta  Receita bruta  Rating  \n",
       "ID                                                                       \n",
       "319-50-3348                  80.60      4.761905         4.0300     4.4  \n",
       "390-80-5128                  19.15      4.761905         0.9575     9.5  \n",
       "523-38-0215                  37.00      4.761905         1.8500     7.9  \n",
       "565-91-4567                  86.00      4.761905         4.3000     6.2  \n",
       "829-34-3910                 713.80      4.761905        35.6900     5.7  "
      ]
     },
     "execution_count": 24,
     "metadata": {},
     "output_type": "execute_result"
    }
   ],
   "source": [
    "df.drop_duplicates(inplace= True)\n",
    "\n",
    "# ou\n",
    "\n",
    "#df = df.drop_duplicates()\n",
    "\n",
    "\n",
    "df.head()"
   ]
  },
  {
   "cell_type": "code",
   "execution_count": 25,
   "id": "871bff07",
   "metadata": {
    "id": "b64b89c9"
   },
   "outputs": [
    {
     "data": {
      "text/plain": [
       "0"
      ]
     },
     "execution_count": 25,
     "metadata": {},
     "output_type": "execute_result"
    }
   ],
   "source": [
    "df.duplicated().sum()"
   ]
  },
  {
   "cell_type": "markdown",
   "id": "01ec78b2",
   "metadata": {
    "id": "jf4C_kEFBTNp"
   },
   "source": [
    "# "
   ]
  },
  {
   "cell_type": "markdown",
   "id": "89d65c3f",
   "metadata": {
    "id": "jf4C_kEFBTNp"
   },
   "source": [
    "# "
   ]
  },
  {
   "cell_type": "markdown",
   "id": "73ba15df",
   "metadata": {
    "id": "jf4C_kEFBTNp"
   },
   "source": [
    "# "
   ]
  },
  {
   "cell_type": "markdown",
   "id": "OEkqgBQdxRBg",
   "metadata": {
    "id": "OEkqgBQdxRBg"
   },
   "source": [
    "## **Exercício 6  - Criando novos filtros do Dataframe original**\n",
    "### a) Exiba um filtro com todas as vendas que se estão na linha de produto de \"Fashion accessories\" OU \"Heath and beauty\" E com um valor total superior a 60\n",
    "\n",
    "###### obs: utilize condições múltiplas com símbolos (&, |) e não esqueça de usar os parênteses para cada condição ex: ((x>2) & (x<10)) | (y>10)"
   ]
  },
  {
   "cell_type": "code",
   "execution_count": 26,
   "id": "GU0DJ0oN8fWi",
   "metadata": {
    "id": "GU0DJ0oN8fWi",
    "scrolled": false
   },
   "outputs": [
    {
     "data": {
      "text/html": [
       "<div>\n",
       "<style scoped>\n",
       "    .dataframe tbody tr th:only-of-type {\n",
       "        vertical-align: middle;\n",
       "    }\n",
       "\n",
       "    .dataframe tbody tr th {\n",
       "        vertical-align: top;\n",
       "    }\n",
       "\n",
       "    .dataframe thead th {\n",
       "        text-align: right;\n",
       "    }\n",
       "</style>\n",
       "<table border=\"1\" class=\"dataframe\">\n",
       "  <thead>\n",
       "    <tr style=\"text-align: right;\">\n",
       "      <th></th>\n",
       "      <th>Cidade</th>\n",
       "      <th>Genero</th>\n",
       "      <th>Linha produto</th>\n",
       "      <th>Preco unitario</th>\n",
       "      <th>Quantidade</th>\n",
       "      <th>Taxa 5%</th>\n",
       "      <th>Total</th>\n",
       "      <th>Forma pagamento</th>\n",
       "      <th>Custo produto vendido</th>\n",
       "      <th>Margem bruta</th>\n",
       "      <th>Receita bruta</th>\n",
       "      <th>Rating</th>\n",
       "    </tr>\n",
       "    <tr>\n",
       "      <th>ID</th>\n",
       "      <th></th>\n",
       "      <th></th>\n",
       "      <th></th>\n",
       "      <th></th>\n",
       "      <th></th>\n",
       "      <th></th>\n",
       "      <th></th>\n",
       "      <th></th>\n",
       "      <th></th>\n",
       "      <th></th>\n",
       "      <th></th>\n",
       "      <th></th>\n",
       "    </tr>\n",
       "  </thead>\n",
       "  <tbody>\n",
       "    <tr>\n",
       "      <th>565-91-4567</th>\n",
       "      <td>Mandalay</td>\n",
       "      <td>Male</td>\n",
       "      <td>Health and beauty</td>\n",
       "      <td>10.75</td>\n",
       "      <td>8</td>\n",
       "      <td>4.3000</td>\n",
       "      <td>90.3000</td>\n",
       "      <td>Ewallet</td>\n",
       "      <td>86.00</td>\n",
       "      <td>4.761905</td>\n",
       "      <td>4.3000</td>\n",
       "      <td>6.2</td>\n",
       "    </tr>\n",
       "    <tr>\n",
       "      <th>829-34-3910</th>\n",
       "      <td>Yangon</td>\n",
       "      <td>Female</td>\n",
       "      <td>Health and beauty</td>\n",
       "      <td>71.38</td>\n",
       "      <td>10</td>\n",
       "      <td>35.6900</td>\n",
       "      <td>749.4900</td>\n",
       "      <td>Cash</td>\n",
       "      <td>713.80</td>\n",
       "      <td>4.761905</td>\n",
       "      <td>35.6900</td>\n",
       "      <td>5.7</td>\n",
       "    </tr>\n",
       "    <tr>\n",
       "      <th>359-90-3665</th>\n",
       "      <td>Mandalay</td>\n",
       "      <td>Female</td>\n",
       "      <td>Fashion accessories</td>\n",
       "      <td>18.08</td>\n",
       "      <td>4</td>\n",
       "      <td>3.6160</td>\n",
       "      <td>75.9360</td>\n",
       "      <td>Credit card</td>\n",
       "      <td>72.32</td>\n",
       "      <td>4.761905</td>\n",
       "      <td>3.6160</td>\n",
       "      <td>9.5</td>\n",
       "    </tr>\n",
       "    <tr>\n",
       "      <th>797-88-0493</th>\n",
       "      <td>Yangon</td>\n",
       "      <td>Female</td>\n",
       "      <td>Health and beauty</td>\n",
       "      <td>64.27</td>\n",
       "      <td>4</td>\n",
       "      <td>12.8540</td>\n",
       "      <td>269.9340</td>\n",
       "      <td>Cash</td>\n",
       "      <td>257.08</td>\n",
       "      <td>4.761905</td>\n",
       "      <td>12.8540</td>\n",
       "      <td>7.7</td>\n",
       "    </tr>\n",
       "    <tr>\n",
       "      <th>418-05-0656</th>\n",
       "      <td>Mandalay</td>\n",
       "      <td>Female</td>\n",
       "      <td>Fashion accessories</td>\n",
       "      <td>25.56</td>\n",
       "      <td>7</td>\n",
       "      <td>8.9460</td>\n",
       "      <td>187.8660</td>\n",
       "      <td>Cash</td>\n",
       "      <td>178.92</td>\n",
       "      <td>4.761905</td>\n",
       "      <td>8.9460</td>\n",
       "      <td>7.1</td>\n",
       "    </tr>\n",
       "    <tr>\n",
       "      <th>...</th>\n",
       "      <td>...</td>\n",
       "      <td>...</td>\n",
       "      <td>...</td>\n",
       "      <td>...</td>\n",
       "      <td>...</td>\n",
       "      <td>...</td>\n",
       "      <td>...</td>\n",
       "      <td>...</td>\n",
       "      <td>...</td>\n",
       "      <td>...</td>\n",
       "      <td>...</td>\n",
       "      <td>...</td>\n",
       "    </tr>\n",
       "    <tr>\n",
       "      <th>873-95-4984</th>\n",
       "      <td>Mandalay</td>\n",
       "      <td>Female</td>\n",
       "      <td>Health and beauty</td>\n",
       "      <td>76.90</td>\n",
       "      <td>7</td>\n",
       "      <td>26.9150</td>\n",
       "      <td>565.2150</td>\n",
       "      <td>Cash</td>\n",
       "      <td>538.30</td>\n",
       "      <td>4.761905</td>\n",
       "      <td>26.9150</td>\n",
       "      <td>7.7</td>\n",
       "    </tr>\n",
       "    <tr>\n",
       "      <th>139-52-2867</th>\n",
       "      <td>Naypyitaw</td>\n",
       "      <td>Female</td>\n",
       "      <td>Fashion accessories</td>\n",
       "      <td>22.51</td>\n",
       "      <td>7</td>\n",
       "      <td>7.8785</td>\n",
       "      <td>165.4485</td>\n",
       "      <td>Credit card</td>\n",
       "      <td>157.57</td>\n",
       "      <td>4.761905</td>\n",
       "      <td>7.8785</td>\n",
       "      <td>4.8</td>\n",
       "    </tr>\n",
       "    <tr>\n",
       "      <th>687-47-8271</th>\n",
       "      <td>Yangon</td>\n",
       "      <td>Male</td>\n",
       "      <td>Fashion accessories</td>\n",
       "      <td>98.98</td>\n",
       "      <td>10</td>\n",
       "      <td>49.4900</td>\n",
       "      <td>1039.2900</td>\n",
       "      <td>Credit card</td>\n",
       "      <td>989.80</td>\n",
       "      <td>4.761905</td>\n",
       "      <td>49.4900</td>\n",
       "      <td>8.7</td>\n",
       "    </tr>\n",
       "    <tr>\n",
       "      <th>789-23-8625</th>\n",
       "      <td>Mandalay</td>\n",
       "      <td>Male</td>\n",
       "      <td>Fashion accessories</td>\n",
       "      <td>93.22</td>\n",
       "      <td>3</td>\n",
       "      <td>13.9830</td>\n",
       "      <td>293.6430</td>\n",
       "      <td>Cash</td>\n",
       "      <td>279.66</td>\n",
       "      <td>4.761905</td>\n",
       "      <td>13.9830</td>\n",
       "      <td>7.2</td>\n",
       "    </tr>\n",
       "    <tr>\n",
       "      <th>595-27-4851</th>\n",
       "      <td>Yangon</td>\n",
       "      <td>Female</td>\n",
       "      <td>Fashion accessories</td>\n",
       "      <td>54.28</td>\n",
       "      <td>7</td>\n",
       "      <td>18.9980</td>\n",
       "      <td>398.9580</td>\n",
       "      <td>Ewallet</td>\n",
       "      <td>379.96</td>\n",
       "      <td>4.761905</td>\n",
       "      <td>18.9980</td>\n",
       "      <td>9.3</td>\n",
       "    </tr>\n",
       "  </tbody>\n",
       "</table>\n",
       "<p>289 rows × 12 columns</p>\n",
       "</div>"
      ],
      "text/plain": [
       "                Cidade  Genero        Linha produto  Preco unitario  \\\n",
       "ID                                                                    \n",
       "565-91-4567   Mandalay    Male    Health and beauty           10.75   \n",
       "829-34-3910     Yangon  Female    Health and beauty           71.38   \n",
       "359-90-3665   Mandalay  Female  Fashion accessories           18.08   \n",
       "797-88-0493     Yangon  Female    Health and beauty           64.27   \n",
       "418-05-0656   Mandalay  Female  Fashion accessories           25.56   \n",
       "...                ...     ...                  ...             ...   \n",
       "873-95-4984   Mandalay  Female    Health and beauty           76.90   \n",
       "139-52-2867  Naypyitaw  Female  Fashion accessories           22.51   \n",
       "687-47-8271     Yangon    Male  Fashion accessories           98.98   \n",
       "789-23-8625   Mandalay    Male  Fashion accessories           93.22   \n",
       "595-27-4851     Yangon  Female  Fashion accessories           54.28   \n",
       "\n",
       "             Quantidade  Taxa 5%      Total Forma pagamento  \\\n",
       "ID                                                            \n",
       "565-91-4567           8   4.3000    90.3000         Ewallet   \n",
       "829-34-3910          10  35.6900   749.4900            Cash   \n",
       "359-90-3665           4   3.6160    75.9360     Credit card   \n",
       "797-88-0493           4  12.8540   269.9340            Cash   \n",
       "418-05-0656           7   8.9460   187.8660            Cash   \n",
       "...                 ...      ...        ...             ...   \n",
       "873-95-4984           7  26.9150   565.2150            Cash   \n",
       "139-52-2867           7   7.8785   165.4485     Credit card   \n",
       "687-47-8271          10  49.4900  1039.2900     Credit card   \n",
       "789-23-8625           3  13.9830   293.6430            Cash   \n",
       "595-27-4851           7  18.9980   398.9580         Ewallet   \n",
       "\n",
       "             Custo produto vendido  Margem bruta  Receita bruta  Rating  \n",
       "ID                                                                       \n",
       "565-91-4567                  86.00      4.761905         4.3000     6.2  \n",
       "829-34-3910                 713.80      4.761905        35.6900     5.7  \n",
       "359-90-3665                  72.32      4.761905         3.6160     9.5  \n",
       "797-88-0493                 257.08      4.761905        12.8540     7.7  \n",
       "418-05-0656                 178.92      4.761905         8.9460     7.1  \n",
       "...                            ...           ...            ...     ...  \n",
       "873-95-4984                 538.30      4.761905        26.9150     7.7  \n",
       "139-52-2867                 157.57      4.761905         7.8785     4.8  \n",
       "687-47-8271                 989.80      4.761905        49.4900     8.7  \n",
       "789-23-8625                 279.66      4.761905        13.9830     7.2  \n",
       "595-27-4851                 379.96      4.761905        18.9980     9.3  \n",
       "\n",
       "[289 rows x 12 columns]"
      ]
     },
     "execution_count": 26,
     "metadata": {},
     "output_type": "execute_result"
    }
   ],
   "source": [
    "df[((df[\"Linha produto\"] == \"Fashion accessories\")| (df[\"Linha produto\"] == \"Health and beauty\")) & (df[\"Total\"]>60)]\n",
    "\n",
    "# ou \n",
    "\n",
    "df[(df[\"Linha produto\"].isin([\"Fashion accessories\",\"Health and beauty\"])) & (df[\"Total\"]>60)]"
   ]
  },
  {
   "cell_type": "markdown",
   "id": "7e2aaad8",
   "metadata": {
    "id": "jf4C_kEFBTNp"
   },
   "source": [
    "# "
   ]
  },
  {
   "cell_type": "markdown",
   "id": "F-rpZ2Qc9C_R",
   "metadata": {
    "id": "F-rpZ2Qc9C_R"
   },
   "source": [
    "### b) Exiba um filtro com as vendas que **NÃO** são da linha de \"Sports and travel\" E possuem uma quantidade vendida entre 4 e 6. "
   ]
  },
  {
   "cell_type": "code",
   "execution_count": 62,
   "id": "6Nbf9d7k98z0",
   "metadata": {
    "id": "6Nbf9d7k98z0",
    "scrolled": false
   },
   "outputs": [
    {
     "data": {
      "text/html": [
       "<div>\n",
       "<style scoped>\n",
       "    .dataframe tbody tr th:only-of-type {\n",
       "        vertical-align: middle;\n",
       "    }\n",
       "\n",
       "    .dataframe tbody tr th {\n",
       "        vertical-align: top;\n",
       "    }\n",
       "\n",
       "    .dataframe thead th {\n",
       "        text-align: right;\n",
       "    }\n",
       "</style>\n",
       "<table border=\"1\" class=\"dataframe\">\n",
       "  <thead>\n",
       "    <tr style=\"text-align: right;\">\n",
       "      <th></th>\n",
       "      <th>Cidade</th>\n",
       "      <th>Genero</th>\n",
       "      <th>Linha produto</th>\n",
       "      <th>Preco unitario</th>\n",
       "      <th>Quantidade</th>\n",
       "      <th>Taxa 5%</th>\n",
       "      <th>Total</th>\n",
       "      <th>Forma pagamento</th>\n",
       "      <th>Custo produto vendido</th>\n",
       "      <th>Margem bruta</th>\n",
       "      <th>Receita bruta</th>\n",
       "      <th>Rating</th>\n",
       "    </tr>\n",
       "    <tr>\n",
       "      <th>ID</th>\n",
       "      <th></th>\n",
       "      <th></th>\n",
       "      <th></th>\n",
       "      <th></th>\n",
       "      <th></th>\n",
       "      <th></th>\n",
       "      <th></th>\n",
       "      <th></th>\n",
       "      <th></th>\n",
       "      <th></th>\n",
       "      <th></th>\n",
       "      <th></th>\n",
       "    </tr>\n",
       "  </thead>\n",
       "  <tbody>\n",
       "    <tr>\n",
       "      <th>359-90-3665</th>\n",
       "      <td>Mandalay</td>\n",
       "      <td>Female</td>\n",
       "      <td>Fashion accessories</td>\n",
       "      <td>18.08</td>\n",
       "      <td>4</td>\n",
       "      <td>3.6160</td>\n",
       "      <td>75.9360</td>\n",
       "      <td>Credit card</td>\n",
       "      <td>72.32</td>\n",
       "      <td>4.761905</td>\n",
       "      <td>3.6160</td>\n",
       "      <td>9.5</td>\n",
       "    </tr>\n",
       "    <tr>\n",
       "      <th>891-01-7034</th>\n",
       "      <td>Mandalay</td>\n",
       "      <td>Female</td>\n",
       "      <td>Electronic accessories</td>\n",
       "      <td>74.71</td>\n",
       "      <td>6</td>\n",
       "      <td>22.4130</td>\n",
       "      <td>470.6730</td>\n",
       "      <td>Cash</td>\n",
       "      <td>448.26</td>\n",
       "      <td>4.761905</td>\n",
       "      <td>22.4130</td>\n",
       "      <td>6.7</td>\n",
       "    </tr>\n",
       "    <tr>\n",
       "      <th>797-88-0493</th>\n",
       "      <td>Yangon</td>\n",
       "      <td>Female</td>\n",
       "      <td>Health and beauty</td>\n",
       "      <td>64.27</td>\n",
       "      <td>4</td>\n",
       "      <td>12.8540</td>\n",
       "      <td>269.9340</td>\n",
       "      <td>Cash</td>\n",
       "      <td>257.08</td>\n",
       "      <td>4.761905</td>\n",
       "      <td>12.8540</td>\n",
       "      <td>7.7</td>\n",
       "    </tr>\n",
       "    <tr>\n",
       "      <th>190-14-3147</th>\n",
       "      <td>Mandalay</td>\n",
       "      <td>Female</td>\n",
       "      <td>Health and beauty</td>\n",
       "      <td>17.97</td>\n",
       "      <td>4</td>\n",
       "      <td>3.5940</td>\n",
       "      <td>75.4740</td>\n",
       "      <td>Ewallet</td>\n",
       "      <td>71.88</td>\n",
       "      <td>4.761905</td>\n",
       "      <td>3.5940</td>\n",
       "      <td>6.4</td>\n",
       "    </tr>\n",
       "    <tr>\n",
       "      <th>501-61-1753</th>\n",
       "      <td>Mandalay</td>\n",
       "      <td>Female</td>\n",
       "      <td>Home and lifestyle</td>\n",
       "      <td>63.15</td>\n",
       "      <td>6</td>\n",
       "      <td>18.9450</td>\n",
       "      <td>397.8450</td>\n",
       "      <td>Ewallet</td>\n",
       "      <td>378.90</td>\n",
       "      <td>4.761905</td>\n",
       "      <td>18.9450</td>\n",
       "      <td>9.8</td>\n",
       "    </tr>\n",
       "    <tr>\n",
       "      <th>...</th>\n",
       "      <td>...</td>\n",
       "      <td>...</td>\n",
       "      <td>...</td>\n",
       "      <td>...</td>\n",
       "      <td>...</td>\n",
       "      <td>...</td>\n",
       "      <td>...</td>\n",
       "      <td>...</td>\n",
       "      <td>...</td>\n",
       "      <td>...</td>\n",
       "      <td>...</td>\n",
       "      <td>...</td>\n",
       "    </tr>\n",
       "    <tr>\n",
       "      <th>407-63-8975</th>\n",
       "      <td>Yangon</td>\n",
       "      <td>Male</td>\n",
       "      <td>Food and beverages</td>\n",
       "      <td>73.88</td>\n",
       "      <td>6</td>\n",
       "      <td>22.1640</td>\n",
       "      <td>465.4440</td>\n",
       "      <td>Ewallet</td>\n",
       "      <td>443.28</td>\n",
       "      <td>4.761905</td>\n",
       "      <td>22.1640</td>\n",
       "      <td>4.4</td>\n",
       "    </tr>\n",
       "    <tr>\n",
       "      <th>711-31-1234</th>\n",
       "      <td>Mandalay</td>\n",
       "      <td>Female</td>\n",
       "      <td>Electronic accessories</td>\n",
       "      <td>95.64</td>\n",
       "      <td>4</td>\n",
       "      <td>19.1280</td>\n",
       "      <td>401.6880</td>\n",
       "      <td>Cash</td>\n",
       "      <td>382.56</td>\n",
       "      <td>4.761905</td>\n",
       "      <td>19.1280</td>\n",
       "      <td>7.9</td>\n",
       "    </tr>\n",
       "    <tr>\n",
       "      <th>607-76-6216</th>\n",
       "      <td>Naypyitaw</td>\n",
       "      <td>Female</td>\n",
       "      <td>Fashion accessories</td>\n",
       "      <td>92.49</td>\n",
       "      <td>5</td>\n",
       "      <td>23.1225</td>\n",
       "      <td>485.5725</td>\n",
       "      <td>Credit card</td>\n",
       "      <td>462.45</td>\n",
       "      <td>4.761905</td>\n",
       "      <td>23.1225</td>\n",
       "      <td>8.6</td>\n",
       "    </tr>\n",
       "    <tr>\n",
       "      <th>892-05-6689</th>\n",
       "      <td>Yangon</td>\n",
       "      <td>Female</td>\n",
       "      <td>Home and lifestyle</td>\n",
       "      <td>28.32</td>\n",
       "      <td>5</td>\n",
       "      <td>7.0800</td>\n",
       "      <td>148.6800</td>\n",
       "      <td>Ewallet</td>\n",
       "      <td>141.60</td>\n",
       "      <td>4.761905</td>\n",
       "      <td>7.0800</td>\n",
       "      <td>6.2</td>\n",
       "    </tr>\n",
       "    <tr>\n",
       "      <th>587-73-4862</th>\n",
       "      <td>Yangon</td>\n",
       "      <td>Female</td>\n",
       "      <td>Health and beauty</td>\n",
       "      <td>10.69</td>\n",
       "      <td>5</td>\n",
       "      <td>2.6725</td>\n",
       "      <td>56.1225</td>\n",
       "      <td>Ewallet</td>\n",
       "      <td>53.45</td>\n",
       "      <td>4.761905</td>\n",
       "      <td>2.6725</td>\n",
       "      <td>7.6</td>\n",
       "    </tr>\n",
       "  </tbody>\n",
       "</table>\n",
       "<p>258 rows × 12 columns</p>\n",
       "</div>"
      ],
      "text/plain": [
       "                Cidade  Genero           Linha produto  Preco unitario  \\\n",
       "ID                                                                       \n",
       "359-90-3665   Mandalay  Female     Fashion accessories           18.08   \n",
       "891-01-7034   Mandalay  Female  Electronic accessories           74.71   \n",
       "797-88-0493     Yangon  Female       Health and beauty           64.27   \n",
       "190-14-3147   Mandalay  Female       Health and beauty           17.97   \n",
       "501-61-1753   Mandalay  Female      Home and lifestyle           63.15   \n",
       "...                ...     ...                     ...             ...   \n",
       "407-63-8975     Yangon    Male      Food and beverages           73.88   \n",
       "711-31-1234   Mandalay  Female  Electronic accessories           95.64   \n",
       "607-76-6216  Naypyitaw  Female     Fashion accessories           92.49   \n",
       "892-05-6689     Yangon  Female      Home and lifestyle           28.32   \n",
       "587-73-4862     Yangon  Female       Health and beauty           10.69   \n",
       "\n",
       "             Quantidade  Taxa 5%     Total Forma pagamento  \\\n",
       "ID                                                           \n",
       "359-90-3665           4   3.6160   75.9360     Credit card   \n",
       "891-01-7034           6  22.4130  470.6730            Cash   \n",
       "797-88-0493           4  12.8540  269.9340            Cash   \n",
       "190-14-3147           4   3.5940   75.4740         Ewallet   \n",
       "501-61-1753           6  18.9450  397.8450         Ewallet   \n",
       "...                 ...      ...       ...             ...   \n",
       "407-63-8975           6  22.1640  465.4440         Ewallet   \n",
       "711-31-1234           4  19.1280  401.6880            Cash   \n",
       "607-76-6216           5  23.1225  485.5725     Credit card   \n",
       "892-05-6689           5   7.0800  148.6800         Ewallet   \n",
       "587-73-4862           5   2.6725   56.1225         Ewallet   \n",
       "\n",
       "             Custo produto vendido  Margem bruta  Receita bruta  Rating  \n",
       "ID                                                                       \n",
       "359-90-3665                  72.32      4.761905         3.6160     9.5  \n",
       "891-01-7034                 448.26      4.761905        22.4130     6.7  \n",
       "797-88-0493                 257.08      4.761905        12.8540     7.7  \n",
       "190-14-3147                  71.88      4.761905         3.5940     6.4  \n",
       "501-61-1753                 378.90      4.761905        18.9450     9.8  \n",
       "...                            ...           ...            ...     ...  \n",
       "407-63-8975                 443.28      4.761905        22.1640     4.4  \n",
       "711-31-1234                 382.56      4.761905        19.1280     7.9  \n",
       "607-76-6216                 462.45      4.761905        23.1225     8.6  \n",
       "892-05-6689                 141.60      4.761905         7.0800     6.2  \n",
       "587-73-4862                  53.45      4.761905         2.6725     7.6  \n",
       "\n",
       "[258 rows x 12 columns]"
      ]
     },
     "execution_count": 62,
     "metadata": {},
     "output_type": "execute_result"
    }
   ],
   "source": [
    "df[(df[\"Linha produto\"] != \"Sports and travel\") & ((df[\"Quantidade\"] >=4) & (df[\"Quantidade\"]<=6))]\n",
    "\n",
    "# ou\n",
    "\n",
    "# df[(df[\"Linha produto\"]!= \"Sports and travel\") & (df[\"Quantidade\"].isin([4,5,6]))]\n",
    "\n"
   ]
  },
  {
   "cell_type": "markdown",
   "id": "95d5c54f",
   "metadata": {},
   "source": [
    "#### "
   ]
  },
  {
   "cell_type": "markdown",
   "id": "edf05f4b",
   "metadata": {},
   "source": [
    "#### "
   ]
  },
  {
   "cell_type": "markdown",
   "id": "39fba9c1",
   "metadata": {},
   "source": [
    "#### "
   ]
  },
  {
   "cell_type": "markdown",
   "id": "38e951ba",
   "metadata": {},
   "source": [
    "#### "
   ]
  },
  {
   "cell_type": "markdown",
   "id": "36ee4637",
   "metadata": {},
   "source": [
    "#### "
   ]
  }
 ],
 "metadata": {
  "colab": {
   "collapsed_sections": [],
   "provenance": []
  },
  "kernelspec": {
   "display_name": "Python 3",
   "language": "python",
   "name": "python3"
  },
  "language_info": {
   "codemirror_mode": {
    "name": "ipython",
    "version": 3
   },
   "file_extension": ".py",
   "mimetype": "text/x-python",
   "name": "python",
   "nbconvert_exporter": "python",
   "pygments_lexer": "ipython3",
   "version": "3.8.8"
  }
 },
 "nbformat": 4,
 "nbformat_minor": 5
}
