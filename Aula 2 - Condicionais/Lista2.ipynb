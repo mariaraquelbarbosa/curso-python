{
 "cells": [
  {
   "cell_type": "markdown",
   "metadata": {
    "id": "0b01ccfd"
   },
   "source": [
    "**Questão 1 - Par ou ímpar:**\n",
    "\n",
    "Faça um programa que peça um input ao usuário e retorne se o número inserido é par ou ímpar."
   ]
  },
  {
   "cell_type": "code",
   "execution_count": 2,
   "metadata": {
    "id": "b93ecffb"
   },
   "outputs": [
    {
     "name": "stdout",
     "output_type": "stream",
     "text": [
      "Insira o número: 1\n",
      "é impar\n"
     ]
    }
   ],
   "source": [
    "#####SEU CODIGO COMECA AQUI#####\n",
    "numero = int(input('Insira o número: '))\n",
    "verificacao = numero%2\n",
    "\n",
    "if verificacao != 0 :\n",
    "    print('é impar')\n",
    "else:\n",
    "    print('é par')"
   ]
  },
  {
   "cell_type": "markdown",
   "metadata": {
    "id": "k4XQOkyrSeVe"
   },
   "source": [
    "**Questão 2 - Hora do voto** \n",
    "\n",
    "2022 é ano de eleição para presidência da república e para o governo estadual. Faça um programa que ao digitar a idade, ele diga se a pessoa já pode votar, se é obrigatório ou não.\n",
    "\n",
    "* Faixas de idade e output esperados:*\n",
    "  - até 16 anos: \"Não pode votar\"\n",
    "  - Entre 16 e 18 anos: \"Direito a voto, mas não obrigatório\"\n",
    "  - Entre 16 e 70: \"Voto Obrigatório\"\n",
    "  - A partir de 70: \"Direito a voto, mas não obrigatório\""
   ]
  },
  {
   "cell_type": "code",
   "execution_count": 13,
   "metadata": {
    "id": "W2AmKhh1S4P6"
   },
   "outputs": [
    {
     "name": "stdout",
     "output_type": "stream",
     "text": [
      "Insira a idade: 80\n",
      "Direito a voto, mas não obrigatório\n"
     ]
    }
   ],
   "source": [
    "#####SEU CODIGO COMECA AQUI#####\n",
    "idade = int(input('Insira a idade: '))\n",
    "\n",
    "if idade < 16:\n",
    "    print('Não pode votar')\n",
    "elif idade >= 18 and idade < 70:\n",
    "    print('Voto Obrigatório')\n",
    "else:\n",
    "    print('Direito a voto, mas não obrigatório')"
   ]
  },
  {
   "cell_type": "markdown",
   "metadata": {
    "id": "1c106fa7"
   },
   "source": [
    "**Questão 3 - Nota:** \n",
    "\n",
    "Você está no final do semestre, suas notas de P1 e trabalhos foram 3.5 | 7.0 | 4.0. Agora na P2, a depender da sua nota, você:\n",
    "\n",
    "*   Pega dp direto (média final menor do que 3)\n",
    "*   Vai para a reaval (média final maior ou igual a 3 e menor do que 5) \n",
    "*   É aprovado direto (média final maior ou igual a 5)\n",
    "\n",
    "a) Faça um código que:\n",
    "- Receba o input da sua nota P2\n",
    "- Calcule sua média final (média simples de todas as notas) e \n",
    "- Imprima se você foi aprovado ou não dependendo seguindo os critérios estabelecidos.\n"
   ]
  },
  {
   "cell_type": "code",
   "execution_count": 134,
   "metadata": {
    "colab": {
     "base_uri": "https://localhost:8080/"
    },
    "id": "6a531891",
    "outputId": "340f1f0b-f263-4be8-b4c5-411664361051"
   },
   "outputs": [
    {
     "name": "stdout",
     "output_type": "stream",
     "text": [
      "Digite sua nota final: 4\n",
      "Média Final = 4.625\n",
      "Vai para a reaval\n"
     ]
    }
   ],
   "source": [
    "notas = [3.5, 7.0, 4.0] \n",
    "\n",
    "p2 = float(input(\"Digite sua nota final: \"))\n",
    "notas.append(p2)\n",
    "\n",
    "#####SEU CODIGO COMECA AQUI#####\n",
    "import statistics\n",
    "mediafinal = statistics.mean(notas)\n",
    "print(f'Média Final = {mediafinal}')\n",
    "\n",
    "if mediafinal < 3:\n",
    "    print('Pegou dp direto...')\n",
    "elif mediafinal >= 3 and mediafinal <5:\n",
    "    print('Vai para a reaval')\n",
    "else:\n",
    "    print('Foi aprovado!')"
   ]
  },
  {
   "cell_type": "markdown",
   "metadata": {
    "id": "f16269e1"
   },
   "source": [
    "b) Digamos que sua nota da P2 tenha sido 4.0, o que te leva para reaval. Quanto você precisa tirar na reaval para ser aprovado? Lembre-se que a sua nota final é uma média simples entre a média antiga e sua nota na reaval (ela deve ser maior que 5 para você passar)."
   ]
  },
  {
   "cell_type": "code",
   "execution_count": 135,
   "metadata": {
    "id": "07127799"
   },
   "outputs": [
    {
     "name": "stdout",
     "output_type": "stream",
     "text": [
      "A menor nota que preciso tirar na reaval para ser aprovada é 5.375\n"
     ]
    }
   ],
   "source": [
    "#####SEU CODIGO COMECA AQUI#####\n",
    "reaval = (5*2)-mediafinal\n",
    "print(f'A menor nota que preciso tirar na reaval para ser aprovada é {reaval}')"
   ]
  },
  {
   "cell_type": "markdown",
   "metadata": {
    "id": "25671fbe"
   },
   "source": [
    "c) Agora, as notas tem pesos diferentes. A primeira nota (3.5) tem peso de 15%, a segunda nota, tem peso de 35%, a terceira tem peso de 25% e a sua última nota, 25% também. Refaça o exercío \"a\", empregando essa mudança.\n"
   ]
  },
  {
   "cell_type": "code",
   "execution_count": 136,
   "metadata": {
    "id": "89605801"
   },
   "outputs": [
    {
     "name": "stdout",
     "output_type": "stream",
     "text": [
      "Digite sua nota final: 4\n",
      "A média final será igual a 4.975\n",
      "Vai para a reaval\n"
     ]
    }
   ],
   "source": [
    "#####SEU CODIGO COMECA AQUI#####\n",
    "notas = [3.5, 7.0, 4.0] \n",
    "\n",
    "p2 = float(input(\"Digite sua nota final: \"))\n",
    "notas.append(p2)\n",
    "\n",
    "#####SEU CODIGO COMECA AQUI#####\n",
    "import statistics\n",
    "mediafinal = (notas[0]*0.15)+(notas[1]*0.35)+(notas[2]*0.25)+(notas[3]*0.25)\n",
    "print(f'A média final será igual a {mediafinal}')\n",
    "\n",
    "if mediafinal < 3:\n",
    "    print('Pegou dp direto...')\n",
    "elif mediafinal >= 3 and mediafinal <5:\n",
    "    print('Vai para a reaval')\n",
    "else:\n",
    "    print('Foi aprovado!')"
   ]
  },
  {
   "cell_type": "markdown",
   "metadata": {
    "id": "72GC4o-Nsvkk"
   },
   "source": [
    "**Questão 4 - Teste final de Formatura - POLI**\n",
    "\n",
    "Após 5 longos anos de graduação e muitas dps em cálculo chegou o momento de se formar, então a comissão faz uma última pergunta com a essência de todo curso de engenharia antes de te dar o diploma:\n",
    "Vamos ajudar nossos colegas da Poli com esse esquema. Sua tarefa é escrever esse fluxograma na forma de códigos, trazendo perguntas que pedem inputs e que resultam no output correspondente"
   ]
  },
  {
   "cell_type": "markdown",
   "metadata": {
    "id": "Ard-v6H4swVJ"
   },
   "source": [
    "**Ex pseudocode:** \n",
    "\n",
    "- Pergunta ao usuário(\"Está se movendo?\")\n",
    "- Se resposta for \"não\"\n",
    "- Pergunta ao usuário(\"Deveria?\")\n",
    "- Se a resposta for \"não\":\n",
    "\n",
    "**Output =** \"Ótimo\"\n",
    "\n",
    "Se a resposta for \"sim\":\n",
    "\n",
    "**Output =** \"Óleo\"\n",
    "\n",
    "* Fazer considerando todas as condições do diagrama"
   ]
  },
  {
   "cell_type": "markdown",
   "metadata": {
    "id": "iUx0SuKPjxGX"
   },
   "source": [
    "<center>\n",
    "\n",
    "<img width = \"300\" height =\"300\" \n",
    "src= \"https://imageproxy.ifunny.co/crop:x-20,resize:640x,quality:90x75/images/c722c710a8e68159c0d1b5ce3ab871e646e2ef64241a2594f07538cdd20f86f4_1.jpg\">\n",
    "\n",
    "</center>\n"
   ]
  },
  {
   "cell_type": "code",
   "execution_count": 137,
   "metadata": {
    "id": "rEYf5UFDaDYb"
   },
   "outputs": [
    {
     "name": "stdout",
     "output_type": "stream",
     "text": [
      "Está se movendo? sim\n",
      "Deveria? não\n",
      "Fita\n"
     ]
    }
   ],
   "source": [
    "n = str(input('Está se movendo? '))\n",
    "\n",
    "if n == 'não':\n",
    "    fluxo1 = str(input('Deveria? '))\n",
    "elif n == 'sim':\n",
    "    fluxo2 = str(input('Deveria? '))    \n",
    "else:\n",
    "    print('Erro')\n",
    "\n",
    "if n == 'não' and fluxo1 == 'sim':\n",
    "    print('Óleo')\n",
    "elif n == 'não' and fluxo1 == 'não':\n",
    "    print('Ótimo')\n",
    "elif n == 'sim' and fluxo2 == 'sim':\n",
    "    print('Ótimo')\n",
    "elif n == 'sim' and fluxo2 == 'não':\n",
    "    print('Fita')\n",
    "else:\n",
    "    print('Erro')"
   ]
  },
  {
   "cell_type": "markdown",
   "metadata": {
    "id": "yiFvjAkiVYIF"
   },
   "source": [
    "**Questão 5 - Ler**: \n",
    "\n",
    "Você descobriu um sebo perto da sua casa e resolve dar uma olhada e encontra muitos títulos interessantes. Mas como você não está nadando em dinheiro, terá que fazer algumas escolhas. \n",
    "- Escreva um programa que retorne se você deverá comprar ou não o livro, considerando que:\n",
    "  - Ele precisa estar na sua wishlist (nada de comprar por impulso);\n",
    "  - O preço do sebo deve ser mais barato do que na internet."
   ]
  },
  {
   "cell_type": "markdown",
   "metadata": {
    "id": "e2xJ3kDVXk23"
   },
   "source": [
    "a) Você deverá comprar Moby Dick?\n",
    "\n",
    "b) Você deverá comprar Crime e Castigo?\n",
    "\n",
    "c) Você deverá comprar a Odisseia?"
   ]
  },
  {
   "cell_type": "code",
   "execution_count": 92,
   "metadata": {
    "id": "oQXJG-3pVb9W"
   },
   "outputs": [
    {
     "name": "stdout",
     "output_type": "stream",
     "text": [
      "Digite o nome do livro: Moby Dick\n",
      "Pode comprar!\n"
     ]
    }
   ],
   "source": [
    "wishlist = ['Moby Dick', 'Helena', 'A Origem das Espécies', 'Grande Sertão: Veredas', 'Odisseia', 'Rápido e Devagar', 'Sidarta']\n",
    "\n",
    "precos_sebo = {'Odisseia':50, 'Jane Eyre':61, 'A Divina Comédia': 56, 'Helena':10, 'Moby Dick':55, 'Crime e Castigo':20}\n",
    "precos_internet = {'Odisseia':30, 'Jane Eyre':32, 'A Divina Comédia': 22, 'Helena':26, 'Moby Dick':145, 'Crime e Castigo':80}\n",
    "\n",
    "#####SEU CODIGO COMECA AQUI#####\n",
    "# a) Você deverá comprar Moby Dick?\n",
    "livro = str(input('Digite o nome do livro: '))\n",
    "\n",
    "if livro in wishlist and precos_sebo[livro] < precos_internet[livro]:\n",
    "        print('Pode comprar!')\n",
    "elif livro in wishlist and precos_sebo[livro] > precos_internet[livro]:\n",
    "        print('Não compre no sebo, na internet está mais barato!')\n",
    "else:\n",
    "    print('Nada de comprar por impulso!')"
   ]
  },
  {
   "cell_type": "code",
   "execution_count": 93,
   "metadata": {
    "id": "oQXJG-3pVb9W"
   },
   "outputs": [
    {
     "name": "stdout",
     "output_type": "stream",
     "text": [
      "Digite o nome do livro: Crime e Castigo\n",
      "Nada de comprar por impulso!\n"
     ]
    }
   ],
   "source": [
    "# b) Você deverá comprar Crime e Castigo?\n",
    "livro = str(input('Digite o nome do livro: '))\n",
    "\n",
    "if livro in wishlist and precos_sebo[livro] < precos_internet[livro]:\n",
    "        print('Pode comprar!')\n",
    "elif livro in wishlist and precos_sebo[livro] > precos_internet[livro]:\n",
    "        print('Não compre no sebo, na internet está mais barato!')\n",
    "else:\n",
    "    print('Nada de comprar por impulso!')"
   ]
  },
  {
   "cell_type": "code",
   "execution_count": 94,
   "metadata": {
    "id": "oQXJG-3pVb9W"
   },
   "outputs": [
    {
     "name": "stdout",
     "output_type": "stream",
     "text": [
      "Digite o nome do livro: Odisseia\n",
      "Não compre no sebo, na internet está mais barato!\n"
     ]
    }
   ],
   "source": [
    "# c) Você deverá comprar a Odisseia?\n",
    "livro = str(input('Digite o nome do livro: '))\n",
    "\n",
    "if livro in wishlist and precos_sebo[livro] < precos_internet[livro]:\n",
    "        print('Pode comprar!')\n",
    "elif livro in wishlist and precos_sebo[livro] > precos_internet[livro]:\n",
    "        print('Não compre no sebo, na internet está mais barato!')\n",
    "else:\n",
    "    print('Nada de comprar por impulso!')"
   ]
  },
  {
   "cell_type": "markdown",
   "metadata": {
    "id": "gIfRvvArGcn0"
   },
   "source": [
    "**Questão 6 - Mercado futuro de festa** \n",
    "\n",
    "Que as festas da faculdade são patrimônio universitário, todo mundo sabe, mas se a gente for em todas, não há carteira que aguente. Pior é pagar por uma festa agora e não ter grana para uma festa melhor depois. Assim, para lidar com essa volatilidade, você decide aplicar umas jogadas do mercado financeiro e de quebra, escrever uns códigos\n",
    "\n",
    "Você paga $40 reais para seu amigo. Em troca, ele deverá pagar o seu ingresso para a próxima festa, independente do valor. Se o ingresso for mais caro, você se deu bem, se for mais barato, você se deu mal. Escreva um código que receba o input do valor do próximo ingresso, indique se foi uma operação vantajosa e o quanto você perdeu ou economizou. "
   ]
  },
  {
   "cell_type": "code",
   "execution_count": 98,
   "metadata": {
    "id": "NE9vhz9a_5oC"
   },
   "outputs": [
    {
     "name": "stdout",
     "output_type": "stream",
     "text": [
      "Digite o valor do próximo ingresso: 40\n",
      "Deu na mesma, não ganhou nem perdeu\n"
     ]
    }
   ],
   "source": [
    "#####SEU CODIGO COMECA AQUI#####\n",
    "valor_prox_ingresso = int(input('Digite o valor do próximo ingresso: '))\n",
    "\n",
    "if valor_prox_ingresso > 40:\n",
    "    print(f'Você se deu bem! Economizou {valor_prox_ingresso - 40}')\n",
    "elif valor_prox_ingresso < 40:\n",
    "    print(f'Você se deu mal! Perdeu {40 - valor_prox_ingresso}')\n",
    "else:\n",
    "    print('Deu na mesma, não ganhou nem perdeu')"
   ]
  },
  {
   "cell_type": "markdown",
   "metadata": {
    "id": "260d0832"
   },
   "source": [
    "**Questão extra - Café com pão, café com pão...**\n",
    "\n",
    "Você foi no Sweden na FEA tomar um café e saiu 254,76 reais. Na hora de efetuar o pagamento, você se deparou com algumas escolhas:\n",
    "\n",
    "*   Você pode pagar a vista(1x)\n",
    "*   Pode parcelar em até 3x com juros de 2,5% (aplicado sobre o valor inicial de 254,76)\n",
    "*   Pode parcelar em mais vezes (máximo de 12 parcelas), com juros de 5%\n",
    "\n",
    "Então faça um programa que calcule o valor total, dependendo da sua escolha."
   ]
  },
  {
   "cell_type": "code",
   "execution_count": 138,
   "metadata": {
    "id": "903cf200"
   },
   "outputs": [
    {
     "name": "stdout",
     "output_type": "stream",
     "text": [
      "Você quer pagar em quantas vezes? 4\n",
      "Valor total = 267.498\n"
     ]
    }
   ],
   "source": [
    "#####SEU CODIGO COMECA AQUI#####\n",
    "capital_inicial = 254.76\n",
    "\n",
    "forma_de_pagamento = int(input('Você quer pagar em quantas vezes? '))\n",
    "ate3x = [2, 3]\n",
    "maisvezes = [4, 5, 6, 7, 8, 9, 10, 11, 12]\n",
    "\n",
    "if forma_de_pagamento == 1:\n",
    "    valor_total = capital_inicial\n",
    "    print(f'Valor total = {valor_total}')\n",
    "elif forma_de_pagamento in ate3x:\n",
    "    valor_total = capital_inicial*1.025\n",
    "    print(f'Valor total = {valor_total}')\n",
    "elif forma_de_pagamento in maisvezes:\n",
    "    valor_total = capital_inicial*1.05\n",
    "    print(f'Valor total = {valor_total}')\n",
    "else:\n",
    "    print('Não é feito parcelamento em mais de 12 vezes')"
   ]
  },
  {
   "cell_type": "markdown",
   "metadata": {
    "id": "ae13554b"
   },
   "source": [
    "b)Agora, calcule quanto você vai pagar por mês, caso o usuário tenha escolhido para parcelar:"
   ]
  },
  {
   "cell_type": "code",
   "execution_count": 139,
   "metadata": {
    "id": "90400a70"
   },
   "outputs": [
    {
     "name": "stdout",
     "output_type": "stream",
     "text": [
      "Você pagará 66.8745 por mês\n"
     ]
    }
   ],
   "source": [
    "#####SEU CODIGO COMECA AQUI#####\n",
    "if forma_de_pagamento > 1 and forma_de_pagamento <= 12:\n",
    "    print(f'Você pagará {valor_total / forma_de_pagamento} por mês')\n",
    "elif forma_de_pagamento == 1:\n",
    "    print('Você não escolheu parcelar o pagamento')\n",
    "else:\n",
    "    print('Não é feito parcelamento em mais de 12 vezes')"
   ]
  }
 ],
 "metadata": {
  "colab": {
   "collapsed_sections": [],
   "provenance": []
  },
  "kernelspec": {
   "display_name": "Python 3 (ipykernel)",
   "language": "python",
   "name": "python3"
  },
  "language_info": {
   "codemirror_mode": {
    "name": "ipython",
    "version": 3
   },
   "file_extension": ".py",
   "mimetype": "text/x-python",
   "name": "python",
   "nbconvert_exporter": "python",
   "pygments_lexer": "ipython3",
   "version": "3.9.12"
  }
 },
 "nbformat": 4,
 "nbformat_minor": 1
}
