{
 "cells": [
  {
   "cell_type": "code",
   "execution_count": 1,
   "id": "beb3ac6a",
   "metadata": {
    "id": "beb3ac6a",
    "outputId": "3a891a6b-292c-44b0-da73-c78336123cca"
   },
   "outputs": [
    {
     "name": "stdout",
     "output_type": "stream",
     "text": [
      "Requirement already satisfied: pandas in c:\\users\\joel\\anaconda3\\lib\\site-packages (1.4.2)\n",
      "Requirement already satisfied: pytz>=2020.1 in c:\\users\\joel\\anaconda3\\lib\\site-packages (from pandas) (2021.3)\n",
      "Requirement already satisfied: numpy>=1.18.5 in c:\\users\\joel\\anaconda3\\lib\\site-packages (from pandas) (1.21.5)\n",
      "Requirement already satisfied: python-dateutil>=2.8.1 in c:\\users\\joel\\anaconda3\\lib\\site-packages (from pandas) (2.8.2)\n",
      "Requirement already satisfied: six>=1.5 in c:\\users\\joel\\anaconda3\\lib\\site-packages (from python-dateutil>=2.8.1->pandas) (1.16.0)\n",
      "Note: you may need to restart the kernel to use updated packages.\n"
     ]
    }
   ],
   "source": [
    "pip install pandas"
   ]
  },
  {
   "cell_type": "markdown",
   "id": "781dd0d4",
   "metadata": {
    "id": "781dd0d4"
   },
   "source": [
    "# PANDAS 1\n",
    "\n",
    "É uma biblioteca em Python que fornece ferramentas de estrutura de dados e análise de dados com alto performance e fáceis de usar. Se tornou uma biblioteca tão completa que atualmente é indispensável para Análise de Dados."
   ]
  },
  {
   "cell_type": "code",
   "execution_count": 2,
   "id": "84be88a0",
   "metadata": {
    "id": "84be88a0"
   },
   "outputs": [],
   "source": [
    "# Importando Biblioteca\n",
    "\n",
    "import pandas as pd"
   ]
  },
  {
   "cell_type": "markdown",
   "id": "c72c2039",
   "metadata": {
    "id": "c72c2039"
   },
   "source": [
    "### No pandas existem dois tipos principais de estruturas de dados:\n",
    "\n",
    "#### 1. Series\n",
    "\n",
    "Funciona como um array unidimensional, ou seja, uma lista de valores (lembra bastante a estrutura de um numpy array). Que possui uma estrutura de valores e índice."
   ]
  },
  {
   "cell_type": "code",
   "execution_count": 3,
   "id": "3dd4d233",
   "metadata": {
    "id": "3dd4d233",
    "outputId": "3590c2c9-f59f-4a0f-8eb9-c519d082c428"
   },
   "outputs": [
    {
     "data": {
      "text/plain": [
       "0    0.030\n",
       "1    0.021\n",
       "2    0.001\n",
       "3   -0.050\n",
       "4    0.031\n",
       "dtype: float64"
      ]
     },
     "execution_count": 3,
     "metadata": {},
     "output_type": "execute_result"
    }
   ],
   "source": [
    "# Os retornos de uma ação durante a semana\n",
    "\n",
    "retornos = pd.Series([0.03, 0.021, 0.001, -0.05, 0.031])\n",
    "\n",
    "retornos"
   ]
  },
  {
   "cell_type": "markdown",
   "id": "c607614b",
   "metadata": {
    "id": "c607614b"
   },
   "source": [
    "* Podemos alterar o índice de uma Series:"
   ]
  },
  {
   "cell_type": "code",
   "execution_count": 4,
   "id": "50108f6d",
   "metadata": {
    "id": "50108f6d",
    "outputId": "d02a638c-797a-430c-da71-1f9e1b39d4dd"
   },
   "outputs": [
    {
     "data": {
      "text/plain": [
       "Seg    0.030\n",
       "Ter    0.021\n",
       "Qua    0.001\n",
       "Qui   -0.050\n",
       "Sex    0.031\n",
       "dtype: float64"
      ]
     },
     "execution_count": 4,
     "metadata": {},
     "output_type": "execute_result"
    }
   ],
   "source": [
    "retornos = pd.Series([0.03, 0.021, 0.001, -0.05, 0.031], \n",
    "                    index = [\"Seg\", \"Ter\", \"Qua\", \"Qui\", \"Sex\"])\n",
    "\n",
    "retornos"
   ]
  },
  {
   "cell_type": "markdown",
   "id": "746088ec",
   "metadata": {
    "id": "746088ec"
   },
   "source": [
    "* Podemos acessar os valores do Series utilizando o índice:"
   ]
  },
  {
   "cell_type": "code",
   "execution_count": 5,
   "id": "d8d49582",
   "metadata": {
    "id": "d8d49582",
    "outputId": "cbc98587-4373-41ee-918f-57fa22f90e80"
   },
   "outputs": [
    {
     "data": {
      "text/plain": [
       "0.021"
      ]
     },
     "execution_count": 5,
     "metadata": {},
     "output_type": "execute_result"
    }
   ],
   "source": [
    "retornos[\"Ter\"]"
   ]
  },
  {
   "cell_type": "markdown",
   "id": "fcf69692",
   "metadata": {
    "id": "fcf69692"
   },
   "source": [
    "* Podemos utilizar funções estatíosticas sobre os valores. Dentro da documentação oficial do objeto é possivel encontrar diversas funções. \n",
    "\n",
    "https://pandas.pydata.org/pandas-docs/stable/reference/api/pandas.Series.html"
   ]
  },
  {
   "cell_type": "code",
   "execution_count": 6,
   "id": "6dc223f4",
   "metadata": {
    "id": "6dc223f4",
    "outputId": "c6c1bfc4-5d12-4fd6-d472-5075e93b0f60"
   },
   "outputs": [
    {
     "name": "stdout",
     "output_type": "stream",
     "text": [
      "Média (Esperança): 0.0066\n",
      "Desvio padrão (Volatilidade): 0.033857052441108926\n"
     ]
    }
   ],
   "source": [
    "print(\"Média (Esperança):\", retornos.mean())\n",
    "print(\"Desvio padrão (Volatilidade):\", retornos.std())"
   ]
  },
  {
   "cell_type": "markdown",
   "id": "6e7297fd",
   "metadata": {
    "id": "6e7297fd"
   },
   "source": [
    "* Podemos utilizar um resumo que mostra algumas estatísticas dos dados."
   ]
  },
  {
   "cell_type": "code",
   "execution_count": 7,
   "id": "ba1bfdb3",
   "metadata": {
    "id": "ba1bfdb3",
    "outputId": "57a9c043-6d00-4afd-af14-435527438873"
   },
   "outputs": [
    {
     "data": {
      "text/plain": [
       "count    5.000000\n",
       "mean     0.006600\n",
       "std      0.033857\n",
       "min     -0.050000\n",
       "25%      0.001000\n",
       "50%      0.021000\n",
       "75%      0.030000\n",
       "max      0.031000\n",
       "dtype: float64"
      ]
     },
     "execution_count": 7,
     "metadata": {},
     "output_type": "execute_result"
    }
   ],
   "source": [
    "retornos.describe()"
   ]
  },
  {
   "cell_type": "markdown",
   "id": "a8ad6e70",
   "metadata": {
    "id": "a8ad6e70"
   },
   "source": [
    "#### 2. DataFrame\n",
    "\n",
    "A estrutura mais famosa e utilizada dentro do Pandas. É uma estrutura bidimensional de dados, lembra uma planilha."
   ]
  },
  {
   "cell_type": "code",
   "execution_count": 21,
   "id": "25d8731c",
   "metadata": {
    "id": "25d8731c",
    "outputId": "709b18fe-fc23-4c18-f63b-2f00b37f201c"
   },
   "outputs": [
    {
     "data": {
      "text/html": [
       "<div>\n",
       "<style scoped>\n",
       "    .dataframe tbody tr th:only-of-type {\n",
       "        vertical-align: middle;\n",
       "    }\n",
       "\n",
       "    .dataframe tbody tr th {\n",
       "        vertical-align: top;\n",
       "    }\n",
       "\n",
       "    .dataframe thead th {\n",
       "        text-align: right;\n",
       "    }\n",
       "</style>\n",
       "<table border=\"1\" class=\"dataframe\">\n",
       "  <thead>\n",
       "    <tr style=\"text-align: right;\">\n",
       "      <th></th>\n",
       "      <th>Dia Semana</th>\n",
       "      <th>Ativo B</th>\n",
       "      <th>Ativo C</th>\n",
       "    </tr>\n",
       "  </thead>\n",
       "  <tbody>\n",
       "    <tr>\n",
       "      <th>0</th>\n",
       "      <td>Seg</td>\n",
       "      <td>0.0220</td>\n",
       "      <td>-0.020</td>\n",
       "    </tr>\n",
       "    <tr>\n",
       "      <th>1</th>\n",
       "      <td>Ter</td>\n",
       "      <td>0.0100</td>\n",
       "      <td>-0.006</td>\n",
       "    </tr>\n",
       "    <tr>\n",
       "      <th>2</th>\n",
       "      <td>Qua</td>\n",
       "      <td>0.0170</td>\n",
       "      <td>0.023</td>\n",
       "    </tr>\n",
       "    <tr>\n",
       "      <th>3</th>\n",
       "      <td>Qui</td>\n",
       "      <td>-0.0700</td>\n",
       "      <td>0.009</td>\n",
       "    </tr>\n",
       "    <tr>\n",
       "      <th>4</th>\n",
       "      <td>Sex</td>\n",
       "      <td>-0.0051</td>\n",
       "      <td>0.017</td>\n",
       "    </tr>\n",
       "  </tbody>\n",
       "</table>\n",
       "</div>"
      ],
      "text/plain": [
       "  Dia Semana  Ativo B  Ativo C\n",
       "0        Seg   0.0220   -0.020\n",
       "1        Ter   0.0100   -0.006\n",
       "2        Qua   0.0170    0.023\n",
       "3        Qui  -0.0700    0.009\n",
       "4        Sex  -0.0051    0.017"
      ]
     },
     "execution_count": 21,
     "metadata": {},
     "output_type": "execute_result"
    }
   ],
   "source": [
    "# Os retornos de duas ações durante a semana\n",
    "\n",
    "df_retornos = pd.DataFrame({\"Dia Semana\" : [\"Seg\", \"Ter\", \"Qua\", \"Qui\", \"Sex\"],\n",
    "                           \"Ativo B\" : [0.022, 0.010, 0.017, -0.07, -0.0051],\n",
    "                           \"Ativo C\" : [-0.02, -0.006, 0.023, 0.009, 0.017]})\n",
    "\n",
    "df_retornos"
   ]
  },
  {
   "cell_type": "markdown",
   "id": "dc2c303a",
   "metadata": {
    "id": "dc2c303a"
   },
   "source": [
    "* Podemos observar os tipos dos dados:"
   ]
  },
  {
   "cell_type": "code",
   "execution_count": 9,
   "id": "2f864465",
   "metadata": {
    "id": "2f864465",
    "outputId": "75e4d1a0-5589-4d1f-e9c5-4ac4c86f9763"
   },
   "outputs": [
    {
     "data": {
      "text/plain": [
       "Dia Semana     object\n",
       "Ativo B       float64\n",
       "Ativo C       float64\n",
       "dtype: object"
      ]
     },
     "execution_count": 9,
     "metadata": {},
     "output_type": "execute_result"
    }
   ],
   "source": [
    "df_retornos.dtypes"
   ]
  },
  {
   "cell_type": "markdown",
   "id": "3e5b3839",
   "metadata": {
    "id": "3e5b3839"
   },
   "source": [
    "* É possivel acessar as colunas de um DataFrame de forma simples:"
   ]
  },
  {
   "cell_type": "code",
   "execution_count": 10,
   "id": "8b1bc2e9",
   "metadata": {
    "id": "8b1bc2e9",
    "outputId": "920dca54-caa6-4593-8dac-e0bc2ebbadd6"
   },
   "outputs": [
    {
     "data": {
      "text/plain": [
       "Index(['Dia Semana', 'Ativo B', 'Ativo C'], dtype='object')"
      ]
     },
     "execution_count": 10,
     "metadata": {},
     "output_type": "execute_result"
    }
   ],
   "source": [
    "df_retornos.columns"
   ]
  },
  {
   "cell_type": "code",
   "execution_count": 11,
   "id": "4926546f",
   "metadata": {
    "id": "4926546f",
    "outputId": "cda63325-1ac4-4386-c905-ebd1255d8b82"
   },
   "outputs": [
    {
     "data": {
      "text/plain": [
       "0    0.0220\n",
       "1    0.0100\n",
       "2    0.0170\n",
       "3   -0.0700\n",
       "4   -0.0051\n",
       "Name: Ativo B, dtype: float64"
      ]
     },
     "execution_count": 11,
     "metadata": {},
     "output_type": "execute_result"
    }
   ],
   "source": [
    "# Com um colchete pegamos a coluna em formato de Series\n",
    "\n",
    "df_retornos['Ativo B']"
   ]
  },
  {
   "cell_type": "code",
   "execution_count": 12,
   "id": "299332fb",
   "metadata": {
    "id": "299332fb",
    "outputId": "9339d255-de71-431a-981a-89b3e4c4663b"
   },
   "outputs": [
    {
     "data": {
      "text/html": [
       "<div>\n",
       "<style scoped>\n",
       "    .dataframe tbody tr th:only-of-type {\n",
       "        vertical-align: middle;\n",
       "    }\n",
       "\n",
       "    .dataframe tbody tr th {\n",
       "        vertical-align: top;\n",
       "    }\n",
       "\n",
       "    .dataframe thead th {\n",
       "        text-align: right;\n",
       "    }\n",
       "</style>\n",
       "<table border=\"1\" class=\"dataframe\">\n",
       "  <thead>\n",
       "    <tr style=\"text-align: right;\">\n",
       "      <th></th>\n",
       "      <th>Ativo B</th>\n",
       "    </tr>\n",
       "  </thead>\n",
       "  <tbody>\n",
       "    <tr>\n",
       "      <th>0</th>\n",
       "      <td>0.0220</td>\n",
       "    </tr>\n",
       "    <tr>\n",
       "      <th>1</th>\n",
       "      <td>0.0100</td>\n",
       "    </tr>\n",
       "    <tr>\n",
       "      <th>2</th>\n",
       "      <td>0.0170</td>\n",
       "    </tr>\n",
       "    <tr>\n",
       "      <th>3</th>\n",
       "      <td>-0.0700</td>\n",
       "    </tr>\n",
       "    <tr>\n",
       "      <th>4</th>\n",
       "      <td>-0.0051</td>\n",
       "    </tr>\n",
       "  </tbody>\n",
       "</table>\n",
       "</div>"
      ],
      "text/plain": [
       "   Ativo B\n",
       "0   0.0220\n",
       "1   0.0100\n",
       "2   0.0170\n",
       "3  -0.0700\n",
       "4  -0.0051"
      ]
     },
     "execution_count": 12,
     "metadata": {},
     "output_type": "execute_result"
    }
   ],
   "source": [
    "# Com dois colchete criamos outro DataFrame\n",
    "\n",
    "df_retornos[['Ativo B']]"
   ]
  },
  {
   "cell_type": "markdown",
   "id": "5246c3dc",
   "metadata": {
    "id": "5246c3dc"
   },
   "source": [
    "* Podemos definir um índice:"
   ]
  },
  {
   "cell_type": "code",
   "execution_count": 22,
   "id": "2babf583",
   "metadata": {
    "id": "2babf583"
   },
   "outputs": [],
   "source": [
    "# Nesse caso iremos utilizar a primeira coluna como índice\n",
    "\n",
    "df_retornos.index = df_retornos[\"Dia Semana\"]"
   ]
  },
  {
   "cell_type": "code",
   "execution_count": 15,
   "id": "f2cfe423",
   "metadata": {
    "id": "f2cfe423",
    "outputId": "bb618b91-d894-40ed-a4ba-04e56ab0c05b"
   },
   "outputs": [
    {
     "data": {
      "text/html": [
       "<div>\n",
       "<style scoped>\n",
       "    .dataframe tbody tr th:only-of-type {\n",
       "        vertical-align: middle;\n",
       "    }\n",
       "\n",
       "    .dataframe tbody tr th {\n",
       "        vertical-align: top;\n",
       "    }\n",
       "\n",
       "    .dataframe thead th {\n",
       "        text-align: right;\n",
       "    }\n",
       "</style>\n",
       "<table border=\"1\" class=\"dataframe\">\n",
       "  <thead>\n",
       "    <tr style=\"text-align: right;\">\n",
       "      <th></th>\n",
       "      <th>Dia Semana</th>\n",
       "      <th>Ativo B</th>\n",
       "      <th>Ativo C</th>\n",
       "    </tr>\n",
       "    <tr>\n",
       "      <th>Dia Semana</th>\n",
       "      <th></th>\n",
       "      <th></th>\n",
       "      <th></th>\n",
       "    </tr>\n",
       "  </thead>\n",
       "  <tbody>\n",
       "    <tr>\n",
       "      <th>Seg</th>\n",
       "      <td>Seg</td>\n",
       "      <td>0.0220</td>\n",
       "      <td>-0.020</td>\n",
       "    </tr>\n",
       "    <tr>\n",
       "      <th>Ter</th>\n",
       "      <td>Ter</td>\n",
       "      <td>0.0100</td>\n",
       "      <td>-0.006</td>\n",
       "    </tr>\n",
       "    <tr>\n",
       "      <th>Qua</th>\n",
       "      <td>Qua</td>\n",
       "      <td>0.0170</td>\n",
       "      <td>0.023</td>\n",
       "    </tr>\n",
       "    <tr>\n",
       "      <th>Qui</th>\n",
       "      <td>Qui</td>\n",
       "      <td>-0.0700</td>\n",
       "      <td>0.009</td>\n",
       "    </tr>\n",
       "    <tr>\n",
       "      <th>Sex</th>\n",
       "      <td>Sex</td>\n",
       "      <td>-0.0051</td>\n",
       "      <td>0.017</td>\n",
       "    </tr>\n",
       "  </tbody>\n",
       "</table>\n",
       "</div>"
      ],
      "text/plain": [
       "           Dia Semana  Ativo B  Ativo C\n",
       "Dia Semana                             \n",
       "Seg               Seg   0.0220   -0.020\n",
       "Ter               Ter   0.0100   -0.006\n",
       "Qua               Qua   0.0170    0.023\n",
       "Qui               Qui  -0.0700    0.009\n",
       "Sex               Sex  -0.0051    0.017"
      ]
     },
     "execution_count": 15,
     "metadata": {},
     "output_type": "execute_result"
    }
   ],
   "source": [
    "df_retornos"
   ]
  },
  {
   "cell_type": "code",
   "execution_count": 27,
   "id": "6d0e93b8",
   "metadata": {
    "id": "6d0e93b8",
    "outputId": "ba1b6882-d8a2-401c-bd58-35612dba6c0a"
   },
   "outputs": [
    {
     "data": {
      "text/html": [
       "<div>\n",
       "<style scoped>\n",
       "    .dataframe tbody tr th:only-of-type {\n",
       "        vertical-align: middle;\n",
       "    }\n",
       "\n",
       "    .dataframe tbody tr th {\n",
       "        vertical-align: top;\n",
       "    }\n",
       "\n",
       "    .dataframe thead th {\n",
       "        text-align: right;\n",
       "    }\n",
       "</style>\n",
       "<table border=\"1\" class=\"dataframe\">\n",
       "  <thead>\n",
       "    <tr style=\"text-align: right;\">\n",
       "      <th></th>\n",
       "      <th>Ativo B</th>\n",
       "      <th>Ativo C</th>\n",
       "    </tr>\n",
       "    <tr>\n",
       "      <th>Dia Semana</th>\n",
       "      <th></th>\n",
       "      <th></th>\n",
       "    </tr>\n",
       "  </thead>\n",
       "  <tbody>\n",
       "    <tr>\n",
       "      <th>Seg</th>\n",
       "      <td>0.0220</td>\n",
       "      <td>-0.020</td>\n",
       "    </tr>\n",
       "    <tr>\n",
       "      <th>Ter</th>\n",
       "      <td>0.0100</td>\n",
       "      <td>-0.006</td>\n",
       "    </tr>\n",
       "    <tr>\n",
       "      <th>Qua</th>\n",
       "      <td>0.0170</td>\n",
       "      <td>0.023</td>\n",
       "    </tr>\n",
       "    <tr>\n",
       "      <th>Qui</th>\n",
       "      <td>-0.0700</td>\n",
       "      <td>0.009</td>\n",
       "    </tr>\n",
       "    <tr>\n",
       "      <th>Sex</th>\n",
       "      <td>-0.0051</td>\n",
       "      <td>0.017</td>\n",
       "    </tr>\n",
       "  </tbody>\n",
       "</table>\n",
       "</div>"
      ],
      "text/plain": [
       "            Ativo B  Ativo C\n",
       "Dia Semana                  \n",
       "Seg          0.0220   -0.020\n",
       "Ter          0.0100   -0.006\n",
       "Qua          0.0170    0.023\n",
       "Qui         -0.0700    0.009\n",
       "Sex         -0.0051    0.017"
      ]
     },
     "execution_count": 27,
     "metadata": {},
     "output_type": "execute_result"
    }
   ],
   "source": [
    "# Podemos tirar uma coluna utilizando a função .drop()\n",
    "# parâmetro axis = 1 idenifica que é uma coluna\n",
    "\n",
    "df_retornos = df_retornos.drop([\"Dia Semana\"], axis = 1) \n",
    "\n",
    "df_retornos"
   ]
  },
  {
   "cell_type": "code",
   "execution_count": 28,
   "id": "902ba9e5",
   "metadata": {
    "id": "902ba9e5",
    "outputId": "87861b8b-852e-40a9-c70a-9219f29ee0dc"
   },
   "outputs": [
    {
     "data": {
      "text/html": [
       "<div>\n",
       "<style scoped>\n",
       "    .dataframe tbody tr th:only-of-type {\n",
       "        vertical-align: middle;\n",
       "    }\n",
       "\n",
       "    .dataframe tbody tr th {\n",
       "        vertical-align: top;\n",
       "    }\n",
       "\n",
       "    .dataframe thead th {\n",
       "        text-align: right;\n",
       "    }\n",
       "</style>\n",
       "<table border=\"1\" class=\"dataframe\">\n",
       "  <thead>\n",
       "    <tr style=\"text-align: right;\">\n",
       "      <th></th>\n",
       "      <th>Ativo B</th>\n",
       "      <th>Ativo C</th>\n",
       "    </tr>\n",
       "  </thead>\n",
       "  <tbody>\n",
       "    <tr>\n",
       "      <th>count</th>\n",
       "      <td>5.000000</td>\n",
       "      <td>5.00000</td>\n",
       "    </tr>\n",
       "    <tr>\n",
       "      <th>mean</th>\n",
       "      <td>-0.005220</td>\n",
       "      <td>0.00460</td>\n",
       "    </tr>\n",
       "    <tr>\n",
       "      <th>std</th>\n",
       "      <td>0.037626</td>\n",
       "      <td>0.01753</td>\n",
       "    </tr>\n",
       "    <tr>\n",
       "      <th>min</th>\n",
       "      <td>-0.070000</td>\n",
       "      <td>-0.02000</td>\n",
       "    </tr>\n",
       "    <tr>\n",
       "      <th>25%</th>\n",
       "      <td>-0.005100</td>\n",
       "      <td>-0.00600</td>\n",
       "    </tr>\n",
       "    <tr>\n",
       "      <th>50%</th>\n",
       "      <td>0.010000</td>\n",
       "      <td>0.00900</td>\n",
       "    </tr>\n",
       "    <tr>\n",
       "      <th>75%</th>\n",
       "      <td>0.017000</td>\n",
       "      <td>0.01700</td>\n",
       "    </tr>\n",
       "    <tr>\n",
       "      <th>max</th>\n",
       "      <td>0.022000</td>\n",
       "      <td>0.02300</td>\n",
       "    </tr>\n",
       "  </tbody>\n",
       "</table>\n",
       "</div>"
      ],
      "text/plain": [
       "        Ativo B  Ativo C\n",
       "count  5.000000  5.00000\n",
       "mean  -0.005220  0.00460\n",
       "std    0.037626  0.01753\n",
       "min   -0.070000 -0.02000\n",
       "25%   -0.005100 -0.00600\n",
       "50%    0.010000  0.00900\n",
       "75%    0.017000  0.01700\n",
       "max    0.022000  0.02300"
      ]
     },
     "execution_count": 28,
     "metadata": {},
     "output_type": "execute_result"
    }
   ],
   "source": [
    "# É possível utilizar a .describe()\n",
    "\n",
    "df_retornos.describe()"
   ]
  },
  {
   "cell_type": "code",
   "execution_count": 29,
   "id": "600befe7",
   "metadata": {
    "id": "600befe7",
    "outputId": "4dd87d43-3847-47e7-fe64-baf5ec0e46b6"
   },
   "outputs": [
    {
     "data": {
      "text/html": [
       "<div>\n",
       "<style scoped>\n",
       "    .dataframe tbody tr th:only-of-type {\n",
       "        vertical-align: middle;\n",
       "    }\n",
       "\n",
       "    .dataframe tbody tr th {\n",
       "        vertical-align: top;\n",
       "    }\n",
       "\n",
       "    .dataframe thead th {\n",
       "        text-align: right;\n",
       "    }\n",
       "</style>\n",
       "<table border=\"1\" class=\"dataframe\">\n",
       "  <thead>\n",
       "    <tr style=\"text-align: right;\">\n",
       "      <th></th>\n",
       "      <th>Ativo B</th>\n",
       "      <th>Ativo C</th>\n",
       "    </tr>\n",
       "    <tr>\n",
       "      <th>Dia Semana</th>\n",
       "      <th></th>\n",
       "      <th></th>\n",
       "    </tr>\n",
       "  </thead>\n",
       "  <tbody>\n",
       "    <tr>\n",
       "      <th>Seg</th>\n",
       "      <td>0.022</td>\n",
       "      <td>-0.020</td>\n",
       "    </tr>\n",
       "    <tr>\n",
       "      <th>Ter</th>\n",
       "      <td>0.010</td>\n",
       "      <td>-0.006</td>\n",
       "    </tr>\n",
       "    <tr>\n",
       "      <th>Qua</th>\n",
       "      <td>0.017</td>\n",
       "      <td>0.023</td>\n",
       "    </tr>\n",
       "  </tbody>\n",
       "</table>\n",
       "</div>"
      ],
      "text/plain": [
       "            Ativo B  Ativo C\n",
       "Dia Semana                  \n",
       "Seg           0.022   -0.020\n",
       "Ter           0.010   -0.006\n",
       "Qua           0.017    0.023"
      ]
     },
     "execution_count": 29,
     "metadata": {},
     "output_type": "execute_result"
    }
   ],
   "source": [
    "# Podemos selecionar dados utilizando um Boleano\n",
    "# Mostrar retornos em que o Ativo B é maior que 0\n",
    "df_retornos[df_retornos[\"Ativo B\"] > 0]"
   ]
  },
  {
   "cell_type": "code",
   "execution_count": 30,
   "id": "82190d32",
   "metadata": {
    "id": "82190d32",
    "outputId": "12902861-25f0-4861-d093-7ce8f4041efa"
   },
   "outputs": [
    {
     "data": {
      "text/html": [
       "<div>\n",
       "<style scoped>\n",
       "    .dataframe tbody tr th:only-of-type {\n",
       "        vertical-align: middle;\n",
       "    }\n",
       "\n",
       "    .dataframe tbody tr th {\n",
       "        vertical-align: top;\n",
       "    }\n",
       "\n",
       "    .dataframe thead th {\n",
       "        text-align: right;\n",
       "    }\n",
       "</style>\n",
       "<table border=\"1\" class=\"dataframe\">\n",
       "  <thead>\n",
       "    <tr style=\"text-align: right;\">\n",
       "      <th></th>\n",
       "      <th>Ativo B</th>\n",
       "      <th>Ativo C</th>\n",
       "    </tr>\n",
       "    <tr>\n",
       "      <th>Dia Semana</th>\n",
       "      <th></th>\n",
       "      <th></th>\n",
       "    </tr>\n",
       "  </thead>\n",
       "  <tbody>\n",
       "    <tr>\n",
       "      <th>Qua</th>\n",
       "      <td>0.017</td>\n",
       "      <td>0.023</td>\n",
       "    </tr>\n",
       "  </tbody>\n",
       "</table>\n",
       "</div>"
      ],
      "text/plain": [
       "            Ativo B  Ativo C\n",
       "Dia Semana                  \n",
       "Qua           0.017    0.023"
      ]
     },
     "execution_count": 30,
     "metadata": {},
     "output_type": "execute_result"
    }
   ],
   "source": [
    "# Podemos utilizar condições mutiplas com simbolos \n",
    "\n",
    "df_retornos[(df_retornos[\"Ativo B\"] > 0) & (df_retornos[\"Ativo C\"] > 0)]"
   ]
  },
  {
   "cell_type": "markdown",
   "id": "9380cea2",
   "metadata": {
    "id": "9380cea2"
   },
   "source": [
    "### Leitura de Dados\n",
    "\n",
    "Como vimos é possivel manipular dados, o Pandas nos fornece uma série de funcionalidade de leitura de dados. Aqui iremos utiliza o pd.read_csv (Comma Separeted Values - Valores divididos por virgula, podendo ser ponto-virgula), pois nesse formato se encontra a maioria dos dados.\n",
    "\n",
    "De uma olhada na documentação oficial do objeto que irá encontrar diversas formas de leitura de dados e diversas funcionalidades: https://pandas.pydata.org/docs/reference/api/pandas.DataFrame.html"
   ]
  },
  {
   "cell_type": "code",
   "execution_count": 44,
   "id": "4b168af6",
   "metadata": {
    "colab": {
     "base_uri": "https://localhost:8080/",
     "height": 165
    },
    "executionInfo": {
     "elapsed": 18,
     "status": "error",
     "timestamp": 1666989263377,
     "user": {
      "displayName": "Gustavo Yuji Osawa Yamachi",
      "userId": "06889319887641697552"
     },
     "user_tz": 180
    },
    "id": "4b168af6",
    "outputId": "79f0b1d6-65f4-4905-9505-f6b936d0973f"
   },
   "outputs": [],
   "source": [
    "df = pd.read_csv(\"dados_devers.csv\", sep = \";\")"
   ]
  },
  {
   "cell_type": "code",
   "execution_count": 45,
   "id": "999e93a4",
   "metadata": {
    "executionInfo": {
     "elapsed": 14,
     "status": "aborted",
     "timestamp": 1666989263379,
     "user": {
      "displayName": "Gustavo Yuji Osawa Yamachi",
      "userId": "06889319887641697552"
     },
     "user_tz": 180
    },
    "id": "999e93a4"
   },
   "outputs": [
    {
     "data": {
      "text/html": [
       "<div>\n",
       "<style scoped>\n",
       "    .dataframe tbody tr th:only-of-type {\n",
       "        vertical-align: middle;\n",
       "    }\n",
       "\n",
       "    .dataframe tbody tr th {\n",
       "        vertical-align: top;\n",
       "    }\n",
       "\n",
       "    .dataframe thead th {\n",
       "        text-align: right;\n",
       "    }\n",
       "</style>\n",
       "<table border=\"1\" class=\"dataframe\">\n",
       "  <thead>\n",
       "    <tr style=\"text-align: right;\">\n",
       "      <th></th>\n",
       "      <th>Devers</th>\n",
       "      <th>Geração</th>\n",
       "      <th>Cursos 2022</th>\n",
       "      <th>Média FEA</th>\n",
       "      <th>Unnamed: 4</th>\n",
       "      <th>Unnamed: 5</th>\n",
       "    </tr>\n",
       "  </thead>\n",
       "  <tbody>\n",
       "    <tr>\n",
       "      <th>0</th>\n",
       "      <td>Eddy</td>\n",
       "      <td>2.0</td>\n",
       "      <td>5</td>\n",
       "      <td>6,9</td>\n",
       "      <td>NaN</td>\n",
       "      <td>NaN</td>\n",
       "    </tr>\n",
       "    <tr>\n",
       "      <th>1</th>\n",
       "      <td>André</td>\n",
       "      <td>3.0</td>\n",
       "      <td>4</td>\n",
       "      <td>8,7</td>\n",
       "      <td>NaN</td>\n",
       "      <td>NaN</td>\n",
       "    </tr>\n",
       "    <tr>\n",
       "      <th>2</th>\n",
       "      <td>Kevyn</td>\n",
       "      <td>3.0</td>\n",
       "      <td>6</td>\n",
       "      <td>4,9</td>\n",
       "      <td>NaN</td>\n",
       "      <td></td>\n",
       "    </tr>\n",
       "    <tr>\n",
       "      <th>3</th>\n",
       "      <td>Thais</td>\n",
       "      <td>3.0</td>\n",
       "      <td>4</td>\n",
       "      <td>8</td>\n",
       "      <td>NaN</td>\n",
       "      <td>NaN</td>\n",
       "    </tr>\n",
       "    <tr>\n",
       "      <th>4</th>\n",
       "      <td>Bailinho</td>\n",
       "      <td>3.0</td>\n",
       "      <td>4</td>\n",
       "      <td>1,8</td>\n",
       "      <td>NaN</td>\n",
       "      <td>NaN</td>\n",
       "    </tr>\n",
       "  </tbody>\n",
       "</table>\n",
       "</div>"
      ],
      "text/plain": [
       "     Devers  Geração  Cursos 2022 Média FEA  Unnamed: 4 Unnamed: 5\n",
       "0      Eddy      2.0            5       6,9         NaN        NaN\n",
       "1     André      3.0            4       8,7         NaN        NaN\n",
       "2    Kevyn       3.0            6       4,9         NaN           \n",
       "3     Thais      3.0            4         8         NaN        NaN\n",
       "4  Bailinho      3.0            4       1,8         NaN        NaN"
      ]
     },
     "execution_count": 45,
     "metadata": {},
     "output_type": "execute_result"
    }
   ],
   "source": [
    "# Podemos utilizar o .head() para mostrar as 5 primeiras linhas\n",
    "\n",
    "df.head()"
   ]
  },
  {
   "cell_type": "code",
   "execution_count": 46,
   "id": "f0e5e33f",
   "metadata": {
    "executionInfo": {
     "elapsed": 16,
     "status": "aborted",
     "timestamp": 1666989263381,
     "user": {
      "displayName": "Gustavo Yuji Osawa Yamachi",
      "userId": "06889319887641697552"
     },
     "user_tz": 180
    },
    "id": "f0e5e33f"
   },
   "outputs": [
    {
     "data": {
      "text/plain": [
       "(56, 6)"
      ]
     },
     "execution_count": 46,
     "metadata": {},
     "output_type": "execute_result"
    }
   ],
   "source": [
    "# Mostrar quantidade de linhas e colunas\n",
    "\n",
    "df.shape"
   ]
  },
  {
   "cell_type": "code",
   "execution_count": 47,
   "id": "5a000c3b",
   "metadata": {
    "executionInfo": {
     "elapsed": 15,
     "status": "aborted",
     "timestamp": 1666989263381,
     "user": {
      "displayName": "Gustavo Yuji Osawa Yamachi",
      "userId": "06889319887641697552"
     },
     "user_tz": 180
    },
    "id": "5a000c3b"
   },
   "outputs": [],
   "source": [
    "# Na própria função de leitura de dados podemos definir um índice\n",
    "\n",
    "df = pd.read_csv(\"dados_devers.csv\", sep = \";\", index_col=0)"
   ]
  },
  {
   "cell_type": "code",
   "execution_count": 48,
   "id": "6acbe2c6",
   "metadata": {
    "executionInfo": {
     "elapsed": 17,
     "status": "aborted",
     "timestamp": 1666989263383,
     "user": {
      "displayName": "Gustavo Yuji Osawa Yamachi",
      "userId": "06889319887641697552"
     },
     "user_tz": 180
    },
    "id": "6acbe2c6"
   },
   "outputs": [
    {
     "data": {
      "text/html": [
       "<div>\n",
       "<style scoped>\n",
       "    .dataframe tbody tr th:only-of-type {\n",
       "        vertical-align: middle;\n",
       "    }\n",
       "\n",
       "    .dataframe tbody tr th {\n",
       "        vertical-align: top;\n",
       "    }\n",
       "\n",
       "    .dataframe thead th {\n",
       "        text-align: right;\n",
       "    }\n",
       "</style>\n",
       "<table border=\"1\" class=\"dataframe\">\n",
       "  <thead>\n",
       "    <tr style=\"text-align: right;\">\n",
       "      <th></th>\n",
       "      <th>Geração</th>\n",
       "      <th>Cursos 2022</th>\n",
       "      <th>Média FEA</th>\n",
       "      <th>Unnamed: 4</th>\n",
       "      <th>Unnamed: 5</th>\n",
       "    </tr>\n",
       "    <tr>\n",
       "      <th>Devers</th>\n",
       "      <th></th>\n",
       "      <th></th>\n",
       "      <th></th>\n",
       "      <th></th>\n",
       "      <th></th>\n",
       "    </tr>\n",
       "  </thead>\n",
       "  <tbody>\n",
       "    <tr>\n",
       "      <th>Julio</th>\n",
       "      <td>3.0</td>\n",
       "      <td>3</td>\n",
       "      <td>8,6</td>\n",
       "      <td>NaN</td>\n",
       "      <td>NaN</td>\n",
       "    </tr>\n",
       "    <tr>\n",
       "      <th>Lucas L.</th>\n",
       "      <td>4.0</td>\n",
       "      <td>3</td>\n",
       "      <td>4,8</td>\n",
       "      <td>NaN</td>\n",
       "      <td>NaN</td>\n",
       "    </tr>\n",
       "    <tr>\n",
       "      <th>Maryana</th>\n",
       "      <td>4.0</td>\n",
       "      <td>5</td>\n",
       "      <td>7,5</td>\n",
       "      <td>NaN</td>\n",
       "      <td>NaN</td>\n",
       "    </tr>\n",
       "    <tr>\n",
       "      <th>Danilo</th>\n",
       "      <td>4.0</td>\n",
       "      <td>4</td>\n",
       "      <td>7,6</td>\n",
       "      <td>NaN</td>\n",
       "      <td>NaN</td>\n",
       "    </tr>\n",
       "    <tr>\n",
       "      <th>Bailinho</th>\n",
       "      <td>3.0</td>\n",
       "      <td>4</td>\n",
       "      <td>1,8</td>\n",
       "      <td>NaN</td>\n",
       "      <td>NaN</td>\n",
       "    </tr>\n",
       "  </tbody>\n",
       "</table>\n",
       "</div>"
      ],
      "text/plain": [
       "          Geração  Cursos 2022 Média FEA  Unnamed: 4 Unnamed: 5\n",
       "Devers                                                         \n",
       "Julio         3.0            3       8,6         NaN        NaN\n",
       "Lucas L.      4.0            3       4,8         NaN        NaN\n",
       "Maryana       4.0            5       7,5         NaN        NaN\n",
       "Danilo        4.0            4       7,6         NaN        NaN\n",
       "Bailinho      3.0            4       1,8         NaN        NaN"
      ]
     },
     "execution_count": 48,
     "metadata": {},
     "output_type": "execute_result"
    }
   ],
   "source": [
    "# Na mesma lógica do .head() o .tail() mostra as 5 ultimas linhas\n",
    "\n",
    "df.tail()"
   ]
  },
  {
   "cell_type": "code",
   "execution_count": 49,
   "id": "7d7038a9",
   "metadata": {
    "executionInfo": {
     "elapsed": 17,
     "status": "aborted",
     "timestamp": 1666989263384,
     "user": {
      "displayName": "Gustavo Yuji Osawa Yamachi",
      "userId": "06889319887641697552"
     },
     "user_tz": 180
    },
    "id": "7d7038a9"
   },
   "outputs": [
    {
     "data": {
      "text/plain": [
       "Index(['Unnamed: 4', 'Unnamed: 5'], dtype='object')"
      ]
     },
     "execution_count": 49,
     "metadata": {},
     "output_type": "execute_result"
    }
   ],
   "source": [
    "df.columns[-2:]"
   ]
  },
  {
   "cell_type": "code",
   "execution_count": 50,
   "id": "f651ff44",
   "metadata": {
    "executionInfo": {
     "elapsed": 18,
     "status": "aborted",
     "timestamp": 1666989263385,
     "user": {
      "displayName": "Gustavo Yuji Osawa Yamachi",
      "userId": "06889319887641697552"
     },
     "user_tz": 180
    },
    "id": "f651ff44"
   },
   "outputs": [],
   "source": [
    "# Vamos remover as colunas finais, já que vieram sem dados\n",
    "\n",
    "df = df.drop(df.columns[-2:], axis = 1)"
   ]
  },
  {
   "cell_type": "code",
   "execution_count": 51,
   "id": "7616f710",
   "metadata": {
    "executionInfo": {
     "elapsed": 18,
     "status": "aborted",
     "timestamp": 1666989263386,
     "user": {
      "displayName": "Gustavo Yuji Osawa Yamachi",
      "userId": "06889319887641697552"
     },
     "user_tz": 180
    },
    "id": "7616f710"
   },
   "outputs": [
    {
     "data": {
      "text/html": [
       "<div>\n",
       "<style scoped>\n",
       "    .dataframe tbody tr th:only-of-type {\n",
       "        vertical-align: middle;\n",
       "    }\n",
       "\n",
       "    .dataframe tbody tr th {\n",
       "        vertical-align: top;\n",
       "    }\n",
       "\n",
       "    .dataframe thead th {\n",
       "        text-align: right;\n",
       "    }\n",
       "</style>\n",
       "<table border=\"1\" class=\"dataframe\">\n",
       "  <thead>\n",
       "    <tr style=\"text-align: right;\">\n",
       "      <th></th>\n",
       "      <th>Geração</th>\n",
       "      <th>Cursos 2022</th>\n",
       "      <th>Média FEA</th>\n",
       "    </tr>\n",
       "    <tr>\n",
       "      <th>Devers</th>\n",
       "      <th></th>\n",
       "      <th></th>\n",
       "      <th></th>\n",
       "    </tr>\n",
       "  </thead>\n",
       "  <tbody>\n",
       "    <tr>\n",
       "      <th>Eddy</th>\n",
       "      <td>2.0</td>\n",
       "      <td>5</td>\n",
       "      <td>6,9</td>\n",
       "    </tr>\n",
       "    <tr>\n",
       "      <th>André</th>\n",
       "      <td>3.0</td>\n",
       "      <td>4</td>\n",
       "      <td>8,7</td>\n",
       "    </tr>\n",
       "    <tr>\n",
       "      <th>Kevyn</th>\n",
       "      <td>3.0</td>\n",
       "      <td>6</td>\n",
       "      <td>4,9</td>\n",
       "    </tr>\n",
       "    <tr>\n",
       "      <th>Thais</th>\n",
       "      <td>3.0</td>\n",
       "      <td>4</td>\n",
       "      <td>8</td>\n",
       "    </tr>\n",
       "    <tr>\n",
       "      <th>Bailinho</th>\n",
       "      <td>3.0</td>\n",
       "      <td>4</td>\n",
       "      <td>1,8</td>\n",
       "    </tr>\n",
       "  </tbody>\n",
       "</table>\n",
       "</div>"
      ],
      "text/plain": [
       "          Geração  Cursos 2022 Média FEA\n",
       "Devers                                  \n",
       "Eddy          2.0            5       6,9\n",
       "André         3.0            4       8,7\n",
       "Kevyn         3.0            6       4,9\n",
       "Thais         3.0            4         8\n",
       "Bailinho      3.0            4       1,8"
      ]
     },
     "execution_count": 51,
     "metadata": {},
     "output_type": "execute_result"
    }
   ],
   "source": [
    "df.head()"
   ]
  },
  {
   "cell_type": "code",
   "execution_count": 52,
   "id": "8ca363d0",
   "metadata": {
    "executionInfo": {
     "elapsed": 18,
     "status": "aborted",
     "timestamp": 1666989263387,
     "user": {
      "displayName": "Gustavo Yuji Osawa Yamachi",
      "userId": "06889319887641697552"
     },
     "user_tz": 180
    },
    "id": "8ca363d0"
   },
   "outputs": [
    {
     "data": {
      "text/plain": [
       "Geração        3\n",
       "Cursos 2022    0\n",
       "Média FEA      0\n",
       "dtype: int64"
      ]
     },
     "execution_count": 52,
     "metadata": {},
     "output_type": "execute_result"
    }
   ],
   "source": [
    "# Podemos observar se temos dados em branco (NaN):\n",
    "\n",
    "# df.isna() # Mostrar que vira uma tabela de bools\n",
    "\n",
    "# Utilizando a função .sum()\n",
    "df.isna().sum()"
   ]
  },
  {
   "cell_type": "code",
   "execution_count": 53,
   "id": "185f107f",
   "metadata": {
    "executionInfo": {
     "elapsed": 1036,
     "status": "aborted",
     "timestamp": 1666989263389,
     "user": {
      "displayName": "Gustavo Yuji Osawa Yamachi",
      "userId": "06889319887641697552"
     },
     "user_tz": 180
    },
    "id": "185f107f"
   },
   "outputs": [
    {
     "data": {
      "text/plain": [
       "Geração        0\n",
       "Cursos 2022    0\n",
       "Média FEA      0\n",
       "dtype: int64"
      ]
     },
     "execution_count": 53,
     "metadata": {},
     "output_type": "execute_result"
    }
   ],
   "source": [
    "# Remover os dados\n",
    "df = df.dropna()\n",
    "# fillna() - adicionar dados\n",
    "df.isna().sum()"
   ]
  },
  {
   "cell_type": "code",
   "execution_count": 54,
   "id": "6209771a",
   "metadata": {
    "executionInfo": {
     "elapsed": 1026,
     "status": "aborted",
     "timestamp": 1666989263391,
     "user": {
      "displayName": "Gustavo Yuji Osawa Yamachi",
      "userId": "06889319887641697552"
     },
     "user_tz": 180
    },
    "id": "6209771a"
   },
   "outputs": [
    {
     "data": {
      "text/plain": [
       "(53, 3)"
      ]
     },
     "execution_count": 54,
     "metadata": {},
     "output_type": "execute_result"
    }
   ],
   "source": [
    "df.shape"
   ]
  },
  {
   "cell_type": "code",
   "execution_count": 55,
   "id": "5ba5783d",
   "metadata": {
    "executionInfo": {
     "elapsed": 1016,
     "status": "aborted",
     "timestamp": 1666989263392,
     "user": {
      "displayName": "Gustavo Yuji Osawa Yamachi",
      "userId": "06889319887641697552"
     },
     "user_tz": 180
    },
    "id": "5ba5783d"
   },
   "outputs": [
    {
     "data": {
      "text/plain": [
       "4"
      ]
     },
     "execution_count": 55,
     "metadata": {},
     "output_type": "execute_result"
    }
   ],
   "source": [
    "# Dados Duplicados\n",
    "\n",
    "df.duplicated().sum()"
   ]
  },
  {
   "cell_type": "code",
   "execution_count": 56,
   "id": "75d1700d",
   "metadata": {
    "executionInfo": {
     "elapsed": 1007,
     "status": "aborted",
     "timestamp": 1666989263393,
     "user": {
      "displayName": "Gustavo Yuji Osawa Yamachi",
      "userId": "06889319887641697552"
     },
     "user_tz": 180
    },
    "id": "75d1700d"
   },
   "outputs": [
    {
     "data": {
      "text/plain": [
       "(49, 3)"
      ]
     },
     "execution_count": 56,
     "metadata": {},
     "output_type": "execute_result"
    }
   ],
   "source": [
    "# Remoiver dados duplicados\n",
    "\n",
    "df = df.drop_duplicates()\n",
    "\n",
    "df.shape"
   ]
  },
  {
   "cell_type": "code",
   "execution_count": 57,
   "id": "646dd794",
   "metadata": {
    "executionInfo": {
     "elapsed": 1004,
     "status": "aborted",
     "timestamp": 1666989263394,
     "user": {
      "displayName": "Gustavo Yuji Osawa Yamachi",
      "userId": "06889319887641697552"
     },
     "user_tz": 180
    },
    "id": "646dd794"
   },
   "outputs": [],
   "source": [
    "# Podemos criar colunas - supondo que cada curso tem 4 horas de duração\n",
    "\n",
    "df['Horas Estudadas'] = df[\"Cursos 2022\"] * 4"
   ]
  },
  {
   "cell_type": "code",
   "execution_count": 58,
   "id": "f4fab2f9",
   "metadata": {
    "executionInfo": {
     "elapsed": 995,
     "status": "aborted",
     "timestamp": 1666989263396,
     "user": {
      "displayName": "Gustavo Yuji Osawa Yamachi",
      "userId": "06889319887641697552"
     },
     "user_tz": 180
    },
    "id": "f4fab2f9"
   },
   "outputs": [
    {
     "data": {
      "text/html": [
       "<div>\n",
       "<style scoped>\n",
       "    .dataframe tbody tr th:only-of-type {\n",
       "        vertical-align: middle;\n",
       "    }\n",
       "\n",
       "    .dataframe tbody tr th {\n",
       "        vertical-align: top;\n",
       "    }\n",
       "\n",
       "    .dataframe thead th {\n",
       "        text-align: right;\n",
       "    }\n",
       "</style>\n",
       "<table border=\"1\" class=\"dataframe\">\n",
       "  <thead>\n",
       "    <tr style=\"text-align: right;\">\n",
       "      <th></th>\n",
       "      <th>Geração</th>\n",
       "      <th>Cursos 2022</th>\n",
       "      <th>Média FEA</th>\n",
       "      <th>Horas Estudadas</th>\n",
       "    </tr>\n",
       "    <tr>\n",
       "      <th>Devers</th>\n",
       "      <th></th>\n",
       "      <th></th>\n",
       "      <th></th>\n",
       "      <th></th>\n",
       "    </tr>\n",
       "  </thead>\n",
       "  <tbody>\n",
       "    <tr>\n",
       "      <th>Eddy</th>\n",
       "      <td>2.0</td>\n",
       "      <td>5</td>\n",
       "      <td>6,9</td>\n",
       "      <td>20</td>\n",
       "    </tr>\n",
       "    <tr>\n",
       "      <th>André</th>\n",
       "      <td>3.0</td>\n",
       "      <td>4</td>\n",
       "      <td>8,7</td>\n",
       "      <td>16</td>\n",
       "    </tr>\n",
       "    <tr>\n",
       "      <th>Kevyn</th>\n",
       "      <td>3.0</td>\n",
       "      <td>6</td>\n",
       "      <td>4,9</td>\n",
       "      <td>24</td>\n",
       "    </tr>\n",
       "    <tr>\n",
       "      <th>Thais</th>\n",
       "      <td>3.0</td>\n",
       "      <td>4</td>\n",
       "      <td>8</td>\n",
       "      <td>16</td>\n",
       "    </tr>\n",
       "    <tr>\n",
       "      <th>Bailinho</th>\n",
       "      <td>3.0</td>\n",
       "      <td>4</td>\n",
       "      <td>1,8</td>\n",
       "      <td>16</td>\n",
       "    </tr>\n",
       "  </tbody>\n",
       "</table>\n",
       "</div>"
      ],
      "text/plain": [
       "          Geração  Cursos 2022 Média FEA  Horas Estudadas\n",
       "Devers                                                   \n",
       "Eddy          2.0            5       6,9               20\n",
       "André         3.0            4       8,7               16\n",
       "Kevyn         3.0            6       4,9               24\n",
       "Thais         3.0            4         8               16\n",
       "Bailinho      3.0            4       1,8               16"
      ]
     },
     "execution_count": 58,
     "metadata": {},
     "output_type": "execute_result"
    }
   ],
   "source": [
    "df.head()"
   ]
  },
  {
   "cell_type": "code",
   "execution_count": 59,
   "id": "d27c283e",
   "metadata": {
    "executionInfo": {
     "elapsed": 985,
     "status": "aborted",
     "timestamp": 1666989263397,
     "user": {
      "displayName": "Gustavo Yuji Osawa Yamachi",
      "userId": "06889319887641697552"
     },
     "user_tz": 180
    },
    "id": "d27c283e"
   },
   "outputs": [
    {
     "data": {
      "text/html": [
       "<div>\n",
       "<style scoped>\n",
       "    .dataframe tbody tr th:only-of-type {\n",
       "        vertical-align: middle;\n",
       "    }\n",
       "\n",
       "    .dataframe tbody tr th {\n",
       "        vertical-align: top;\n",
       "    }\n",
       "\n",
       "    .dataframe thead th {\n",
       "        text-align: right;\n",
       "    }\n",
       "</style>\n",
       "<table border=\"1\" class=\"dataframe\">\n",
       "  <thead>\n",
       "    <tr style=\"text-align: right;\">\n",
       "      <th></th>\n",
       "      <th>Geração</th>\n",
       "      <th>Cursos 2022</th>\n",
       "      <th>Horas Estudadas</th>\n",
       "    </tr>\n",
       "  </thead>\n",
       "  <tbody>\n",
       "    <tr>\n",
       "      <th>count</th>\n",
       "      <td>49.000000</td>\n",
       "      <td>49.000000</td>\n",
       "      <td>49.000000</td>\n",
       "    </tr>\n",
       "    <tr>\n",
       "      <th>mean</th>\n",
       "      <td>2.795918</td>\n",
       "      <td>4.571429</td>\n",
       "      <td>18.285714</td>\n",
       "    </tr>\n",
       "    <tr>\n",
       "      <th>std</th>\n",
       "      <td>0.999575</td>\n",
       "      <td>1.154701</td>\n",
       "      <td>4.618802</td>\n",
       "    </tr>\n",
       "    <tr>\n",
       "      <th>min</th>\n",
       "      <td>1.000000</td>\n",
       "      <td>3.000000</td>\n",
       "      <td>12.000000</td>\n",
       "    </tr>\n",
       "    <tr>\n",
       "      <th>25%</th>\n",
       "      <td>2.000000</td>\n",
       "      <td>4.000000</td>\n",
       "      <td>16.000000</td>\n",
       "    </tr>\n",
       "    <tr>\n",
       "      <th>50%</th>\n",
       "      <td>3.000000</td>\n",
       "      <td>5.000000</td>\n",
       "      <td>20.000000</td>\n",
       "    </tr>\n",
       "    <tr>\n",
       "      <th>75%</th>\n",
       "      <td>4.000000</td>\n",
       "      <td>6.000000</td>\n",
       "      <td>24.000000</td>\n",
       "    </tr>\n",
       "    <tr>\n",
       "      <th>max</th>\n",
       "      <td>4.000000</td>\n",
       "      <td>6.000000</td>\n",
       "      <td>24.000000</td>\n",
       "    </tr>\n",
       "  </tbody>\n",
       "</table>\n",
       "</div>"
      ],
      "text/plain": [
       "         Geração  Cursos 2022  Horas Estudadas\n",
       "count  49.000000    49.000000        49.000000\n",
       "mean    2.795918     4.571429        18.285714\n",
       "std     0.999575     1.154701         4.618802\n",
       "min     1.000000     3.000000        12.000000\n",
       "25%     2.000000     4.000000        16.000000\n",
       "50%     3.000000     5.000000        20.000000\n",
       "75%     4.000000     6.000000        24.000000\n",
       "max     4.000000     6.000000        24.000000"
      ]
     },
     "execution_count": 59,
     "metadata": {},
     "output_type": "execute_result"
    }
   ],
   "source": [
    "df.describe()"
   ]
  },
  {
   "cell_type": "code",
   "execution_count": 60,
   "id": "f4f771a2",
   "metadata": {
    "executionInfo": {
     "elapsed": 974,
     "status": "aborted",
     "timestamp": 1666989263398,
     "user": {
      "displayName": "Gustavo Yuji Osawa Yamachi",
      "userId": "06889319887641697552"
     },
     "user_tz": 180
    },
    "id": "f4f771a2"
   },
   "outputs": [
    {
     "data": {
      "text/plain": [
       "Geração            float64\n",
       "Cursos 2022          int64\n",
       "Média FEA           object\n",
       "Horas Estudadas      int64\n",
       "dtype: object"
      ]
     },
     "execution_count": 60,
     "metadata": {},
     "output_type": "execute_result"
    }
   ],
   "source": [
    "df.dtypes"
   ]
  },
  {
   "cell_type": "code",
   "execution_count": 61,
   "id": "5295b11e",
   "metadata": {
    "executionInfo": {
     "elapsed": 970,
     "status": "aborted",
     "timestamp": 1666989263398,
     "user": {
      "displayName": "Gustavo Yuji Osawa Yamachi",
      "userId": "06889319887641697552"
     },
     "user_tz": 180
    },
    "id": "5295b11e"
   },
   "outputs": [],
   "source": [
    "# Podemos criando uma coluna e substituir a , por .\n",
    "\n",
    "df[\"Média USP\"] = df[\"Média FEA\"].str.replace(\",\",\".\")"
   ]
  },
  {
   "cell_type": "code",
   "execution_count": 62,
   "id": "669fa9f8",
   "metadata": {
    "executionInfo": {
     "elapsed": 960,
     "status": "aborted",
     "timestamp": 1666989263399,
     "user": {
      "displayName": "Gustavo Yuji Osawa Yamachi",
      "userId": "06889319887641697552"
     },
     "user_tz": 180
    },
    "id": "669fa9f8"
   },
   "outputs": [
    {
     "data": {
      "text/html": [
       "<div>\n",
       "<style scoped>\n",
       "    .dataframe tbody tr th:only-of-type {\n",
       "        vertical-align: middle;\n",
       "    }\n",
       "\n",
       "    .dataframe tbody tr th {\n",
       "        vertical-align: top;\n",
       "    }\n",
       "\n",
       "    .dataframe thead th {\n",
       "        text-align: right;\n",
       "    }\n",
       "</style>\n",
       "<table border=\"1\" class=\"dataframe\">\n",
       "  <thead>\n",
       "    <tr style=\"text-align: right;\">\n",
       "      <th></th>\n",
       "      <th>Geração</th>\n",
       "      <th>Cursos 2022</th>\n",
       "      <th>Média FEA</th>\n",
       "      <th>Horas Estudadas</th>\n",
       "      <th>Média USP</th>\n",
       "    </tr>\n",
       "    <tr>\n",
       "      <th>Devers</th>\n",
       "      <th></th>\n",
       "      <th></th>\n",
       "      <th></th>\n",
       "      <th></th>\n",
       "      <th></th>\n",
       "    </tr>\n",
       "  </thead>\n",
       "  <tbody>\n",
       "    <tr>\n",
       "      <th>Eddy</th>\n",
       "      <td>2.0</td>\n",
       "      <td>5</td>\n",
       "      <td>6,9</td>\n",
       "      <td>20</td>\n",
       "      <td>6.9</td>\n",
       "    </tr>\n",
       "    <tr>\n",
       "      <th>André</th>\n",
       "      <td>3.0</td>\n",
       "      <td>4</td>\n",
       "      <td>8,7</td>\n",
       "      <td>16</td>\n",
       "      <td>8.7</td>\n",
       "    </tr>\n",
       "    <tr>\n",
       "      <th>Kevyn</th>\n",
       "      <td>3.0</td>\n",
       "      <td>6</td>\n",
       "      <td>4,9</td>\n",
       "      <td>24</td>\n",
       "      <td>4.9</td>\n",
       "    </tr>\n",
       "    <tr>\n",
       "      <th>Thais</th>\n",
       "      <td>3.0</td>\n",
       "      <td>4</td>\n",
       "      <td>8</td>\n",
       "      <td>16</td>\n",
       "      <td>8</td>\n",
       "    </tr>\n",
       "    <tr>\n",
       "      <th>Bailinho</th>\n",
       "      <td>3.0</td>\n",
       "      <td>4</td>\n",
       "      <td>1,8</td>\n",
       "      <td>16</td>\n",
       "      <td>1.8</td>\n",
       "    </tr>\n",
       "  </tbody>\n",
       "</table>\n",
       "</div>"
      ],
      "text/plain": [
       "          Geração  Cursos 2022 Média FEA  Horas Estudadas Média USP\n",
       "Devers                                                             \n",
       "Eddy          2.0            5       6,9               20       6.9\n",
       "André         3.0            4       8,7               16       8.7\n",
       "Kevyn         3.0            6       4,9               24       4.9\n",
       "Thais         3.0            4         8               16         8\n",
       "Bailinho      3.0            4       1,8               16       1.8"
      ]
     },
     "execution_count": 62,
     "metadata": {},
     "output_type": "execute_result"
    }
   ],
   "source": [
    "df.head()"
   ]
  },
  {
   "cell_type": "code",
   "execution_count": 63,
   "id": "4db86f72",
   "metadata": {
    "executionInfo": {
     "elapsed": 6,
     "status": "aborted",
     "timestamp": 1666989263863,
     "user": {
      "displayName": "Gustavo Yuji Osawa Yamachi",
      "userId": "06889319887641697552"
     },
     "user_tz": 180
    },
    "id": "4db86f72"
   },
   "outputs": [
    {
     "data": {
      "text/html": [
       "<div>\n",
       "<style scoped>\n",
       "    .dataframe tbody tr th:only-of-type {\n",
       "        vertical-align: middle;\n",
       "    }\n",
       "\n",
       "    .dataframe tbody tr th {\n",
       "        vertical-align: top;\n",
       "    }\n",
       "\n",
       "    .dataframe thead th {\n",
       "        text-align: right;\n",
       "    }\n",
       "</style>\n",
       "<table border=\"1\" class=\"dataframe\">\n",
       "  <thead>\n",
       "    <tr style=\"text-align: right;\">\n",
       "      <th></th>\n",
       "      <th>Geração</th>\n",
       "      <th>Cursos 2022</th>\n",
       "      <th>Horas Estudadas</th>\n",
       "    </tr>\n",
       "  </thead>\n",
       "  <tbody>\n",
       "    <tr>\n",
       "      <th>count</th>\n",
       "      <td>49.000000</td>\n",
       "      <td>49.000000</td>\n",
       "      <td>49.000000</td>\n",
       "    </tr>\n",
       "    <tr>\n",
       "      <th>mean</th>\n",
       "      <td>2.795918</td>\n",
       "      <td>4.571429</td>\n",
       "      <td>18.285714</td>\n",
       "    </tr>\n",
       "    <tr>\n",
       "      <th>std</th>\n",
       "      <td>0.999575</td>\n",
       "      <td>1.154701</td>\n",
       "      <td>4.618802</td>\n",
       "    </tr>\n",
       "    <tr>\n",
       "      <th>min</th>\n",
       "      <td>1.000000</td>\n",
       "      <td>3.000000</td>\n",
       "      <td>12.000000</td>\n",
       "    </tr>\n",
       "    <tr>\n",
       "      <th>25%</th>\n",
       "      <td>2.000000</td>\n",
       "      <td>4.000000</td>\n",
       "      <td>16.000000</td>\n",
       "    </tr>\n",
       "    <tr>\n",
       "      <th>50%</th>\n",
       "      <td>3.000000</td>\n",
       "      <td>5.000000</td>\n",
       "      <td>20.000000</td>\n",
       "    </tr>\n",
       "    <tr>\n",
       "      <th>75%</th>\n",
       "      <td>4.000000</td>\n",
       "      <td>6.000000</td>\n",
       "      <td>24.000000</td>\n",
       "    </tr>\n",
       "    <tr>\n",
       "      <th>max</th>\n",
       "      <td>4.000000</td>\n",
       "      <td>6.000000</td>\n",
       "      <td>24.000000</td>\n",
       "    </tr>\n",
       "  </tbody>\n",
       "</table>\n",
       "</div>"
      ],
      "text/plain": [
       "         Geração  Cursos 2022  Horas Estudadas\n",
       "count  49.000000    49.000000        49.000000\n",
       "mean    2.795918     4.571429        18.285714\n",
       "std     0.999575     1.154701         4.618802\n",
       "min     1.000000     3.000000        12.000000\n",
       "25%     2.000000     4.000000        16.000000\n",
       "50%     3.000000     5.000000        20.000000\n",
       "75%     4.000000     6.000000        24.000000\n",
       "max     4.000000     6.000000        24.000000"
      ]
     },
     "execution_count": 63,
     "metadata": {},
     "output_type": "execute_result"
    }
   ],
   "source": [
    "df.describe()"
   ]
  },
  {
   "cell_type": "code",
   "execution_count": 64,
   "id": "cbd3caff",
   "metadata": {
    "executionInfo": {
     "elapsed": 7,
     "status": "aborted",
     "timestamp": 1666989263864,
     "user": {
      "displayName": "Gustavo Yuji Osawa Yamachi",
      "userId": "06889319887641697552"
     },
     "user_tz": 180
    },
    "id": "cbd3caff"
   },
   "outputs": [
    {
     "data": {
      "text/plain": [
       "Geração            float64\n",
       "Cursos 2022          int64\n",
       "Média FEA           object\n",
       "Horas Estudadas      int64\n",
       "Média USP           object\n",
       "dtype: object"
      ]
     },
     "execution_count": 64,
     "metadata": {},
     "output_type": "execute_result"
    }
   ],
   "source": [
    "df.dtypes"
   ]
  },
  {
   "cell_type": "code",
   "execution_count": 65,
   "id": "9f125c4f",
   "metadata": {
    "executionInfo": {
     "elapsed": 8,
     "status": "aborted",
     "timestamp": 1666989263865,
     "user": {
      "displayName": "Gustavo Yuji Osawa Yamachi",
      "userId": "06889319887641697552"
     },
     "user_tz": 180
    },
    "id": "9f125c4f"
   },
   "outputs": [],
   "source": [
    "df[\"Média USP\"] = df['Média USP'].astype(float)"
   ]
  },
  {
   "cell_type": "code",
   "execution_count": 66,
   "id": "a9b33b73",
   "metadata": {
    "executionInfo": {
     "elapsed": 7,
     "status": "aborted",
     "timestamp": 1666989263866,
     "user": {
      "displayName": "Gustavo Yuji Osawa Yamachi",
      "userId": "06889319887641697552"
     },
     "user_tz": 180
    },
    "id": "a9b33b73"
   },
   "outputs": [
    {
     "data": {
      "text/html": [
       "<div>\n",
       "<style scoped>\n",
       "    .dataframe tbody tr th:only-of-type {\n",
       "        vertical-align: middle;\n",
       "    }\n",
       "\n",
       "    .dataframe tbody tr th {\n",
       "        vertical-align: top;\n",
       "    }\n",
       "\n",
       "    .dataframe thead th {\n",
       "        text-align: right;\n",
       "    }\n",
       "</style>\n",
       "<table border=\"1\" class=\"dataframe\">\n",
       "  <thead>\n",
       "    <tr style=\"text-align: right;\">\n",
       "      <th></th>\n",
       "      <th>Geração</th>\n",
       "      <th>Cursos 2022</th>\n",
       "      <th>Horas Estudadas</th>\n",
       "      <th>Média USP</th>\n",
       "    </tr>\n",
       "  </thead>\n",
       "  <tbody>\n",
       "    <tr>\n",
       "      <th>count</th>\n",
       "      <td>49.000000</td>\n",
       "      <td>49.000000</td>\n",
       "      <td>49.000000</td>\n",
       "      <td>49.000000</td>\n",
       "    </tr>\n",
       "    <tr>\n",
       "      <th>mean</th>\n",
       "      <td>2.795918</td>\n",
       "      <td>4.571429</td>\n",
       "      <td>18.285714</td>\n",
       "      <td>5.879592</td>\n",
       "    </tr>\n",
       "    <tr>\n",
       "      <th>std</th>\n",
       "      <td>0.999575</td>\n",
       "      <td>1.154701</td>\n",
       "      <td>4.618802</td>\n",
       "      <td>2.955854</td>\n",
       "    </tr>\n",
       "    <tr>\n",
       "      <th>min</th>\n",
       "      <td>1.000000</td>\n",
       "      <td>3.000000</td>\n",
       "      <td>12.000000</td>\n",
       "      <td>0.600000</td>\n",
       "    </tr>\n",
       "    <tr>\n",
       "      <th>25%</th>\n",
       "      <td>2.000000</td>\n",
       "      <td>4.000000</td>\n",
       "      <td>16.000000</td>\n",
       "      <td>3.000000</td>\n",
       "    </tr>\n",
       "    <tr>\n",
       "      <th>50%</th>\n",
       "      <td>3.000000</td>\n",
       "      <td>5.000000</td>\n",
       "      <td>20.000000</td>\n",
       "      <td>6.600000</td>\n",
       "    </tr>\n",
       "    <tr>\n",
       "      <th>75%</th>\n",
       "      <td>4.000000</td>\n",
       "      <td>6.000000</td>\n",
       "      <td>24.000000</td>\n",
       "      <td>8.600000</td>\n",
       "    </tr>\n",
       "    <tr>\n",
       "      <th>max</th>\n",
       "      <td>4.000000</td>\n",
       "      <td>6.000000</td>\n",
       "      <td>24.000000</td>\n",
       "      <td>9.900000</td>\n",
       "    </tr>\n",
       "  </tbody>\n",
       "</table>\n",
       "</div>"
      ],
      "text/plain": [
       "         Geração  Cursos 2022  Horas Estudadas  Média USP\n",
       "count  49.000000    49.000000        49.000000  49.000000\n",
       "mean    2.795918     4.571429        18.285714   5.879592\n",
       "std     0.999575     1.154701         4.618802   2.955854\n",
       "min     1.000000     3.000000        12.000000   0.600000\n",
       "25%     2.000000     4.000000        16.000000   3.000000\n",
       "50%     3.000000     5.000000        20.000000   6.600000\n",
       "75%     4.000000     6.000000        24.000000   8.600000\n",
       "max     4.000000     6.000000        24.000000   9.900000"
      ]
     },
     "execution_count": 66,
     "metadata": {},
     "output_type": "execute_result"
    }
   ],
   "source": [
    "df.describe()"
   ]
  }
 ],
 "metadata": {
  "colab": {
   "provenance": []
  },
  "kernelspec": {
   "display_name": "Python 3 (ipykernel)",
   "language": "python",
   "name": "python3"
  },
  "language_info": {
   "codemirror_mode": {
    "name": "ipython",
    "version": 3
   },
   "file_extension": ".py",
   "mimetype": "text/x-python",
   "name": "python",
   "nbconvert_exporter": "python",
   "pygments_lexer": "ipython3",
   "version": "3.9.12"
  }
 },
 "nbformat": 4,
 "nbformat_minor": 5
}
